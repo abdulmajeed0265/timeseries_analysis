{
 "cells": [
  {
   "cell_type": "code",
   "execution_count": null,
   "metadata": {},
   "outputs": [],
   "source": []
  },
  {
   "cell_type": "code",
   "execution_count": 1,
   "metadata": {},
   "outputs": [],
   "source": [
    "import numpy as np\n",
    "import pandas as pd\n",
    "import scipy\n",
    "import statsmodels.api as sm\n",
    "import matplotlib.pyplot as plt\n",
    "import seaborn as sns\n",
    "import sklearn\n",
    "from statsmodels.tsa.arima_model import ARIMA\n",
    "import statsmodels.graphics.tsaplots as sgt\n",
    "from arch import arch_model\n",
    "import seaborn as sns\n",
    "import yfinance\n",
    "import warnings\n",
    "warnings.filterwarnings(\"ignore\")\n",
    "sns.set()"
   ]
  },
  {
   "cell_type": "code",
   "execution_count": null,
   "metadata": {},
   "outputs": [],
   "source": []
  },
  {
   "cell_type": "code",
   "execution_count": 2,
   "metadata": {},
   "outputs": [],
   "source": [
    "raw_csv_data = pd.read_csv('013 indexE8.csv')\n",
    "df_comp = raw_csv_data.copy()\n",
    "#Converting Time\n",
    "df_comp.date = pd.to_datetime(df_comp.date, dayfirst=True)\n",
    "#Setting Date as an index\n",
    "df_comp.set_index('date', inplace=True)\n",
    "#Setting Frequency as business working days\n",
    "df_comp = df_comp.asfreq('b')\n",
    "#Filling the Missing or Empty Values\n",
    "df_comp = df_comp.fillna(method='ffill')\n",
    "df_comp['market_value'] = df_comp.spx"
   ]
  },
  {
   "cell_type": "code",
   "execution_count": null,
   "metadata": {},
   "outputs": [],
   "source": []
  },
  {
   "cell_type": "code",
   "execution_count": 3,
   "metadata": {},
   "outputs": [],
   "source": [
    "from statsmodels.tsa.statespace.sarimax import SARIMAX"
   ]
  },
  {
   "cell_type": "code",
   "execution_count": 4,
   "metadata": {},
   "outputs": [
    {
     "name": "stdout",
     "output_type": "stream",
     "text": [
      "                                     SARIMAX Results                                     \n",
      "=========================================================================================\n",
      "Dep. Variable:                      market_value   No. Observations:                 6277\n",
      "Model:             SARIMAX(1, 0, 1)x(2, 0, 1, 5)   Log Likelihood              -24058.302\n",
      "Date:                           Fri, 02 Apr 2021   AIC                          48130.603\n",
      "Time:                                   19:23:36   BIC                          48177.816\n",
      "Sample:                               01-07-1994   HQIC                         48146.962\n",
      "                                    - 01-29-2018                                         \n",
      "Covariance Type:                             opg                                         \n",
      "==============================================================================\n",
      "                 coef    std err          z      P>|z|      [0.025      0.975]\n",
      "------------------------------------------------------------------------------\n",
      "ftse           0.1381      0.002     88.037      0.000       0.135       0.141\n",
      "ar.L1          0.9996      0.000   2575.014      0.000       0.999       1.000\n",
      "ma.L1         -0.3014      0.008    -38.127      0.000      -0.317      -0.286\n",
      "ar.S.L5        0.9865      0.009    113.376      0.000       0.969       1.004\n",
      "ar.S.L10       0.0131      0.009      1.529      0.126      -0.004       0.030\n",
      "ma.S.L5       -0.9980      0.003   -380.729      0.000      -1.003      -0.993\n",
      "sigma2       125.2415      1.294     96.814      0.000     122.706     127.777\n",
      "===================================================================================\n",
      "Ljung-Box (L1) (Q):                   0.38   Jarque-Bera (JB):              5205.57\n",
      "Prob(Q):                              0.54   Prob(JB):                         0.00\n",
      "Heteroskedasticity (H):               1.03   Skew:                            -0.24\n",
      "Prob(H) (two-sided):                  0.53   Kurtosis:                         7.44\n",
      "===================================================================================\n",
      "\n",
      "Warnings:\n",
      "[1] Covariance matrix calculated using the outer product of gradients (complex-step).\n"
     ]
    }
   ],
   "source": [
    "model_sarimax = SARIMAX(df_comp.market_value, exog = df_comp.ftse, order = (1,0,1), seasonal_order = (2,0,1,5))\n",
    "results_sarimax = model_sarimax.fit()\n",
    "print(results_sarimax.summary())"
   ]
  },
  {
   "cell_type": "code",
   "execution_count": null,
   "metadata": {},
   "outputs": [],
   "source": []
  },
  {
   "cell_type": "code",
   "execution_count": 5,
   "metadata": {},
   "outputs": [
    {
     "name": "stdout",
     "output_type": "stream",
     "text": [
      "                                     SARIMAX Results                                     \n",
      "=========================================================================================\n",
      "Dep. Variable:                      market_value   No. Observations:                 6277\n",
      "Model:             SARIMAX(1, 0, 1)x(2, 0, 1, 5)   Log Likelihood              -23783.639\n",
      "Date:                           Fri, 02 Apr 2021   AIC                          47585.279\n",
      "Time:                                   19:25:35   BIC                          47645.981\n",
      "Sample:                               01-07-1994   HQIC                         47606.311\n",
      "                                    - 01-29-2018                                         \n",
      "Covariance Type:                             opg                                         \n",
      "==============================================================================\n",
      "                 coef    std err          z      P>|z|      [0.025      0.975]\n",
      "------------------------------------------------------------------------------\n",
      "ftse           0.0708      0.003     27.726      0.000       0.066       0.076\n",
      "dax            0.0612      0.002     38.000      0.000       0.058       0.064\n",
      "nikkei         0.0011      0.001      2.162      0.031       0.000       0.002\n",
      "ar.L1          0.9975      0.001    982.748      0.000       0.996       0.999\n",
      "ma.L1         -0.3380      0.008    -41.783      0.000      -0.354      -0.322\n",
      "ar.S.L5        0.9605      0.012     82.589      0.000       0.938       0.983\n",
      "ar.S.L10       0.0284      0.009      3.182      0.001       0.011       0.046\n",
      "ma.S.L5       -0.9657      0.007   -135.518      0.000      -0.980      -0.952\n",
      "sigma2       114.1250      1.157     98.656      0.000     111.858     116.392\n",
      "===================================================================================\n",
      "Ljung-Box (L1) (Q):                   0.02   Jarque-Bera (JB):              5498.94\n",
      "Prob(Q):                              0.89   Prob(JB):                         0.00\n",
      "Heteroskedasticity (H):               1.07   Skew:                            -0.22\n",
      "Prob(H) (two-sided):                  0.14   Kurtosis:                         7.56\n",
      "===================================================================================\n",
      "\n",
      "Warnings:\n",
      "[1] Covariance matrix calculated using the outer product of gradients (complex-step).\n"
     ]
    }
   ],
   "source": [
    "model_sarimax_2 = SARIMAX(df_comp.market_value, exog = df_comp[['ftse','dax','nikkei']], order = (1,0,1), seasonal_order = (2,0,1,5))\n",
    "results_sarimax_2 = model_sarimax_2.fit()\n",
    "print(results_sarimax_2.summary())"
   ]
  },
  {
   "cell_type": "code",
   "execution_count": null,
   "metadata": {},
   "outputs": [],
   "source": []
  }
 ],
 "metadata": {
  "kernelspec": {
   "display_name": "Python 3",
   "language": "python",
   "name": "python3"
  },
  "language_info": {
   "codemirror_mode": {
    "name": "ipython",
    "version": 3
   },
   "file_extension": ".py",
   "mimetype": "text/x-python",
   "name": "python",
   "nbconvert_exporter": "python",
   "pygments_lexer": "ipython3",
   "version": "3.8.5"
  }
 },
 "nbformat": 4,
 "nbformat_minor": 4
}
