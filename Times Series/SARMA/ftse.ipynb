{
 "cells": [
  {
   "cell_type": "code",
   "execution_count": 1,
   "metadata": {},
   "outputs": [],
   "source": [
    "import numpy as np\n",
    "import pandas as pd\n",
    "import scipy\n",
    "import statsmodels.api as sm\n",
    "import matplotlib.pyplot as plt\n",
    "import seaborn as sns\n",
    "import sklearn\n",
    "from statsmodels.tsa.arima_model import ARIMA\n",
    "import statsmodels.graphics.tsaplots as sgt\n",
    "from arch import arch_model\n",
    "import seaborn as sns\n",
    "import yfinance\n",
    "import warnings\n",
    "warnings.filterwarnings(\"ignore\")\n",
    "sns.set()"
   ]
  },
  {
   "cell_type": "code",
   "execution_count": 2,
   "metadata": {},
   "outputs": [],
   "source": [
    "raw_csv_data = pd.read_csv('013 indexE8.csv')\n",
    "df_comp = raw_csv_data.copy()\n",
    "#Converting Time\n",
    "df_comp.date = pd.to_datetime(df_comp.date, dayfirst=True)\n",
    "#Setting Date as an index\n",
    "df_comp.set_index('date', inplace=True)\n",
    "#Setting Frequency as business working days\n",
    "df_comp = df_comp.asfreq('b')\n",
    "#Filling the Missing or Empty Values\n",
    "df_comp = df_comp.fillna(method='ffill')\n",
    "df_comp['market_value'] = df_comp.ftse"
   ]
  },
  {
   "cell_type": "code",
   "execution_count": 4,
   "metadata": {},
   "outputs": [],
   "source": [
    "from statsmodels.tsa.statespace.sarimax import SARIMAX"
   ]
  },
  {
   "cell_type": "code",
   "execution_count": 6,
   "metadata": {},
   "outputs": [
    {
     "name": "stdout",
     "output_type": "stream",
     "text": [
      "                                     SARIMAX Results                                     \n",
      "=========================================================================================\n",
      "Dep. Variable:                      market_value   No. Observations:                 6277\n",
      "Model:             SARIMAX(1, 0, 1)x(2, 0, 1, 5)   Log Likelihood              -33290.417\n",
      "Date:                           Fri, 02 Apr 2021   AIC                          66594.835\n",
      "Time:                                   18:55:55   BIC                          66642.048\n",
      "Sample:                               01-07-1994   HQIC                         66611.193\n",
      "                                    - 01-29-2018                                         \n",
      "Covariance Type:                             opg                                         \n",
      "==============================================================================\n",
      "                 coef    std err          z      P>|z|      [0.025      0.975]\n",
      "------------------------------------------------------------------------------\n",
      "spx            2.5843      0.027     95.969      0.000       2.531       2.637\n",
      "ar.L1          0.9999      0.001   1636.464      0.000       0.999       1.001\n",
      "ma.L1         -0.2777      0.009    -32.168      0.000      -0.295      -0.261\n",
      "ar.S.L5        0.9702      0.005    177.700      0.000       0.960       0.981\n",
      "ar.S.L10       0.0298      0.005      6.349      0.000       0.021       0.039\n",
      "ma.S.L5       -0.9998      0.006   -159.324      0.000      -1.012      -0.988\n",
      "sigma2      2348.4549     24.406     96.223      0.000    2300.619    2396.290\n",
      "===================================================================================\n",
      "Ljung-Box (L1) (Q):                   0.75   Jarque-Bera (JB):              4526.90\n",
      "Prob(Q):                              0.39   Prob(JB):                         0.00\n",
      "Heteroskedasticity (H):               0.76   Skew:                            -0.41\n",
      "Prob(H) (two-sided):                  0.00   Kurtosis:                         7.08\n",
      "===================================================================================\n",
      "\n",
      "Warnings:\n",
      "[1] Covariance matrix calculated using the outer product of gradients (complex-step).\n"
     ]
    }
   ],
   "source": [
    "model_sarimax = SARIMAX(df_comp.market_value, exog = df_comp.spx, order = (1,0,1), seasonal_order = (2,0,1,5))\n",
    "results_sarimax = model_sarimax.fit()\n",
    "print(results_sarimax.summary())"
   ]
  },
  {
   "cell_type": "code",
   "execution_count": 7,
   "metadata": {},
   "outputs": [
    {
     "name": "stdout",
     "output_type": "stream",
     "text": [
      "                                      SARIMAX Results                                      \n",
      "===========================================================================================\n",
      "Dep. Variable:                        market_value   No. Observations:                 6277\n",
      "Model:             SARIMAX(2, 1, 2)x(2, 0, [1], 5)   Log Likelihood              -33263.486\n",
      "Date:                             Fri, 02 Apr 2021   AIC                          66544.972\n",
      "Time:                                     19:08:22   BIC                          66605.673\n",
      "Sample:                                 01-07-1994   HQIC                         66566.004\n",
      "                                      - 01-29-2018                                         \n",
      "Covariance Type:                               opg                                         \n",
      "==============================================================================\n",
      "                 coef    std err          z      P>|z|      [0.025      0.975]\n",
      "------------------------------------------------------------------------------\n",
      "spx            2.5675      0.031     82.808      0.000       2.507       2.628\n",
      "ar.L1         -0.3919      0.089     -4.383      0.000      -0.567      -0.217\n",
      "ar.L2          0.2653      0.034      7.849      0.000       0.199       0.332\n",
      "ma.L1          0.1254      0.089      1.413      0.158      -0.049       0.299\n",
      "ma.L2         -0.3986      0.044     -9.055      0.000      -0.485      -0.312\n",
      "ar.S.L5        0.6407      0.283      2.266      0.023       0.087       1.195\n",
      "ar.S.L10      -0.0120      0.013     -0.955      0.340      -0.037       0.013\n",
      "ma.S.L5       -0.6464      0.283     -2.282      0.023      -1.202      -0.091\n",
      "sigma2      2350.4365     25.061     93.789      0.000    2301.318    2399.555\n",
      "===================================================================================\n",
      "Ljung-Box (L1) (Q):                   0.00   Jarque-Bera (JB):              4391.13\n",
      "Prob(Q):                              0.99   Prob(JB):                         0.00\n",
      "Heteroskedasticity (H):               0.78   Skew:                            -0.46\n",
      "Prob(H) (two-sided):                  0.00   Kurtosis:                         7.00\n",
      "===================================================================================\n",
      "\n",
      "Warnings:\n",
      "[1] Covariance matrix calculated using the outer product of gradients (complex-step).\n"
     ]
    }
   ],
   "source": [
    "model_sarimax_2 = SARIMAX(df_comp.market_value, exog = df_comp.spx, order = (2,1,2), seasonal_order = (2,0,1,5))\n",
    "results_sarimax_2 = model_sarimax_2.fit()\n",
    "print(results_sarimax_2.summary())"
   ]
  },
  {
   "cell_type": "code",
   "execution_count": 8,
   "metadata": {},
   "outputs": [
    {
     "name": "stdout",
     "output_type": "stream",
     "text": [
      "                                      SARIMAX Results                                      \n",
      "===========================================================================================\n",
      "Dep. Variable:                        market_value   No. Observations:                 6277\n",
      "Model:             SARIMAX(2, 1, 2)x(2, 0, [1], 5)   Log Likelihood              -31401.329\n",
      "Date:                             Fri, 02 Apr 2021   AIC                          62824.657\n",
      "Time:                                     19:15:08   BIC                          62898.847\n",
      "Sample:                                 01-07-1994   HQIC                         62850.363\n",
      "                                      - 01-29-2018                                         \n",
      "Covariance Type:                               opg                                         \n",
      "==============================================================================\n",
      "                 coef    std err          z      P>|z|      [0.025      0.975]\n",
      "------------------------------------------------------------------------------\n",
      "spx            0.6193      0.028     22.067      0.000       0.564       0.674\n",
      "dax            0.4634      0.004    103.513      0.000       0.455       0.472\n",
      "nikkei         0.0248      0.002     13.489      0.000       0.021       0.028\n",
      "ar.L1         -0.2730      0.227     -1.204      0.229      -0.717       0.171\n",
      "ar.L2          0.3763      0.102      3.683      0.000       0.176       0.577\n",
      "ma.L1          0.1873      0.227      0.825      0.409      -0.258       0.632\n",
      "ma.L2         -0.4133      0.105     -3.924      0.000      -0.620      -0.207\n",
      "ar.S.L5        0.5575      0.183      3.047      0.002       0.199       0.916\n",
      "ar.S.L10      -0.0240      0.013     -1.886      0.059      -0.049       0.001\n",
      "ma.S.L5       -0.5711      0.183     -3.124      0.002      -0.929      -0.213\n",
      "sigma2      1296.3878     14.499     89.412      0.000    1267.970    1324.806\n",
      "===================================================================================\n",
      "Ljung-Box (L1) (Q):                   0.04   Jarque-Bera (JB):              3676.71\n",
      "Prob(Q):                              0.85   Prob(JB):                         0.00\n",
      "Heteroskedasticity (H):               0.83   Skew:                             0.02\n",
      "Prob(H) (two-sided):                  0.00   Kurtosis:                         6.75\n",
      "===================================================================================\n",
      "\n",
      "Warnings:\n",
      "[1] Covariance matrix calculated using the outer product of gradients (complex-step).\n"
     ]
    }
   ],
   "source": [
    "model_sarimax_2 = SARIMAX(df_comp.market_value, exog = df_comp[['spx','dax','nikkei']], order = (2,1,2), seasonal_order = (2,0,1,5))\n",
    "results_sarimax_2 = model_sarimax_2.fit()\n",
    "print(results_sarimax_2.summary())"
   ]
  },
  {
   "cell_type": "code",
   "execution_count": 9,
   "metadata": {},
   "outputs": [
    {
     "name": "stdout",
     "output_type": "stream",
     "text": [
      "                                     SARIMAX Results                                     \n",
      "=========================================================================================\n",
      "Dep. Variable:                      market_value   No. Observations:                 6277\n",
      "Model:             SARIMAX(1, 0, 1)x(2, 0, 1, 5)   Log Likelihood              -31469.458\n",
      "Date:                           Fri, 02 Apr 2021   AIC                          62956.916\n",
      "Time:                                   19:18:02   BIC                          63017.618\n",
      "Sample:                               01-07-1994   HQIC                         62977.948\n",
      "                                    - 01-29-2018                                         \n",
      "Covariance Type:                             opg                                         \n",
      "==============================================================================\n",
      "                 coef    std err          z      P>|z|      [0.025      0.975]\n",
      "------------------------------------------------------------------------------\n",
      "spx            0.2615      0.014     18.173      0.000       0.233       0.290\n",
      "dax            0.4909      0.004    116.935      0.000       0.483       0.499\n",
      "nikkei         0.0313      0.002     15.863      0.000       0.027       0.035\n",
      "ar.L1          0.9999      0.001    831.844      0.000       0.998       1.002\n",
      "ma.L1         -0.0405      0.007     -6.036      0.000      -0.054      -0.027\n",
      "ar.S.L5        0.9797      0.004    223.702      0.000       0.971       0.988\n",
      "ar.S.L10       0.0203      0.004      5.043      0.000       0.012       0.028\n",
      "ma.S.L5       -0.9997      0.007   -139.476      0.000      -1.014      -0.986\n",
      "sigma2      1424.4146     17.458     81.591      0.000    1390.198    1458.632\n",
      "===================================================================================\n",
      "Ljung-Box (L1) (Q):                   1.96   Jarque-Bera (JB):              3828.37\n",
      "Prob(Q):                              0.16   Prob(JB):                         0.00\n",
      "Heteroskedasticity (H):               0.85   Skew:                             0.09\n",
      "Prob(H) (two-sided):                  0.00   Kurtosis:                         6.82\n",
      "===================================================================================\n",
      "\n",
      "Warnings:\n",
      "[1] Covariance matrix calculated using the outer product of gradients (complex-step).\n"
     ]
    }
   ],
   "source": [
    "model_sarimax_2 = SARIMAX(df_comp.market_value, exog = df_comp[['spx','dax','nikkei']], order = (1,0,1), seasonal_order = (2,0,1,5))\n",
    "results_sarimax_2 = model_sarimax_2.fit()\n",
    "print(results_sarimax_2.summary())"
   ]
  },
  {
   "cell_type": "code",
   "execution_count": null,
   "metadata": {},
   "outputs": [],
   "source": []
  }
 ],
 "metadata": {
  "kernelspec": {
   "display_name": "Python 3",
   "language": "python",
   "name": "python3"
  },
  "language_info": {
   "codemirror_mode": {
    "name": "ipython",
    "version": 3
   },
   "file_extension": ".py",
   "mimetype": "text/x-python",
   "name": "python",
   "nbconvert_exporter": "python",
   "pygments_lexer": "ipython3",
   "version": "3.8.5"
  }
 },
 "nbformat": 4,
 "nbformat_minor": 4
}
