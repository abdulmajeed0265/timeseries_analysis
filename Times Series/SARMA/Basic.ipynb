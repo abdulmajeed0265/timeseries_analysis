{
 "cells": [
  {
   "cell_type": "code",
   "execution_count": 1,
   "metadata": {},
   "outputs": [],
   "source": [
    "import numpy as np\n",
    "import pandas as pd\n",
    "import scipy\n",
    "import statsmodels.api as sm\n",
    "import matplotlib.pyplot as plt\n",
    "import seaborn as sns\n",
    "import sklearn\n",
    "from statsmodels.tsa.arima_model import ARIMA\n",
    "import statsmodels.graphics.tsaplots as sgt\n",
    "from arch import arch_model\n",
    "import seaborn as sns\n",
    "import yfinance\n",
    "import warnings\n",
    "warnings.filterwarnings(\"ignore\")\n",
    "sns.set()"
   ]
  },
  {
   "cell_type": "code",
   "execution_count": 2,
   "metadata": {},
   "outputs": [],
   "source": [
    "raw_csv_data = pd.read_csv('GOOG1.csv')\n",
    "df_comp = raw_csv_data.copy()\n",
    "#Converting Time\n",
    "df_comp.Date = pd.to_datetime(df_comp.Date, dayfirst=True)\n",
    "#Setting Date as an index\n",
    "df_comp.set_index('Date', inplace=True)\n",
    "#Setting Frequency as business working days\n",
    "df_comp = df_comp.asfreq('b')\n",
    "#Filling the Missing or Empty Values\n",
    "df_comp = df_comp.fillna(method='ffill')\n",
    "df_comp['market_value'] = df_comp.Close"
   ]
  },
  {
   "cell_type": "code",
   "execution_count": 3,
   "metadata": {},
   "outputs": [],
   "source": [
    "del df_comp['Open']\n",
    "del df_comp['High']\n",
    "del df_comp['Low']\n",
    "del df_comp['Adj Close']\n",
    "del df_comp['Volume']"
   ]
  },
  {
   "cell_type": "code",
   "execution_count": 4,
   "metadata": {},
   "outputs": [],
   "source": [
    "size = int(len(df_comp) * 0.8)\n",
    "df, df_test = df_comp[:size], df_comp[size:]"
   ]
  },
  {
   "cell_type": "code",
   "execution_count": 5,
   "metadata": {},
   "outputs": [],
   "source": [
    "from statsmodels.tsa.statespace.sarimax import SARIMAX"
   ]
  },
  {
   "cell_type": "code",
   "execution_count": 6,
   "metadata": {},
   "outputs": [
    {
     "data": {
      "text/html": [
       "<table class=\"simpletable\">\n",
       "<caption>SARIMAX Results</caption>\n",
       "<tr>\n",
       "  <th>Dep. Variable:</th>           <td>market_value</td>          <th>  No. Observations:  </th>   <td>2237</td>   \n",
       "</tr>\n",
       "<tr>\n",
       "  <th>Model:</th>           <td>SARIMAX(1, 0, 1)x(2, 0, 1, 5)</td> <th>  Log Likelihood     </th> <td>-8228.839</td>\n",
       "</tr>\n",
       "<tr>\n",
       "  <th>Date:</th>                  <td>Fri, 02 Apr 2021</td>        <th>  AIC                </th> <td>16469.678</td>\n",
       "</tr>\n",
       "<tr>\n",
       "  <th>Time:</th>                      <td>10:31:38</td>            <th>  BIC                </th> <td>16503.955</td>\n",
       "</tr>\n",
       "<tr>\n",
       "  <th>Sample:</th>                   <td>06-07-2010</td>           <th>  HQIC               </th> <td>16482.192</td>\n",
       "</tr>\n",
       "<tr>\n",
       "  <th></th>                         <td>- 01-01-2019</td>          <th>                     </th>     <td> </td>    \n",
       "</tr>\n",
       "<tr>\n",
       "  <th>Covariance Type:</th>              <td>opg</td>              <th>                     </th>     <td> </td>    \n",
       "</tr>\n",
       "</table>\n",
       "<table class=\"simpletable\">\n",
       "<tr>\n",
       "      <td></td>        <th>coef</th>     <th>std err</th>      <th>z</th>      <th>P>|z|</th>  <th>[0.025</th>    <th>0.975]</th>  \n",
       "</tr>\n",
       "<tr>\n",
       "  <th>ar.L1</th>    <td>    0.9999</td> <td>    0.000</td> <td> 4321.423</td> <td> 0.000</td> <td>    0.999</td> <td>    1.000</td>\n",
       "</tr>\n",
       "<tr>\n",
       "  <th>ma.L1</th>    <td>    0.0459</td> <td>    0.013</td> <td>    3.618</td> <td> 0.000</td> <td>    0.021</td> <td>    0.071</td>\n",
       "</tr>\n",
       "<tr>\n",
       "  <th>ar.S.L5</th>  <td>    0.9400</td> <td>    0.005</td> <td>  206.734</td> <td> 0.000</td> <td>    0.931</td> <td>    0.949</td>\n",
       "</tr>\n",
       "<tr>\n",
       "  <th>ar.S.L10</th> <td>    0.0599</td> <td>    0.004</td> <td>   13.462</td> <td> 0.000</td> <td>    0.051</td> <td>    0.069</td>\n",
       "</tr>\n",
       "<tr>\n",
       "  <th>ma.S.L5</th>  <td>   -0.9996</td> <td>    0.002</td> <td> -416.090</td> <td> 0.000</td> <td>   -1.004</td> <td>   -0.995</td>\n",
       "</tr>\n",
       "<tr>\n",
       "  <th>sigma2</th>   <td>   89.4485</td> <td>    0.987</td> <td>   90.666</td> <td> 0.000</td> <td>   87.515</td> <td>   91.382</td>\n",
       "</tr>\n",
       "</table>\n",
       "<table class=\"simpletable\">\n",
       "<tr>\n",
       "  <th>Ljung-Box (L1) (Q):</th>     <td>0.27</td> <th>  Jarque-Bera (JB):  </th> <td>12457.06</td>\n",
       "</tr>\n",
       "<tr>\n",
       "  <th>Prob(Q):</th>                <td>0.61</td> <th>  Prob(JB):          </th>   <td>0.00</td>  \n",
       "</tr>\n",
       "<tr>\n",
       "  <th>Heteroskedasticity (H):</th> <td>7.65</td> <th>  Skew:              </th>   <td>0.08</td>  \n",
       "</tr>\n",
       "<tr>\n",
       "  <th>Prob(H) (two-sided):</th>    <td>0.00</td> <th>  Kurtosis:          </th>   <td>14.56</td> \n",
       "</tr>\n",
       "</table><br/><br/>Warnings:<br/>[1] Covariance matrix calculated using the outer product of gradients (complex-step)."
      ],
      "text/plain": [
       "<class 'statsmodels.iolib.summary.Summary'>\n",
       "\"\"\"\n",
       "                                     SARIMAX Results                                     \n",
       "=========================================================================================\n",
       "Dep. Variable:                      market_value   No. Observations:                 2237\n",
       "Model:             SARIMAX(1, 0, 1)x(2, 0, 1, 5)   Log Likelihood               -8228.839\n",
       "Date:                           Fri, 02 Apr 2021   AIC                          16469.678\n",
       "Time:                                   10:31:38   BIC                          16503.955\n",
       "Sample:                               06-07-2010   HQIC                         16482.192\n",
       "                                    - 01-01-2019                                         \n",
       "Covariance Type:                             opg                                         \n",
       "==============================================================================\n",
       "                 coef    std err          z      P>|z|      [0.025      0.975]\n",
       "------------------------------------------------------------------------------\n",
       "ar.L1          0.9999      0.000   4321.423      0.000       0.999       1.000\n",
       "ma.L1          0.0459      0.013      3.618      0.000       0.021       0.071\n",
       "ar.S.L5        0.9400      0.005    206.734      0.000       0.931       0.949\n",
       "ar.S.L10       0.0599      0.004     13.462      0.000       0.051       0.069\n",
       "ma.S.L5       -0.9996      0.002   -416.090      0.000      -1.004      -0.995\n",
       "sigma2        89.4485      0.987     90.666      0.000      87.515      91.382\n",
       "===================================================================================\n",
       "Ljung-Box (L1) (Q):                   0.27   Jarque-Bera (JB):             12457.06\n",
       "Prob(Q):                              0.61   Prob(JB):                         0.00\n",
       "Heteroskedasticity (H):               7.65   Skew:                             0.08\n",
       "Prob(H) (two-sided):                  0.00   Kurtosis:                        14.56\n",
       "===================================================================================\n",
       "\n",
       "Warnings:\n",
       "[1] Covariance matrix calculated using the outer product of gradients (complex-step).\n",
       "\"\"\""
      ]
     },
     "execution_count": 6,
     "metadata": {},
     "output_type": "execute_result"
    }
   ],
   "source": [
    "#SARIMA(1,0,1)(2,0,1,5)\n",
    "model_sarimax = SARIMAX(df.market_value, order=(1,0,1), seasonal_order = (2,0,1,5))\n",
    "results_sarimax = model_sarimax.fit()\n",
    "results_sarimax.summary()"
   ]
  },
  {
   "cell_type": "code",
   "execution_count": null,
   "metadata": {},
   "outputs": [],
   "source": []
  }
 ],
 "metadata": {
  "kernelspec": {
   "display_name": "Python 3",
   "language": "python",
   "name": "python3"
  },
  "language_info": {
   "codemirror_mode": {
    "name": "ipython",
    "version": 3
   },
   "file_extension": ".py",
   "mimetype": "text/x-python",
   "name": "python",
   "nbconvert_exporter": "python",
   "pygments_lexer": "ipython3",
   "version": "3.8.5"
  }
 },
 "nbformat": 4,
 "nbformat_minor": 4
}
