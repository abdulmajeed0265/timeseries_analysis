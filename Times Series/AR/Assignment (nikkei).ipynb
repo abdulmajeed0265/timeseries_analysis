{
 "cells": [
  {
   "cell_type": "code",
   "execution_count": 2,
   "metadata": {},
   "outputs": [],
   "source": [
    "#Importing relative libraries\n",
    "import pandas as pd\n",
    "import numpy as np\n",
    "import matplotlib.pyplot as plt\n",
    "import statsmodels.tsa.stattools as sts\n",
    "from statsmodels.tsa.arima_model import ARMA\n",
    "from scipy.stats.distributions import chi2\n",
    "import statsmodels.graphics.tsaplots as sgt\n",
    "from math import sqrt\n",
    "import seaborn as sns\n",
    "sns.set()"
   ]
  },
  {
   "cell_type": "code",
   "execution_count": 3,
   "metadata": {},
   "outputs": [],
   "source": [
    "raw_csv_data = pd.read_csv('013 IndexE81.csv')"
   ]
  },
  {
   "cell_type": "code",
   "execution_count": 4,
   "metadata": {},
   "outputs": [],
   "source": [
    "data = raw_csv_data.copy()"
   ]
  },
  {
   "cell_type": "code",
   "execution_count": 5,
   "metadata": {},
   "outputs": [
    {
     "data": {
      "text/html": [
       "<div>\n",
       "<style scoped>\n",
       "    .dataframe tbody tr th:only-of-type {\n",
       "        vertical-align: middle;\n",
       "    }\n",
       "\n",
       "    .dataframe tbody tr th {\n",
       "        vertical-align: top;\n",
       "    }\n",
       "\n",
       "    .dataframe thead th {\n",
       "        text-align: right;\n",
       "    }\n",
       "</style>\n",
       "<table border=\"1\" class=\"dataframe\">\n",
       "  <thead>\n",
       "    <tr style=\"text-align: right;\">\n",
       "      <th></th>\n",
       "      <th>date</th>\n",
       "      <th>spx</th>\n",
       "      <th>dax</th>\n",
       "      <th>ftse</th>\n",
       "      <th>nikkei</th>\n",
       "    </tr>\n",
       "  </thead>\n",
       "  <tbody>\n",
       "    <tr>\n",
       "      <th>0</th>\n",
       "      <td>07/01/1994</td>\n",
       "      <td>469.90</td>\n",
       "      <td>2224.95</td>\n",
       "      <td>3445.98</td>\n",
       "      <td>18124.01</td>\n",
       "    </tr>\n",
       "    <tr>\n",
       "      <th>1</th>\n",
       "      <td>10/01/1994</td>\n",
       "      <td>475.27</td>\n",
       "      <td>2225.00</td>\n",
       "      <td>3440.58</td>\n",
       "      <td>18443.44</td>\n",
       "    </tr>\n",
       "    <tr>\n",
       "      <th>2</th>\n",
       "      <td>11/01/1994</td>\n",
       "      <td>474.13</td>\n",
       "      <td>2228.10</td>\n",
       "      <td>3413.77</td>\n",
       "      <td>18485.25</td>\n",
       "    </tr>\n",
       "    <tr>\n",
       "      <th>3</th>\n",
       "      <td>12/01/1994</td>\n",
       "      <td>474.17</td>\n",
       "      <td>2182.06</td>\n",
       "      <td>3372.02</td>\n",
       "      <td>18793.88</td>\n",
       "    </tr>\n",
       "    <tr>\n",
       "      <th>4</th>\n",
       "      <td>13/01/1994</td>\n",
       "      <td>472.47</td>\n",
       "      <td>2142.37</td>\n",
       "      <td>3360.01</td>\n",
       "      <td>18577.26</td>\n",
       "    </tr>\n",
       "  </tbody>\n",
       "</table>\n",
       "</div>"
      ],
      "text/plain": [
       "         date     spx      dax     ftse    nikkei\n",
       "0  07/01/1994  469.90  2224.95  3445.98  18124.01\n",
       "1  10/01/1994  475.27  2225.00  3440.58  18443.44\n",
       "2  11/01/1994  474.13  2228.10  3413.77  18485.25\n",
       "3  12/01/1994  474.17  2182.06  3372.02  18793.88\n",
       "4  13/01/1994  472.47  2142.37  3360.01  18577.26"
      ]
     },
     "execution_count": 5,
     "metadata": {},
     "output_type": "execute_result"
    }
   ],
   "source": [
    "data.head()"
   ]
  },
  {
   "cell_type": "code",
   "execution_count": 6,
   "metadata": {},
   "outputs": [],
   "source": [
    "data.date = pd.to_datetime(data.date, dayfirst=True)"
   ]
  },
  {
   "cell_type": "code",
   "execution_count": 7,
   "metadata": {},
   "outputs": [],
   "source": [
    "data.set_index('date', inplace=True)"
   ]
  },
  {
   "cell_type": "code",
   "execution_count": 8,
   "metadata": {},
   "outputs": [
    {
     "data": {
      "text/html": [
       "<div>\n",
       "<style scoped>\n",
       "    .dataframe tbody tr th:only-of-type {\n",
       "        vertical-align: middle;\n",
       "    }\n",
       "\n",
       "    .dataframe tbody tr th {\n",
       "        vertical-align: top;\n",
       "    }\n",
       "\n",
       "    .dataframe thead th {\n",
       "        text-align: right;\n",
       "    }\n",
       "</style>\n",
       "<table border=\"1\" class=\"dataframe\">\n",
       "  <thead>\n",
       "    <tr style=\"text-align: right;\">\n",
       "      <th></th>\n",
       "      <th>spx</th>\n",
       "      <th>dax</th>\n",
       "      <th>ftse</th>\n",
       "      <th>nikkei</th>\n",
       "    </tr>\n",
       "    <tr>\n",
       "      <th>date</th>\n",
       "      <th></th>\n",
       "      <th></th>\n",
       "      <th></th>\n",
       "      <th></th>\n",
       "    </tr>\n",
       "  </thead>\n",
       "  <tbody>\n",
       "    <tr>\n",
       "      <th>1994-01-07</th>\n",
       "      <td>469.90</td>\n",
       "      <td>2224.95</td>\n",
       "      <td>3445.98</td>\n",
       "      <td>18124.01</td>\n",
       "    </tr>\n",
       "    <tr>\n",
       "      <th>1994-01-10</th>\n",
       "      <td>475.27</td>\n",
       "      <td>2225.00</td>\n",
       "      <td>3440.58</td>\n",
       "      <td>18443.44</td>\n",
       "    </tr>\n",
       "    <tr>\n",
       "      <th>1994-01-11</th>\n",
       "      <td>474.13</td>\n",
       "      <td>2228.10</td>\n",
       "      <td>3413.77</td>\n",
       "      <td>18485.25</td>\n",
       "    </tr>\n",
       "    <tr>\n",
       "      <th>1994-01-12</th>\n",
       "      <td>474.17</td>\n",
       "      <td>2182.06</td>\n",
       "      <td>3372.02</td>\n",
       "      <td>18793.88</td>\n",
       "    </tr>\n",
       "    <tr>\n",
       "      <th>1994-01-13</th>\n",
       "      <td>472.47</td>\n",
       "      <td>2142.37</td>\n",
       "      <td>3360.01</td>\n",
       "      <td>18577.26</td>\n",
       "    </tr>\n",
       "  </tbody>\n",
       "</table>\n",
       "</div>"
      ],
      "text/plain": [
       "               spx      dax     ftse    nikkei\n",
       "date                                          \n",
       "1994-01-07  469.90  2224.95  3445.98  18124.01\n",
       "1994-01-10  475.27  2225.00  3440.58  18443.44\n",
       "1994-01-11  474.13  2228.10  3413.77  18485.25\n",
       "1994-01-12  474.17  2182.06  3372.02  18793.88\n",
       "1994-01-13  472.47  2142.37  3360.01  18577.26"
      ]
     },
     "execution_count": 8,
     "metadata": {},
     "output_type": "execute_result"
    }
   ],
   "source": [
    "data.head()"
   ]
  },
  {
   "cell_type": "code",
   "execution_count": 9,
   "metadata": {},
   "outputs": [
    {
     "data": {
      "text/plain": [
       "spx       0\n",
       "dax       0\n",
       "ftse      0\n",
       "nikkei    0\n",
       "dtype: int64"
      ]
     },
     "execution_count": 9,
     "metadata": {},
     "output_type": "execute_result"
    }
   ],
   "source": [
    "data = data.fillna(method='ffill')\n",
    "data.isnull().sum()"
   ]
  },
  {
   "cell_type": "code",
   "execution_count": 10,
   "metadata": {},
   "outputs": [],
   "source": [
    "data['price'] = data.nikkei"
   ]
  },
  {
   "cell_type": "code",
   "execution_count": 11,
   "metadata": {},
   "outputs": [
    {
     "data": {
      "text/html": [
       "<div>\n",
       "<style scoped>\n",
       "    .dataframe tbody tr th:only-of-type {\n",
       "        vertical-align: middle;\n",
       "    }\n",
       "\n",
       "    .dataframe tbody tr th {\n",
       "        vertical-align: top;\n",
       "    }\n",
       "\n",
       "    .dataframe thead th {\n",
       "        text-align: right;\n",
       "    }\n",
       "</style>\n",
       "<table border=\"1\" class=\"dataframe\">\n",
       "  <thead>\n",
       "    <tr style=\"text-align: right;\">\n",
       "      <th></th>\n",
       "      <th>price</th>\n",
       "    </tr>\n",
       "    <tr>\n",
       "      <th>date</th>\n",
       "      <th></th>\n",
       "    </tr>\n",
       "  </thead>\n",
       "  <tbody>\n",
       "    <tr>\n",
       "      <th>1994-01-07</th>\n",
       "      <td>18124.01</td>\n",
       "    </tr>\n",
       "    <tr>\n",
       "      <th>1994-01-10</th>\n",
       "      <td>18443.44</td>\n",
       "    </tr>\n",
       "    <tr>\n",
       "      <th>1994-01-11</th>\n",
       "      <td>18485.25</td>\n",
       "    </tr>\n",
       "    <tr>\n",
       "      <th>1994-01-12</th>\n",
       "      <td>18793.88</td>\n",
       "    </tr>\n",
       "    <tr>\n",
       "      <th>1994-01-13</th>\n",
       "      <td>18577.26</td>\n",
       "    </tr>\n",
       "  </tbody>\n",
       "</table>\n",
       "</div>"
      ],
      "text/plain": [
       "               price\n",
       "date                \n",
       "1994-01-07  18124.01\n",
       "1994-01-10  18443.44\n",
       "1994-01-11  18485.25\n",
       "1994-01-12  18793.88\n",
       "1994-01-13  18577.26"
      ]
     },
     "execution_count": 11,
     "metadata": {},
     "output_type": "execute_result"
    }
   ],
   "source": [
    "del data['spx']\n",
    "del data['dax']\n",
    "del data['nikkei']\n",
    "del data['ftse']\n",
    "data.head()"
   ]
  },
  {
   "cell_type": "code",
   "execution_count": 12,
   "metadata": {},
   "outputs": [
    {
     "data": {
      "image/png": "[encoded data removed]",
      "text/plain": [
       "<Figure size 1800x360 with 1 Axes>"
      ]
     },
     "metadata": {},
     "output_type": "display_data"
    }
   ],
   "source": [
    "data.price.plot(figsize=(25,5))\n",
    "plt.title('Nikkei Prices', size=18)\n",
    "plt.show()"
   ]
  },
  {
   "cell_type": "code",
   "execution_count": 13,
   "metadata": {},
   "outputs": [],
   "source": [
    "#Filtering Warnings\n",
    "import warnings\n",
    "warnings.filterwarnings('ignore')"
   ]
  },
  {
   "cell_type": "code",
   "execution_count": 14,
   "metadata": {},
   "outputs": [],
   "source": [
    "size = int(len(data)*0.8)\n",
    "train_data, test_data = data[size:], data[:size]"
   ]
  },
  {
   "cell_type": "code",
   "execution_count": 16,
   "metadata": {},
   "outputs": [
    {
     "data": {
      "text/plain": [
       "(-1.7719741965052447,\n",
       " 0.39446179017391786,\n",
       " 2,\n",
       " 5012,\n",
       " {'1%': -3.431655397510801,\n",
       "  '5%': -2.862116844845668,\n",
       "  '10%': -2.567077055158601},\n",
       " 66655.86848502669)"
      ]
     },
     "execution_count": 16,
     "metadata": {},
     "output_type": "execute_result"
    }
   ],
   "source": [
    "#ADFULLER TEST\n",
    "sts.adfuller(test_data.price)"
   ]
  },
  {
   "cell_type": "code",
   "execution_count": 19,
   "metadata": {},
   "outputs": [
    {
     "data": {
      "image/png": "[encoded data removed]",
      "text/plain": [
       "<Figure size 432x288 with 1 Axes>"
      ]
     },
     "metadata": {},
     "output_type": "display_data"
    }
   ],
   "source": [
    "sgt.plot_acf(test_data.price, zero=False, lags=40)\n",
    "plt.title('ACF for NIkkei', Size=24)\n",
    "plt.show()"
   ]
  },
  {
   "cell_type": "code",
   "execution_count": 20,
   "metadata": {},
   "outputs": [
    {
     "data": {
      "image/png": "[encoded data removed]",
      "text/plain": [
       "<Figure size 432x288 with 1 Axes>"
      ]
     },
     "metadata": {},
     "output_type": "display_data"
    }
   ],
   "source": [
    "sgt.plot_pacf(test_data.price, zero=False, lags=40)\n",
    "plt.title('ACF for NIKKEI', Size=24)\n",
    "plt.show()"
   ]
  },
  {
   "cell_type": "code",
   "execution_count": 21,
   "metadata": {},
   "outputs": [],
   "source": [
    "#Returns of Dax\n",
    "test_data['returns'] = test_data.price.pct_change(1) * 100"
   ]
  },
  {
   "cell_type": "code",
   "execution_count": 23,
   "metadata": {},
   "outputs": [
    {
     "data": {
      "image/png": "[encoded data removed]",
      "text/plain": [
       "<Figure size 1800x360 with 1 Axes>"
      ]
     },
     "metadata": {},
     "output_type": "display_data"
    }
   ],
   "source": [
    "test_data.returns[1:].plot(figsize=(25,5))\n",
    "plt.title('Return')\n",
    "plt.show()"
   ]
  },
  {
   "cell_type": "code",
   "execution_count": 24,
   "metadata": {},
   "outputs": [
    {
     "data": {
      "text/plain": [
       "(-53.33928085110061,\n",
       " 0.0,\n",
       " 1,\n",
       " 5012,\n",
       " {'1%': -3.431655397510801,\n",
       "  '5%': -2.862116844845668,\n",
       "  '10%': -2.567077055158601},\n",
       " 17984.126244552637)"
      ]
     },
     "execution_count": 24,
     "metadata": {},
     "output_type": "execute_result"
    }
   ],
   "source": [
    "#ADFULLER TEST\n",
    "sts.adfuller(test_data.returns[1:])"
   ]
  },
  {
   "cell_type": "code",
   "execution_count": 25,
   "metadata": {},
   "outputs": [
    {
     "data": {
      "image/png": "[encoded data removed]",
      "text/plain": [
       "<Figure size 432x288 with 1 Axes>"
      ]
     },
     "metadata": {},
     "output_type": "display_data"
    }
   ],
   "source": [
    "sgt.plot_acf(test_data.returns[1:], zero=False, lags=40)\n",
    "plt.title('ACF for Nikkei Returns', Size=24)\n",
    "plt.show()"
   ]
  },
  {
   "cell_type": "markdown",
   "metadata": {},
   "source": [
    "### Autoregressive Model"
   ]
  },
  {
   "cell_type": "code",
   "execution_count": 26,
   "metadata": {},
   "outputs": [
    {
     "name": "stdout",
     "output_type": "stream",
     "text": [
      "                              ARMA Model Results                              \n",
      "==============================================================================\n",
      "Dep. Variable:                returns   No. Observations:                 5014\n",
      "Model:                     ARMA(1, 0)   Log Likelihood               -9071.571\n",
      "Method:                       css-mle   S.D. of innovations              1.477\n",
      "Date:                Wed, 17 Mar 2021   AIC                          18149.141\n",
      "Time:                        21:50:59   BIC                          18168.701\n",
      "Sample:                             0   HQIC                         18155.996\n",
      "                                                                              \n",
      "=================================================================================\n",
      "                    coef    std err          z      P>|z|      [0.025      0.975]\n",
      "---------------------------------------------------------------------------------\n",
      "const             0.0033      0.020      0.163      0.871      -0.036       0.043\n",
      "ar.L1.returns    -0.0345      0.014     -2.442      0.015      -0.062      -0.007\n",
      "                                    Roots                                    \n",
      "=============================================================================\n",
      "                  Real          Imaginary           Modulus         Frequency\n",
      "-----------------------------------------------------------------------------\n",
      "AR.1          -29.0011           +0.0000j           29.0011            0.5000\n",
      "-----------------------------------------------------------------------------\n"
     ]
    }
   ],
   "source": [
    "model_ma_1 = ARMA(test_data.returns[1:], order=(1,0))\n",
    "results_ma_1 = model_ma_1.fit()\n",
    "print(results_ma_1.summary())"
   ]
  },
  {
   "cell_type": "code",
   "execution_count": 27,
   "metadata": {},
   "outputs": [
    {
     "name": "stdout",
     "output_type": "stream",
     "text": [
      "                              ARMA Model Results                              \n",
      "==============================================================================\n",
      "Dep. Variable:                returns   No. Observations:                 5014\n",
      "Model:                     ARMA(2, 0)   Log Likelihood               -9066.044\n",
      "Method:                       css-mle   S.D. of innovations              1.476\n",
      "Date:                Wed, 17 Mar 2021   AIC                          18140.089\n",
      "Time:                        21:51:25   BIC                          18166.169\n",
      "Sample:                             0   HQIC                         18149.228\n",
      "                                                                              \n",
      "=================================================================================\n",
      "                    coef    std err          z      P>|z|      [0.025      0.975]\n",
      "---------------------------------------------------------------------------------\n",
      "const             0.0032      0.019      0.169      0.866      -0.034       0.041\n",
      "ar.L1.returns    -0.0361      0.014     -2.557      0.011      -0.064      -0.008\n",
      "ar.L2.returns    -0.0469      0.014     -3.326      0.001      -0.075      -0.019\n",
      "                                    Roots                                    \n",
      "=============================================================================\n",
      "                  Real          Imaginary           Modulus         Frequency\n",
      "-----------------------------------------------------------------------------\n",
      "AR.1           -0.3844           -4.5994j            4.6154           -0.2633\n",
      "AR.2           -0.3844           +4.5994j            4.6154            0.2633\n",
      "-----------------------------------------------------------------------------\n"
     ]
    }
   ],
   "source": [
    "model_ma_2 = ARMA(test_data.returns[1:], order=(2,0))\n",
    "results_ma_2 = model_ma_2.fit()\n",
    "print(results_ma_2.summary())"
   ]
  },
  {
   "cell_type": "code",
   "execution_count": 28,
   "metadata": {},
   "outputs": [],
   "source": [
    "#LLR Test\n",
    "def LLR_test(mod_1,mod_2, DF=1):\n",
    "    #mod_1, mod_2: modelwe want to compare\n",
    "    #Degree of Freedom\n",
    "    L1 = mod_1.fit().llf\n",
    "    L2 = mod_2.fit().llf\n",
    "    LR = (2*(L2-L1))\n",
    "    p = chi2.sf(LR,DF).round(2)\n",
    "    return p"
   ]
  },
  {
   "cell_type": "code",
   "execution_count": 29,
   "metadata": {},
   "outputs": [
    {
     "name": "stdout",
     "output_type": "stream",
     "text": [
      "LLR_Test : 0.0\n"
     ]
    }
   ],
   "source": [
    "print('LLR_Test : ' + str(LLR_test(model_ma_1,model_ma_2)))"
   ]
  },
  {
   "cell_type": "code",
   "execution_count": 30,
   "metadata": {},
   "outputs": [
    {
     "name": "stdout",
     "output_type": "stream",
     "text": [
      "                              ARMA Model Results                              \n",
      "==============================================================================\n",
      "Dep. Variable:                returns   No. Observations:                 5014\n",
      "Model:                     ARMA(3, 0)   Log Likelihood               -9065.221\n",
      "Method:                       css-mle   S.D. of innovations              1.476\n",
      "Date:                Wed, 17 Mar 2021   AIC                          18140.442\n",
      "Time:                        21:52:14   BIC                          18173.042\n",
      "Sample:                             0   HQIC                         18151.867\n",
      "                                                                              \n",
      "=================================================================================\n",
      "                    coef    std err          z      P>|z|      [0.025      0.975]\n",
      "---------------------------------------------------------------------------------\n",
      "const             0.0032      0.019      0.171      0.864      -0.034       0.040\n",
      "ar.L1.returns    -0.0369      0.014     -2.615      0.009      -0.065      -0.009\n",
      "ar.L2.returns    -0.0476      0.014     -3.371      0.001      -0.075      -0.020\n",
      "ar.L3.returns    -0.0181      0.014     -1.283      0.199      -0.046       0.010\n",
      "                                    Roots                                    \n",
      "=============================================================================\n",
      "                  Real          Imaginary           Modulus         Frequency\n",
      "-----------------------------------------------------------------------------\n",
      "AR.1            1.0345           -3.2679j            3.4278           -0.2012\n",
      "AR.2            1.0345           +3.2679j            3.4278            0.2012\n",
      "AR.3           -4.6942           -0.0000j            4.6942           -0.5000\n",
      "-----------------------------------------------------------------------------\n",
      "\n",
      "\n",
      "LLR_Test : 0.2\n"
     ]
    }
   ],
   "source": [
    "model_ma_3 = ARMA(test_data.returns[1:], order=(3,0))\n",
    "results_ma_3 = model_ma_3.fit()\n",
    "print(results_ma_3.summary())\n",
    "print('\\n')\n",
    "print('LLR_Test : ' + str(LLR_test(model_ma_2,model_ma_3)))"
   ]
  },
  {
   "cell_type": "code",
   "execution_count": 31,
   "metadata": {},
   "outputs": [
    {
     "name": "stdout",
     "output_type": "stream",
     "text": [
      "                              ARMA Model Results                              \n",
      "==============================================================================\n",
      "Dep. Variable:                returns   No. Observations:                 5014\n",
      "Model:                     ARMA(4, 0)   Log Likelihood               -9064.846\n",
      "Method:                       css-mle   S.D. of innovations              1.475\n",
      "Date:                Wed, 17 Mar 2021   AIC                          18141.692\n",
      "Time:                        21:52:38   BIC                          18180.812\n",
      "Sample:                             0   HQIC                         18155.401\n",
      "                                                                              \n",
      "=================================================================================\n",
      "                    coef    std err          z      P>|z|      [0.025      0.975]\n",
      "---------------------------------------------------------------------------------\n",
      "const             0.0032      0.019      0.170      0.865      -0.034       0.041\n",
      "ar.L1.returns    -0.0367      0.014     -2.599      0.009      -0.064      -0.009\n",
      "ar.L2.returns    -0.0470      0.014     -3.327      0.001      -0.075      -0.019\n",
      "ar.L3.returns    -0.0177      0.014     -1.251      0.211      -0.045       0.010\n",
      "ar.L4.returns     0.0122      0.014      0.866      0.386      -0.015       0.040\n",
      "                                    Roots                                    \n",
      "=============================================================================\n",
      "                  Real          Imaginary           Modulus         Frequency\n",
      "-----------------------------------------------------------------------------\n",
      "AR.1           -2.8944           -0.0000j            2.8944           -0.5000\n",
      "AR.2            0.1977           -2.6682j            2.6755           -0.2382\n",
      "AR.3            0.1977           +2.6682j            2.6755            0.2382\n",
      "AR.4            3.9440           -0.0000j            3.9440           -0.0000\n",
      "-----------------------------------------------------------------------------\n",
      "\n",
      "\n",
      "LLR_Test : 0.39\n"
     ]
    }
   ],
   "source": [
    "model_ma_4 = ARMA(test_data.returns[1:], order=(4,0))\n",
    "results_ma_4 = model_ma_4.fit()\n",
    "print(results_ma_4.summary())\n",
    "print('\\n')\n",
    "print('LLR_Test : ' + str(LLR_test(model_ma_3,model_ma_4)))"
   ]
  },
  {
   "cell_type": "code",
   "execution_count": 32,
   "metadata": {},
   "outputs": [
    {
     "name": "stdout",
     "output_type": "stream",
     "text": [
      "                              ARMA Model Results                              \n",
      "==============================================================================\n",
      "Dep. Variable:                returns   No. Observations:                 5014\n",
      "Model:                     ARMA(5, 0)   Log Likelihood               -9064.646\n",
      "Method:                       css-mle   S.D. of innovations              1.475\n",
      "Date:                Wed, 17 Mar 2021   AIC                          18143.293\n",
      "Time:                        21:53:09   BIC                          18188.933\n",
      "Sample:                             0   HQIC                         18159.287\n",
      "                                                                              \n",
      "=================================================================================\n",
      "                    coef    std err          z      P>|z|      [0.025      0.975]\n",
      "---------------------------------------------------------------------------------\n",
      "const             0.0032      0.019      0.171      0.864      -0.034       0.040\n",
      "ar.L1.returns    -0.0366      0.014     -2.591      0.010      -0.064      -0.009\n",
      "ar.L2.returns    -0.0472      0.014     -3.338      0.001      -0.075      -0.019\n",
      "ar.L3.returns    -0.0181      0.014     -1.279      0.201      -0.046       0.010\n",
      "ar.L4.returns     0.0119      0.014      0.843      0.399      -0.016       0.040\n",
      "ar.L5.returns    -0.0089      0.014     -0.632      0.527      -0.037       0.019\n",
      "                                    Roots                                    \n",
      "=============================================================================\n",
      "                  Real          Imaginary           Modulus         Frequency\n",
      "-----------------------------------------------------------------------------\n",
      "AR.1           -2.3187           -0.0000j            2.3187           -0.5000\n",
      "AR.2           -0.4069           -2.3709j            2.4056           -0.2770\n",
      "AR.3           -0.4069           +2.3709j            2.4056            0.2770\n",
      "AR.4            2.2332           -1.8322j            2.8886           -0.1094\n",
      "AR.5            2.2332           +1.8322j            2.8886            0.1094\n",
      "-----------------------------------------------------------------------------\n",
      "\n",
      "\n",
      "LLR_Test : 0.53\n"
     ]
    }
   ],
   "source": [
    "model_ma_5 = ARMA(test_data.returns[1:], order=(5,0))\n",
    "results_ma_5 = model_ma_5.fit()\n",
    "print(results_ma_5.summary())\n",
    "print('\\n')\n",
    "print('LLR_Test : ' + str(LLR_test(model_ma_4,model_ma_5)))"
   ]
  },
  {
   "cell_type": "code",
   "execution_count": 33,
   "metadata": {},
   "outputs": [
    {
     "name": "stdout",
     "output_type": "stream",
     "text": [
      "                              ARMA Model Results                              \n",
      "==============================================================================\n",
      "Dep. Variable:                returns   No. Observations:                 5014\n",
      "Model:                     ARMA(6, 0)   Log Likelihood               -9062.478\n",
      "Method:                       css-mle   S.D. of innovations              1.475\n",
      "Date:                Wed, 17 Mar 2021   AIC                          18140.955\n",
      "Time:                        21:53:48   BIC                          18193.115\n",
      "Sample:                             0   HQIC                         18159.234\n",
      "                                                                              \n",
      "=================================================================================\n",
      "                    coef    std err          z      P>|z|      [0.025      0.975]\n",
      "---------------------------------------------------------------------------------\n",
      "const             0.0032      0.018      0.175      0.861      -0.033       0.039\n",
      "ar.L1.returns    -0.0369      0.014     -2.610      0.009      -0.065      -0.009\n",
      "ar.L2.returns    -0.0468      0.014     -3.314      0.001      -0.075      -0.019\n",
      "ar.L3.returns    -0.0186      0.014     -1.317      0.188      -0.046       0.009\n",
      "ar.L4.returns     0.0105      0.014      0.743      0.457      -0.017       0.038\n",
      "ar.L5.returns    -0.0100      0.014     -0.706      0.480      -0.038       0.018\n",
      "ar.L6.returns    -0.0294      0.014     -2.083      0.037      -0.057      -0.002\n",
      "                                    Roots                                    \n",
      "=============================================================================\n",
      "                  Real          Imaginary           Modulus         Frequency\n",
      "-----------------------------------------------------------------------------\n",
      "AR.1            1.5265           -0.9690j            1.8081           -0.0900\n",
      "AR.2            1.5265           +0.9690j            1.8081            0.0900\n",
      "AR.3           -0.0391           -1.7205j            1.7210           -0.2536\n",
      "AR.4           -0.0391           +1.7205j            1.7210            0.2536\n",
      "AR.5           -1.6571           -0.8738j            1.8733           -0.4228\n",
      "AR.6           -1.6571           +0.8738j            1.8733            0.4228\n",
      "-----------------------------------------------------------------------------\n",
      "\n",
      "\n",
      "LLR_Test : 0.04\n"
     ]
    }
   ],
   "source": [
    "model_ma_6 = ARMA(test_data.returns[1:], order=(6,0))\n",
    "results_ma_6 = model_ma_6.fit()\n",
    "print(results_ma_6.summary())\n",
    "print('\\n')\n",
    "print('LLR_Test : ' + str(LLR_test(model_ma_5,model_ma_6)))"
   ]
  },
  {
   "cell_type": "code",
   "execution_count": 34,
   "metadata": {},
   "outputs": [
    {
     "name": "stdout",
     "output_type": "stream",
     "text": [
      "                              ARMA Model Results                              \n",
      "==============================================================================\n",
      "Dep. Variable:                returns   No. Observations:                 5014\n",
      "Model:                     ARMA(7, 0)   Log Likelihood               -9062.477\n",
      "Method:                       css-mle   S.D. of innovations              1.475\n",
      "Date:                Wed, 17 Mar 2021   AIC                          18142.954\n",
      "Time:                        21:54:26   BIC                          18201.633\n",
      "Sample:                             0   HQIC                         18163.517\n",
      "                                                                              \n",
      "=================================================================================\n",
      "                    coef    std err          z      P>|z|      [0.025      0.975]\n",
      "---------------------------------------------------------------------------------\n",
      "const             0.0032      0.018      0.175      0.861      -0.033       0.039\n",
      "ar.L1.returns    -0.0369      0.014     -2.610      0.009      -0.065      -0.009\n",
      "ar.L2.returns    -0.0468      0.014     -3.314      0.001      -0.075      -0.019\n",
      "ar.L3.returns    -0.0186      0.014     -1.316      0.188      -0.046       0.009\n",
      "ar.L4.returns     0.0105      0.014      0.742      0.458      -0.017       0.038\n",
      "ar.L5.returns    -0.0100      0.014     -0.708      0.479      -0.038       0.018\n",
      "ar.L6.returns    -0.0294      0.014     -2.083      0.037      -0.057      -0.002\n",
      "ar.L7.returns    -0.0006      0.014     -0.041      0.967      -0.028       0.027\n",
      "                                    Roots                                    \n",
      "=============================================================================\n",
      "                  Real          Imaginary           Modulus         Frequency\n",
      "-----------------------------------------------------------------------------\n",
      "AR.1           -1.6670           -0.8842j            1.8870           -0.4224\n",
      "AR.2           -1.6670           +0.8842j            1.8870            0.4224\n",
      "AR.3           -0.0307           -1.7215j            1.7218           -0.2528\n",
      "AR.4           -0.0307           +1.7215j            1.7218            0.2528\n",
      "AR.5            1.5228           -0.9595j            1.7998           -0.0895\n",
      "AR.6            1.5228           +0.9595j            1.7998            0.0895\n",
      "AR.7          -49.9886           -0.0000j           49.9886           -0.5000\n",
      "-----------------------------------------------------------------------------\n",
      "\n",
      "\n",
      "LLR_Test : 0.97\n"
     ]
    }
   ],
   "source": [
    "model_ma_7 = ARMA(test_data.returns[1:], order=(7,0))\n",
    "results_ma_7 = model_ma_7.fit()\n",
    "print(results_ma_7.summary())\n",
    "print('\\n')\n",
    "print('LLR_Test : ' + str(LLR_test(model_ma_6,model_ma_7)))"
   ]
  },
  {
   "cell_type": "markdown",
   "metadata": {},
   "source": [
    "## Moving Average (MA)"
   ]
  },
  {
   "cell_type": "code",
   "execution_count": 35,
   "metadata": {},
   "outputs": [
    {
     "name": "stdout",
     "output_type": "stream",
     "text": [
      "                              ARMA Model Results                              \n",
      "==============================================================================\n",
      "Dep. Variable:                returns   No. Observations:                 5014\n",
      "Model:                     ARMA(0, 1)   Log Likelihood               -9071.262\n",
      "Method:                       css-mle   S.D. of innovations              1.477\n",
      "Date:                Wed, 17 Mar 2021   AIC                          18148.524\n",
      "Time:                        21:55:18   BIC                          18168.084\n",
      "Sample:                             0   HQIC                         18155.379\n",
      "                                                                              \n",
      "=================================================================================\n",
      "                    coef    std err          z      P>|z|      [0.025      0.975]\n",
      "---------------------------------------------------------------------------------\n",
      "const             0.0033      0.020      0.163      0.870      -0.036       0.043\n",
      "ma.L1.returns    -0.0381      0.015     -2.566      0.010      -0.067      -0.009\n",
      "                                    Roots                                    \n",
      "=============================================================================\n",
      "                  Real          Imaginary           Modulus         Frequency\n",
      "-----------------------------------------------------------------------------\n",
      "MA.1           26.2660           +0.0000j           26.2660            0.0000\n",
      "-----------------------------------------------------------------------------\n"
     ]
    }
   ],
   "source": [
    "#Model\n",
    "model_ret_ma_1 = ARMA(test_data.returns[1:], order=(0,1))\n",
    "results_ret_ma_1 = model_ret_ma_1.fit()\n",
    "print(results_ret_ma_1.summary())"
   ]
  },
  {
   "cell_type": "code",
   "execution_count": 36,
   "metadata": {},
   "outputs": [
    {
     "name": "stdout",
     "output_type": "stream",
     "text": [
      "                              ARMA Model Results                              \n",
      "==============================================================================\n",
      "Dep. Variable:                returns   No. Observations:                 5014\n",
      "Model:                     ARMA(0, 2)   Log Likelihood               -9065.894\n",
      "Method:                       css-mle   S.D. of innovations              1.476\n",
      "Date:                Wed, 17 Mar 2021   AIC                          18139.788\n",
      "Time:                        21:55:34   BIC                          18165.868\n",
      "Sample:                             0   HQIC                         18148.927\n",
      "                                                                              \n",
      "=================================================================================\n",
      "                    coef    std err          z      P>|z|      [0.025      0.975]\n",
      "---------------------------------------------------------------------------------\n",
      "const             0.0032      0.019      0.170      0.865      -0.034       0.041\n",
      "ma.L1.returns    -0.0376      0.014     -2.668      0.008      -0.065      -0.010\n",
      "ma.L2.returns    -0.0458      0.014     -3.277      0.001      -0.073      -0.018\n",
      "                                    Roots                                    \n",
      "=============================================================================\n",
      "                  Real          Imaginary           Modulus         Frequency\n",
      "-----------------------------------------------------------------------------\n",
      "MA.1            4.2806           +0.0000j            4.2806            0.0000\n",
      "MA.2           -5.1026           +0.0000j            5.1026            0.5000\n",
      "-----------------------------------------------------------------------------\n",
      "\n",
      "\n",
      "LLR Test p-value = 0.0\n"
     ]
    }
   ],
   "source": [
    "model_ret_ma_2 = ARMA(test_data.returns[1:], order=(0,2))\n",
    "results_ret_ma_2 = model_ret_ma_2.fit()\n",
    "print(results_ret_ma_2.summary())\n",
    "print('\\n')\n",
    "print('LLR Test p-value = ' + str(LLR_test(model_ret_ma_1, model_ret_ma_2)))"
   ]
  },
  {
   "cell_type": "code",
   "execution_count": 37,
   "metadata": {},
   "outputs": [
    {
     "name": "stdout",
     "output_type": "stream",
     "text": [
      "                              ARMA Model Results                              \n",
      "==============================================================================\n",
      "Dep. Variable:                returns   No. Observations:                 5014\n",
      "Model:                     ARMA(0, 3)   Log Likelihood               -9065.309\n",
      "Method:                       css-mle   S.D. of innovations              1.476\n",
      "Date:                Wed, 17 Mar 2021   AIC                          18140.618\n",
      "Time:                        21:55:50   BIC                          18173.218\n",
      "Sample:                             0   HQIC                         18152.042\n",
      "                                                                              \n",
      "=================================================================================\n",
      "                    coef    std err          z      P>|z|      [0.025      0.975]\n",
      "---------------------------------------------------------------------------------\n",
      "const             0.0032      0.019      0.172      0.863      -0.034       0.040\n",
      "ma.L1.returns    -0.0366      0.014     -2.586      0.010      -0.064      -0.009\n",
      "ma.L2.returns    -0.0456      0.014     -3.262      0.001      -0.073      -0.018\n",
      "ma.L3.returns    -0.0158      0.015     -1.082      0.279      -0.044       0.013\n",
      "                                    Roots                                    \n",
      "=============================================================================\n",
      "                  Real          Imaginary           Modulus         Frequency\n",
      "-----------------------------------------------------------------------------\n",
      "MA.1            3.0719           -0.0000j            3.0719           -0.0000\n",
      "MA.2           -2.9789           -3.4270j            4.5408           -0.3639\n",
      "MA.3           -2.9789           +3.4270j            4.5408            0.3639\n",
      "-----------------------------------------------------------------------------\n",
      "\n",
      "\n",
      "LLR Test p-value = 0.28\n"
     ]
    }
   ],
   "source": [
    "model_ret_ma_3 = ARMA(test_data.returns[1:], order=(0,3))\n",
    "results_ret_ma_3 = model_ret_ma_3.fit()\n",
    "print(results_ret_ma_3.summary())\n",
    "print('\\n')\n",
    "print('LLR Test p-value = ' + str(LLR_test(model_ret_ma_2, model_ret_ma_3)))"
   ]
  },
  {
   "cell_type": "code",
   "execution_count": 38,
   "metadata": {},
   "outputs": [
    {
     "name": "stdout",
     "output_type": "stream",
     "text": [
      "                              ARMA Model Results                              \n",
      "==============================================================================\n",
      "Dep. Variable:                returns   No. Observations:                 5014\n",
      "Model:                     ARMA(0, 4)   Log Likelihood               -9064.934\n",
      "Method:                       css-mle   S.D. of innovations              1.475\n",
      "Date:                Wed, 17 Mar 2021   AIC                          18141.869\n",
      "Time:                        21:56:08   BIC                          18180.989\n",
      "Sample:                             0   HQIC                         18155.578\n",
      "                                                                              \n",
      "=================================================================================\n",
      "                    coef    std err          z      P>|z|      [0.025      0.975]\n",
      "---------------------------------------------------------------------------------\n",
      "const             0.0032      0.019      0.170      0.865      -0.034       0.041\n",
      "ma.L1.returns    -0.0365      0.014     -2.584      0.010      -0.064      -0.009\n",
      "ma.L2.returns    -0.0454      0.014     -3.210      0.001      -0.073      -0.018\n",
      "ma.L3.returns    -0.0163      0.015     -1.116      0.265      -0.045       0.012\n",
      "ma.L4.returns     0.0123      0.014      0.865      0.387      -0.016       0.040\n",
      "                                    Roots                                    \n",
      "=============================================================================\n",
      "                  Real          Imaginary           Modulus         Frequency\n",
      "-----------------------------------------------------------------------------\n",
      "MA.1           -2.0271           -1.9980j            2.8462           -0.3762\n",
      "MA.2           -2.0271           +1.9980j            2.8462            0.3762\n",
      "MA.3            2.6874           -1.6696j            3.1638           -0.0885\n",
      "MA.4            2.6874           +1.6696j            3.1638            0.0885\n",
      "-----------------------------------------------------------------------------\n",
      "\n",
      "\n",
      "LLR Test p-value = 0.39\n"
     ]
    }
   ],
   "source": [
    "model_ret_ma_4 = ARMA(test_data.returns[1:], order=(0,4))\n",
    "results_ret_ma_4 = model_ret_ma_4.fit()\n",
    "print(results_ret_ma_4.summary())\n",
    "print('\\n')\n",
    "print('LLR Test p-value = ' + str(LLR_test(model_ret_ma_3, model_ret_ma_4)))"
   ]
  },
  {
   "cell_type": "code",
   "execution_count": 39,
   "metadata": {},
   "outputs": [
    {
     "name": "stdout",
     "output_type": "stream",
     "text": [
      "                              ARMA Model Results                              \n",
      "==============================================================================\n",
      "Dep. Variable:                returns   No. Observations:                 5014\n",
      "Model:                     ARMA(0, 5)   Log Likelihood               -9064.645\n",
      "Method:                       css-mle   S.D. of innovations              1.475\n",
      "Date:                Wed, 17 Mar 2021   AIC                          18143.290\n",
      "Time:                        21:56:53   BIC                          18188.930\n",
      "Sample:                             0   HQIC                         18159.284\n",
      "                                                                              \n",
      "=================================================================================\n",
      "                    coef    std err          z      P>|z|      [0.025      0.975]\n",
      "---------------------------------------------------------------------------------\n",
      "const             0.0032      0.019      0.172      0.864      -0.034       0.040\n",
      "ma.L1.returns    -0.0373      0.014     -2.633      0.008      -0.065      -0.010\n",
      "ma.L2.returns    -0.0452      0.014     -3.194      0.001      -0.073      -0.017\n",
      "ma.L3.returns    -0.0160      0.015     -1.093      0.274      -0.045       0.013\n",
      "ma.L4.returns     0.0128      0.014      0.894      0.371      -0.015       0.041\n",
      "ma.L5.returns    -0.0107      0.014     -0.760      0.447      -0.038       0.017\n",
      "                                    Roots                                    \n",
      "=============================================================================\n",
      "                  Real          Imaginary           Modulus         Frequency\n",
      "-----------------------------------------------------------------------------\n",
      "MA.1           -1.7750           -1.4138j            2.2692           -0.3930\n",
      "MA.2           -1.7750           +1.4138j            2.2692            0.3930\n",
      "MA.3            2.3998           -0.0000j            2.3998           -0.0000\n",
      "MA.4            1.1702           -2.4861j            2.7478           -0.1800\n",
      "MA.5            1.1702           +2.4861j            2.7478            0.1800\n",
      "-----------------------------------------------------------------------------\n",
      "\n",
      "\n",
      "LLR Test p-value = 0.45\n"
     ]
    }
   ],
   "source": [
    "model_ret_ma_5 = ARMA(test_data.returns[1:], order=(0,5))\n",
    "results_ret_ma_5 = model_ret_ma_5.fit()\n",
    "print(results_ret_ma_5.summary())\n",
    "print('\\n')\n",
    "print('LLR Test p-value = ' + str(LLR_test(model_ret_ma_4, model_ret_ma_5)))"
   ]
  },
  {
   "cell_type": "code",
   "execution_count": 40,
   "metadata": {},
   "outputs": [
    {
     "name": "stdout",
     "output_type": "stream",
     "text": [
      "                              ARMA Model Results                              \n",
      "==============================================================================\n",
      "Dep. Variable:                returns   No. Observations:                 5014\n",
      "Model:                     ARMA(0, 6)   Log Likelihood               -9062.481\n",
      "Method:                       css-mle   S.D. of innovations              1.475\n",
      "Date:                Wed, 17 Mar 2021   AIC                          18140.962\n",
      "Time:                        21:57:18   BIC                          18193.122\n",
      "Sample:                             0   HQIC                         18159.241\n",
      "                                                                              \n",
      "=================================================================================\n",
      "                    coef    std err          z      P>|z|      [0.025      0.975]\n",
      "---------------------------------------------------------------------------------\n",
      "const             0.0032      0.018      0.176      0.860      -0.033       0.039\n",
      "ma.L1.returns    -0.0369      0.014     -2.611      0.009      -0.065      -0.009\n",
      "ma.L2.returns    -0.0460      0.014     -3.258      0.001      -0.074      -0.018\n",
      "ma.L3.returns    -0.0155      0.014     -1.098      0.272      -0.043       0.012\n",
      "ma.L4.returns     0.0143      0.014      1.004      0.315      -0.014       0.042\n",
      "ma.L5.returns    -0.0082      0.014     -0.581      0.561      -0.036       0.019\n",
      "ma.L6.returns    -0.0287      0.014     -2.082      0.037      -0.056      -0.002\n",
      "                                    Roots                                    \n",
      "=============================================================================\n",
      "                  Real          Imaginary           Modulus         Frequency\n",
      "-----------------------------------------------------------------------------\n",
      "MA.1            1.7131           -0.0000j            1.7131           -0.0000\n",
      "MA.2            0.9477           -1.5348j            1.8039           -0.1620\n",
      "MA.3            0.9477           +1.5348j            1.8039            0.1620\n",
      "MA.4           -0.9896           -1.5105j            1.8058           -0.3423\n",
      "MA.5           -0.9896           +1.5105j            1.8058            0.3423\n",
      "MA.6           -1.9140           -0.0000j            1.9140           -0.5000\n",
      "-----------------------------------------------------------------------------\n",
      "\n",
      "\n",
      "LLR Test p-value = 0.04\n"
     ]
    }
   ],
   "source": [
    "model_ret_ma_6 = ARMA(test_data.returns[1:], order=(0,6))\n",
    "results_ret_ma_6 = model_ret_ma_6.fit()\n",
    "print(results_ret_ma_6.summary())\n",
    "print('\\n')\n",
    "print('LLR Test p-value = ' + str(LLR_test(model_ret_ma_5, model_ret_ma_6)))"
   ]
  },
  {
   "cell_type": "code",
   "execution_count": 41,
   "metadata": {},
   "outputs": [
    {
     "name": "stdout",
     "output_type": "stream",
     "text": [
      "                              ARMA Model Results                              \n",
      "==============================================================================\n",
      "Dep. Variable:                returns   No. Observations:                 5014\n",
      "Model:                     ARMA(0, 7)   Log Likelihood               -9062.479\n",
      "Method:                       css-mle   S.D. of innovations              1.475\n",
      "Date:                Wed, 17 Mar 2021   AIC                          18142.958\n",
      "Time:                        21:58:37   BIC                          18201.638\n",
      "Sample:                             0   HQIC                         18163.522\n",
      "                                                                              \n",
      "=================================================================================\n",
      "                    coef    std err          z      P>|z|      [0.025      0.975]\n",
      "---------------------------------------------------------------------------------\n",
      "const             0.0032      0.018      0.176      0.860      -0.033       0.039\n",
      "ma.L1.returns    -0.0369      0.014     -2.611      0.009      -0.065      -0.009\n",
      "ma.L2.returns    -0.0460      0.014     -3.258      0.001      -0.074      -0.018\n",
      "ma.L3.returns    -0.0155      0.014     -1.098      0.272      -0.043       0.012\n",
      "ma.L4.returns     0.0143      0.014      0.998      0.318      -0.014       0.042\n",
      "ma.L5.returns    -0.0083      0.014     -0.584      0.559      -0.036       0.019\n",
      "ma.L6.returns    -0.0288      0.014     -2.083      0.037      -0.056      -0.002\n",
      "ma.L7.returns     0.0009      0.014      0.063      0.950      -0.027       0.029\n",
      "                                    Roots                                    \n",
      "=============================================================================\n",
      "                  Real          Imaginary           Modulus         Frequency\n",
      "-----------------------------------------------------------------------------\n",
      "MA.1           -1.8908           -0.0000j            1.8908           -0.5000\n",
      "MA.2           -0.9922           -1.4941j            1.7936           -0.3433\n",
      "MA.3           -0.9922           +1.4941j            1.7936            0.3433\n",
      "MA.4            1.7260           -0.0000j            1.7260           -0.0000\n",
      "MA.5            0.9394           -1.5495j            1.8121           -0.1633\n",
      "MA.6            0.9394           +1.5495j            1.8121            0.1633\n",
      "MA.7           32.1973           -0.0000j           32.1973           -0.0000\n",
      "-----------------------------------------------------------------------------\n",
      "\n",
      "\n",
      "LLR Test p-value = 0.95\n"
     ]
    }
   ],
   "source": [
    "model_ret_ma_7 = ARMA(test_data.returns[1:], order=(0,7))\n",
    "results_ret_ma_7 = model_ret_ma_7.fit()\n",
    "print(results_ret_ma_7.summary())\n",
    "print('\\n')\n",
    "print('LLR Test p-value = ' + str(LLR_test(model_ret_ma_6, model_ret_ma_7)))"
   ]
  },
  {
   "cell_type": "code",
   "execution_count": 43,
   "metadata": {},
   "outputs": [],
   "source": [
    "test_data['res_ret_ma_6'] = results_ret_ma_6.resid[:1]"
   ]
  },
  {
   "cell_type": "code",
   "execution_count": 45,
   "metadata": {},
   "outputs": [
    {
     "data": {
      "image/png": "[encoded data removed]",
      "text/plain": [
       "<Figure size 1800x360 with 1 Axes>"
      ]
     },
     "metadata": {},
     "output_type": "display_data"
    }
   ],
   "source": [
    "test_data.res_ret_ma_6.plot(figsize=(25,5))\n",
    "plt.title('Residuals for Returns', size=24)\n",
    "plt.show()"
   ]
  },
  {
   "cell_type": "code",
   "execution_count": 47,
   "metadata": {},
   "outputs": [
    {
     "data": {
      "text/html": [
       "<div>\n",
       "<style scoped>\n",
       "    .dataframe tbody tr th:only-of-type {\n",
       "        vertical-align: middle;\n",
       "    }\n",
       "\n",
       "    .dataframe tbody tr th {\n",
       "        vertical-align: top;\n",
       "    }\n",
       "\n",
       "    .dataframe thead th {\n",
       "        text-align: right;\n",
       "    }\n",
       "</style>\n",
       "<table border=\"1\" class=\"dataframe\">\n",
       "  <thead>\n",
       "    <tr style=\"text-align: right;\">\n",
       "      <th></th>\n",
       "      <th>price</th>\n",
       "      <th>returns</th>\n",
       "      <th>res_ret_ma_8</th>\n",
       "      <th>res_ret_ma_6</th>\n",
       "    </tr>\n",
       "    <tr>\n",
       "      <th>date</th>\n",
       "      <th></th>\n",
       "      <th></th>\n",
       "      <th></th>\n",
       "      <th></th>\n",
       "    </tr>\n",
       "  </thead>\n",
       "  <tbody>\n",
       "    <tr>\n",
       "      <th>1994-01-07</th>\n",
       "      <td>18124.01</td>\n",
       "      <td>NaN</td>\n",
       "      <td>NaN</td>\n",
       "      <td>NaN</td>\n",
       "    </tr>\n",
       "    <tr>\n",
       "      <th>1994-01-10</th>\n",
       "      <td>18443.44</td>\n",
       "      <td>1.762469</td>\n",
       "      <td>1.759246</td>\n",
       "      <td>1.759246</td>\n",
       "    </tr>\n",
       "    <tr>\n",
       "      <th>1994-01-11</th>\n",
       "      <td>18485.25</td>\n",
       "      <td>0.226693</td>\n",
       "      <td>NaN</td>\n",
       "      <td>NaN</td>\n",
       "    </tr>\n",
       "    <tr>\n",
       "      <th>1994-01-12</th>\n",
       "      <td>18793.88</td>\n",
       "      <td>1.669601</td>\n",
       "      <td>NaN</td>\n",
       "      <td>NaN</td>\n",
       "    </tr>\n",
       "    <tr>\n",
       "      <th>1994-01-13</th>\n",
       "      <td>18577.26</td>\n",
       "      <td>-1.152609</td>\n",
       "      <td>NaN</td>\n",
       "      <td>NaN</td>\n",
       "    </tr>\n",
       "    <tr>\n",
       "      <th>1994-01-14</th>\n",
       "      <td>18973.70</td>\n",
       "      <td>2.134007</td>\n",
       "      <td>NaN</td>\n",
       "      <td>NaN</td>\n",
       "    </tr>\n",
       "    <tr>\n",
       "      <th>1994-01-17</th>\n",
       "      <td>18725.37</td>\n",
       "      <td>-1.308812</td>\n",
       "      <td>NaN</td>\n",
       "      <td>NaN</td>\n",
       "    </tr>\n",
       "    <tr>\n",
       "      <th>1994-01-18</th>\n",
       "      <td>18514.55</td>\n",
       "      <td>-1.125852</td>\n",
       "      <td>NaN</td>\n",
       "      <td>NaN</td>\n",
       "    </tr>\n",
       "    <tr>\n",
       "      <th>1994-01-19</th>\n",
       "      <td>19039.40</td>\n",
       "      <td>2.834797</td>\n",
       "      <td>NaN</td>\n",
       "      <td>NaN</td>\n",
       "    </tr>\n",
       "    <tr>\n",
       "      <th>1994-01-20</th>\n",
       "      <td>19183.92</td>\n",
       "      <td>0.759058</td>\n",
       "      <td>NaN</td>\n",
       "      <td>NaN</td>\n",
       "    </tr>\n",
       "  </tbody>\n",
       "</table>\n",
       "</div>"
      ],
      "text/plain": [
       "               price   returns  res_ret_ma_8  res_ret_ma_6\n",
       "date                                                      \n",
       "1994-01-07  18124.01       NaN           NaN           NaN\n",
       "1994-01-10  18443.44  1.762469      1.759246      1.759246\n",
       "1994-01-11  18485.25  0.226693           NaN           NaN\n",
       "1994-01-12  18793.88  1.669601           NaN           NaN\n",
       "1994-01-13  18577.26 -1.152609           NaN           NaN\n",
       "1994-01-14  18973.70  2.134007           NaN           NaN\n",
       "1994-01-17  18725.37 -1.308812           NaN           NaN\n",
       "1994-01-18  18514.55 -1.125852           NaN           NaN\n",
       "1994-01-19  19039.40  2.834797           NaN           NaN\n",
       "1994-01-20  19183.92  0.759058           NaN           NaN"
      ]
     },
     "execution_count": 47,
     "metadata": {},
     "output_type": "execute_result"
    }
   ],
   "source": [
    "test_data.head(10)"
   ]
  },
  {
   "cell_type": "code",
   "execution_count": null,
   "metadata": {},
   "outputs": [],
   "source": []
  }
 ],
 "metadata": {
  "kernelspec": {
   "display_name": "base",
   "language": "python",
   "name": "python3"
  },
  "language_info": {
   "codemirror_mode": {
    "name": "ipython",
    "version": 3
   },
   "file_extension": ".py",
   "mimetype": "text/x-python",
   "name": "python",
   "nbconvert_exporter": "python",
   "pygments_lexer": "ipython3",
   "version": "3.8.8 (default, Apr 13 2021, 15:08:03) [MSC v.1916 64 bit (AMD64)]"
  },
  "vscode": {
   "interpreter": {
    "hash": "a3d1f5a40e83e699fa9d98d411f8d9f4af992d6222f178debd8b0cd072f22c83"
   }
  }
 },
 "nbformat": 4,
 "nbformat_minor": 4
}
