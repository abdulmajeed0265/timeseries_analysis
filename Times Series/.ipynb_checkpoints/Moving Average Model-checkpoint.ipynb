{
 "cells": [
  {
   "cell_type": "markdown",
   "metadata": {},
   "source": [
    "### Importing the Relevant Packages"
   ]
  },
  {
   "cell_type": "code",
   "execution_count": 13,
   "metadata": {},
   "outputs": [],
   "source": [
    "import pandas as pd\n",
    "import numpy as np\n",
    "import matplotlib.pyplot as plt\n",
    "import statsmodels.tsa.stattools as sts\n",
    "from statsmodels.tsa.arima_model import ARMA\n",
    "from scipy.stats.distributions import chi2\n",
    "import statsmodels.graphics.tsaplots as sgt\n",
    "from math import sqrt\n",
    "import seaborn as sns\n",
    "sns.set()"
   ]
  },
  {
   "cell_type": "markdown",
   "metadata": {},
   "source": [
    "### Importing the Data and Pre-processing"
   ]
  },
  {
   "cell_type": "code",
   "execution_count": 4,
   "metadata": {},
   "outputs": [],
   "source": [
    "raw_csv_data = pd.read_csv('013 IndexE8.csv')\n",
    "df_comp = raw_csv_data.copy()\n",
    "#Converting Time\n",
    "df_comp.date = pd.to_datetime(df_comp.date, dayfirst=True)\n",
    "#Setting Date as an index\n",
    "df_comp.set_index('date', inplace=True)\n",
    "#Setting Frequency as business working days\n",
    "df_comp = df_comp.asfreq('b')\n",
    "#Filling the Missing or Empty Values\n",
    "df_comp = df_comp.fillna(method='ffill')\n",
    "df_comp['market_value'] = df_comp.ftse"
   ]
  },
  {
   "cell_type": "code",
   "execution_count": 5,
   "metadata": {},
   "outputs": [],
   "source": [
    "#Deleting unwanted columns\n",
    "del df_comp['spx']\n",
    "del df_comp['dax']\n",
    "del df_comp['ftse']\n",
    "del df_comp['nikkei']"
   ]
  },
  {
   "cell_type": "code",
   "execution_count": 6,
   "metadata": {},
   "outputs": [],
   "source": [
    "#Splitting Data into train and test\n",
    "size = int(len(df_comp)*0.8)\n",
    "df, df_test = df_comp[size:], df_comp[:size]"
   ]
  },
  {
   "cell_type": "code",
   "execution_count": 8,
   "metadata": {},
   "outputs": [],
   "source": [
    "#Filtering Warnings\n",
    "import warnings\n",
    "warnings.filterwarnings('ignore')"
   ]
  },
  {
   "cell_type": "markdown",
   "metadata": {},
   "source": [
    "### Creating Returns"
   ]
  },
  {
   "cell_type": "code",
   "execution_count": 9,
   "metadata": {},
   "outputs": [],
   "source": [
    "df['returns'] = df.market_value.pct_change(1) * 100"
   ]
  },
  {
   "cell_type": "code",
   "execution_count": 11,
   "metadata": {},
   "outputs": [
    {
     "data": {
      "text/plain": [
       "(-19.144530699208023,\n",
       " 0.0,\n",
       " 3,\n",
       " 1251,\n",
       " {'1%': -3.4355880246374304,\n",
       "  '5%': -2.8638531175675896,\n",
       "  '10%': -2.568001531098063},\n",
       " 3088.6645857988337)"
      ]
     },
     "execution_count": 11,
     "metadata": {},
     "output_type": "execute_result"
    }
   ],
   "source": [
    "#ADFULLER TEST\n",
    "sts.adfuller(df.returns[1:])"
   ]
  },
  {
   "cell_type": "markdown",
   "metadata": {},
   "source": [
    "### ACF for Returns"
   ]
  },
  {
   "cell_type": "code",
   "execution_count": 15,
   "metadata": {},
   "outputs": [
    {
     "data": {
      "image/png": "[encoded data removed]",
      "text/plain": [
       "<Figure size 432x288 with 1 Axes>"
      ]
     },
     "metadata": {},
     "output_type": "display_data"
    }
   ],
   "source": [
    "sgt.plot_acf(df.returns[1:], zero=False, lags=40)\n",
    "plt.title('ACF for Returns', Size=24)\n",
    "plt.show()"
   ]
  },
  {
   "cell_type": "markdown",
   "metadata": {},
   "source": [
    "### Moving Average MA(1)"
   ]
  },
  {
   "cell_type": "code",
   "execution_count": 16,
   "metadata": {},
   "outputs": [
    {
     "name": "stdout",
     "output_type": "stream",
     "text": [
      "                              ARMA Model Results                              \n",
      "==============================================================================\n",
      "Dep. Variable:                returns   No. Observations:                 1255\n",
      "Model:                     ARMA(0, 1)   Log Likelihood               -1572.688\n",
      "Method:                       css-mle   S.D. of innovations              0.847\n",
      "Date:                Wed, 17 Mar 2021   AIC                           3151.376\n",
      "Time:                        11:16:11   BIC                           3166.781\n",
      "Sample:                    04-09-2013   HQIC                          3157.166\n",
      "                         - 01-29-2018                                         \n",
      "=================================================================================\n",
      "                    coef    std err          z      P>|z|      [0.025      0.975]\n",
      "---------------------------------------------------------------------------------\n",
      "const             0.0196      0.025      0.798      0.425      -0.029       0.068\n",
      "ma.L1.returns     0.0266      0.029      0.903      0.366      -0.031       0.084\n",
      "                                    Roots                                    \n",
      "=============================================================================\n",
      "                  Real          Imaginary           Modulus         Frequency\n",
      "-----------------------------------------------------------------------------\n",
      "MA.1          -37.5978           +0.0000j           37.5978            0.5000\n",
      "-----------------------------------------------------------------------------\n"
     ]
    }
   ],
   "source": [
    "model_ret_ma_1 = ARMA(df.returns[1:], order=(0,1))\n",
    "results_ret_ma_1 = model_ret_ma_1.fit()\n",
    "print(results_ret_ma_1.summary())"
   ]
  },
  {
   "cell_type": "code",
   "execution_count": 17,
   "metadata": {},
   "outputs": [],
   "source": [
    "#LLR Test\n",
    "def LLR_test(mod_1,mod_2, DF=1):\n",
    "    #mod_1, mod_2: modelwe want to compare\n",
    "    #Degree of Freedom\n",
    "    L1 = mod_1.fit().llf\n",
    "    L2 = mod_2.fit().llf\n",
    "    LR = (2*(L2-L1))\n",
    "    p = chi2.sf(LR,DF).round(2)\n",
    "    return p"
   ]
  },
  {
   "cell_type": "markdown",
   "metadata": {},
   "source": [
    "### Higher Lag"
   ]
  },
  {
   "cell_type": "code",
   "execution_count": 19,
   "metadata": {},
   "outputs": [
    {
     "name": "stdout",
     "output_type": "stream",
     "text": [
      "                              ARMA Model Results                              \n",
      "==============================================================================\n",
      "Dep. Variable:                returns   No. Observations:                 1255\n",
      "Model:                     ARMA(0, 2)   Log Likelihood               -1571.469\n",
      "Method:                       css-mle   S.D. of innovations              0.846\n",
      "Date:                Wed, 17 Mar 2021   AIC                           3150.938\n",
      "Time:                        11:21:27   BIC                           3171.478\n",
      "Sample:                    04-09-2013   HQIC                          3158.658\n",
      "                         - 01-29-2018                                         \n",
      "=================================================================================\n",
      "                    coef    std err          z      P>|z|      [0.025      0.975]\n",
      "---------------------------------------------------------------------------------\n",
      "const             0.0195      0.023      0.832      0.405      -0.026       0.065\n",
      "ma.L1.returns     0.0296      0.028      1.042      0.297      -0.026       0.085\n",
      "ma.L2.returns    -0.0487      0.031     -1.568      0.117      -0.110       0.012\n",
      "                                    Roots                                    \n",
      "=============================================================================\n",
      "                  Real          Imaginary           Modulus         Frequency\n",
      "-----------------------------------------------------------------------------\n",
      "MA.1           -4.2370           +0.0000j            4.2370            0.5000\n",
      "MA.2            4.8439           +0.0000j            4.8439            0.0000\n",
      "-----------------------------------------------------------------------------\n",
      "\n",
      "\n",
      "LLR Test p-value = 0.12\n"
     ]
    }
   ],
   "source": [
    "model_ret_ma_2 = ARMA(df.returns[1:], order=(0,2))\n",
    "results_ret_ma_2 = model_ret_ma_2.fit()\n",
    "print(results_ret_ma_2.summary())\n",
    "print('\\n')\n",
    "print('LLR Test p-value = ' + str(LLR_test(model_ret_ma_1, model_ret_ma_2)))"
   ]
  },
  {
   "cell_type": "code",
   "execution_count": 20,
   "metadata": {},
   "outputs": [
    {
     "name": "stdout",
     "output_type": "stream",
     "text": [
      "                              ARMA Model Results                              \n",
      "==============================================================================\n",
      "Dep. Variable:                returns   No. Observations:                 1255\n",
      "Model:                     ARMA(0, 3)   Log Likelihood               -1570.495\n",
      "Method:                       css-mle   S.D. of innovations              0.846\n",
      "Date:                Wed, 17 Mar 2021   AIC                           3150.990\n",
      "Time:                        11:22:22   BIC                           3176.665\n",
      "Sample:                    04-09-2013   HQIC                          3160.640\n",
      "                         - 01-29-2018                                         \n",
      "=================================================================================\n",
      "                    coef    std err          z      P>|z|      [0.025      0.975]\n",
      "---------------------------------------------------------------------------------\n",
      "const             0.0196      0.025      0.797      0.425      -0.029       0.068\n",
      "ma.L1.returns     0.0346      0.028      1.212      0.225      -0.021       0.090\n",
      "ma.L2.returns    -0.0436      0.031     -1.393      0.164      -0.105       0.018\n",
      "ma.L3.returns     0.0390      0.028      1.395      0.163      -0.016       0.094\n",
      "                                    Roots                                    \n",
      "=============================================================================\n",
      "                  Real          Imaginary           Modulus         Frequency\n",
      "-----------------------------------------------------------------------------\n",
      "MA.1           -2.5328           -0.0000j            2.5328           -0.5000\n",
      "MA.2            1.8257           -2.6081j            3.1836           -0.1528\n",
      "MA.3            1.8257           +2.6081j            3.1836            0.1528\n",
      "-----------------------------------------------------------------------------\n",
      "\n",
      "\n",
      "LLR Test p-value = 0.16\n"
     ]
    }
   ],
   "source": [
    "model_ret_ma_3 = ARMA(df.returns[1:], order=(0,3))\n",
    "results_ret_ma_3 = model_ret_ma_3.fit()\n",
    "print(results_ret_ma_3.summary())\n",
    "print('\\n')\n",
    "print('LLR Test p-value = ' + str(LLR_test(model_ret_ma_2, model_ret_ma_3)))"
   ]
  },
  {
   "cell_type": "code",
   "execution_count": 21,
   "metadata": {},
   "outputs": [
    {
     "name": "stdout",
     "output_type": "stream",
     "text": [
      "                              ARMA Model Results                              \n",
      "==============================================================================\n",
      "Dep. Variable:                returns   No. Observations:                 1255\n",
      "Model:                     ARMA(0, 4)   Log Likelihood               -1564.769\n",
      "Method:                       css-mle   S.D. of innovations              0.842\n",
      "Date:                Wed, 17 Mar 2021   AIC                           3141.537\n",
      "Time:                        11:23:12   BIC                           3172.347\n",
      "Sample:                    04-09-2013   HQIC                          3153.117\n",
      "                         - 01-29-2018                                         \n",
      "=================================================================================\n",
      "                    coef    std err          z      P>|z|      [0.025      0.975]\n",
      "---------------------------------------------------------------------------------\n",
      "const             0.0196      0.022      0.889      0.374      -0.024       0.063\n",
      "ma.L1.returns     0.0239      0.028      0.851      0.395      -0.031       0.079\n",
      "ma.L2.returns    -0.0336      0.028     -1.185      0.236      -0.089       0.022\n",
      "ma.L3.returns     0.0362      0.027      1.317      0.188      -0.018       0.090\n",
      "ma.L4.returns    -0.1013      0.030     -3.401      0.001      -0.160      -0.043\n",
      "                                    Roots                                    \n",
      "=============================================================================\n",
      "                  Real          Imaginary           Modulus         Frequency\n",
      "-----------------------------------------------------------------------------\n",
      "MA.1           -1.6298           -0.0000j            1.6298           -0.5000\n",
      "MA.2            0.0748           -1.8137j            1.8153           -0.2434\n",
      "MA.3            0.0748           +1.8137j            1.8153            0.2434\n",
      "MA.4            1.8374           -0.0000j            1.8374           -0.0000\n",
      "-----------------------------------------------------------------------------\n",
      "\n",
      "\n",
      "LLR Test p-value = 0.0\n"
     ]
    }
   ],
   "source": [
    "model_ret_ma_4 = ARMA(df.returns[1:], order=(0,4))\n",
    "results_ret_ma_4 = model_ret_ma_4.fit()\n",
    "print(results_ret_ma_4.summary())\n",
    "print('\\n')\n",
    "print('LLR Test p-value = ' + str(LLR_test(model_ret_ma_3, model_ret_ma_4)))"
   ]
  },
  {
   "cell_type": "code",
   "execution_count": 23,
   "metadata": {},
   "outputs": [
    {
     "name": "stdout",
     "output_type": "stream",
     "text": [
      "                              ARMA Model Results                              \n",
      "==============================================================================\n",
      "Dep. Variable:                returns   No. Observations:                 1255\n",
      "Model:                     ARMA(0, 8)   Log Likelihood               -1561.992\n",
      "Method:                       css-mle   S.D. of innovations              0.840\n",
      "Date:                Wed, 17 Mar 2021   AIC                           3143.985\n",
      "Time:                        12:21:19   BIC                           3195.334\n",
      "Sample:                    04-09-2013   HQIC                          3163.285\n",
      "                         - 01-29-2018                                         \n",
      "=================================================================================\n",
      "                    coef    std err          z      P>|z|      [0.025      0.975]\n",
      "---------------------------------------------------------------------------------\n",
      "const             0.0196      0.020      0.970      0.332      -0.020       0.059\n",
      "ma.L1.returns     0.0307      0.028      1.086      0.278      -0.025       0.086\n",
      "ma.L2.returns    -0.0387      0.028     -1.363      0.173      -0.094       0.017\n",
      "ma.L3.returns     0.0299      0.028      1.055      0.292      -0.026       0.085\n",
      "ma.L4.returns    -0.0996      0.028     -3.497      0.000      -0.155      -0.044\n",
      "ma.L5.returns    -0.0390      0.029     -1.324      0.186      -0.097       0.019\n",
      "ma.L6.returns     0.0247      0.030      0.832      0.405      -0.033       0.083\n",
      "ma.L7.returns    -0.0075      0.029     -0.253      0.800      -0.065       0.050\n",
      "ma.L8.returns    -0.0501      0.028     -1.765      0.078      -0.106       0.006\n",
      "                                    Roots                                    \n",
      "=============================================================================\n",
      "                  Real          Imaginary           Modulus         Frequency\n",
      "-----------------------------------------------------------------------------\n",
      "MA.1            1.3660           -0.0000j            1.3660           -0.0000\n",
      "MA.2            1.0916           -1.0991j            1.5490           -0.1255\n",
      "MA.3            1.0916           +1.0991j            1.5490            0.1255\n",
      "MA.4            0.0301           -1.3567j            1.3571           -0.2465\n",
      "MA.5            0.0301           +1.3567j            1.3571            0.2465\n",
      "MA.6           -1.1603           -0.9759j            1.5161           -0.3887\n",
      "MA.7           -1.1603           +0.9759j            1.5161            0.3887\n",
      "MA.8           -1.4375           -0.0000j            1.4375           -0.5000\n",
      "-----------------------------------------------------------------------------\n",
      "\n",
      "\n",
      "LLR Test p-value = 0.02\n"
     ]
    }
   ],
   "source": [
    "model_ret_ma_8 = ARMA(df.returns[1:], order=(0,8))\n",
    "results_ret_ma_8 = model_ret_ma_8.fit()\n",
    "print(results_ret_ma_8.summary())\n",
    "print('\\n')\n",
    "print('LLR Test p-value = ' + str(LLR_test(model_ret_ma_4, model_ret_ma_8)))"
   ]
  },
  {
   "cell_type": "markdown",
   "metadata": {},
   "source": [
    "### Residuals for Returns"
   ]
  },
  {
   "cell_type": "code",
   "execution_count": 24,
   "metadata": {},
   "outputs": [],
   "source": [
    "df['res_ret_ma_8'] = results_ret_ma_8.resid[:1]"
   ]
  },
  {
   "cell_type": "code",
   "execution_count": 29,
   "metadata": {},
   "outputs": [
    {
     "data": {
      "text/plain": [
       "0.558"
      ]
     },
     "execution_count": 29,
     "metadata": {},
     "output_type": "execute_result"
    }
   ],
   "source": [
    "round(df.res_ret_ma_8.mean(),3)"
   ]
  },
  {
   "cell_type": "code",
   "execution_count": 31,
   "metadata": {},
   "outputs": [
    {
     "data": {
      "text/plain": [
       "nan"
      ]
     },
     "execution_count": 31,
     "metadata": {},
     "output_type": "execute_result"
    }
   ],
   "source": [
    "round(df.res_ret_ma_8.var(),3)"
   ]
  },
  {
   "cell_type": "code",
   "execution_count": null,
   "metadata": {},
   "outputs": [],
   "source": []
  }
 ],
 "metadata": {
  "kernelspec": {
   "display_name": "Python 3",
   "language": "python",
   "name": "python3"
  },
  "language_info": {
   "codemirror_mode": {
    "name": "ipython",
    "version": 3
   },
   "file_extension": ".py",
   "mimetype": "text/x-python",
   "name": "python",
   "nbconvert_exporter": "python",
   "pygments_lexer": "ipython3",
   "version": "3.8.5"
  }
 },
 "nbformat": 4,
 "nbformat_minor": 4
}
