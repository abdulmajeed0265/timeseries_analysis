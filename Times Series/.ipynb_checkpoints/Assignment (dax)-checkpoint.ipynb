{
 "cells": [
  {
   "cell_type": "code",
   "execution_count": 3,
   "metadata": {},
   "outputs": [],
   "source": [
    "import pandas as pd\n",
    "import numpy as np\n",
    "import matplotlib.pyplot as plt\n",
    "import statsmodels.tsa.stattools as sts\n",
    "from statsmodels.tsa.arima_model import ARMA\n",
    "from scipy.stats.distributions import chi2\n",
    "import statsmodels.graphics.tsaplots as sgt\n",
    "from math import sqrt\n",
    "import seaborn as sns\n",
    "sns.set()"
   ]
  },
  {
   "cell_type": "code",
   "execution_count": 4,
   "metadata": {},
   "outputs": [],
   "source": [
    "raw_data = pd.read_csv('013 IndexE8.csv')"
   ]
  },
  {
   "cell_type": "code",
   "execution_count": 5,
   "metadata": {},
   "outputs": [],
   "source": [
    "data = raw_data.copy()"
   ]
  },
  {
   "cell_type": "code",
   "execution_count": 6,
   "metadata": {},
   "outputs": [
    {
     "data": {
      "text/html": [
       "<div>\n",
       "<style scoped>\n",
       "    .dataframe tbody tr th:only-of-type {\n",
       "        vertical-align: middle;\n",
       "    }\n",
       "\n",
       "    .dataframe tbody tr th {\n",
       "        vertical-align: top;\n",
       "    }\n",
       "\n",
       "    .dataframe thead th {\n",
       "        text-align: right;\n",
       "    }\n",
       "</style>\n",
       "<table border=\"1\" class=\"dataframe\">\n",
       "  <thead>\n",
       "    <tr style=\"text-align: right;\">\n",
       "      <th></th>\n",
       "      <th>date</th>\n",
       "      <th>spx</th>\n",
       "      <th>dax</th>\n",
       "      <th>ftse</th>\n",
       "      <th>nikkei</th>\n",
       "    </tr>\n",
       "  </thead>\n",
       "  <tbody>\n",
       "    <tr>\n",
       "      <th>0</th>\n",
       "      <td>07/01/1994</td>\n",
       "      <td>469.90</td>\n",
       "      <td>2224.95</td>\n",
       "      <td>3445.98</td>\n",
       "      <td>18124.01</td>\n",
       "    </tr>\n",
       "    <tr>\n",
       "      <th>1</th>\n",
       "      <td>10/01/1994</td>\n",
       "      <td>475.27</td>\n",
       "      <td>2225.00</td>\n",
       "      <td>3440.58</td>\n",
       "      <td>18443.44</td>\n",
       "    </tr>\n",
       "    <tr>\n",
       "      <th>2</th>\n",
       "      <td>11/01/1994</td>\n",
       "      <td>474.13</td>\n",
       "      <td>2228.10</td>\n",
       "      <td>3413.77</td>\n",
       "      <td>18485.25</td>\n",
       "    </tr>\n",
       "    <tr>\n",
       "      <th>3</th>\n",
       "      <td>12/01/1994</td>\n",
       "      <td>474.17</td>\n",
       "      <td>2182.06</td>\n",
       "      <td>3372.02</td>\n",
       "      <td>18793.88</td>\n",
       "    </tr>\n",
       "    <tr>\n",
       "      <th>4</th>\n",
       "      <td>13/01/1994</td>\n",
       "      <td>472.47</td>\n",
       "      <td>2142.37</td>\n",
       "      <td>3360.01</td>\n",
       "      <td>18577.26</td>\n",
       "    </tr>\n",
       "  </tbody>\n",
       "</table>\n",
       "</div>"
      ],
      "text/plain": [
       "         date     spx      dax     ftse    nikkei\n",
       "0  07/01/1994  469.90  2224.95  3445.98  18124.01\n",
       "1  10/01/1994  475.27  2225.00  3440.58  18443.44\n",
       "2  11/01/1994  474.13  2228.10  3413.77  18485.25\n",
       "3  12/01/1994  474.17  2182.06  3372.02  18793.88\n",
       "4  13/01/1994  472.47  2142.37  3360.01  18577.26"
      ]
     },
     "execution_count": 6,
     "metadata": {},
     "output_type": "execute_result"
    }
   ],
   "source": [
    "data.head()"
   ]
  },
  {
   "cell_type": "code",
   "execution_count": 7,
   "metadata": {},
   "outputs": [],
   "source": [
    "data.date = pd.to_datetime(data.date, dayfirst=True)"
   ]
  },
  {
   "cell_type": "code",
   "execution_count": 8,
   "metadata": {},
   "outputs": [
    {
     "data": {
      "text/html": [
       "<div>\n",
       "<style scoped>\n",
       "    .dataframe tbody tr th:only-of-type {\n",
       "        vertical-align: middle;\n",
       "    }\n",
       "\n",
       "    .dataframe tbody tr th {\n",
       "        vertical-align: top;\n",
       "    }\n",
       "\n",
       "    .dataframe thead th {\n",
       "        text-align: right;\n",
       "    }\n",
       "</style>\n",
       "<table border=\"1\" class=\"dataframe\">\n",
       "  <thead>\n",
       "    <tr style=\"text-align: right;\">\n",
       "      <th></th>\n",
       "      <th>date</th>\n",
       "      <th>spx</th>\n",
       "      <th>dax</th>\n",
       "      <th>ftse</th>\n",
       "      <th>nikkei</th>\n",
       "    </tr>\n",
       "  </thead>\n",
       "  <tbody>\n",
       "    <tr>\n",
       "      <th>0</th>\n",
       "      <td>1994-01-07</td>\n",
       "      <td>469.90</td>\n",
       "      <td>2224.95</td>\n",
       "      <td>3445.98</td>\n",
       "      <td>18124.01</td>\n",
       "    </tr>\n",
       "    <tr>\n",
       "      <th>1</th>\n",
       "      <td>1994-01-10</td>\n",
       "      <td>475.27</td>\n",
       "      <td>2225.00</td>\n",
       "      <td>3440.58</td>\n",
       "      <td>18443.44</td>\n",
       "    </tr>\n",
       "    <tr>\n",
       "      <th>2</th>\n",
       "      <td>1994-01-11</td>\n",
       "      <td>474.13</td>\n",
       "      <td>2228.10</td>\n",
       "      <td>3413.77</td>\n",
       "      <td>18485.25</td>\n",
       "    </tr>\n",
       "    <tr>\n",
       "      <th>3</th>\n",
       "      <td>1994-01-12</td>\n",
       "      <td>474.17</td>\n",
       "      <td>2182.06</td>\n",
       "      <td>3372.02</td>\n",
       "      <td>18793.88</td>\n",
       "    </tr>\n",
       "    <tr>\n",
       "      <th>4</th>\n",
       "      <td>1994-01-13</td>\n",
       "      <td>472.47</td>\n",
       "      <td>2142.37</td>\n",
       "      <td>3360.01</td>\n",
       "      <td>18577.26</td>\n",
       "    </tr>\n",
       "  </tbody>\n",
       "</table>\n",
       "</div>"
      ],
      "text/plain": [
       "        date     spx      dax     ftse    nikkei\n",
       "0 1994-01-07  469.90  2224.95  3445.98  18124.01\n",
       "1 1994-01-10  475.27  2225.00  3440.58  18443.44\n",
       "2 1994-01-11  474.13  2228.10  3413.77  18485.25\n",
       "3 1994-01-12  474.17  2182.06  3372.02  18793.88\n",
       "4 1994-01-13  472.47  2142.37  3360.01  18577.26"
      ]
     },
     "execution_count": 8,
     "metadata": {},
     "output_type": "execute_result"
    }
   ],
   "source": [
    "data.head()"
   ]
  },
  {
   "cell_type": "code",
   "execution_count": 9,
   "metadata": {},
   "outputs": [],
   "source": [
    "data.set_index('date', inplace=True)"
   ]
  },
  {
   "cell_type": "code",
   "execution_count": 10,
   "metadata": {},
   "outputs": [
    {
     "data": {
      "text/html": [
       "<div>\n",
       "<style scoped>\n",
       "    .dataframe tbody tr th:only-of-type {\n",
       "        vertical-align: middle;\n",
       "    }\n",
       "\n",
       "    .dataframe tbody tr th {\n",
       "        vertical-align: top;\n",
       "    }\n",
       "\n",
       "    .dataframe thead th {\n",
       "        text-align: right;\n",
       "    }\n",
       "</style>\n",
       "<table border=\"1\" class=\"dataframe\">\n",
       "  <thead>\n",
       "    <tr style=\"text-align: right;\">\n",
       "      <th></th>\n",
       "      <th>spx</th>\n",
       "      <th>dax</th>\n",
       "      <th>ftse</th>\n",
       "      <th>nikkei</th>\n",
       "    </tr>\n",
       "    <tr>\n",
       "      <th>date</th>\n",
       "      <th></th>\n",
       "      <th></th>\n",
       "      <th></th>\n",
       "      <th></th>\n",
       "    </tr>\n",
       "  </thead>\n",
       "  <tbody>\n",
       "    <tr>\n",
       "      <th>1994-01-07</th>\n",
       "      <td>469.90</td>\n",
       "      <td>2224.95</td>\n",
       "      <td>3445.98</td>\n",
       "      <td>18124.01</td>\n",
       "    </tr>\n",
       "    <tr>\n",
       "      <th>1994-01-10</th>\n",
       "      <td>475.27</td>\n",
       "      <td>2225.00</td>\n",
       "      <td>3440.58</td>\n",
       "      <td>18443.44</td>\n",
       "    </tr>\n",
       "    <tr>\n",
       "      <th>1994-01-11</th>\n",
       "      <td>474.13</td>\n",
       "      <td>2228.10</td>\n",
       "      <td>3413.77</td>\n",
       "      <td>18485.25</td>\n",
       "    </tr>\n",
       "    <tr>\n",
       "      <th>1994-01-12</th>\n",
       "      <td>474.17</td>\n",
       "      <td>2182.06</td>\n",
       "      <td>3372.02</td>\n",
       "      <td>18793.88</td>\n",
       "    </tr>\n",
       "    <tr>\n",
       "      <th>1994-01-13</th>\n",
       "      <td>472.47</td>\n",
       "      <td>2142.37</td>\n",
       "      <td>3360.01</td>\n",
       "      <td>18577.26</td>\n",
       "    </tr>\n",
       "  </tbody>\n",
       "</table>\n",
       "</div>"
      ],
      "text/plain": [
       "               spx      dax     ftse    nikkei\n",
       "date                                          \n",
       "1994-01-07  469.90  2224.95  3445.98  18124.01\n",
       "1994-01-10  475.27  2225.00  3440.58  18443.44\n",
       "1994-01-11  474.13  2228.10  3413.77  18485.25\n",
       "1994-01-12  474.17  2182.06  3372.02  18793.88\n",
       "1994-01-13  472.47  2142.37  3360.01  18577.26"
      ]
     },
     "execution_count": 10,
     "metadata": {},
     "output_type": "execute_result"
    }
   ],
   "source": [
    "data.head()"
   ]
  },
  {
   "cell_type": "code",
   "execution_count": 11,
   "metadata": {},
   "outputs": [],
   "source": [
    "data = data.asfreq('b')"
   ]
  },
  {
   "cell_type": "code",
   "execution_count": 12,
   "metadata": {},
   "outputs": [
    {
     "data": {
      "text/html": [
       "<div>\n",
       "<style scoped>\n",
       "    .dataframe tbody tr th:only-of-type {\n",
       "        vertical-align: middle;\n",
       "    }\n",
       "\n",
       "    .dataframe tbody tr th {\n",
       "        vertical-align: top;\n",
       "    }\n",
       "\n",
       "    .dataframe thead th {\n",
       "        text-align: right;\n",
       "    }\n",
       "</style>\n",
       "<table border=\"1\" class=\"dataframe\">\n",
       "  <thead>\n",
       "    <tr style=\"text-align: right;\">\n",
       "      <th></th>\n",
       "      <th>spx</th>\n",
       "      <th>dax</th>\n",
       "      <th>ftse</th>\n",
       "      <th>nikkei</th>\n",
       "    </tr>\n",
       "    <tr>\n",
       "      <th>date</th>\n",
       "      <th></th>\n",
       "      <th></th>\n",
       "      <th></th>\n",
       "      <th></th>\n",
       "    </tr>\n",
       "  </thead>\n",
       "  <tbody>\n",
       "    <tr>\n",
       "      <th>1994-01-07</th>\n",
       "      <td>469.90</td>\n",
       "      <td>2224.95</td>\n",
       "      <td>3445.98</td>\n",
       "      <td>18124.01</td>\n",
       "    </tr>\n",
       "    <tr>\n",
       "      <th>1994-01-10</th>\n",
       "      <td>475.27</td>\n",
       "      <td>2225.00</td>\n",
       "      <td>3440.58</td>\n",
       "      <td>18443.44</td>\n",
       "    </tr>\n",
       "    <tr>\n",
       "      <th>1994-01-11</th>\n",
       "      <td>474.13</td>\n",
       "      <td>2228.10</td>\n",
       "      <td>3413.77</td>\n",
       "      <td>18485.25</td>\n",
       "    </tr>\n",
       "    <tr>\n",
       "      <th>1994-01-12</th>\n",
       "      <td>474.17</td>\n",
       "      <td>2182.06</td>\n",
       "      <td>3372.02</td>\n",
       "      <td>18793.88</td>\n",
       "    </tr>\n",
       "    <tr>\n",
       "      <th>1994-01-13</th>\n",
       "      <td>472.47</td>\n",
       "      <td>2142.37</td>\n",
       "      <td>3360.01</td>\n",
       "      <td>18577.26</td>\n",
       "    </tr>\n",
       "  </tbody>\n",
       "</table>\n",
       "</div>"
      ],
      "text/plain": [
       "               spx      dax     ftse    nikkei\n",
       "date                                          \n",
       "1994-01-07  469.90  2224.95  3445.98  18124.01\n",
       "1994-01-10  475.27  2225.00  3440.58  18443.44\n",
       "1994-01-11  474.13  2228.10  3413.77  18485.25\n",
       "1994-01-12  474.17  2182.06  3372.02  18793.88\n",
       "1994-01-13  472.47  2142.37  3360.01  18577.26"
      ]
     },
     "execution_count": 12,
     "metadata": {},
     "output_type": "execute_result"
    }
   ],
   "source": [
    "data.head()"
   ]
  },
  {
   "cell_type": "code",
   "execution_count": 13,
   "metadata": {},
   "outputs": [
    {
     "data": {
      "text/plain": [
       "spx       8\n",
       "dax       8\n",
       "ftse      8\n",
       "nikkei    8\n",
       "dtype: int64"
      ]
     },
     "execution_count": 13,
     "metadata": {},
     "output_type": "execute_result"
    }
   ],
   "source": [
    "data.isnull().sum()"
   ]
  },
  {
   "cell_type": "code",
   "execution_count": 14,
   "metadata": {},
   "outputs": [],
   "source": [
    "data = data.fillna(method='ffill')"
   ]
  },
  {
   "cell_type": "code",
   "execution_count": 15,
   "metadata": {},
   "outputs": [
    {
     "data": {
      "text/plain": [
       "spx       0\n",
       "dax       0\n",
       "ftse      0\n",
       "nikkei    0\n",
       "dtype: int64"
      ]
     },
     "execution_count": 15,
     "metadata": {},
     "output_type": "execute_result"
    }
   ],
   "source": [
    "data.isnull().sum()"
   ]
  },
  {
   "cell_type": "code",
   "execution_count": 16,
   "metadata": {},
   "outputs": [
    {
     "data": {
      "image/png": "[encoded data removed]",
      "text/plain": [
       "<Figure size 1800x360 with 1 Axes>"
      ]
     },
     "metadata": {},
     "output_type": "display_data"
    }
   ],
   "source": [
    "data.dax.plot(figsize=(25,5))\n",
    "plt.title('DAX')\n",
    "plt.show()"
   ]
  },
  {
   "cell_type": "code",
   "execution_count": 29,
   "metadata": {},
   "outputs": [],
   "source": [
    "data_dax = data.copy()"
   ]
  },
  {
   "cell_type": "code",
   "execution_count": 30,
   "metadata": {},
   "outputs": [],
   "source": [
    "data_dax['market_value'] = data.dax"
   ]
  },
  {
   "cell_type": "code",
   "execution_count": 31,
   "metadata": {},
   "outputs": [],
   "source": [
    "del data_dax['spx']\n",
    "del data_dax['dax']\n",
    "del data_dax['ftse']\n",
    "del data_dax['nikkei']"
   ]
  },
  {
   "cell_type": "code",
   "execution_count": 32,
   "metadata": {},
   "outputs": [],
   "source": [
    "#Filtering Warnings\n",
    "import warnings\n",
    "warnings.filterwarnings('ignore')"
   ]
  },
  {
   "cell_type": "code",
   "execution_count": 33,
   "metadata": {},
   "outputs": [],
   "source": [
    "size = int(len(data_dax)*0.8)\n",
    "train_data, test_data = data_dax[size:], data_dax[:size]"
   ]
  },
  {
   "cell_type": "code",
   "execution_count": 34,
   "metadata": {},
   "outputs": [
    {
     "data": {
      "text/plain": [
       "(-0.056531101784050734,\n",
       " 0.9535997428061945,\n",
       " 5,\n",
       " 6271,\n",
       " {'1%': -3.4313932114153967,\n",
       "  '5%': -2.8620010072061226,\n",
       "  '10%': -2.567015391155308},\n",
       " 73062.30021607758)"
      ]
     },
     "execution_count": 34,
     "metadata": {},
     "output_type": "execute_result"
    }
   ],
   "source": [
    "#ADFULLER TEST\n",
    "sts.adfuller(data_dax.market_value)"
   ]
  },
  {
   "cell_type": "code",
   "execution_count": 39,
   "metadata": {},
   "outputs": [
    {
     "data": {
      "image/png": "[encoded data removed]",
      "text/plain": [
       "<Figure size 432x288 with 1 Axes>"
      ]
     },
     "metadata": {},
     "output_type": "display_data"
    }
   ],
   "source": [
    "sgt.plot_acf(data_dax.market_value, zero=False, lags=40)\n",
    "plt.title('ACF for DAX', Size=24)\n",
    "plt.show()"
   ]
  },
  {
   "cell_type": "code",
   "execution_count": 40,
   "metadata": {},
   "outputs": [
    {
     "data": {
      "image/png": "[encoded data removed]",
      "text/plain": [
       "<Figure size 432x288 with 1 Axes>"
      ]
     },
     "metadata": {},
     "output_type": "display_data"
    }
   ],
   "source": [
    "sgt.plot_pacf(data_dax.market_value, zero=False, lags=40)\n",
    "plt.title('ACF for DAX', Size=24)\n",
    "plt.show()"
   ]
  },
  {
   "cell_type": "code",
   "execution_count": 35,
   "metadata": {},
   "outputs": [],
   "source": [
    "#Returns of Dax\n",
    "data_dax['returns'] = data_dax.pct_change(1) * 100"
   ]
  },
  {
   "cell_type": "code",
   "execution_count": 36,
   "metadata": {},
   "outputs": [
    {
     "data": {
      "image/png": "[encoded data removed]",
      "text/plain": [
       "<Figure size 1800x360 with 1 Axes>"
      ]
     },
     "metadata": {},
     "output_type": "display_data"
    }
   ],
   "source": [
    "data_dax.returns.plot(figsize=(25,5))\n",
    "plt.title('Return')\n",
    "plt.show()"
   ]
  },
  {
   "cell_type": "code",
   "execution_count": 38,
   "metadata": {},
   "outputs": [
    {
     "data": {
      "text/plain": [
       "(-37.417041349820806,\n",
       " 0.0,\n",
       " 4,\n",
       " 6271,\n",
       " {'1%': -3.4313932114153967,\n",
       "  '5%': -2.8620010072061226,\n",
       "  '10%': -2.567015391155308},\n",
       " 22213.359491489387)"
      ]
     },
     "execution_count": 38,
     "metadata": {},
     "output_type": "execute_result"
    }
   ],
   "source": [
    "#ADFULLER TEST\n",
    "sts.adfuller(data_dax.returns[1:])"
   ]
  },
  {
   "cell_type": "code",
   "execution_count": 41,
   "metadata": {},
   "outputs": [
    {
     "data": {
      "image/png": "[encoded data removed]",
      "text/plain": [
       "<Figure size 432x288 with 1 Axes>"
      ]
     },
     "metadata": {},
     "output_type": "display_data"
    }
   ],
   "source": [
    "sgt.plot_acf(data_dax.returns[1:], zero=False, lags=40)\n",
    "plt.title('ACF for DAX Returns', Size=24)\n",
    "plt.show()"
   ]
  },
  {
   "cell_type": "markdown",
   "metadata": {},
   "source": [
    "### Autoregressive Model AM"
   ]
  },
  {
   "cell_type": "code",
   "execution_count": 43,
   "metadata": {},
   "outputs": [
    {
     "name": "stdout",
     "output_type": "stream",
     "text": [
      "                              ARMA Model Results                              \n",
      "==============================================================================\n",
      "Dep. Variable:                returns   No. Observations:                 6276\n",
      "Model:                     ARMA(1, 0)   Log Likelihood              -11169.820\n",
      "Method:                       css-mle   S.D. of innovations              1.435\n",
      "Date:                Wed, 17 Mar 2021   AIC                          22345.640\n",
      "Time:                        17:21:46   BIC                          22365.874\n",
      "Sample:                    01-10-1994   HQIC                         22352.651\n",
      "                         - 01-29-2018                                         \n",
      "=================================================================================\n",
      "                    coef    std err          z      P>|z|      [0.025      0.975]\n",
      "---------------------------------------------------------------------------------\n",
      "const             0.0388      0.018      2.167      0.030       0.004       0.074\n",
      "ar.L1.returns    -0.0112      0.013     -0.889      0.374      -0.036       0.014\n",
      "                                    Roots                                    \n",
      "=============================================================================\n",
      "                  Real          Imaginary           Modulus         Frequency\n",
      "-----------------------------------------------------------------------------\n",
      "AR.1          -89.1730           +0.0000j           89.1730            0.5000\n",
      "-----------------------------------------------------------------------------\n"
     ]
    }
   ],
   "source": [
    "model_ma_1 = ARMA(data_dax.returns[1:], order=(1,0))\n",
    "results_ma_1 = model_ma_1.fit()\n",
    "print(results_ma_1.summary())"
   ]
  },
  {
   "cell_type": "code",
   "execution_count": 44,
   "metadata": {},
   "outputs": [
    {
     "name": "stdout",
     "output_type": "stream",
     "text": [
      "                              ARMA Model Results                              \n",
      "==============================================================================\n",
      "Dep. Variable:                returns   No. Observations:                 6276\n",
      "Model:                     ARMA(2, 0)   Log Likelihood              -11167.906\n",
      "Method:                       css-mle   S.D. of innovations              1.434\n",
      "Date:                Wed, 17 Mar 2021   AIC                          22343.813\n",
      "Time:                        17:22:26   BIC                          22370.791\n",
      "Sample:                    01-10-1994   HQIC                         22353.160\n",
      "                         - 01-29-2018                                         \n",
      "=================================================================================\n",
      "                    coef    std err          z      P>|z|      [0.025      0.975]\n",
      "---------------------------------------------------------------------------------\n",
      "const             0.0388      0.017      2.222      0.026       0.005       0.073\n",
      "ar.L1.returns    -0.0115      0.013     -0.911      0.362      -0.036       0.013\n",
      "ar.L2.returns    -0.0247      0.013     -1.957      0.050      -0.049    4.18e-05\n",
      "                                    Roots                                    \n",
      "=============================================================================\n",
      "                  Real          Imaginary           Modulus         Frequency\n",
      "-----------------------------------------------------------------------------\n",
      "AR.1           -0.2327           -6.3602j            6.3645           -0.2558\n",
      "AR.2           -0.2327           +6.3602j            6.3645            0.2558\n",
      "-----------------------------------------------------------------------------\n"
     ]
    }
   ],
   "source": [
    "model_ma_2 = ARMA(data_dax.returns[1:], order=(2,0))\n",
    "results_ma_2 = model_ma_2.fit()\n",
    "print(results_ma_2.summary())"
   ]
  },
  {
   "cell_type": "code",
   "execution_count": 45,
   "metadata": {},
   "outputs": [],
   "source": [
    "#LLR Test\n",
    "def LLR_test(mod_1,mod_2, DF=1):\n",
    "    #mod_1, mod_2: modelwe want to compare\n",
    "    #Degree of Freedom\n",
    "    L1 = mod_1.fit().llf\n",
    "    L2 = mod_2.fit().llf\n",
    "    LR = (2*(L2-L1))\n",
    "    p = chi2.sf(LR,DF).round(2)\n",
    "    return p"
   ]
  },
  {
   "cell_type": "code",
   "execution_count": 47,
   "metadata": {},
   "outputs": [
    {
     "name": "stdout",
     "output_type": "stream",
     "text": [
      "LLR_Test : 0.05\n"
     ]
    }
   ],
   "source": [
    "print('LLR_Test : ' + str(LLR_test(model_ma_1,model_ma_2)))"
   ]
  },
  {
   "cell_type": "code",
   "execution_count": 48,
   "metadata": {},
   "outputs": [
    {
     "name": "stdout",
     "output_type": "stream",
     "text": [
      "                              ARMA Model Results                              \n",
      "==============================================================================\n",
      "Dep. Variable:                returns   No. Observations:                 6276\n",
      "Model:                     ARMA(3, 0)   Log Likelihood              -11165.568\n",
      "Method:                       css-mle   S.D. of innovations              1.434\n",
      "Date:                Wed, 17 Mar 2021   AIC                          22341.136\n",
      "Time:                        17:27:01   BIC                          22374.859\n",
      "Sample:                    01-10-1994   HQIC                         22352.821\n",
      "                         - 01-29-2018                                         \n",
      "=================================================================================\n",
      "                    coef    std err          z      P>|z|      [0.025      0.975]\n",
      "---------------------------------------------------------------------------------\n",
      "const             0.0388      0.017      2.284      0.022       0.006       0.072\n",
      "ar.L1.returns    -0.0122      0.013     -0.964      0.335      -0.037       0.013\n",
      "ar.L2.returns    -0.0250      0.013     -1.982      0.047      -0.050      -0.000\n",
      "ar.L3.returns    -0.0273      0.013     -2.163      0.031      -0.052      -0.003\n",
      "                                    Roots                                    \n",
      "=============================================================================\n",
      "                  Real          Imaginary           Modulus         Frequency\n",
      "-----------------------------------------------------------------------------\n",
      "AR.1            1.3458           -2.8888j            3.1869           -0.1806\n",
      "AR.2            1.3458           +2.8888j            3.1869            0.1806\n",
      "AR.3           -3.6077           -0.0000j            3.6077           -0.5000\n",
      "-----------------------------------------------------------------------------\n",
      "\n",
      "\n",
      "LLR_Test : 0.03\n"
     ]
    }
   ],
   "source": [
    "model_ma_3 = ARMA(data_dax.returns[1:], order=(3,0))\n",
    "results_ma_3 = model_ma_3.fit()\n",
    "print(results_ma_3.summary())\n",
    "print('\\n')\n",
    "print('LLR_Test : ' + str(LLR_test(model_ma_2,model_ma_3)))"
   ]
  },
  {
   "cell_type": "code",
   "execution_count": 49,
   "metadata": {},
   "outputs": [
    {
     "name": "stdout",
     "output_type": "stream",
     "text": [
      "                              ARMA Model Results                              \n",
      "==============================================================================\n",
      "Dep. Variable:                returns   No. Observations:                 6276\n",
      "Model:                     ARMA(4, 0)   Log Likelihood              -11164.387\n",
      "Method:                       css-mle   S.D. of innovations              1.433\n",
      "Date:                Wed, 17 Mar 2021   AIC                          22340.774\n",
      "Time:                        17:27:11   BIC                          22381.241\n",
      "Sample:                    01-10-1994   HQIC                         22354.795\n",
      "                         - 01-29-2018                                         \n",
      "=================================================================================\n",
      "                    coef    std err          z      P>|z|      [0.025      0.975]\n",
      "---------------------------------------------------------------------------------\n",
      "const             0.0388      0.017      2.239      0.025       0.005       0.073\n",
      "ar.L1.returns    -0.0116      0.013     -0.922      0.357      -0.036       0.013\n",
      "ar.L2.returns    -0.0245      0.013     -1.943      0.052      -0.049       0.000\n",
      "ar.L3.returns    -0.0270      0.013     -2.144      0.032      -0.052      -0.002\n",
      "ar.L4.returns     0.0194      0.013      1.537      0.124      -0.005       0.044\n",
      "                                    Roots                                    \n",
      "=============================================================================\n",
      "                  Real          Imaginary           Modulus         Frequency\n",
      "-----------------------------------------------------------------------------\n",
      "AR.1           -2.4643           -0.0000j            2.4643           -0.5000\n",
      "AR.2            0.2860           -2.5065j            2.5228           -0.2319\n",
      "AR.3            0.2860           +2.5065j            2.5228            0.2319\n",
      "AR.4            3.2863           -0.0000j            3.2863           -0.0000\n",
      "-----------------------------------------------------------------------------\n",
      "\n",
      "\n",
      "LLR_Test : 0.12\n"
     ]
    }
   ],
   "source": [
    "model_ma_4 = ARMA(data_dax.returns[1:], order=(4,0))\n",
    "results_ma_4 = model_ma_4.fit()\n",
    "print(results_ma_4.summary())\n",
    "print('\\n')\n",
    "print('LLR_Test : ' + str(LLR_test(model_ma_3,model_ma_4)))"
   ]
  },
  {
   "cell_type": "code",
   "execution_count": 50,
   "metadata": {},
   "outputs": [
    {
     "name": "stdout",
     "output_type": "stream",
     "text": [
      "                              ARMA Model Results                              \n",
      "==============================================================================\n",
      "Dep. Variable:                returns   No. Observations:                 6276\n",
      "Model:                     ARMA(5, 0)   Log Likelihood              -11158.664\n",
      "Method:                       css-mle   S.D. of innovations              1.432\n",
      "Date:                Wed, 17 Mar 2021   AIC                          22331.328\n",
      "Time:                        17:28:14   BIC                          22378.540\n",
      "Sample:                    01-10-1994   HQIC                         22347.686\n",
      "                         - 01-29-2018                                         \n",
      "=================================================================================\n",
      "                    coef    std err          z      P>|z|      [0.025      0.975]\n",
      "---------------------------------------------------------------------------------\n",
      "const             0.0388      0.017      2.338      0.019       0.006       0.071\n",
      "ar.L1.returns    -0.0108      0.013     -0.857      0.391      -0.036       0.014\n",
      "ar.L2.returns    -0.0257      0.013     -2.036      0.042      -0.050      -0.001\n",
      "ar.L3.returns    -0.0281      0.013     -2.228      0.026      -0.053      -0.003\n",
      "ar.L4.returns     0.0189      0.013      1.498      0.134      -0.006       0.044\n",
      "ar.L5.returns    -0.0427      0.013     -3.385      0.001      -0.067      -0.018\n",
      "                                    Roots                                    \n",
      "=============================================================================\n",
      "                  Real          Imaginary           Modulus         Frequency\n",
      "-----------------------------------------------------------------------------\n",
      "AR.1           -1.7620           -0.0000j            1.7620           -0.5000\n",
      "AR.2           -0.4454           -1.8138j            1.8677           -0.2883\n",
      "AR.3           -0.4454           +1.8138j            1.8677            0.2883\n",
      "AR.4            1.5477           -1.1900j            1.9523           -0.1043\n",
      "AR.5            1.5477           +1.1900j            1.9523            0.1043\n",
      "-----------------------------------------------------------------------------\n",
      "\n",
      "\n",
      "LLR_Test : 0.0\n"
     ]
    }
   ],
   "source": [
    "model_ma_5 = ARMA(data_dax.returns[1:], order=(5,0))\n",
    "results_ma_5 = model_ma_5.fit()\n",
    "print(results_ma_5.summary())\n",
    "print('\\n')\n",
    "print('LLR_Test : ' + str(LLR_test(model_ma_4,model_ma_5)))"
   ]
  },
  {
   "cell_type": "code",
   "execution_count": 54,
   "metadata": {},
   "outputs": [
    {
     "name": "stdout",
     "output_type": "stream",
     "text": [
      "                              ARMA Model Results                              \n",
      "==============================================================================\n",
      "Dep. Variable:                returns   No. Observations:                 6276\n",
      "Model:                     ARMA(5, 0)   Log Likelihood              -11158.664\n",
      "Method:                       css-mle   S.D. of innovations              1.432\n",
      "Date:                Wed, 17 Mar 2021   AIC                          22331.328\n",
      "Time:                        17:30:59   BIC                          22378.540\n",
      "Sample:                    01-10-1994   HQIC                         22347.686\n",
      "                         - 01-29-2018                                         \n",
      "=================================================================================\n",
      "                    coef    std err          z      P>|z|      [0.025      0.975]\n",
      "---------------------------------------------------------------------------------\n",
      "const             0.0388      0.017      2.338      0.019       0.006       0.071\n",
      "ar.L1.returns    -0.0108      0.013     -0.857      0.391      -0.036       0.014\n",
      "ar.L2.returns    -0.0257      0.013     -2.036      0.042      -0.050      -0.001\n",
      "ar.L3.returns    -0.0281      0.013     -2.228      0.026      -0.053      -0.003\n",
      "ar.L4.returns     0.0189      0.013      1.498      0.134      -0.006       0.044\n",
      "ar.L5.returns    -0.0427      0.013     -3.385      0.001      -0.067      -0.018\n",
      "                                    Roots                                    \n",
      "=============================================================================\n",
      "                  Real          Imaginary           Modulus         Frequency\n",
      "-----------------------------------------------------------------------------\n",
      "AR.1           -1.7620           -0.0000j            1.7620           -0.5000\n",
      "AR.2           -0.4454           -1.8138j            1.8677           -0.2883\n",
      "AR.3           -0.4454           +1.8138j            1.8677            0.2883\n",
      "AR.4            1.5477           -1.1900j            1.9523           -0.1043\n",
      "AR.5            1.5477           +1.1900j            1.9523            0.1043\n",
      "-----------------------------------------------------------------------------\n",
      "\n",
      "\n",
      "LLR_Test : 0.0\n"
     ]
    }
   ],
   "source": [
    "model_ma_5 = ARMA(data_dax.returns[1:], order=(5,0))\n",
    "results_ma_5 = model_ma_5.fit()\n",
    "print(results_ma_5.summary())\n",
    "print('\\n')\n",
    "print('LLR_Test : ' + str(LLR_test(model_ma_4,model_ma_5)))"
   ]
  },
  {
   "cell_type": "code",
   "execution_count": 55,
   "metadata": {},
   "outputs": [
    {
     "name": "stdout",
     "output_type": "stream",
     "text": [
      "                              ARMA Model Results                              \n",
      "==============================================================================\n",
      "Dep. Variable:                returns   No. Observations:                 6276\n",
      "Model:                     ARMA(6, 0)   Log Likelihood              -11158.367\n",
      "Method:                       css-mle   S.D. of innovations              1.432\n",
      "Date:                Wed, 17 Mar 2021   AIC                          22332.734\n",
      "Time:                        17:31:54   BIC                          22386.690\n",
      "Sample:                    01-10-1994   HQIC                         22351.429\n",
      "                         - 01-29-2018                                         \n",
      "=================================================================================\n",
      "                    coef    std err          z      P>|z|      [0.025      0.975]\n",
      "---------------------------------------------------------------------------------\n",
      "const             0.0388      0.016      2.362      0.018       0.007       0.071\n",
      "ar.L1.returns    -0.0112      0.013     -0.889      0.374      -0.036       0.014\n",
      "ar.L2.returns    -0.0255      0.013     -2.021      0.043      -0.050      -0.001\n",
      "ar.L3.returns    -0.0284      0.013     -2.249      0.025      -0.053      -0.004\n",
      "ar.L4.returns     0.0186      0.013      1.478      0.139      -0.006       0.043\n",
      "ar.L5.returns    -0.0428      0.013     -3.393      0.001      -0.068      -0.018\n",
      "ar.L6.returns    -0.0097      0.013     -0.771      0.441      -0.034       0.015\n",
      "                                    Roots                                    \n",
      "=============================================================================\n",
      "                  Real          Imaginary           Modulus         Frequency\n",
      "-----------------------------------------------------------------------------\n",
      "AR.1            1.4875           -1.0504j            1.8210           -0.0979\n",
      "AR.2            1.4875           +1.0504j            1.8210            0.0979\n",
      "AR.3           -0.3004           -1.8006j            1.8254           -0.2763\n",
      "AR.4           -0.3004           +1.8006j            1.8254            0.2763\n",
      "AR.5           -1.9149           -0.0000j            1.9149           -0.5000\n",
      "AR.6           -4.8570           -0.0000j            4.8570           -0.5000\n",
      "-----------------------------------------------------------------------------\n",
      "\n",
      "\n",
      "LLR_Test : 0.44\n"
     ]
    }
   ],
   "source": [
    "model_ma_6 = ARMA(data_dax.returns[1:], order=(6,0))\n",
    "results_ma_6 = model_ma_6.fit()\n",
    "print(results_ma_6.summary())\n",
    "print('\\n')\n",
    "print('LLR_Test : ' + str(LLR_test(model_ma_5,model_ma_6)))"
   ]
  },
  {
   "cell_type": "markdown",
   "metadata": {},
   "source": [
    "## Moving Average (MA)"
   ]
  },
  {
   "cell_type": "code",
   "execution_count": 57,
   "metadata": {},
   "outputs": [
    {
     "name": "stdout",
     "output_type": "stream",
     "text": [
      "                              ARMA Model Results                              \n",
      "==============================================================================\n",
      "Dep. Variable:                returns   No. Observations:                 6276\n",
      "Model:                     ARMA(0, 1)   Log Likelihood              -11169.799\n",
      "Method:                       css-mle   S.D. of innovations              1.435\n",
      "Date:                Wed, 17 Mar 2021   AIC                          22345.599\n",
      "Time:                        17:45:38   BIC                          22365.832\n",
      "Sample:                    01-10-1994   HQIC                         22352.609\n",
      "                         - 01-29-2018                                         \n",
      "=================================================================================\n",
      "                    coef    std err          z      P>|z|      [0.025      0.975]\n",
      "---------------------------------------------------------------------------------\n",
      "const             0.0388      0.018      2.169      0.030       0.004       0.074\n",
      "ma.L1.returns    -0.0118      0.013     -0.911      0.362      -0.037       0.014\n",
      "                                    Roots                                    \n",
      "=============================================================================\n",
      "                  Real          Imaginary           Modulus         Frequency\n",
      "-----------------------------------------------------------------------------\n",
      "MA.1           84.6971           +0.0000j           84.6971            0.0000\n",
      "-----------------------------------------------------------------------------\n"
     ]
    }
   ],
   "source": [
    "#Model\n",
    "model_ret_ma_1 = ARMA(data_dax.returns[1:], order=(0,1))\n",
    "results_ret_ma_1 = model_ret_ma_1.fit()\n",
    "print(results_ret_ma_1.summary())"
   ]
  },
  {
   "cell_type": "code",
   "execution_count": 59,
   "metadata": {},
   "outputs": [
    {
     "name": "stdout",
     "output_type": "stream",
     "text": [
      "                              ARMA Model Results                              \n",
      "==============================================================================\n",
      "Dep. Variable:                returns   No. Observations:                 6276\n",
      "Model:                     ARMA(0, 2)   Log Likelihood              -11167.875\n",
      "Method:                       css-mle   S.D. of innovations              1.434\n",
      "Date:                Wed, 17 Mar 2021   AIC                          22343.749\n",
      "Time:                        17:47:31   BIC                          22370.727\n",
      "Sample:                    01-10-1994   HQIC                         22353.097\n",
      "                         - 01-29-2018                                         \n",
      "=================================================================================\n",
      "                    coef    std err          z      P>|z|      [0.025      0.975]\n",
      "---------------------------------------------------------------------------------\n",
      "const             0.0388      0.017      2.227      0.026       0.005       0.073\n",
      "ma.L1.returns    -0.0129      0.013     -1.020      0.308      -0.038       0.012\n",
      "ma.L2.returns    -0.0243      0.012     -1.962      0.050      -0.049   -2.75e-05\n",
      "                                    Roots                                    \n",
      "=============================================================================\n",
      "                  Real          Imaginary           Modulus         Frequency\n",
      "-----------------------------------------------------------------------------\n",
      "MA.1            6.1499           +0.0000j            6.1499            0.0000\n",
      "MA.2           -6.6789           +0.0000j            6.6789            0.5000\n",
      "-----------------------------------------------------------------------------\n",
      "\n",
      "\n",
      "LLR Test p-value = 0.05\n"
     ]
    }
   ],
   "source": [
    "model_ret_ma_2 = ARMA(data_dax.returns[1:], order=(0,2))\n",
    "results_ret_ma_2 = model_ret_ma_2.fit()\n",
    "print(results_ret_ma_2.summary())\n",
    "print('\\n')\n",
    "print('LLR Test p-value = ' + str(LLR_test(model_ret_ma_1, model_ret_ma_2)))"
   ]
  },
  {
   "cell_type": "code",
   "execution_count": 61,
   "metadata": {},
   "outputs": [
    {
     "name": "stdout",
     "output_type": "stream",
     "text": [
      "                              ARMA Model Results                              \n",
      "==============================================================================\n",
      "Dep. Variable:                returns   No. Observations:                 6276\n",
      "Model:                     ARMA(0, 3)   Log Likelihood              -11165.293\n",
      "Method:                       css-mle   S.D. of innovations              1.433\n",
      "Date:                Wed, 17 Mar 2021   AIC                          22340.586\n",
      "Time:                        17:48:56   BIC                          22374.309\n",
      "Sample:                    01-10-1994   HQIC                         22352.271\n",
      "                         - 01-29-2018                                         \n",
      "=================================================================================\n",
      "                    coef    std err          z      P>|z|      [0.025      0.975]\n",
      "---------------------------------------------------------------------------------\n",
      "const             0.0388      0.017      2.299      0.022       0.006       0.072\n",
      "ma.L1.returns    -0.0111      0.013     -0.881      0.378      -0.036       0.014\n",
      "ma.L2.returns    -0.0264      0.012     -2.121      0.034      -0.051      -0.002\n",
      "ma.L3.returns    -0.0291      0.013     -2.274      0.023      -0.054      -0.004\n",
      "                                    Roots                                    \n",
      "=============================================================================\n",
      "                  Real          Imaginary           Modulus         Frequency\n",
      "-----------------------------------------------------------------------------\n",
      "MA.1            2.9410           -0.0000j            2.9410           -0.0000\n",
      "MA.2           -1.9240           -2.8282j            3.4206           -0.3451\n",
      "MA.3           -1.9240           +2.8282j            3.4206            0.3451\n",
      "-----------------------------------------------------------------------------\n",
      "\n",
      "\n",
      "LLR Test p-value = 0.02\n"
     ]
    }
   ],
   "source": [
    "model_ret_ma_3 = ARMA(data_dax.returns[1:], order=(0,3))\n",
    "results_ret_ma_3 = model_ret_ma_3.fit()\n",
    "print(results_ret_ma_3.summary())\n",
    "print('\\n')\n",
    "print('LLR Test p-value = ' + str(LLR_test(model_ret_ma_2, model_ret_ma_3)))"
   ]
  },
  {
   "cell_type": "code",
   "execution_count": 62,
   "metadata": {},
   "outputs": [
    {
     "name": "stdout",
     "output_type": "stream",
     "text": [
      "                              ARMA Model Results                              \n",
      "==============================================================================\n",
      "Dep. Variable:                returns   No. Observations:                 6276\n",
      "Model:                     ARMA(0, 4)   Log Likelihood              -11164.236\n",
      "Method:                       css-mle   S.D. of innovations              1.433\n",
      "Date:                Wed, 17 Mar 2021   AIC                          22340.472\n",
      "Time:                        17:51:34   BIC                          22380.938\n",
      "Sample:                    01-10-1994   HQIC                         22354.493\n",
      "                         - 01-29-2018                                         \n",
      "=================================================================================\n",
      "                    coef    std err          z      P>|z|      [0.025      0.975]\n",
      "---------------------------------------------------------------------------------\n",
      "const             0.0388      0.017      2.252      0.024       0.005       0.073\n",
      "ma.L1.returns    -0.0101      0.013     -0.802      0.422      -0.035       0.015\n",
      "ma.L2.returns    -0.0265      0.013     -2.094      0.036      -0.051      -0.002\n",
      "ma.L3.returns    -0.0288      0.013     -2.256      0.024      -0.054      -0.004\n",
      "ma.L4.returns     0.0182      0.013      1.455      0.146      -0.006       0.043\n",
      "                                    Roots                                    \n",
      "=============================================================================\n",
      "                  Real          Imaginary           Modulus         Frequency\n",
      "-----------------------------------------------------------------------------\n",
      "MA.1           -1.6755           -1.8324j            2.4829           -0.3679\n",
      "MA.2           -1.6755           +1.8324j            2.4829            0.3679\n",
      "MA.3            2.4664           -1.6809j            2.9848           -0.0952\n",
      "MA.4            2.4664           +1.6809j            2.9848            0.0952\n",
      "-----------------------------------------------------------------------------\n",
      "\n",
      "\n",
      "LLR Test p-value = 0.15\n"
     ]
    }
   ],
   "source": [
    "model_ret_ma_4 = ARMA(data_dax.returns[1:], order=(0,4))\n",
    "results_ret_ma_4 = model_ret_ma_4.fit()\n",
    "print(results_ret_ma_4.summary())\n",
    "print('\\n')\n",
    "print('LLR Test p-value = ' + str(LLR_test(model_ret_ma_3, model_ret_ma_4)))"
   ]
  },
  {
   "cell_type": "code",
   "execution_count": 63,
   "metadata": {},
   "outputs": [
    {
     "name": "stdout",
     "output_type": "stream",
     "text": [
      "                              ARMA Model Results                              \n",
      "==============================================================================\n",
      "Dep. Variable:                returns   No. Observations:                 6276\n",
      "Model:                     ARMA(0, 5)   Log Likelihood              -11158.634\n",
      "Method:                       css-mle   S.D. of innovations              1.432\n",
      "Date:                Wed, 17 Mar 2021   AIC                          22331.269\n",
      "Time:                        17:53:47   BIC                          22378.480\n",
      "Sample:                    01-10-1994   HQIC                         22347.627\n",
      "                         - 01-29-2018                                         \n",
      "=================================================================================\n",
      "                    coef    std err          z      P>|z|      [0.025      0.975]\n",
      "---------------------------------------------------------------------------------\n",
      "const             0.0388      0.016      2.357      0.018       0.007       0.071\n",
      "ma.L1.returns    -0.0116      0.013     -0.917      0.359      -0.036       0.013\n",
      "ma.L2.returns    -0.0264      0.013     -2.098      0.036      -0.051      -0.002\n",
      "ma.L3.returns    -0.0268      0.013     -2.105      0.035      -0.052      -0.002\n",
      "ma.L4.returns     0.0187      0.012      1.501      0.133      -0.006       0.043\n",
      "ma.L5.returns    -0.0424      0.013     -3.352      0.001      -0.067      -0.018\n",
      "                                    Roots                                    \n",
      "=============================================================================\n",
      "                  Real          Imaginary           Modulus         Frequency\n",
      "-----------------------------------------------------------------------------\n",
      "MA.1           -1.4037           -1.1092j            1.7890           -0.3936\n",
      "MA.2           -1.4037           +1.1092j            1.7890            0.3936\n",
      "MA.3            1.8584           -0.0000j            1.8584           -0.0000\n",
      "MA.4            0.6958           -1.8667j            1.9922           -0.1932\n",
      "MA.5            0.6958           +1.8667j            1.9922            0.1932\n",
      "-----------------------------------------------------------------------------\n",
      "\n",
      "\n",
      "LLR Test p-value = 0.0\n"
     ]
    }
   ],
   "source": [
    "model_ret_ma_5 = ARMA(data_dax.returns[1:], order=(0,5))\n",
    "results_ret_ma_5 = model_ret_ma_5.fit()\n",
    "print(results_ret_ma_5.summary())\n",
    "print('\\n')\n",
    "print('LLR Test p-value = ' + str(LLR_test(model_ret_ma_4, model_ret_ma_5)))"
   ]
  },
  {
   "cell_type": "code",
   "execution_count": 64,
   "metadata": {},
   "outputs": [
    {
     "name": "stdout",
     "output_type": "stream",
     "text": [
      "                              ARMA Model Results                              \n",
      "==============================================================================\n",
      "Dep. Variable:                returns   No. Observations:                 6276\n",
      "Model:                     ARMA(0, 6)   Log Likelihood              -11158.453\n",
      "Method:                       css-mle   S.D. of innovations              1.432\n",
      "Date:                Wed, 17 Mar 2021   AIC                          22332.906\n",
      "Time:                        17:55:46   BIC                          22386.862\n",
      "Sample:                    01-10-1994   HQIC                         22351.601\n",
      "                         - 01-29-2018                                         \n",
      "=================================================================================\n",
      "                    coef    std err          z      P>|z|      [0.025      0.975]\n",
      "---------------------------------------------------------------------------------\n",
      "const             0.0388      0.016      2.375      0.018       0.007       0.071\n",
      "ma.L1.returns    -0.0115      0.013     -0.909      0.363      -0.036       0.013\n",
      "ma.L2.returns    -0.0264      0.013     -2.096      0.036      -0.051      -0.002\n",
      "ma.L3.returns    -0.0265      0.013     -2.102      0.036      -0.051      -0.002\n",
      "ma.L4.returns     0.0189      0.012      1.516      0.130      -0.006       0.043\n",
      "ma.L5.returns    -0.0420      0.013     -3.326      0.001      -0.067      -0.017\n",
      "ma.L6.returns    -0.0077      0.013     -0.602      0.547      -0.033       0.017\n",
      "                                    Roots                                    \n",
      "=============================================================================\n",
      "                  Real          Imaginary           Modulus         Frequency\n",
      "-----------------------------------------------------------------------------\n",
      "MA.1            1.7590           -0.0000j            1.7590           -0.0000\n",
      "MA.2            0.7650           -1.7420j            1.9025           -0.1841\n",
      "MA.3            0.7650           +1.7420j            1.9025            0.1841\n",
      "MA.4           -1.3894           -1.2196j            1.8488           -0.3853\n",
      "MA.5           -1.3894           +1.2196j            1.8488            0.3853\n",
      "MA.6           -5.9985           -0.0000j            5.9985           -0.5000\n",
      "-----------------------------------------------------------------------------\n",
      "\n",
      "\n",
      "LLR Test p-value = 0.55\n"
     ]
    }
   ],
   "source": [
    "model_ret_ma_6 = ARMA(data_dax.returns[1:], order=(0,6))\n",
    "results_ret_ma_6 = model_ret_ma_6.fit()\n",
    "print(results_ret_ma_6.summary())\n",
    "print('\\n')\n",
    "print('LLR Test p-value = ' + str(LLR_test(model_ret_ma_5, model_ret_ma_6)))"
   ]
  },
  {
   "cell_type": "markdown",
   "metadata": {},
   "source": [
    "### Residuals of Market Values and Returns"
   ]
  },
  {
   "cell_type": "code",
   "execution_count": 66,
   "metadata": {},
   "outputs": [],
   "source": [
    "data_dax['res_ret_ma_8'] = results_ret_ma_5.resid[:1]"
   ]
  },
  {
   "cell_type": "code",
   "execution_count": 67,
   "metadata": {},
   "outputs": [
    {
     "data": {
      "image/png": "[encoded data removed]",
      "text/plain": [
       "<Figure size 1800x360 with 1 Axes>"
      ]
     },
     "metadata": {},
     "output_type": "display_data"
    }
   ],
   "source": [
    "data_dax.res_ret_ma_8.plot(figsize=(25,5))\n",
    "plt.title('Residuals for Returns')\n",
    "plt.show()"
   ]
  },
  {
   "cell_type": "code",
   "execution_count": 68,
   "metadata": {},
   "outputs": [],
   "source": [
    "data_dax['res_ret_ma_5'] = results_ma_5.resid[:1]"
   ]
  },
  {
   "cell_type": "code",
   "execution_count": 69,
   "metadata": {},
   "outputs": [
    {
     "data": {
      "image/png": "[encoded data removed]",
      "text/plain": [
       "<Figure size 1800x360 with 1 Axes>"
      ]
     },
     "metadata": {},
     "output_type": "display_data"
    }
   ],
   "source": [
    "data_dax.res_ret_ma_5.plot(figsize=(25,5))\n",
    "plt.title('Residuals for Market Value')\n",
    "plt.show()"
   ]
  },
  {
   "cell_type": "markdown",
   "metadata": {},
   "source": [
    "### Normalized Returns and Price"
   ]
  },
  {
   "cell_type": "code",
   "execution_count": null,
   "metadata": {},
   "outputs": [],
   "source": []
  }
 ],
 "metadata": {
  "kernelspec": {
   "display_name": "Python 3",
   "language": "python",
   "name": "python3"
  },
  "language_info": {
   "codemirror_mode": {
    "name": "ipython",
    "version": 3
   },
   "file_extension": ".py",
   "mimetype": "text/x-python",
   "name": "python",
   "nbconvert_exporter": "python",
   "pygments_lexer": "ipython3",
   "version": "3.8.5"
  }
 },
 "nbformat": 4,
 "nbformat_minor": 4
}
