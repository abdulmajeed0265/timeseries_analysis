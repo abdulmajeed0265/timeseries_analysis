{
 "cells": [
  {
   "cell_type": "code",
   "execution_count": 1,
   "metadata": {},
   "outputs": [],
   "source": [
    "#Importing relevant libraries\n",
    "import pandas as pd\n",
    "import numpy as np\n",
    "import matplotlib.pyplot as plt\n",
    "import statsmodels.tsa.stattools as sts\n",
    "from statsmodels.tsa.arima_model import ARMA\n",
    "from scipy.stats.distributions import chi2\n",
    "import statsmodels.graphics.tsaplots as sgt\n",
    "from math import sqrt\n",
    "import seaborn as sns\n",
    "sns.set()"
   ]
  },
  {
   "cell_type": "code",
   "execution_count": 2,
   "metadata": {},
   "outputs": [],
   "source": [
    "raw_data = pd.read_csv('GOOG1.csv')"
   ]
  },
  {
   "cell_type": "code",
   "execution_count": 3,
   "metadata": {},
   "outputs": [
    {
     "data": {
      "text/plain": [
       "Date         0\n",
       "Open         0\n",
       "High         0\n",
       "Low          0\n",
       "Close        0\n",
       "Adj Close    0\n",
       "Volume       0\n",
       "dtype: int64"
      ]
     },
     "execution_count": 3,
     "metadata": {},
     "output_type": "execute_result"
    }
   ],
   "source": [
    "raw_data.isnull().sum()"
   ]
  },
  {
   "cell_type": "code",
   "execution_count": 4,
   "metadata": {},
   "outputs": [
    {
     "data": {
      "text/plain": [
       "Date         2698\n",
       "Open         2698\n",
       "High         2698\n",
       "Low          2698\n",
       "Close        2698\n",
       "Adj Close    2698\n",
       "Volume       2698\n",
       "dtype: int64"
      ]
     },
     "execution_count": 4,
     "metadata": {},
     "output_type": "execute_result"
    }
   ],
   "source": [
    "raw_data.count()"
   ]
  },
  {
   "cell_type": "code",
   "execution_count": 5,
   "metadata": {},
   "outputs": [],
   "source": [
    "data = raw_data.copy()"
   ]
  },
  {
   "cell_type": "code",
   "execution_count": 6,
   "metadata": {},
   "outputs": [
    {
     "data": {
      "text/html": [
       "<div>\n",
       "<style scoped>\n",
       "    .dataframe tbody tr th:only-of-type {\n",
       "        vertical-align: middle;\n",
       "    }\n",
       "\n",
       "    .dataframe tbody tr th {\n",
       "        vertical-align: top;\n",
       "    }\n",
       "\n",
       "    .dataframe thead th {\n",
       "        text-align: right;\n",
       "    }\n",
       "</style>\n",
       "<table border=\"1\" class=\"dataframe\">\n",
       "  <thead>\n",
       "    <tr style=\"text-align: right;\">\n",
       "      <th></th>\n",
       "      <th>Date</th>\n",
       "      <th>Open</th>\n",
       "      <th>High</th>\n",
       "      <th>Low</th>\n",
       "      <th>Close</th>\n",
       "      <th>Adj Close</th>\n",
       "      <th>Volume</th>\n",
       "    </tr>\n",
       "  </thead>\n",
       "  <tbody>\n",
       "    <tr>\n",
       "      <th>count</th>\n",
       "      <td>2698</td>\n",
       "      <td>2698.000000</td>\n",
       "      <td>2698.000000</td>\n",
       "      <td>2698.000000</td>\n",
       "      <td>2698.000000</td>\n",
       "      <td>2698.000000</td>\n",
       "      <td>2.698000e+03</td>\n",
       "    </tr>\n",
       "    <tr>\n",
       "      <th>unique</th>\n",
       "      <td>2698</td>\n",
       "      <td>NaN</td>\n",
       "      <td>NaN</td>\n",
       "      <td>NaN</td>\n",
       "      <td>NaN</td>\n",
       "      <td>NaN</td>\n",
       "      <td>NaN</td>\n",
       "    </tr>\n",
       "    <tr>\n",
       "      <th>top</th>\n",
       "      <td>2017-09-25</td>\n",
       "      <td>NaN</td>\n",
       "      <td>NaN</td>\n",
       "      <td>NaN</td>\n",
       "      <td>NaN</td>\n",
       "      <td>NaN</td>\n",
       "      <td>NaN</td>\n",
       "    </tr>\n",
       "    <tr>\n",
       "      <th>freq</th>\n",
       "      <td>1</td>\n",
       "      <td>NaN</td>\n",
       "      <td>NaN</td>\n",
       "      <td>NaN</td>\n",
       "      <td>NaN</td>\n",
       "      <td>NaN</td>\n",
       "      <td>NaN</td>\n",
       "    </tr>\n",
       "    <tr>\n",
       "      <th>mean</th>\n",
       "      <td>NaN</td>\n",
       "      <td>753.438977</td>\n",
       "      <td>760.538327</td>\n",
       "      <td>746.482524</td>\n",
       "      <td>753.766168</td>\n",
       "      <td>753.766168</td>\n",
       "      <td>2.984240e+06</td>\n",
       "    </tr>\n",
       "    <tr>\n",
       "      <th>std</th>\n",
       "      <td>NaN</td>\n",
       "      <td>413.703739</td>\n",
       "      <td>418.784358</td>\n",
       "      <td>409.607559</td>\n",
       "      <td>414.434458</td>\n",
       "      <td>414.434458</td>\n",
       "      <td>2.464619e+06</td>\n",
       "    </tr>\n",
       "    <tr>\n",
       "      <th>min</th>\n",
       "      <td>NaN</td>\n",
       "      <td>218.336624</td>\n",
       "      <td>220.314209</td>\n",
       "      <td>216.005356</td>\n",
       "      <td>217.220810</td>\n",
       "      <td>217.220810</td>\n",
       "      <td>7.922000e+03</td>\n",
       "    </tr>\n",
       "    <tr>\n",
       "      <th>25%</th>\n",
       "      <td>NaN</td>\n",
       "      <td>384.512497</td>\n",
       "      <td>388.749130</td>\n",
       "      <td>381.415359</td>\n",
       "      <td>386.071670</td>\n",
       "      <td>386.071670</td>\n",
       "      <td>1.393150e+06</td>\n",
       "    </tr>\n",
       "    <tr>\n",
       "      <th>50%</th>\n",
       "      <td>NaN</td>\n",
       "      <td>661.035004</td>\n",
       "      <td>665.910004</td>\n",
       "      <td>653.825012</td>\n",
       "      <td>661.320007</td>\n",
       "      <td>661.320007</td>\n",
       "      <td>2.051460e+06</td>\n",
       "    </tr>\n",
       "    <tr>\n",
       "      <th>75%</th>\n",
       "      <td>NaN</td>\n",
       "      <td>1079.369965</td>\n",
       "      <td>1092.247467</td>\n",
       "      <td>1066.809967</td>\n",
       "      <td>1079.662445</td>\n",
       "      <td>1079.662445</td>\n",
       "      <td>4.030049e+06</td>\n",
       "    </tr>\n",
       "    <tr>\n",
       "      <th>max</th>\n",
       "      <td>NaN</td>\n",
       "      <td>2119.270020</td>\n",
       "      <td>2152.679932</td>\n",
       "      <td>2104.360107</td>\n",
       "      <td>2128.310059</td>\n",
       "      <td>2128.310059</td>\n",
       "      <td>2.976073e+07</td>\n",
       "    </tr>\n",
       "  </tbody>\n",
       "</table>\n",
       "</div>"
      ],
      "text/plain": [
       "              Date         Open         High          Low        Close  \\\n",
       "count         2698  2698.000000  2698.000000  2698.000000  2698.000000   \n",
       "unique        2698          NaN          NaN          NaN          NaN   \n",
       "top     2017-09-25          NaN          NaN          NaN          NaN   \n",
       "freq             1          NaN          NaN          NaN          NaN   \n",
       "mean           NaN   753.438977   760.538327   746.482524   753.766168   \n",
       "std            NaN   413.703739   418.784358   409.607559   414.434458   \n",
       "min            NaN   218.336624   220.314209   216.005356   217.220810   \n",
       "25%            NaN   384.512497   388.749130   381.415359   386.071670   \n",
       "50%            NaN   661.035004   665.910004   653.825012   661.320007   \n",
       "75%            NaN  1079.369965  1092.247467  1066.809967  1079.662445   \n",
       "max            NaN  2119.270020  2152.679932  2104.360107  2128.310059   \n",
       "\n",
       "          Adj Close        Volume  \n",
       "count   2698.000000  2.698000e+03  \n",
       "unique          NaN           NaN  \n",
       "top             NaN           NaN  \n",
       "freq            NaN           NaN  \n",
       "mean     753.766168  2.984240e+06  \n",
       "std      414.434458  2.464619e+06  \n",
       "min      217.220810  7.922000e+03  \n",
       "25%      386.071670  1.393150e+06  \n",
       "50%      661.320007  2.051460e+06  \n",
       "75%     1079.662445  4.030049e+06  \n",
       "max     2128.310059  2.976073e+07  "
      ]
     },
     "execution_count": 6,
     "metadata": {},
     "output_type": "execute_result"
    }
   ],
   "source": [
    "raw_data.describe(include='all')"
   ]
  },
  {
   "cell_type": "code",
   "execution_count": 7,
   "metadata": {},
   "outputs": [
    {
     "data": {
      "text/html": [
       "<div>\n",
       "<style scoped>\n",
       "    .dataframe tbody tr th:only-of-type {\n",
       "        vertical-align: middle;\n",
       "    }\n",
       "\n",
       "    .dataframe tbody tr th {\n",
       "        vertical-align: top;\n",
       "    }\n",
       "\n",
       "    .dataframe thead th {\n",
       "        text-align: right;\n",
       "    }\n",
       "</style>\n",
       "<table border=\"1\" class=\"dataframe\">\n",
       "  <thead>\n",
       "    <tr style=\"text-align: right;\">\n",
       "      <th></th>\n",
       "      <th>Date</th>\n",
       "      <th>Close</th>\n",
       "    </tr>\n",
       "  </thead>\n",
       "  <tbody>\n",
       "    <tr>\n",
       "      <th>0</th>\n",
       "      <td>2010-06-07</td>\n",
       "      <td>241.853470</td>\n",
       "    </tr>\n",
       "    <tr>\n",
       "      <th>1</th>\n",
       "      <td>2010-06-08</td>\n",
       "      <td>241.484848</td>\n",
       "    </tr>\n",
       "    <tr>\n",
       "      <th>2</th>\n",
       "      <td>2010-06-09</td>\n",
       "      <td>236.124939</td>\n",
       "    </tr>\n",
       "    <tr>\n",
       "      <th>3</th>\n",
       "      <td>2010-06-10</td>\n",
       "      <td>242.595688</td>\n",
       "    </tr>\n",
       "    <tr>\n",
       "      <th>4</th>\n",
       "      <td>2010-06-11</td>\n",
       "      <td>243.337906</td>\n",
       "    </tr>\n",
       "  </tbody>\n",
       "</table>\n",
       "</div>"
      ],
      "text/plain": [
       "         Date       Close\n",
       "0  2010-06-07  241.853470\n",
       "1  2010-06-08  241.484848\n",
       "2  2010-06-09  236.124939\n",
       "3  2010-06-10  242.595688\n",
       "4  2010-06-11  243.337906"
      ]
     },
     "execution_count": 7,
     "metadata": {},
     "output_type": "execute_result"
    }
   ],
   "source": [
    "del data['Open']\n",
    "del data['High']\n",
    "del data['Low']\n",
    "del data['Adj Close']\n",
    "del data['Volume']\n",
    "data.head()"
   ]
  },
  {
   "cell_type": "code",
   "execution_count": 8,
   "metadata": {},
   "outputs": [],
   "source": [
    "data.set_index('Date', inplace=True)"
   ]
  },
  {
   "cell_type": "code",
   "execution_count": 9,
   "metadata": {},
   "outputs": [
    {
     "data": {
      "text/html": [
       "<div>\n",
       "<style scoped>\n",
       "    .dataframe tbody tr th:only-of-type {\n",
       "        vertical-align: middle;\n",
       "    }\n",
       "\n",
       "    .dataframe tbody tr th {\n",
       "        vertical-align: top;\n",
       "    }\n",
       "\n",
       "    .dataframe thead th {\n",
       "        text-align: right;\n",
       "    }\n",
       "</style>\n",
       "<table border=\"1\" class=\"dataframe\">\n",
       "  <thead>\n",
       "    <tr style=\"text-align: right;\">\n",
       "      <th></th>\n",
       "      <th>Close</th>\n",
       "    </tr>\n",
       "    <tr>\n",
       "      <th>Date</th>\n",
       "      <th></th>\n",
       "    </tr>\n",
       "  </thead>\n",
       "  <tbody>\n",
       "    <tr>\n",
       "      <th>2010-06-07</th>\n",
       "      <td>241.853470</td>\n",
       "    </tr>\n",
       "    <tr>\n",
       "      <th>2010-06-08</th>\n",
       "      <td>241.484848</td>\n",
       "    </tr>\n",
       "    <tr>\n",
       "      <th>2010-06-09</th>\n",
       "      <td>236.124939</td>\n",
       "    </tr>\n",
       "    <tr>\n",
       "      <th>2010-06-10</th>\n",
       "      <td>242.595688</td>\n",
       "    </tr>\n",
       "    <tr>\n",
       "      <th>2010-06-11</th>\n",
       "      <td>243.337906</td>\n",
       "    </tr>\n",
       "  </tbody>\n",
       "</table>\n",
       "</div>"
      ],
      "text/plain": [
       "                 Close\n",
       "Date                  \n",
       "2010-06-07  241.853470\n",
       "2010-06-08  241.484848\n",
       "2010-06-09  236.124939\n",
       "2010-06-10  242.595688\n",
       "2010-06-11  243.337906"
      ]
     },
     "execution_count": 9,
     "metadata": {},
     "output_type": "execute_result"
    }
   ],
   "source": [
    "data.head()"
   ]
  },
  {
   "cell_type": "code",
   "execution_count": 10,
   "metadata": {},
   "outputs": [
    {
     "data": {
      "image/png": "[encoded data removed]",
      "text/plain": [
       "<Figure size 1800x360 with 1 Axes>"
      ]
     },
     "metadata": {},
     "output_type": "display_data"
    }
   ],
   "source": [
    "data.Close.plot(figsize=(25,5))\n",
    "plt.title('Daily Closing Price')\n",
    "plt.show()"
   ]
  },
  {
   "cell_type": "code",
   "execution_count": 11,
   "metadata": {},
   "outputs": [
    {
     "data": {
      "image/png": "[encoded data removed]",
      "text/plain": [
       "<Figure size 432x288 with 1 Axes>"
      ]
     },
     "metadata": {},
     "output_type": "display_data"
    }
   ],
   "source": [
    "import scipy.stats\n",
    "import pylab\n",
    "scipy.stats.probplot(data['Close'], plot=pylab)\n",
    "pylab.show()"
   ]
  },
  {
   "cell_type": "code",
   "execution_count": 12,
   "metadata": {},
   "outputs": [
    {
     "data": {
      "text/plain": [
       "Close    0\n",
       "dtype: int64"
      ]
     },
     "execution_count": 12,
     "metadata": {},
     "output_type": "execute_result"
    }
   ],
   "source": [
    "data.isnull().sum()"
   ]
  },
  {
   "cell_type": "code",
   "execution_count": 13,
   "metadata": {},
   "outputs": [],
   "source": [
    "#Splitting Data into train and test\n",
    "size = int(len(data)*0.8)\n",
    "df, df_test = data[:size], data[size:]"
   ]
  },
  {
   "cell_type": "code",
   "execution_count": 14,
   "metadata": {},
   "outputs": [
    {
     "data": {
      "text/plain": [
       "Close    2158\n",
       "dtype: int64"
      ]
     },
     "execution_count": 14,
     "metadata": {},
     "output_type": "execute_result"
    }
   ],
   "source": [
    "df.count()"
   ]
  },
  {
   "cell_type": "code",
   "execution_count": 15,
   "metadata": {},
   "outputs": [
    {
     "data": {
      "text/plain": [
       "Close    540\n",
       "dtype: int64"
      ]
     },
     "execution_count": 15,
     "metadata": {},
     "output_type": "execute_result"
    }
   ],
   "source": [
    "df_test.count()"
   ]
  },
  {
   "cell_type": "code",
   "execution_count": 16,
   "metadata": {},
   "outputs": [
    {
     "data": {
      "text/plain": [
       "(1.9480750584933648,\n",
       " 0.9986015587537376,\n",
       " 26,\n",
       " 2671,\n",
       " {'1%': -3.4328006161256743,\n",
       "  '5%': -2.862622699657979,\n",
       "  '10%': -2.567346357793352},\n",
       " 21939.93331238452)"
      ]
     },
     "execution_count": 16,
     "metadata": {},
     "output_type": "execute_result"
    }
   ],
   "source": [
    "sts.adfuller(data.Close)"
   ]
  },
  {
   "cell_type": "code",
   "execution_count": 17,
   "metadata": {},
   "outputs": [
    {
     "data": {
      "text/plain": [
       "(-0.33375920048535584,\n",
       " 0.9205850630814509,\n",
       " 24,\n",
       " 2133,\n",
       " {'1%': -3.433419473570619,\n",
       "  '5%': -2.862895974588963,\n",
       "  '10%': -2.5674918550982277},\n",
       " 15743.138481920383)"
      ]
     },
     "execution_count": 17,
     "metadata": {},
     "output_type": "execute_result"
    }
   ],
   "source": [
    "sts.adfuller(df.Close)"
   ]
  },
  {
   "cell_type": "code",
   "execution_count": 18,
   "metadata": {},
   "outputs": [],
   "source": [
    "#Filtering Warnings\n",
    "import warnings\n",
    "warnings.filterwarnings('ignore')"
   ]
  },
  {
   "cell_type": "code",
   "execution_count": 19,
   "metadata": {},
   "outputs": [
    {
     "data": {
      "image/png": "[encoded data removed]",
      "text/plain": [
       "<Figure size 432x288 with 1 Axes>"
      ]
     },
     "metadata": {},
     "output_type": "display_data"
    }
   ],
   "source": [
    "sgt.plot_acf(df.Close, zero=False, lags=40)\n",
    "plt.title('ACF for Price', Size=24)\n",
    "plt.show()"
   ]
  },
  {
   "cell_type": "code",
   "execution_count": 20,
   "metadata": {},
   "outputs": [
    {
     "data": {
      "image/png": "[encoded data removed]",
      "text/plain": [
       "<Figure size 432x288 with 1 Axes>"
      ]
     },
     "metadata": {},
     "output_type": "display_data"
    }
   ],
   "source": [
    "sgt.plot_pacf(data.Close, zero=False, lags=40)\n",
    "plt.title('PACF for Price', Size=24)\n",
    "plt.show()"
   ]
  },
  {
   "cell_type": "code",
   "execution_count": 21,
   "metadata": {},
   "outputs": [
    {
     "name": "stdout",
     "output_type": "stream",
     "text": [
      "                              ARMA Model Results                              \n",
      "==============================================================================\n",
      "Dep. Variable:                  Close   No. Observations:                 2158\n",
      "Model:                     ARMA(1, 1)   Log Likelihood               -7980.223\n",
      "Method:                       css-mle   S.D. of innovations              9.751\n",
      "Date:                Tue, 03 Jan 2023   AIC                          15968.447\n",
      "Time:                        18:11:34   BIC                          15991.154\n",
      "Sample:                             0   HQIC                         15976.753\n",
      "                                                                              \n",
      "===============================================================================\n",
      "                  coef    std err          z      P>|z|      [0.025      0.975]\n",
      "-------------------------------------------------------------------------------\n",
      "const         629.0255    289.654      2.172      0.030      61.315    1196.736\n",
      "ar.L1.Close     0.9996      0.000   2148.755      0.000       0.999       1.000\n",
      "ma.L1.Close     0.0268      0.023      1.190      0.234      -0.017       0.071\n",
      "                                    Roots                                    \n",
      "=============================================================================\n",
      "                  Real          Imaginary           Modulus         Frequency\n",
      "-----------------------------------------------------------------------------\n",
      "AR.1            1.0004           +0.0000j            1.0004            0.0000\n",
      "MA.1          -37.3296           +0.0000j           37.3296            0.5000\n",
      "-----------------------------------------------------------------------------\n"
     ]
    }
   ],
   "source": [
    "#Model\n",
    "#ARMA(1,1)\n",
    "model_ar_1_ma_1 = ARMA(df.Close, order=(1,1))\n",
    "results_ar_1_ma_1 = model_ar_1_ma_1.fit()\n",
    "print(results_ar_1_ma_1.summary())"
   ]
  },
  {
   "cell_type": "code",
   "execution_count": 22,
   "metadata": {},
   "outputs": [],
   "source": [
    "df['results_ar_1_ma_1'] = results_ar_1_ma_1.resid"
   ]
  },
  {
   "cell_type": "code",
   "execution_count": 23,
   "metadata": {},
   "outputs": [
    {
     "data": {
      "text/plain": [
       "(-10.3111353691941,\n",
       " 3.1832296975581974e-18,\n",
       " 23,\n",
       " 2134,\n",
       " {'1%': -3.433418033468612,\n",
       "  '5%': -2.862895338734693,\n",
       "  '10%': -2.567491516545175},\n",
       " 15741.116124595212)"
      ]
     },
     "execution_count": 23,
     "metadata": {},
     "output_type": "execute_result"
    }
   ],
   "source": [
    "sts.adfuller(df.results_ar_1_ma_1)"
   ]
  },
  {
   "cell_type": "code",
   "execution_count": 24,
   "metadata": {},
   "outputs": [
    {
     "data": {
      "image/png": "[encoded data removed]",
      "text/plain": [
       "<Figure size 432x288 with 1 Axes>"
      ]
     },
     "metadata": {},
     "output_type": "display_data"
    }
   ],
   "source": [
    "sgt.plot_pacf(df.results_ar_1_ma_1, zero=False, lags=40)\n",
    "plt.title('PACF for Price Residuals', Size=24)\n",
    "plt.show()"
   ]
  },
  {
   "cell_type": "code",
   "execution_count": 25,
   "metadata": {},
   "outputs": [
    {
     "data": {
      "image/png": "[encoded data removed]",
      "text/plain": [
       "<Figure size 432x288 with 1 Axes>"
      ]
     },
     "metadata": {},
     "output_type": "display_data"
    }
   ],
   "source": [
    "sgt.plot_acf(df.results_ar_1_ma_1, zero=False, lags=40)\n",
    "plt.title('PACF for Price Residuals', Size=24)\n",
    "plt.show()"
   ]
  },
  {
   "cell_type": "code",
   "execution_count": 26,
   "metadata": {},
   "outputs": [],
   "source": [
    "#Model\n",
    "#ARMA(8,8)\n",
    "model_ar_8_ma_8 = ARMA(df.Close, order=(8,8))\n",
    "results_ar_8_ma_8 = model_ar_8_ma_8.fit()\n",
    "print(results_ar_8_ma_8.summary())"
   ]
  },
  {
   "cell_type": "code",
   "execution_count": null,
   "metadata": {},
   "outputs": [],
   "source": [
    "#Model\n",
    "#ARMA(8,7)\n",
    "model_ar_8_ma_7 = ARMA(df.Close, order=(8,7))\n",
    "results_ar_8_ma_7 = model_ar_8_ma_7.fit()\n",
    "print(results_ar_8_ma_7.summary())"
   ]
  },
  {
   "cell_type": "code",
   "execution_count": null,
   "metadata": {},
   "outputs": [],
   "source": [
    "#Model\n",
    "#ARMA(8,6)\n",
    "model_ar_8_ma_6 = ARMA(df.Close, order=(8,6))\n",
    "results_ar_8_ma_6 = model_ar_8_ma_6.fit()\n",
    "print(results_ar_8_ma_6.summary())"
   ]
  },
  {
   "cell_type": "code",
   "execution_count": null,
   "metadata": {},
   "outputs": [],
   "source": [
    "#Chosen Models\n",
    "#Chosing the best Algorithm using LLR and AIC\n",
    "#ARMA(3,4)\n",
    "print('\\tARMA(8,8): \\tLLR = ', results_ar_8_ma_8.llf, '\\tAIC = ', results_ar_8_ma_8.aic)\n",
    "print('\\tARMA(8,7): \\tLLR = ', results_ar_8_ma_7.llf, '\\tAIC = ', results_ar_8_ma_7.aic)"
   ]
  },
  {
   "cell_type": "markdown",
   "metadata": {},
   "source": [
    "### Using Return"
   ]
  },
  {
   "cell_type": "code",
   "execution_count": null,
   "metadata": {},
   "outputs": [],
   "source": [
    "df['returns'] = df.Close.pct_change(1) * 100"
   ]
  },
  {
   "cell_type": "code",
   "execution_count": null,
   "metadata": {},
   "outputs": [],
   "source": [
    "df"
   ]
  },
  {
   "cell_type": "code",
   "execution_count": null,
   "metadata": {},
   "outputs": [],
   "source": [
    "df.returns[1:].plot(figsize=(20,5))\n",
    "plt.title('Returns')\n",
    "plt.show()"
   ]
  },
  {
   "cell_type": "code",
   "execution_count": null,
   "metadata": {},
   "outputs": [],
   "source": [
    "sts.adfuller(df.returns[1:])"
   ]
  },
  {
   "cell_type": "code",
   "execution_count": null,
   "metadata": {},
   "outputs": [],
   "source": [
    "sgt.plot_acf(df.returns[1:], zero=False, lags=40)\n",
    "plt.title('ACF For Returns', size=20)\n",
    "plt.show()"
   ]
  },
  {
   "cell_type": "code",
   "execution_count": null,
   "metadata": {},
   "outputs": [],
   "source": [
    "sgt.plot_pacf(df.returns[1:], zero=False, lags=40)\n",
    "plt.title('PACF For Returns', size=20)\n",
    "plt.show()"
   ]
  },
  {
   "cell_type": "code",
   "execution_count": null,
   "metadata": {},
   "outputs": [],
   "source": [
    "#Model\n",
    "#ARMA(1,1)\n",
    "model_ret_ar_1_ma_1 = ARMA(df.Close, order=(1,1))\n",
    "results_ret_ar_1_ma_1 = model_ret_ar_1_ma_1.fit()\n",
    "print(results_ret_ar_1_ma_1.summary())"
   ]
  },
  {
   "cell_type": "code",
   "execution_count": null,
   "metadata": {},
   "outputs": [],
   "source": [
    "df['results_ret_ar_1_ma_1'] = results_ret_ar_1_ma_1.resid"
   ]
  },
  {
   "cell_type": "code",
   "execution_count": null,
   "metadata": {},
   "outputs": [],
   "source": [
    "df.results_ret_ar_1_ma_1[1:].plot(figsize=(20,5))\n",
    "plt.title('Residual For Return2 ARMA(1,1)', size=18)\n",
    "plt.show()"
   ]
  },
  {
   "cell_type": "code",
   "execution_count": null,
   "metadata": {},
   "outputs": [],
   "source": [
    "sts.adfuller(df.results_ret_ar_1_ma_1[1:])"
   ]
  },
  {
   "cell_type": "code",
   "execution_count": null,
   "metadata": {},
   "outputs": [],
   "source": [
    "sgt.plot_acf(df.results_ret_ar_1_ma_1[1:], zero=False, lags=40)\n",
    "plt.title('ACF for df.results_ret_ar_1_ma_1', size=18)\n",
    "plt.show()"
   ]
  },
  {
   "cell_type": "code",
   "execution_count": null,
   "metadata": {},
   "outputs": [],
   "source": [
    "#(5,5)\n",
    "#Model\n",
    "#ARMA(5,5)\n",
    "model_ret_ar_5_ma_5 = ARMA(df.Close, order=(5,5))\n",
    "results_ret_ar_5_ma_5 = model_ret_ar_5_ma_5.fit()\n",
    "print(results_ret_ar_5_ma_5.summary())"
   ]
  },
  {
   "cell_type": "code",
   "execution_count": null,
   "metadata": {},
   "outputs": [],
   "source": [
    "#(5,5)\n",
    "#Model\n",
    "#ARMA(5,4)\n",
    "model_ret_ar_5_ma_4 = ARMA(df.Close, order=(5,4))\n",
    "results_ret_ar_5_ma_4 = model_ret_ar_5_ma_4.fit()\n",
    "print(results_ret_ar_5_ma_4.summary())"
   ]
  },
  {
   "cell_type": "code",
   "execution_count": null,
   "metadata": {},
   "outputs": [],
   "source": [
    "#Chosing the best Algorithm using LLR and AIC\n",
    "#ARMA(3,4)\n",
    "print('\\tARMA(5,5): \\tLLR = ', results_ret_ar_5_ma_5.llf, '\\tAIC = ', results_ret_ar_5_ma_5.aic)\n",
    "print('\\tARMA(5,4): \\tLLR = ', results_ret_ar_5_ma_4.llf, '\\tAIC = ', results_ret_ar_5_ma_4.aic)"
   ]
  },
  {
   "cell_type": "code",
   "execution_count": null,
   "metadata": {},
   "outputs": [],
   "source": [
    "#(5,5)\n",
    "#Model\n",
    "#ARMA(4,4)\n",
    "model_ret_ar_4_ma_4 = ARMA(df.Close, order=(4,4))\n",
    "results_ret_ar_4_ma_4 = model_ret_ar_4_ma_4.fit()\n",
    "print(results_ret_ar_4_ma_4.summary())"
   ]
  },
  {
   "cell_type": "code",
   "execution_count": null,
   "metadata": {},
   "outputs": [],
   "source": [
    "#(5,5)\n",
    "#Model\n",
    "#ARMA(3,3)\n",
    "model_ret_ar_3_ma_3 = ARMA(df.Close, order=(3,3))\n",
    "results_ret_ar_3_ma_3 = model_ret_ar_3_ma_3.fit()\n",
    "print(results_ret_ar_3_ma_3.summary())"
   ]
  },
  {
   "cell_type": "code",
   "execution_count": null,
   "metadata": {},
   "outputs": [],
   "source": [
    "#(5,5)\n",
    "#Model\n",
    "#ARMA(4,5)\n",
    "model_ret_ar_4_ma_5 = ARMA(df.Close, order=(4,5))\n",
    "results_ret_ar_4_ma_5 = model_ret_ar_4_ma_5.fit()\n",
    "print(results_ret_ar_4_ma_5.summary())"
   ]
  }
 ],
 "metadata": {
  "kernelspec": {
   "display_name": "base",
   "language": "python",
   "name": "python3"
  },
  "language_info": {
   "codemirror_mode": {
    "name": "ipython",
    "version": 3
   },
   "file_extension": ".py",
   "mimetype": "text/x-python",
   "name": "python",
   "nbconvert_exporter": "python",
   "pygments_lexer": "ipython3",
   "version": "3.8.8 (default, Apr 13 2021, 15:08:03) [MSC v.1916 64 bit (AMD64)]"
  },
  "vscode": {
   "interpreter": {
    "hash": "a3d1f5a40e83e699fa9d98d411f8d9f4af992d6222f178debd8b0cd072f22c83"
   }
  }
 },
 "nbformat": 4,
 "nbformat_minor": 4
}
