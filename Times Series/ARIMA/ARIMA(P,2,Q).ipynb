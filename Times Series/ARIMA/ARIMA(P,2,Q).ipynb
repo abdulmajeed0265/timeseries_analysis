{
 "cells": [
  {
   "cell_type": "code",
   "execution_count": 1,
   "metadata": {},
   "outputs": [],
   "source": [
    "#Importing basic libraries\n",
    "import pandas as pd\n",
    "import numpy as np\n",
    "import matplotlib.pyplot as plt\n",
    "import statsmodels.tsa.stattools as sts\n",
    "from statsmodels.tsa.arima_model import ARIMA\n",
    "from scipy.stats.distributions import chi2\n",
    "import statsmodels.graphics.tsaplots as sgt\n",
    "from math import sqrt\n",
    "import seaborn as sns\n",
    "sns.set()"
   ]
  },
  {
   "cell_type": "code",
   "execution_count": 2,
   "metadata": {},
   "outputs": [],
   "source": [
    "raw_csv_data = pd.read_csv('GOOG1.csv')\n",
    "df_comp = raw_csv_data.copy()\n",
    "#Converting Time\n",
    "df_comp.Date = pd.to_datetime(df_comp.Date, dayfirst=True)\n",
    "#Setting Date as an index\n",
    "df_comp.set_index('Date', inplace=True)\n",
    "#Setting Frequency as business working days\n",
    "df_comp = df_comp.asfreq('b')\n",
    "#Filling the Missing or Empty Values\n",
    "df_comp = df_comp.fillna(method='ffill')\n",
    "df_comp['market_value'] = df_comp.Close"
   ]
  },
  {
   "cell_type": "code",
   "execution_count": 3,
   "metadata": {},
   "outputs": [
    {
     "data": {
      "text/plain": [
       "Open            0\n",
       "High            0\n",
       "Low             0\n",
       "Close           0\n",
       "Adj Close       0\n",
       "Volume          0\n",
       "market_value    0\n",
       "dtype: int64"
      ]
     },
     "execution_count": 3,
     "metadata": {},
     "output_type": "execute_result"
    }
   ],
   "source": [
    "df_comp.isnull().sum()"
   ]
  },
  {
   "cell_type": "code",
   "execution_count": 4,
   "metadata": {},
   "outputs": [],
   "source": [
    "del df_comp['Open']\n",
    "del df_comp['High']\n",
    "del df_comp['Low']\n",
    "del df_comp['Adj Close']\n",
    "del df_comp['Volume']"
   ]
  },
  {
   "cell_type": "code",
   "execution_count": 5,
   "metadata": {},
   "outputs": [],
   "source": [
    "size = int(len(df_comp) * 0.8)\n",
    "df, df_test = df_comp[:size], df_comp[size:]"
   ]
  },
  {
   "cell_type": "code",
   "execution_count": 6,
   "metadata": {},
   "outputs": [
    {
     "data": {
      "text/plain": [
       "Close           2237\n",
       "market_value    2237\n",
       "dtype: int64"
      ]
     },
     "execution_count": 6,
     "metadata": {},
     "output_type": "execute_result"
    }
   ],
   "source": [
    "df.count()"
   ]
  },
  {
   "cell_type": "code",
   "execution_count": 7,
   "metadata": {},
   "outputs": [],
   "source": [
    "#Filtering Warnings\n",
    "import warnings\n",
    "warnings.filterwarnings('ignore')"
   ]
  },
  {
   "cell_type": "code",
   "execution_count": 8,
   "metadata": {},
   "outputs": [
    {
     "name": "stdout",
     "output_type": "stream",
     "text": [
      "                             ARIMA Model Results                              \n",
      "==============================================================================\n",
      "Dep. Variable:        D2.market_value   No. Observations:                 2235\n",
      "Model:                 ARIMA(1, 2, 1)   Log Likelihood               -8223.443\n",
      "Method:                       css-mle   S.D. of innovations              9.571\n",
      "Date:                Mon, 29 Mar 2021   AIC                          16454.886\n",
      "Time:                        18:36:50   BIC                          16477.734\n",
      "Sample:                    06-09-2010   HQIC                         16463.228\n",
      "                         - 01-01-2019                                         \n",
      "=========================================================================================\n",
      "                            coef    std err          z      P>|z|      [0.025      0.975]\n",
      "-----------------------------------------------------------------------------------------\n",
      "const                   9.59e-05      0.000      0.295      0.768      -0.001       0.001\n",
      "ar.L1.D2.market_value     0.0337      0.021      1.595      0.111      -0.008       0.075\n",
      "ma.L1.D2.market_value    -1.0000      0.001   -839.307      0.000      -1.002      -0.998\n",
      "                                    Roots                                    \n",
      "=============================================================================\n",
      "                  Real          Imaginary           Modulus         Frequency\n",
      "-----------------------------------------------------------------------------\n",
      "AR.1           29.6519           +0.0000j           29.6519            0.0000\n",
      "MA.1            1.0000           +0.0000j            1.0000            0.0000\n",
      "-----------------------------------------------------------------------------\n"
     ]
    }
   ],
   "source": [
    "#ARIMA(1,2,1)\n",
    "model_ar_1_i_2_ma_1 = ARIMA(df.market_value, order=(1,2,1))\n",
    "results_ar_1_i_2_ma_1 = model_ar_1_i_2_ma_1.fit()\n",
    "print(results_ar_1_i_2_ma_1.summary())"
   ]
  },
  {
   "cell_type": "code",
   "execution_count": 9,
   "metadata": {},
   "outputs": [
    {
     "name": "stdout",
     "output_type": "stream",
     "text": [
      "                             ARIMA Model Results                              \n",
      "==============================================================================\n",
      "Dep. Variable:        D2.market_value   No. Observations:                 2235\n",
      "Model:                 ARIMA(2, 2, 1)   Log Likelihood               -8219.796\n",
      "Method:                       css-mle   S.D. of innovations              9.556\n",
      "Date:                Mon, 29 Mar 2021   AIC                          16449.592\n",
      "Time:                        18:38:23   BIC                          16478.152\n",
      "Sample:                    06-09-2010   HQIC                         16460.019\n",
      "                         - 01-01-2019                                         \n",
      "=========================================================================================\n",
      "                            coef    std err          z      P>|z|      [0.025      0.975]\n",
      "-----------------------------------------------------------------------------------------\n",
      "const                  9.595e-05      0.000      0.313      0.755      -0.001       0.001\n",
      "ar.L1.D2.market_value     0.0356      0.021      1.686      0.092      -0.006       0.077\n",
      "ar.L2.D2.market_value    -0.0571      0.021     -2.706      0.007      -0.099      -0.016\n",
      "ma.L1.D2.market_value    -0.9999      0.001   -828.083      0.000      -1.002      -0.998\n",
      "                                    Roots                                    \n",
      "=============================================================================\n",
      "                  Real          Imaginary           Modulus         Frequency\n",
      "-----------------------------------------------------------------------------\n",
      "AR.1            0.3115           -4.1717j            4.1833           -0.2381\n",
      "AR.2            0.3115           +4.1717j            4.1833            0.2381\n",
      "MA.1            1.0001           +0.0000j            1.0001            0.0000\n",
      "-----------------------------------------------------------------------------\n"
     ]
    }
   ],
   "source": [
    "#ARIMA(2,2,1)\n",
    "model_ar_2_i_2_ma_1 = ARIMA(df.market_value, order=(2,2,1))\n",
    "results_ar_2_i_2_ma_1 = model_ar_2_i_2_ma_1.fit()\n",
    "print(results_ar_2_i_2_ma_1.summary())"
   ]
  },
  {
   "cell_type": "code",
   "execution_count": 10,
   "metadata": {},
   "outputs": [
    {
     "name": "stdout",
     "output_type": "stream",
     "text": [
      "                             ARIMA Model Results                              \n",
      "==============================================================================\n",
      "Dep. Variable:        D2.market_value   No. Observations:                 2235\n",
      "Model:                 ARIMA(1, 2, 2)   Log Likelihood               -8220.341\n",
      "Method:                       css-mle   S.D. of innovations              9.558\n",
      "Date:                Mon, 29 Mar 2021   AIC                          16450.682\n",
      "Time:                        18:39:10   BIC                          16479.242\n",
      "Sample:                    06-09-2010   HQIC                         16461.109\n",
      "                         - 01-01-2019                                         \n",
      "=========================================================================================\n",
      "                            coef    std err          z      P>|z|      [0.025      0.975]\n",
      "-----------------------------------------------------------------------------------------\n",
      "const                     0.0001      0.000      0.315      0.753      -0.001       0.001\n",
      "ar.L1.D2.market_value    -0.5690      0.156     -3.658      0.000      -0.874      -0.264\n",
      "ma.L1.D2.market_value    -0.3798      0.148     -2.569      0.010      -0.670      -0.090\n",
      "ma.L2.D2.market_value    -0.6201      0.148     -4.195      0.000      -0.910      -0.330\n",
      "                                    Roots                                    \n",
      "=============================================================================\n",
      "                  Real          Imaginary           Modulus         Frequency\n",
      "-----------------------------------------------------------------------------\n",
      "AR.1           -1.7575           +0.0000j            1.7575            0.5000\n",
      "MA.1            1.0000           +0.0000j            1.0000            0.0000\n",
      "MA.2           -1.6126           +0.0000j            1.6126            0.5000\n",
      "-----------------------------------------------------------------------------\n"
     ]
    }
   ],
   "source": [
    "#ARIMA(1,2,2)\n",
    "model_ar_1_i_2_ma_2 = ARIMA(df.market_value, order=(1,2,2))\n",
    "results_ar_1_i_2_ma_2 = model_ar_1_i_2_ma_2.fit()\n",
    "print(results_ar_1_i_2_ma_2.summary())"
   ]
  },
  {
   "cell_type": "code",
   "execution_count": 11,
   "metadata": {},
   "outputs": [
    {
     "name": "stdout",
     "output_type": "stream",
     "text": [
      "                             ARIMA Model Results                              \n",
      "==============================================================================\n",
      "Dep. Variable:        D2.market_value   No. Observations:                 2235\n",
      "Model:                 ARIMA(2, 2, 2)   Log Likelihood               -8218.701\n",
      "Method:                       css-mle   S.D. of innovations              9.551\n",
      "Date:                Mon, 29 Mar 2021   AIC                          16449.403\n",
      "Time:                        18:41:16   BIC                          16483.675\n",
      "Sample:                    06-09-2010   HQIC                         16461.916\n",
      "                         - 01-01-2019                                         \n",
      "=========================================================================================\n",
      "                            coef    std err          z      P>|z|      [0.025      0.975]\n",
      "-----------------------------------------------------------------------------------------\n",
      "const                  9.559e-05      0.000      0.308      0.758      -0.001       0.001\n",
      "ar.L1.D2.market_value    -0.3091      0.211     -1.463      0.143      -0.723       0.105\n",
      "ar.L2.D2.market_value    -0.0494      0.024     -2.029      0.042      -0.097      -0.002\n",
      "ma.L1.D2.market_value    -0.6536      0.211     -3.099      0.002      -1.067      -0.240\n",
      "ma.L2.D2.market_value    -0.3463      0.211     -1.642      0.101      -0.760       0.067\n",
      "                                    Roots                                    \n",
      "=============================================================================\n",
      "                  Real          Imaginary           Modulus         Frequency\n",
      "-----------------------------------------------------------------------------\n",
      "AR.1           -3.1274           -3.2330j            4.4981           -0.3724\n",
      "AR.2           -3.1274           +3.2330j            4.4981            0.3724\n",
      "MA.1            1.0000           +0.0000j            1.0000            0.0000\n",
      "MA.2           -2.8873           +0.0000j            2.8873            0.5000\n",
      "-----------------------------------------------------------------------------\n"
     ]
    }
   ],
   "source": [
    "#ARIMA(2,2,2)\n",
    "model_ar_2_i_2_ma_2 = ARIMA(df.market_value, order=(2,2,2))\n",
    "results_ar_2_i_2_ma_2 = model_ar_2_i_2_ma_2.fit()\n",
    "print(results_ar_2_i_2_ma_2.summary())"
   ]
  },
  {
   "cell_type": "code",
   "execution_count": 12,
   "metadata": {},
   "outputs": [
    {
     "name": "stdout",
     "output_type": "stream",
     "text": [
      "                             ARIMA Model Results                              \n",
      "==============================================================================\n",
      "Dep. Variable:        D2.market_value   No. Observations:                 2235\n",
      "Model:                 ARIMA(1, 2, 1)   Log Likelihood               -8223.443\n",
      "Method:                       css-mle   S.D. of innovations              9.571\n",
      "Date:                Mon, 29 Mar 2021   AIC                          16454.886\n",
      "Time:                        18:41:50   BIC                          16477.734\n",
      "Sample:                    06-09-2010   HQIC                         16463.228\n",
      "                         - 01-01-2019                                         \n",
      "=========================================================================================\n",
      "                            coef    std err          z      P>|z|      [0.025      0.975]\n",
      "-----------------------------------------------------------------------------------------\n",
      "const                   9.59e-05      0.000      0.295      0.768      -0.001       0.001\n",
      "ar.L1.D2.market_value     0.0337      0.021      1.595      0.111      -0.008       0.075\n",
      "ma.L1.D2.market_value    -1.0000      0.001   -839.307      0.000      -1.002      -0.998\n",
      "                                    Roots                                    \n",
      "=============================================================================\n",
      "                  Real          Imaginary           Modulus         Frequency\n",
      "-----------------------------------------------------------------------------\n",
      "AR.1           29.6519           +0.0000j           29.6519            0.0000\n",
      "MA.1            1.0000           +0.0000j            1.0000            0.0000\n",
      "-----------------------------------------------------------------------------\n"
     ]
    }
   ],
   "source": [
    "#ARIMA(1,2,1)\n",
    "model_ar_1_i_2_ma_1 = ARIMA(df.market_value, order=(1,2,1))\n",
    "results_ar_1_i_2_ma_1 = model_ar_1_i_2_ma_1.fit()\n",
    "print(results_ar_1_i_2_ma_1.summary())"
   ]
  },
  {
   "cell_type": "code",
   "execution_count": 15,
   "metadata": {},
   "outputs": [
    {
     "data": {
      "image/png": "[encoded data removed]",
      "text/plain": [
       "<Figure size 432x288 with 1 Axes>"
      ]
     },
     "metadata": {},
     "output_type": "display_data"
    }
   ],
   "source": [
    "df['res_ar_1_i_2_ma_1'] = results_ar_1_i_2_ma_1.resid\n",
    "sgt.plot_acf(df.res_ar_1_i_2_ma_1[2:], zero = False, lags = 40)\n",
    "plt.title('Residuals of ARIMA(1,2,1)', size = 18)\n",
    "plt.show()"
   ]
  },
  {
   "cell_type": "code",
   "execution_count": 16,
   "metadata": {},
   "outputs": [
    {
     "name": "stdout",
     "output_type": "stream",
     "text": [
      "                             ARIMA Model Results                              \n",
      "==============================================================================\n",
      "Dep. Variable:        D2.market_value   No. Observations:                 2235\n",
      "Model:                 ARIMA(5, 2, 5)   Log Likelihood               -8204.783\n",
      "Method:                       css-mle   S.D. of innovations              9.492\n",
      "Date:                Mon, 29 Mar 2021   AIC                          16433.565\n",
      "Time:                        18:51:50   BIC                          16502.109\n",
      "Sample:                    06-09-2010   HQIC                         16458.592\n",
      "                         - 01-01-2019                                         \n",
      "=========================================================================================\n",
      "                            coef    std err          z      P>|z|      [0.025      0.975]\n",
      "-----------------------------------------------------------------------------------------\n",
      "const                  9.471e-05      0.000      0.283      0.777      -0.001       0.001\n",
      "ar.L1.D2.market_value    -2.0110      0.051    -39.268      0.000      -2.111      -1.911\n",
      "ar.L2.D2.market_value    -2.6750      0.109    -24.629      0.000      -2.888      -2.462\n",
      "ar.L3.D2.market_value    -1.8094      0.114    -15.877      0.000      -2.033      -1.586\n",
      "ar.L4.D2.market_value    -0.8113      0.077    -10.584      0.000      -0.962      -0.661\n",
      "ar.L5.D2.market_value     0.0526      0.023      2.264      0.024       0.007       0.098\n",
      "ma.L1.D2.market_value     1.0536      0.047     22.372      0.000       0.961       1.146\n",
      "ma.L2.D2.market_value     0.6770      0.066     10.233      0.000       0.547       0.807\n",
      "ma.L3.D2.market_value    -0.8406      0.025    -33.229      0.000      -0.890      -0.791\n",
      "ma.L4.D2.market_value    -1.0138      0.048    -21.341      0.000      -1.107      -0.921\n",
      "ma.L5.D2.market_value    -0.8728      0.066    -13.321      0.000      -1.001      -0.744\n",
      "                                    Roots                                    \n",
      "=============================================================================\n",
      "                  Real          Imaginary           Modulus         Frequency\n",
      "-----------------------------------------------------------------------------\n",
      "AR.1           -0.7529           -0.6713j            1.0087           -0.3841\n",
      "AR.2           -0.7529           +0.6713j            1.0087            0.3841\n",
      "AR.3           -0.3130           -0.9830j            1.0316           -0.2991\n",
      "AR.4           -0.3130           +0.9830j            1.0316            0.2991\n",
      "AR.5           17.5501           -0.0000j           17.5501           -0.0000\n",
      "MA.1            1.0004           -0.0000j            1.0004           -0.0000\n",
      "MA.2           -0.7553           -0.6772j            1.0145           -0.3837\n",
      "MA.3           -0.7553           +0.6772j            1.0145            0.3837\n",
      "MA.4           -0.3257           -1.0034j            1.0549           -0.2999\n",
      "MA.5           -0.3257           +1.0034j            1.0549            0.2999\n",
      "-----------------------------------------------------------------------------\n"
     ]
    }
   ],
   "source": [
    "#ARIMA(5,2,5)\n",
    "model_ar_5_i_2_ma_5 = ARIMA(df.market_value, order=(5,2,5))\n",
    "results_ar_5_i_2_ma_5 = model_ar_5_i_2_ma_5.fit()\n",
    "print(results_ar_5_i_2_ma_5.summary())"
   ]
  },
  {
   "cell_type": "code",
   "execution_count": 17,
   "metadata": {},
   "outputs": [
    {
     "name": "stdout",
     "output_type": "stream",
     "text": [
      "                             ARIMA Model Results                              \n",
      "==============================================================================\n",
      "Dep. Variable:        D2.market_value   No. Observations:                 2235\n",
      "Model:                 ARIMA(5, 2, 4)   Log Likelihood               -8206.750\n",
      "Method:                       css-mle   S.D. of innovations              9.501\n",
      "Date:                Mon, 29 Mar 2021   AIC                          16435.500\n",
      "Time:                        18:56:10   BIC                          16498.332\n",
      "Sample:                    06-09-2010   HQIC                         16458.441\n",
      "                         - 01-01-2019                                         \n",
      "=========================================================================================\n",
      "                            coef    std err          z      P>|z|      [0.025      0.975]\n",
      "-----------------------------------------------------------------------------------------\n",
      "const                  8.861e-05      0.000      0.262      0.794      -0.001       0.001\n",
      "ar.L1.D2.market_value    -1.5154      0.041    -36.599      0.000      -1.597      -1.434\n",
      "ar.L2.D2.market_value    -1.4674      0.066    -22.175      0.000      -1.597      -1.338\n",
      "ar.L3.D2.market_value    -0.8983      0.063    -14.210      0.000      -1.022      -0.774\n",
      "ar.L4.D2.market_value     0.0075      0.041      0.183      0.855      -0.073       0.088\n",
      "ar.L5.D2.market_value    -0.0281      0.024     -1.159      0.247      -0.076       0.019\n",
      "ma.L1.D2.market_value     0.5575      0.035     15.706      0.000       0.488       0.627\n",
      "ma.L2.D2.market_value    -0.0749      0.039     -1.899      0.058      -0.152       0.002\n",
      "ma.L3.D2.market_value    -0.5827      0.033    -17.612      0.000      -0.648      -0.518\n",
      "ma.L4.D2.market_value    -0.8972      0.040    -22.707      0.000      -0.975      -0.820\n",
      "                                    Roots                                    \n",
      "=============================================================================\n",
      "                  Real          Imaginary           Modulus         Frequency\n",
      "-----------------------------------------------------------------------------\n",
      "AR.1           -1.0123           -0.0000j            1.0123           -0.5000\n",
      "AR.2           -0.3077           -0.9790j            1.0262           -0.2985\n",
      "AR.3           -0.3077           +0.9790j            1.0262            0.2985\n",
      "AR.4            0.9481           -5.7009j            5.7792           -0.2238\n",
      "AR.5            0.9481           +5.7009j            5.7792            0.2238\n",
      "MA.1            1.0006           -0.0000j            1.0006           -0.0000\n",
      "MA.2           -0.3149           -0.9964j            1.0449           -0.2987\n",
      "MA.3           -0.3149           +0.9964j            1.0449            0.2987\n",
      "MA.4           -1.0202           -0.0000j            1.0202           -0.5000\n",
      "-----------------------------------------------------------------------------\n"
     ]
    }
   ],
   "source": [
    "#ARIMA(5,2,4)\n",
    "model_ar_5_i_2_ma_4 = ARIMA(df.market_value, order=(5,2,4))\n",
    "results_ar_5_i_2_ma_4 = model_ar_5_i_2_ma_4.fit()\n",
    "print(results_ar_5_i_2_ma_4.summary())"
   ]
  },
  {
   "cell_type": "code",
   "execution_count": 18,
   "metadata": {},
   "outputs": [
    {
     "name": "stdout",
     "output_type": "stream",
     "text": [
      "                             ARIMA Model Results                              \n",
      "==============================================================================\n",
      "Dep. Variable:        D2.market_value   No. Observations:                 2235\n",
      "Model:                 ARIMA(5, 2, 3)   Log Likelihood               -8208.632\n",
      "Method:                       css-mle   S.D. of innovations              9.508\n",
      "Date:                Mon, 29 Mar 2021   AIC                          16437.264\n",
      "Time:                        18:57:10   BIC                          16494.384\n",
      "Sample:                    06-09-2010   HQIC                         16458.120\n",
      "                         - 01-01-2019                                         \n",
      "=========================================================================================\n",
      "                            coef    std err          z      P>|z|      [0.025      0.975]\n",
      "-----------------------------------------------------------------------------------------\n",
      "const                  9.039e-05      0.000      0.273      0.785      -0.001       0.001\n",
      "ar.L1.D2.market_value    -1.2918      0.022    -58.717      0.000      -1.335      -1.249\n",
      "ar.L2.D2.market_value    -0.9863      0.035    -28.063      0.000      -1.055      -0.917\n",
      "ar.L3.D2.market_value    -0.0014      0.040     -0.035      0.972      -0.081       0.078\n",
      "ar.L4.D2.market_value     0.0124      0.035      0.357      0.721      -0.056       0.081\n",
      "ar.L5.D2.market_value     0.0531      0.022      2.468      0.014       0.011       0.095\n",
      "ma.L1.D2.market_value     0.3352      0.006     52.415      0.000       0.323       0.348\n",
      "ma.L2.D2.market_value    -0.3469      0.007    -50.240      0.000      -0.360      -0.333\n",
      "ma.L3.D2.market_value    -0.9872      0.007   -147.456      0.000      -1.000      -0.974\n",
      "                                    Roots                                    \n",
      "=============================================================================\n",
      "                  Real          Imaginary           Modulus         Frequency\n",
      "-----------------------------------------------------------------------------\n",
      "AR.1           -0.6874           -0.7546j            1.0208           -0.3676\n",
      "AR.2           -0.6874           +0.7546j            1.0208            0.3676\n",
      "AR.3           -0.9257           -2.2767j            2.4577           -0.3115\n",
      "AR.4           -0.9257           +2.2767j            2.4577            0.3115\n",
      "AR.5            2.9924           -0.0000j            2.9924           -0.0000\n",
      "MA.1            1.0003           -0.0000j            1.0003           -0.0000\n",
      "MA.2           -0.6759           -0.7456j            1.0063           -0.3672\n",
      "MA.3           -0.6759           +0.7456j            1.0063            0.3672\n",
      "-----------------------------------------------------------------------------\n"
     ]
    }
   ],
   "source": [
    "#ARIMA(5,2,3)\n",
    "model_ar_5_i_2_ma_3 = ARIMA(df.market_value, order=(5,2,3))\n",
    "results_ar_5_i_2_ma_3 = model_ar_5_i_2_ma_3.fit()\n",
    "print(results_ar_5_i_2_ma_3.summary())"
   ]
  },
  {
   "cell_type": "code",
   "execution_count": 19,
   "metadata": {},
   "outputs": [
    {
     "name": "stdout",
     "output_type": "stream",
     "text": [
      "                             ARIMA Model Results                              \n",
      "==============================================================================\n",
      "Dep. Variable:        D2.market_value   No. Observations:                 2235\n",
      "Model:                 ARIMA(5, 2, 2)   Log Likelihood               -8214.586\n",
      "Method:                       css-mle   S.D. of innovations              9.533\n",
      "Date:                Mon, 29 Mar 2021   AIC                          16447.172\n",
      "Time:                        18:57:59   BIC                          16498.580\n",
      "Sample:                    06-09-2010   HQIC                         16465.942\n",
      "                         - 01-01-2019                                         \n",
      "=========================================================================================\n",
      "                            coef    std err          z      P>|z|      [0.025      0.975]\n",
      "-----------------------------------------------------------------------------------------\n",
      "const                  9.389e-05      0.000      0.299      0.765      -0.001       0.001\n",
      "ar.L1.D2.market_value    -0.9327      0.024    -38.209      0.000      -0.981      -0.885\n",
      "ar.L2.D2.market_value    -0.0213      0.029     -0.735      0.462      -0.078       0.035\n",
      "ar.L3.D2.market_value    -0.0187      0.029     -0.647      0.518      -0.075       0.038\n",
      "ar.L4.D2.market_value     0.0312      0.029      1.080      0.280      -0.025       0.088\n",
      "ar.L5.D2.market_value    -0.0208      0.021     -0.973      0.331      -0.063       0.021\n",
      "ma.L1.D2.market_value    -0.0262      0.012     -2.123      0.034      -0.050      -0.002\n",
      "ma.L2.D2.market_value    -0.9738      0.012    -79.044      0.000      -0.998      -0.950\n",
      "                                    Roots                                    \n",
      "=============================================================================\n",
      "                  Real          Imaginary           Modulus         Frequency\n",
      "-----------------------------------------------------------------------------\n",
      "AR.1           -1.0151           -0.0000j            1.0151           -0.5000\n",
      "AR.2           -1.1449           -1.9246j            2.2394           -0.3354\n",
      "AR.3           -1.1449           +1.9246j            2.2394            0.3354\n",
      "AR.4            2.4026           -1.9151j            3.0725           -0.1071\n",
      "AR.5            2.4026           +1.9151j            3.0725            0.1071\n",
      "MA.1            1.0000           +0.0000j            1.0000            0.0000\n",
      "MA.2           -1.0269           +0.0000j            1.0269            0.5000\n",
      "-----------------------------------------------------------------------------\n"
     ]
    }
   ],
   "source": [
    "#ARIMA(5,2,2)\n",
    "model_ar_5_i_2_ma_2 = ARIMA(df.market_value, order=(5,2,2))\n",
    "results_ar_5_i_2_ma_2 = model_ar_5_i_2_ma_2.fit()\n",
    "print(results_ar_5_i_2_ma_2.summary())"
   ]
  },
  {
   "cell_type": "code",
   "execution_count": 20,
   "metadata": {},
   "outputs": [
    {
     "name": "stdout",
     "output_type": "stream",
     "text": [
      "                             ARIMA Model Results                              \n",
      "==============================================================================\n",
      "Dep. Variable:        D2.market_value   No. Observations:                 2235\n",
      "Model:                 ARIMA(5, 2, 1)   Log Likelihood               -8214.493\n",
      "Method:                       css-mle   S.D. of innovations              9.533\n",
      "Date:                Mon, 29 Mar 2021   AIC                          16444.986\n",
      "Time:                        18:58:25   BIC                          16490.681\n",
      "Sample:                    06-09-2010   HQIC                         16461.670\n",
      "                         - 01-01-2019                                         \n",
      "=========================================================================================\n",
      "                            coef    std err          z      P>|z|      [0.025      0.975]\n",
      "-----------------------------------------------------------------------------------------\n",
      "const                  9.133e-05      0.000      0.305      0.760      -0.000       0.001\n",
      "ar.L1.D2.market_value     0.0377      0.021      1.784      0.074      -0.004       0.079\n",
      "ar.L2.D2.market_value    -0.0567      0.021     -2.684      0.007      -0.098      -0.015\n",
      "ar.L3.D2.market_value     0.0359      0.021      1.699      0.089      -0.006       0.077\n",
      "ar.L4.D2.market_value    -0.0052      0.021     -0.245      0.807      -0.047       0.036\n",
      "ar.L5.D2.market_value    -0.0568      0.021     -2.668      0.008      -0.099      -0.015\n",
      "ma.L1.D2.market_value    -0.9999      0.001   -820.142      0.000      -1.002      -0.998\n",
      "                                    Roots                                    \n",
      "=============================================================================\n",
      "                  Real          Imaginary           Modulus         Frequency\n",
      "-----------------------------------------------------------------------------\n",
      "AR.1            1.4481           -1.0386j            1.7820           -0.0990\n",
      "AR.2            1.4481           +1.0386j            1.7820            0.0990\n",
      "AR.3           -0.5144           -1.6013j            1.6819           -0.2995\n",
      "AR.4           -0.5144           +1.6013j            1.6819            0.2995\n",
      "AR.5           -1.9583           -0.0000j            1.9583           -0.5000\n",
      "MA.1            1.0001           +0.0000j            1.0001            0.0000\n",
      "-----------------------------------------------------------------------------\n"
     ]
    }
   ],
   "source": [
    "#ARIMA(5,2,1)\n",
    "model_ar_5_i_2_ma_1 = ARIMA(df.market_value, order=(5,2,1))\n",
    "results_ar_5_i_2_ma_1 = model_ar_5_i_2_ma_1.fit()\n",
    "print(results_ar_5_i_2_ma_1.summary())"
   ]
  },
  {
   "cell_type": "code",
   "execution_count": 21,
   "metadata": {},
   "outputs": [
    {
     "name": "stdout",
     "output_type": "stream",
     "text": [
      "                             ARIMA Model Results                              \n",
      "==============================================================================\n",
      "Dep. Variable:        D2.market_value   No. Observations:                 2235\n",
      "Model:                 ARIMA(1, 2, 5)   Log Likelihood               -8215.188\n",
      "Method:                       css-mle   S.D. of innovations              9.536\n",
      "Date:                Mon, 29 Mar 2021   AIC                          16446.377\n",
      "Time:                        18:58:57   BIC                          16492.073\n",
      "Sample:                    06-09-2010   HQIC                         16463.061\n",
      "                         - 01-01-2019                                         \n",
      "=========================================================================================\n",
      "                            coef    std err          z      P>|z|      [0.025      0.975]\n",
      "-----------------------------------------------------------------------------------------\n",
      "const                  9.437e-05      0.000      0.295      0.768      -0.001       0.001\n",
      "ar.L1.D2.market_value    -0.9853      0.010   -102.636      0.000      -1.004      -0.966\n",
      "ma.L1.D2.market_value     0.0267      0.023      1.152      0.249      -0.019       0.072\n",
      "ma.L2.D2.market_value    -1.0430      0.023    -44.515      0.000      -1.089      -0.997\n",
      "ma.L3.D2.market_value    -0.0054      0.031     -0.177      0.859      -0.066       0.055\n",
      "ma.L4.D2.market_value     0.0646      0.021      3.007      0.003       0.023       0.107\n",
      "ma.L5.D2.market_value    -0.0428      0.022     -1.942      0.052      -0.086       0.000\n",
      "                                    Roots                                    \n",
      "=============================================================================\n",
      "                  Real          Imaginary           Modulus         Frequency\n",
      "-----------------------------------------------------------------------------\n",
      "AR.1           -1.0149           +0.0000j            1.0149            0.5000\n",
      "MA.1            1.0000           -0.0000j            1.0000           -0.0000\n",
      "MA.2           -1.0265           -0.0000j            1.0265           -0.5000\n",
      "MA.3           -2.2878           -0.0000j            2.2878           -0.5000\n",
      "MA.4            1.9118           -2.5074j            3.1531           -0.1463\n",
      "MA.5            1.9118           +2.5074j            3.1531            0.1463\n",
      "-----------------------------------------------------------------------------\n"
     ]
    }
   ],
   "source": [
    "#ARIMA(1,2,5)\n",
    "model_ar_1_i_2_ma_5 = ARIMA(df.market_value, order=(1,2,5))\n",
    "results_ar_1_i_2_ma_5 = model_ar_1_i_2_ma_5.fit()\n",
    "print(results_ar_1_i_2_ma_5.summary())"
   ]
  },
  {
   "cell_type": "code",
   "execution_count": 22,
   "metadata": {},
   "outputs": [
    {
     "name": "stdout",
     "output_type": "stream",
     "text": [
      "                             ARIMA Model Results                              \n",
      "==============================================================================\n",
      "Dep. Variable:        D2.market_value   No. Observations:                 2235\n",
      "Model:                 ARIMA(2, 2, 5)   Log Likelihood               -8211.186\n",
      "Method:                       css-mle   S.D. of innovations              9.517\n",
      "Date:                Mon, 29 Mar 2021   AIC                          16440.372\n",
      "Time:                        18:59:44   BIC                          16491.780\n",
      "Sample:                    06-09-2010   HQIC                         16459.142\n",
      "                         - 01-01-2019                                         \n",
      "=========================================================================================\n",
      "                            coef    std err          z      P>|z|      [0.025      0.975]\n",
      "-----------------------------------------------------------------------------------------\n",
      "const                  9.347e-05      0.000      0.306      0.760      -0.001       0.001\n",
      "ar.L1.D2.market_value    -1.3188      0.011   -116.205      0.000      -1.341      -1.297\n",
      "ar.L2.D2.market_value    -0.9646      0.011    -88.063      0.000      -0.986      -0.943\n",
      "ma.L1.D2.market_value     0.3647      0.024     15.059      0.000       0.317       0.412\n",
      "ma.L2.D2.market_value    -0.3980      0.025    -16.145      0.000      -0.446      -0.350\n",
      "ma.L3.D2.market_value    -1.0202      0.013    -76.157      0.000      -1.046      -0.994\n",
      "ma.L4.D2.market_value    -0.0083      0.023     -0.366      0.714      -0.053       0.036\n",
      "ma.L5.D2.market_value     0.0618      0.023      2.742      0.006       0.018       0.106\n",
      "                                    Roots                                    \n",
      "=============================================================================\n",
      "                  Real          Imaginary           Modulus         Frequency\n",
      "-----------------------------------------------------------------------------\n",
      "AR.1           -0.6836           -0.7546j            1.0182           -0.3672\n",
      "AR.2           -0.6836           +0.7546j            1.0182            0.3672\n",
      "MA.1           -0.6747           -0.7456j            1.0056           -0.3671\n",
      "MA.2           -0.6747           +0.7456j            1.0056            0.3671\n",
      "MA.3            1.0000           -0.0000j            1.0000           -0.0000\n",
      "MA.4           -3.7670           -0.0000j            3.7670           -0.5000\n",
      "MA.5            4.2504           -0.0000j            4.2504           -0.0000\n",
      "-----------------------------------------------------------------------------\n"
     ]
    }
   ],
   "source": [
    "#ARIMA(2,2,5)\n",
    "model_ar_2_i_2_ma_5 = ARIMA(df.market_value, order=(2,2,5))\n",
    "results_ar_2_i_2_ma_5 = model_ar_2_i_2_ma_5.fit()\n",
    "print(results_ar_2_i_2_ma_5.summary())"
   ]
  },
  {
   "cell_type": "code",
   "execution_count": 23,
   "metadata": {},
   "outputs": [
    {
     "name": "stdout",
     "output_type": "stream",
     "text": [
      "                             ARIMA Model Results                              \n",
      "==============================================================================\n",
      "Dep. Variable:        D2.market_value   No. Observations:                 2235\n",
      "Model:                 ARIMA(3, 2, 5)   Log Likelihood               -8207.222\n",
      "Method:                       css-mle   S.D. of innovations              9.502\n",
      "Date:                Mon, 29 Mar 2021   AIC                          16434.444\n",
      "Time:                        19:00:20   BIC                          16491.564\n",
      "Sample:                    06-09-2010   HQIC                         16455.300\n",
      "                         - 01-01-2019                                         \n",
      "=========================================================================================\n",
      "                            coef    std err          z      P>|z|      [0.025      0.975]\n",
      "-----------------------------------------------------------------------------------------\n",
      "const                  9.326e-05      0.000      0.290      0.772      -0.001       0.001\n",
      "ar.L1.D2.market_value    -1.5720      0.030    -52.633      0.000      -1.631      -1.513\n",
      "ar.L2.D2.market_value    -1.5132      0.052    -28.860      0.000      -1.616      -1.410\n",
      "ar.L3.D2.market_value    -0.9240      0.036    -25.854      0.000      -0.994      -0.854\n",
      "ma.L1.D2.market_value     0.6149      0.037     16.774      0.000       0.543       0.687\n",
      "ma.L2.D2.market_value    -0.0655      0.047     -1.406      0.160      -0.157       0.026\n",
      "ma.L3.D2.market_value    -0.5911      0.035    -16.883      0.000      -0.660      -0.522\n",
      "ma.L4.D2.market_value    -0.9101      0.047    -19.392      0.000      -1.002      -0.818\n",
      "ma.L5.D2.market_value    -0.0482      0.023     -2.106      0.035      -0.093      -0.003\n",
      "                                    Roots                                    \n",
      "=============================================================================\n",
      "                  Real          Imaginary           Modulus         Frequency\n",
      "-----------------------------------------------------------------------------\n",
      "AR.1           -1.0129           -0.0000j            1.0129           -0.5000\n",
      "AR.2           -0.3124           -0.9854j            1.0337           -0.2989\n",
      "AR.3           -0.3124           +0.9854j            1.0337            0.2989\n",
      "MA.1            1.0000           -0.0000j            1.0000           -0.0000\n",
      "MA.2           -1.0200           -0.0000j            1.0200           -0.5000\n",
      "MA.3           -0.3236           -1.0059j            1.0567           -0.2995\n",
      "MA.4           -0.3236           +1.0059j            1.0567            0.2995\n",
      "MA.5          -18.2284           -0.0000j           18.2284           -0.5000\n",
      "-----------------------------------------------------------------------------\n"
     ]
    }
   ],
   "source": [
    "#ARIMA(3,2,5)\n",
    "model_ar_3_i_2_ma_5 = ARIMA(df.market_value, order=(3,2,5))\n",
    "results_ar_3_i_2_ma_5 = model_ar_3_i_2_ma_5.fit()\n",
    "print(results_ar_3_i_2_ma_5.summary())"
   ]
  },
  {
   "cell_type": "code",
   "execution_count": 24,
   "metadata": {},
   "outputs": [
    {
     "name": "stdout",
     "output_type": "stream",
     "text": [
      "                             ARIMA Model Results                              \n",
      "==============================================================================\n",
      "Dep. Variable:        D2.market_value   No. Observations:                 2235\n",
      "Model:                 ARIMA(4, 2, 5)   Log Likelihood               -8204.318\n",
      "Method:                       css-mle   S.D. of innovations              9.489\n",
      "Date:                Mon, 29 Mar 2021   AIC                          16430.637\n",
      "Time:                        19:01:17   BIC                          16493.469\n",
      "Sample:                    06-09-2010   HQIC                         16453.578\n",
      "                         - 01-01-2019                                         \n",
      "=========================================================================================\n",
      "                            coef    std err          z      P>|z|      [0.025      0.975]\n",
      "-----------------------------------------------------------------------------------------\n",
      "const                  9.448e-05      0.000      0.301      0.763      -0.001       0.001\n",
      "ar.L1.D2.market_value    -2.3762      0.152    -15.641      0.000      -2.674      -2.078\n",
      "ar.L2.D2.market_value    -2.7949      0.237    -11.812      0.000      -3.259      -2.331\n",
      "ar.L3.D2.market_value    -2.1601      0.218     -9.905      0.000      -2.588      -1.733\n",
      "ar.L4.D2.market_value    -0.7463      0.130     -5.750      0.000      -1.001      -0.492\n",
      "ma.L1.D2.market_value     1.4147      0.144      9.827      0.000       1.133       1.697\n",
      "ma.L2.D2.market_value     0.4130      0.086      4.824      0.000       0.245       0.581\n",
      "ma.L3.D2.market_value    -0.6630      0.054    -12.284      0.000      -0.769      -0.557\n",
      "ma.L4.D2.market_value    -1.4056      0.089    -15.750      0.000      -1.581      -1.231\n",
      "ma.L5.D2.market_value    -0.7591      0.112     -6.749      0.000      -0.980      -0.539\n",
      "                                    Roots                                    \n",
      "=============================================================================\n",
      "                  Real          Imaginary           Modulus         Frequency\n",
      "-----------------------------------------------------------------------------\n",
      "AR.1           -0.3128           -0.9769j            1.0257           -0.2993\n",
      "AR.2           -0.3128           +0.9769j            1.0257            0.2993\n",
      "AR.3           -1.0183           -0.0000j            1.0183           -0.5000\n",
      "AR.4           -1.2506           -0.0000j            1.2506           -0.5000\n",
      "MA.1            1.0000           -0.0000j            1.0000           -0.0000\n",
      "MA.2           -0.3234           -0.9913j            1.0427           -0.3002\n",
      "MA.3           -0.3234           +0.9913j            1.0427            0.3002\n",
      "MA.4           -1.0413           -0.0000j            1.0413           -0.5000\n",
      "MA.5           -1.1636           -0.0000j            1.1636           -0.5000\n",
      "-----------------------------------------------------------------------------\n"
     ]
    }
   ],
   "source": [
    "#ARIMA(4,2,5)\n",
    "model_ar_4_i_2_ma_5 = ARIMA(df.market_value, order=(4,2,5))\n",
    "results_ar_4_i_2_ma_5 = model_ar_4_i_2_ma_5.fit()\n",
    "print(results_ar_4_i_2_ma_5.summary())"
   ]
  },
  {
   "cell_type": "code",
   "execution_count": 25,
   "metadata": {},
   "outputs": [
    {
     "name": "stdout",
     "output_type": "stream",
     "text": [
      "                             ARIMA Model Results                              \n",
      "==============================================================================\n",
      "Dep. Variable:        D2.market_value   No. Observations:                 2235\n",
      "Model:                 ARIMA(4, 2, 1)   Log Likelihood               -8218.045\n",
      "Method:                       css-mle   S.D. of innovations              9.548\n",
      "Date:                Mon, 29 Mar 2021   AIC                          16450.089\n",
      "Time:                        19:17:07   BIC                          16490.073\n",
      "Sample:                    06-09-2010   HQIC                         16464.688\n",
      "                         - 01-01-2019                                         \n",
      "=========================================================================================\n",
      "                            coef    std err          z      P>|z|      [0.025      0.975]\n",
      "-----------------------------------------------------------------------------------------\n",
      "const                  9.516e-05      0.000      0.300      0.764      -0.001       0.001\n",
      "ar.L1.D2.market_value     0.0381      0.021      1.803      0.071      -0.003       0.080\n",
      "ar.L2.D2.market_value    -0.0589      0.021     -2.785      0.005      -0.100      -0.017\n",
      "ar.L3.D2.market_value     0.0392      0.021      1.854      0.064      -0.002       0.081\n",
      "ar.L4.D2.market_value    -0.0073      0.021     -0.346      0.729      -0.049       0.034\n",
      "ma.L1.D2.market_value    -0.9999      0.001   -833.212      0.000      -1.002      -0.998\n",
      "                                    Roots                                    \n",
      "=============================================================================\n",
      "                  Real          Imaginary           Modulus         Frequency\n",
      "-----------------------------------------------------------------------------\n",
      "AR.1           -1.2059           -2.3243j            2.6185           -0.3262\n",
      "AR.2           -1.2059           +2.3243j            2.6185            0.3262\n",
      "AR.3            3.8841           -2.1997j            4.4637           -0.0820\n",
      "AR.4            3.8841           +2.1997j            4.4637            0.0820\n",
      "MA.1            1.0001           +0.0000j            1.0001            0.0000\n",
      "-----------------------------------------------------------------------------\n"
     ]
    }
   ],
   "source": [
    "#ARIMA(4,2,1)\n",
    "model_ar_4_i_2_ma_1 = ARIMA(df.market_value, order=(4,2,1))\n",
    "results_ar_4_i_2_ma_1 = model_ar_4_i_2_ma_1.fit()\n",
    "print(results_ar_4_i_2_ma_1.summary())"
   ]
  },
  {
   "cell_type": "code",
   "execution_count": 26,
   "metadata": {},
   "outputs": [
    {
     "name": "stdout",
     "output_type": "stream",
     "text": [
      "                             ARIMA Model Results                              \n",
      "==============================================================================\n",
      "Dep. Variable:        D2.market_value   No. Observations:                 2235\n",
      "Model:                 ARIMA(4, 2, 2)   Log Likelihood               -8215.059\n",
      "Method:                       css-mle   S.D. of innovations              9.535\n",
      "Date:                Mon, 29 Mar 2021   AIC                          16446.118\n",
      "Time:                        19:17:55   BIC                          16491.814\n",
      "Sample:                    06-09-2010   HQIC                         16462.802\n",
      "                         - 01-01-2019                                         \n",
      "=========================================================================================\n",
      "                            coef    std err          z      P>|z|      [0.025      0.975]\n",
      "-----------------------------------------------------------------------------------------\n",
      "const                  9.383e-05      0.000      0.293      0.770      -0.001       0.001\n",
      "ar.L1.D2.market_value    -0.9353      0.024    -38.753      0.000      -0.983      -0.888\n",
      "ar.L2.D2.market_value    -0.0209      0.029     -0.721      0.471      -0.078       0.036\n",
      "ar.L3.D2.market_value    -0.0183      0.029     -0.633      0.527      -0.075       0.038\n",
      "ar.L4.D2.market_value     0.0503      0.021      2.361      0.018       0.009       0.092\n",
      "ma.L1.D2.market_value    -0.0246      0.012     -2.070      0.038      -0.048      -0.001\n",
      "ma.L2.D2.market_value    -0.9754      0.012    -82.129      0.000      -0.999      -0.952\n",
      "                                    Roots                                    \n",
      "=============================================================================\n",
      "                  Real          Imaginary           Modulus         Frequency\n",
      "-----------------------------------------------------------------------------\n",
      "AR.1           -1.0146           -0.0000j            1.0146           -0.5000\n",
      "AR.2           -0.8606           -2.3623j            2.5142           -0.3056\n",
      "AR.3           -0.8606           +2.3623j            2.5142            0.3056\n",
      "AR.4            3.1005           -0.0000j            3.1005           -0.0000\n",
      "MA.1            1.0000           +0.0000j            1.0000            0.0000\n",
      "MA.2           -1.0252           +0.0000j            1.0252            0.5000\n",
      "-----------------------------------------------------------------------------\n"
     ]
    }
   ],
   "source": [
    "#ARIMA(4,2,2)\n",
    "model_ar_4_i_2_ma_2 = ARIMA(df.market_value, order=(4,2,2))\n",
    "results_ar_4_i_2_ma_2 = model_ar_4_i_2_ma_2.fit()\n",
    "print(results_ar_4_i_2_ma_2.summary())"
   ]
  },
  {
   "cell_type": "code",
   "execution_count": 27,
   "metadata": {},
   "outputs": [
    {
     "name": "stdout",
     "output_type": "stream",
     "text": [
      "                             ARIMA Model Results                              \n",
      "==============================================================================\n",
      "Dep. Variable:        D2.market_value   No. Observations:                 2235\n",
      "Model:                 ARIMA(4, 2, 3)   Log Likelihood               -8214.881\n",
      "Method:                       css-mle   S.D. of innovations              9.535\n",
      "Date:                Mon, 29 Mar 2021   AIC                          16447.762\n",
      "Time:                        19:18:51   BIC                          16499.170\n",
      "Sample:                    06-09-2010   HQIC                         16466.532\n",
      "                         - 01-01-2019                                         \n",
      "=========================================================================================\n",
      "                            coef    std err          z      P>|z|      [0.025      0.975]\n",
      "-----------------------------------------------------------------------------------------\n",
      "const                  9.376e-05      0.000      0.294      0.769      -0.001       0.001\n",
      "ar.L1.D2.market_value    -1.0959      0.277     -3.952      0.000      -1.639      -0.552\n",
      "ar.L2.D2.market_value    -0.1723      0.262     -0.658      0.511      -0.686       0.341\n",
      "ar.L3.D2.market_value    -0.0210      0.032     -0.648      0.517      -0.085       0.043\n",
      "ar.L4.D2.market_value     0.0408      0.029      1.386      0.166      -0.017       0.098\n",
      "ma.L1.D2.market_value     0.1366      0.277      0.493      0.622      -0.407       0.680\n",
      "ma.L2.D2.market_value    -0.9787      0.012    -83.531      0.000      -1.002      -0.956\n",
      "ma.L3.D2.market_value    -0.1577      0.271     -0.582      0.560      -0.689       0.373\n",
      "                                    Roots                                    \n",
      "=============================================================================\n",
      "                  Real          Imaginary           Modulus         Frequency\n",
      "-----------------------------------------------------------------------------\n",
      "AR.1           -1.0148           -0.0000j            1.0148           -0.5000\n",
      "AR.2           -1.1608           -2.2192j            2.5044           -0.3267\n",
      "AR.3           -1.1608           +2.2192j            2.5044            0.3267\n",
      "AR.4            3.8521           -0.0000j            3.8521           -0.0000\n",
      "MA.1            1.0001           +0.0000j            1.0001            0.0000\n",
      "MA.2           -1.0260           +0.0000j            1.0260            0.5000\n",
      "MA.3           -6.1787           +0.0000j            6.1787            0.5000\n",
      "-----------------------------------------------------------------------------\n"
     ]
    }
   ],
   "source": [
    "#ARIMA(4,2,3)\n",
    "model_ar_4_i_2_ma_3 = ARIMA(df.market_value, order=(4,2,3))\n",
    "results_ar_4_i_2_ma_3 = model_ar_4_i_2_ma_3.fit()\n",
    "print(results_ar_4_i_2_ma_3.summary())"
   ]
  },
  {
   "cell_type": "code",
   "execution_count": 28,
   "metadata": {},
   "outputs": [
    {
     "name": "stdout",
     "output_type": "stream",
     "text": [
      "                             ARIMA Model Results                              \n",
      "==============================================================================\n",
      "Dep. Variable:        D2.market_value   No. Observations:                 2235\n",
      "Model:                 ARIMA(4, 2, 4)   Log Likelihood               -8207.356\n",
      "Method:                       css-mle   S.D. of innovations              9.502\n",
      "Date:                Mon, 29 Mar 2021   AIC                          16434.713\n",
      "Time:                        19:19:59   BIC                          16491.833\n",
      "Sample:                    06-09-2010   HQIC                         16455.568\n",
      "                         - 01-01-2019                                         \n",
      "=========================================================================================\n",
      "                            coef    std err          z      P>|z|      [0.025      0.975]\n",
      "-----------------------------------------------------------------------------------------\n",
      "const                  9.387e-05      0.000      0.292      0.770      -0.001       0.001\n",
      "ar.L1.D2.market_value    -1.5219      0.045    -34.110      0.000      -1.609      -1.434\n",
      "ar.L2.D2.market_value    -1.4312      0.072    -19.859      0.000      -1.572      -1.290\n",
      "ar.L3.D2.market_value    -0.8446      0.053    -16.049      0.000      -0.948      -0.741\n",
      "ar.L4.D2.market_value     0.0472      0.023      2.042      0.041       0.002       0.093\n",
      "ma.L1.D2.market_value     0.5626      0.039     14.286      0.000       0.485       0.640\n",
      "ma.L2.D2.market_value    -0.0995      0.046     -2.165      0.030      -0.190      -0.009\n",
      "ma.L3.D2.market_value    -0.5873      0.037    -15.754      0.000      -0.660      -0.514\n",
      "ma.L4.D2.market_value    -0.8755      0.047    -18.703      0.000      -0.967      -0.784\n",
      "                                    Roots                                    \n",
      "=============================================================================\n",
      "                  Real          Imaginary           Modulus         Frequency\n",
      "-----------------------------------------------------------------------------\n",
      "AR.1           -1.0125           -0.0000j            1.0125           -0.5000\n",
      "AR.2           -0.3136           -0.9863j            1.0350           -0.2990\n",
      "AR.3           -0.3136           +0.9863j            1.0350            0.2990\n",
      "AR.4           19.5238           -0.0000j           19.5238           -0.0000\n",
      "MA.1            1.0000           -0.0000j            1.0000           -0.0000\n",
      "MA.2           -0.3258           -1.0072j            1.0585           -0.2998\n",
      "MA.3           -0.3258           +1.0072j            1.0585            0.2998\n",
      "MA.4           -1.0193           -0.0000j            1.0193           -0.5000\n",
      "-----------------------------------------------------------------------------\n"
     ]
    }
   ],
   "source": [
    "#ARIMA(4,2,4)\n",
    "model_ar_4_i_2_ma_4 = ARIMA(df.market_value, order=(4,2,4))\n",
    "results_ar_4_i_2_ma_4 = model_ar_4_i_2_ma_4.fit()\n",
    "print(results_ar_4_i_2_ma_4.summary())"
   ]
  },
  {
   "cell_type": "code",
   "execution_count": 29,
   "metadata": {},
   "outputs": [
    {
     "name": "stdout",
     "output_type": "stream",
     "text": [
      "                             ARIMA Model Results                              \n",
      "==============================================================================\n",
      "Dep. Variable:        D2.market_value   No. Observations:                 2235\n",
      "Model:                 ARIMA(3, 2, 4)   Log Likelihood               -8208.494\n",
      "Method:                       css-mle   S.D. of innovations              9.507\n",
      "Date:                Mon, 29 Mar 2021   AIC                          16434.988\n",
      "Time:                        19:22:15   BIC                          16486.396\n",
      "Sample:                    06-09-2010   HQIC                         16453.758\n",
      "                         - 01-01-2019                                         \n",
      "=========================================================================================\n",
      "                            coef    std err          z      P>|z|      [0.025      0.975]\n",
      "-----------------------------------------------------------------------------------------\n",
      "const                  9.487e-05      0.000      0.301      0.764      -0.001       0.001\n",
      "ar.L1.D2.market_value    -1.1265      0.315     -3.574      0.000      -1.744      -0.509\n",
      "ar.L2.D2.market_value    -1.2653      0.185     -6.824      0.000      -1.629      -0.902\n",
      "ar.L3.D2.market_value    -0.5077      0.290     -1.749      0.080      -1.077       0.061\n",
      "ma.L1.D2.market_value     0.1646      0.306      0.538      0.591      -0.435       0.765\n",
      "ma.L2.D2.market_value     0.0913      0.132      0.692      0.489      -0.167       0.350\n",
      "ma.L3.D2.market_value    -0.7289      0.093     -7.860      0.000      -0.911      -0.547\n",
      "ma.L4.D2.market_value    -0.5270      0.268     -1.964      0.050      -1.053      -0.001\n",
      "                                    Roots                                    \n",
      "=============================================================================\n",
      "                  Real          Imaginary           Modulus         Frequency\n",
      "-----------------------------------------------------------------------------\n",
      "AR.1           -0.3116           -0.9782j            1.0266           -0.2991\n",
      "AR.2           -0.3116           +0.9782j            1.0266            0.2991\n",
      "AR.3           -1.8688           -0.0000j            1.8688           -0.5000\n",
      "MA.1            1.0000           -0.0000j            1.0000           -0.0000\n",
      "MA.2           -0.3216           -0.9936j            1.0443           -0.2998\n",
      "MA.3           -0.3216           +0.9936j            1.0443            0.2998\n",
      "MA.4           -1.7398           -0.0000j            1.7398           -0.5000\n",
      "-----------------------------------------------------------------------------\n"
     ]
    }
   ],
   "source": [
    "#ARIMA(3,2,4)\n",
    "model_ar_3_i_2_ma_4 = ARIMA(df.market_value, order=(3,2,4))\n",
    "results_ar_3_i_2_ma_4 = model_ar_3_i_2_ma_4.fit()\n",
    "print(results_ar_3_i_2_ma_4.summary())"
   ]
  },
  {
   "cell_type": "code",
   "execution_count": 30,
   "metadata": {},
   "outputs": [
    {
     "name": "stdout",
     "output_type": "stream",
     "text": [
      "                             ARIMA Model Results                              \n",
      "==============================================================================\n",
      "Dep. Variable:        D2.market_value   No. Observations:                 2235\n",
      "Model:                 ARIMA(2, 2, 4)   Log Likelihood               -8214.912\n",
      "Method:                       css-mle   S.D. of innovations              9.533\n",
      "Date:                Mon, 29 Mar 2021   AIC                          16445.824\n",
      "Time:                        19:23:51   BIC                          16491.520\n",
      "Sample:                    06-09-2010   HQIC                         16462.508\n",
      "                         - 01-01-2019                                         \n",
      "=========================================================================================\n",
      "                            coef    std err          z      P>|z|      [0.025      0.975]\n",
      "-----------------------------------------------------------------------------------------\n",
      "const                  9.377e-05      0.000      0.290      0.772      -0.001       0.001\n",
      "ar.L1.D2.market_value    -1.3104      0.015    -89.839      0.000      -1.339      -1.282\n",
      "ar.L2.D2.market_value    -0.9639      0.011    -86.292      0.000      -0.986      -0.942\n",
      "ma.L1.D2.market_value     0.3517      0.027     12.894      0.000       0.298       0.405\n",
      "ma.L2.D2.market_value    -0.3364      0.009    -35.525      0.000      -0.355      -0.318\n",
      "ma.L3.D2.market_value    -0.9950      0.012    -84.618      0.000      -1.018      -0.972\n",
      "ma.L4.D2.market_value    -0.0203      0.024     -0.858      0.391      -0.067       0.026\n",
      "                                    Roots                                    \n",
      "=============================================================================\n",
      "                  Real          Imaginary           Modulus         Frequency\n",
      "-----------------------------------------------------------------------------\n",
      "AR.1           -0.6798           -0.7585j            1.0186           -0.3663\n",
      "AR.2           -0.6798           +0.7585j            1.0186            0.3663\n",
      "MA.1            1.0000           -0.0000j            1.0000           -0.0000\n",
      "MA.2           -0.6737           -0.7472j            1.0061           -0.3668\n",
      "MA.3           -0.6737           +0.7472j            1.0061            0.3668\n",
      "MA.4          -48.5705           -0.0000j           48.5705           -0.5000\n",
      "-----------------------------------------------------------------------------\n"
     ]
    }
   ],
   "source": [
    "#ARIMA(2,2,4)\n",
    "model_ar_2_i_2_ma_4 = ARIMA(df.market_value, order=(2,2,4))\n",
    "results_ar_2_i_2_ma_4 = model_ar_2_i_2_ma_4.fit()\n",
    "print(results_ar_2_i_2_ma_4.summary())"
   ]
  },
  {
   "cell_type": "code",
   "execution_count": 31,
   "metadata": {},
   "outputs": [
    {
     "name": "stdout",
     "output_type": "stream",
     "text": [
      "                             ARIMA Model Results                              \n",
      "==============================================================================\n",
      "Dep. Variable:        D2.market_value   No. Observations:                 2235\n",
      "Model:                 ARIMA(1, 2, 4)   Log Likelihood               -8217.054\n",
      "Method:                       css-mle   S.D. of innovations              9.544\n",
      "Date:                Mon, 29 Mar 2021   AIC                          16448.109\n",
      "Time:                        19:25:03   BIC                          16488.093\n",
      "Sample:                    06-09-2010   HQIC                         16462.708\n",
      "                         - 01-01-2019                                         \n",
      "=========================================================================================\n",
      "                            coef    std err          z      P>|z|      [0.025      0.975]\n",
      "-----------------------------------------------------------------------------------------\n",
      "const                  9.458e-05      0.000      0.310      0.757      -0.001       0.001\n",
      "ar.L1.D2.market_value    -0.9860      0.010   -103.146      0.000      -1.005      -0.967\n",
      "ma.L1.D2.market_value     0.0291      0.023      1.257      0.209      -0.016       0.075\n",
      "ma.L2.D2.market_value    -1.0492      0.023    -45.181      0.000      -1.095      -1.004\n",
      "ma.L3.D2.market_value    -0.0491      0.021     -2.321      0.020      -0.091      -0.008\n",
      "ma.L4.D2.market_value     0.0692      0.021      3.228      0.001       0.027       0.111\n",
      "                                    Roots                                    \n",
      "=============================================================================\n",
      "                  Real          Imaginary           Modulus         Frequency\n",
      "-----------------------------------------------------------------------------\n",
      "AR.1           -1.0142           +0.0000j            1.0142            0.5000\n",
      "MA.1           -1.0233           +0.0000j            1.0233            0.5000\n",
      "MA.2            1.0000           +0.0000j            1.0000            0.0000\n",
      "MA.3           -3.4086           +0.0000j            3.4086            0.5000\n",
      "MA.4            4.1413           +0.0000j            4.1413            0.0000\n",
      "-----------------------------------------------------------------------------\n"
     ]
    }
   ],
   "source": [
    "#ARIMA(1,2,4)\n",
    "model_ar_1_i_2_ma_4 = ARIMA(df.market_value, order=(1,2,4))\n",
    "results_ar_1_i_2_ma_4 = model_ar_1_i_2_ma_4.fit()\n",
    "print(results_ar_1_i_2_ma_4.summary())"
   ]
  },
  {
   "cell_type": "code",
   "execution_count": 33,
   "metadata": {},
   "outputs": [
    {
     "name": "stdout",
     "output_type": "stream",
     "text": [
      "                             ARIMA Model Results                              \n",
      "==============================================================================\n",
      "Dep. Variable:        D2.market_value   No. Observations:                 2235\n",
      "Model:                 ARIMA(3, 2, 1)   Log Likelihood               -8218.102\n",
      "Method:                       css-mle   S.D. of innovations              9.548\n",
      "Date:                Mon, 29 Mar 2021   AIC                          16448.203\n",
      "Time:                        20:47:06   BIC                          16482.475\n",
      "Sample:                    06-09-2010   HQIC                         16460.717\n",
      "                         - 01-01-2019                                         \n",
      "=========================================================================================\n",
      "                            coef    std err          z      P>|z|      [0.025      0.975]\n",
      "-----------------------------------------------------------------------------------------\n",
      "const                  9.519e-05      0.000      0.299      0.765      -0.001       0.001\n",
      "ar.L1.D2.market_value     0.0378      0.021      1.790      0.073      -0.004       0.079\n",
      "ar.L2.D2.market_value    -0.0584      0.021     -2.768      0.006      -0.100      -0.017\n",
      "ar.L3.D2.market_value     0.0389      0.021      1.840      0.066      -0.003       0.080\n",
      "ma.L1.D2.market_value    -1.0000      0.001   -836.940      0.000      -1.002      -0.998\n",
      "                                    Roots                                    \n",
      "=============================================================================\n",
      "                  Real          Imaginary           Modulus         Frequency\n",
      "-----------------------------------------------------------------------------\n",
      "AR.1           -0.9578           -2.5698j            2.7425           -0.3068\n",
      "AR.2           -0.9578           +2.5698j            2.7425            0.3068\n",
      "AR.3            3.4183           -0.0000j            3.4183           -0.0000\n",
      "MA.1            1.0000           +0.0000j            1.0000            0.0000\n",
      "-----------------------------------------------------------------------------\n"
     ]
    }
   ],
   "source": [
    "#ARIMA(3,2,1)\n",
    "model_ar_3_i_2_ma_1 = ARIMA(df.market_value, order=(3,2,1))\n",
    "results_ar_3_i_2_ma_1 = model_ar_3_i_2_ma_1.fit()\n",
    "print(results_ar_3_i_2_ma_1.summary())"
   ]
  },
  {
   "cell_type": "code",
   "execution_count": 35,
   "metadata": {},
   "outputs": [
    {
     "name": "stdout",
     "output_type": "stream",
     "text": [
      "                             ARIMA Model Results                              \n",
      "==============================================================================\n",
      "Dep. Variable:        D2.market_value   No. Observations:                 2235\n",
      "Model:                 ARIMA(3, 2, 2)   Log Likelihood               -8218.086\n",
      "Method:                       css-mle   S.D. of innovations              9.548\n",
      "Date:                Mon, 29 Mar 2021   AIC                          16450.172\n",
      "Time:                        20:48:23   BIC                          16490.156\n",
      "Sample:                    06-09-2010   HQIC                         16464.771\n",
      "                         - 01-01-2019                                         \n",
      "=========================================================================================\n",
      "                            coef    std err          z      P>|z|      [0.025      0.975]\n",
      "-----------------------------------------------------------------------------------------\n",
      "const                   9.52e-05      0.000      0.299      0.765      -0.001       0.001\n",
      "ar.L1.D2.market_value    -0.0109        nan        nan        nan         nan         nan\n",
      "ar.L2.D2.market_value    -0.0567        nan        nan        nan         nan         nan\n",
      "ar.L3.D2.market_value     0.0362        nan        nan        nan         nan         nan\n",
      "ma.L1.D2.market_value    -0.9512        nan        nan        nan         nan         nan\n",
      "ma.L2.D2.market_value    -0.0488        nan        nan        nan         nan         nan\n",
      "                                    Roots                                    \n",
      "=============================================================================\n",
      "                  Real          Imaginary           Modulus         Frequency\n",
      "-----------------------------------------------------------------------------\n",
      "AR.1           -1.0585           -2.5246j            2.7375           -0.3132\n",
      "AR.2           -1.0585           +2.5246j            2.7375            0.3132\n",
      "AR.3            3.6817           -0.0000j            3.6817           -0.0000\n",
      "MA.1            1.0000           +0.0000j            1.0000            0.0000\n",
      "MA.2          -20.4883           +0.0000j           20.4883            0.5000\n",
      "-----------------------------------------------------------------------------\n"
     ]
    }
   ],
   "source": [
    "#ARIMA(3,2,2)\n",
    "model_ar_3_i_2_ma_2 = ARIMA(df.market_value, order=(3,2,2))\n",
    "results_ar_3_i_2_ma_2 = model_ar_3_i_2_ma_2.fit()\n",
    "print(results_ar_3_i_2_ma_2.summary())"
   ]
  },
  {
   "cell_type": "code",
   "execution_count": 38,
   "metadata": {},
   "outputs": [
    {
     "name": "stdout",
     "output_type": "stream",
     "text": [
      "                             ARIMA Model Results                              \n",
      "==============================================================================\n",
      "Dep. Variable:        D2.market_value   No. Observations:                 2235\n",
      "Model:                 ARIMA(3, 2, 3)   Log Likelihood               -8208.963\n",
      "Method:                       css-mle   S.D. of innovations              9.509\n",
      "Date:                Mon, 29 Mar 2021   AIC                          16433.926\n",
      "Time:                        20:53:42   BIC                          16479.622\n",
      "Sample:                    06-09-2010   HQIC                         16450.611\n",
      "                         - 01-01-2019                                         \n",
      "=========================================================================================\n",
      "                            coef    std err          z      P>|z|      [0.025      0.975]\n",
      "-----------------------------------------------------------------------------------------\n",
      "const                  9.486e-05      0.000      0.296      0.767      -0.001       0.001\n",
      "ar.L1.D2.market_value    -0.5460      0.042    -13.107      0.000      -0.628      -0.464\n",
      "ar.L2.D2.market_value    -0.9148      0.034    -27.072      0.000      -0.981      -0.849\n",
      "ar.L3.D2.market_value     0.0397      0.023      1.722      0.085      -0.005       0.085\n",
      "ma.L1.D2.market_value    -0.4146      0.036    -11.517      0.000      -0.485      -0.344\n",
      "ma.L2.D2.market_value     0.3162      0.047      6.772      0.000       0.225       0.408\n",
      "ma.L3.D2.market_value    -0.9016      0.040    -22.775      0.000      -0.979      -0.824\n",
      "                                    Roots                                    \n",
      "=============================================================================\n",
      "                  Real          Imaginary           Modulus         Frequency\n",
      "-----------------------------------------------------------------------------\n",
      "AR.1           -0.3130           -0.9830j            1.0316           -0.2991\n",
      "AR.2           -0.3130           +0.9830j            1.0316            0.2991\n",
      "AR.3           23.6604           -0.0000j           23.6604           -0.0000\n",
      "MA.1            1.0000           -0.0000j            1.0000           -0.0000\n",
      "MA.2           -0.3246           -1.0019j            1.0532           -0.2999\n",
      "MA.3           -0.3246           +1.0019j            1.0532            0.2999\n",
      "-----------------------------------------------------------------------------\n"
     ]
    }
   ],
   "source": [
    "#ARIMA(3,2,3)\n",
    "model_ar_3_i_2_ma_3 = ARIMA(df.market_value, order=(3,2,3))\n",
    "results_ar_3_i_2_ma_3 = model_ar_3_i_2_ma_3.fit()\n",
    "print(results_ar_3_i_2_ma_3.summary())"
   ]
  },
  {
   "cell_type": "code",
   "execution_count": 39,
   "metadata": {},
   "outputs": [
    {
     "name": "stdout",
     "output_type": "stream",
     "text": [
      "                             ARIMA Model Results                              \n",
      "==============================================================================\n",
      "Dep. Variable:        D2.market_value   No. Observations:                 2235\n",
      "Model:                 ARIMA(1, 2, 3)   Log Likelihood               -8218.869\n",
      "Method:                       css-mle   S.D. of innovations              9.551\n",
      "Date:                Mon, 29 Mar 2021   AIC                          16449.738\n",
      "Time:                        20:56:22   BIC                          16484.010\n",
      "Sample:                    06-09-2010   HQIC                         16462.251\n",
      "                         - 01-01-2019                                         \n",
      "=========================================================================================\n",
      "                            coef    std err          z      P>|z|      [0.025      0.975]\n",
      "-----------------------------------------------------------------------------------------\n",
      "const                  9.721e-05      0.000      0.313      0.754      -0.001       0.001\n",
      "ar.L1.D2.market_value    -0.2698      0.246     -1.095      0.273      -0.753       0.213\n",
      "ma.L1.D2.market_value    -0.6921      0.246     -2.814      0.005      -1.174      -0.210\n",
      "ma.L2.D2.market_value    -0.3557      0.231     -1.537      0.124      -0.809       0.098\n",
      "ma.L3.D2.market_value     0.0478      0.025      1.886      0.059      -0.002       0.097\n",
      "                                    Roots                                    \n",
      "=============================================================================\n",
      "                  Real          Imaginary           Modulus         Frequency\n",
      "-----------------------------------------------------------------------------\n",
      "AR.1           -3.7065           +0.0000j            3.7065            0.5000\n",
      "MA.1            1.0000           +0.0000j            1.0000            0.0000\n",
      "MA.2           -2.3733           +0.0000j            2.3733            0.5000\n",
      "MA.3            8.8154           +0.0000j            8.8154            0.0000\n",
      "-----------------------------------------------------------------------------\n"
     ]
    }
   ],
   "source": [
    "#ARIMA(1,2,3)\n",
    "model_ar_1_i_2_ma_3 = ARIMA(df.market_value, order=(1,2,3))\n",
    "results_ar_1_i_2_ma_3 = model_ar_1_i_2_ma_3.fit()\n",
    "print(results_ar_1_i_2_ma_3.summary())"
   ]
  },
  {
   "cell_type": "code",
   "execution_count": 40,
   "metadata": {},
   "outputs": [
    {
     "name": "stdout",
     "output_type": "stream",
     "text": [
      "                             ARIMA Model Results                              \n",
      "==============================================================================\n",
      "Dep. Variable:        D2.market_value   No. Observations:                 2235\n",
      "Model:                 ARIMA(2, 2, 3)   Log Likelihood               -8210.412\n",
      "Method:                       css-mle   S.D. of innovations              9.515\n",
      "Date:                Mon, 29 Mar 2021   AIC                          16434.823\n",
      "Time:                        20:57:38   BIC                          16474.807\n",
      "Sample:                    06-09-2010   HQIC                         16449.422\n",
      "                         - 01-01-2019                                         \n",
      "=========================================================================================\n",
      "                            coef    std err          z      P>|z|      [0.025      0.975]\n",
      "-----------------------------------------------------------------------------------------\n",
      "const                  9.577e-05      0.000      0.310      0.756      -0.001       0.001\n",
      "ar.L1.D2.market_value    -0.6035      0.030    -20.162      0.000      -0.662      -0.545\n",
      "ar.L2.D2.market_value    -0.9341      0.030    -30.783      0.000      -0.994      -0.875\n",
      "ma.L1.D2.market_value    -0.3872      0.037    -10.452      0.000      -0.460      -0.315\n",
      "ma.L2.D2.market_value     0.2869      0.046      6.238      0.000       0.197       0.377\n",
      "ma.L3.D2.market_value    -0.8997      0.037    -24.576      0.000      -0.971      -0.828\n",
      "                                    Roots                                    \n",
      "=============================================================================\n",
      "                  Real          Imaginary           Modulus         Frequency\n",
      "-----------------------------------------------------------------------------\n",
      "AR.1           -0.3230           -0.9829j            1.0346           -0.3005\n",
      "AR.2           -0.3230           +0.9829j            1.0346            0.3005\n",
      "MA.1            1.0000           -0.0000j            1.0000           -0.0000\n",
      "MA.2           -0.3406           -0.9977j            1.0543           -0.3024\n",
      "MA.3           -0.3406           +0.9977j            1.0543            0.3024\n",
      "-----------------------------------------------------------------------------\n"
     ]
    }
   ],
   "source": [
    "#ARIMA(2,2,3)\n",
    "model_ar_2_i_2_ma_3 = ARIMA(df.market_value, order=(2,2,3))\n",
    "results_ar_2_i_2_ma_3 = model_ar_2_i_2_ma_3.fit()\n",
    "print(results_ar_2_i_2_ma_3.summary())"
   ]
  },
  {
   "cell_type": "code",
   "execution_count": 41,
   "metadata": {},
   "outputs": [
    {
     "name": "stdout",
     "output_type": "stream",
     "text": [
      "                             ARIMA Model Results                              \n",
      "==============================================================================\n",
      "Dep. Variable:        D2.market_value   No. Observations:                 2235\n",
      "Model:                 ARIMA(2, 2, 2)   Log Likelihood               -8218.701\n",
      "Method:                       css-mle   S.D. of innovations              9.551\n",
      "Date:                Mon, 29 Mar 2021   AIC                          16449.403\n",
      "Time:                        20:59:26   BIC                          16483.675\n",
      "Sample:                    06-09-2010   HQIC                         16461.916\n",
      "                         - 01-01-2019                                         \n",
      "=========================================================================================\n",
      "                            coef    std err          z      P>|z|      [0.025      0.975]\n",
      "-----------------------------------------------------------------------------------------\n",
      "const                  9.559e-05      0.000      0.308      0.758      -0.001       0.001\n",
      "ar.L1.D2.market_value    -0.3091      0.211     -1.463      0.143      -0.723       0.105\n",
      "ar.L2.D2.market_value    -0.0494      0.024     -2.029      0.042      -0.097      -0.002\n",
      "ma.L1.D2.market_value    -0.6536      0.211     -3.099      0.002      -1.067      -0.240\n",
      "ma.L2.D2.market_value    -0.3463      0.211     -1.642      0.101      -0.760       0.067\n",
      "                                    Roots                                    \n",
      "=============================================================================\n",
      "                  Real          Imaginary           Modulus         Frequency\n",
      "-----------------------------------------------------------------------------\n",
      "AR.1           -3.1274           -3.2330j            4.4981           -0.3724\n",
      "AR.2           -3.1274           +3.2330j            4.4981            0.3724\n",
      "MA.1            1.0000           +0.0000j            1.0000            0.0000\n",
      "MA.2           -2.8873           +0.0000j            2.8873            0.5000\n",
      "-----------------------------------------------------------------------------\n"
     ]
    }
   ],
   "source": [
    "#ARIMA(2,2,2)\n",
    "model_ar_2_i_2_ma_2 = ARIMA(df.market_value, order=(2,2,2))\n",
    "results_ar_2_i_2_ma_2 = model_ar_2_i_2_ma_2.fit()\n",
    "print(results_ar_2_i_2_ma_2.summary())"
   ]
  },
  {
   "cell_type": "code",
   "execution_count": 42,
   "metadata": {},
   "outputs": [
    {
     "name": "stdout",
     "output_type": "stream",
     "text": [
      "                             ARIMA Model Results                              \n",
      "==============================================================================\n",
      "Dep. Variable:        D2.market_value   No. Observations:                 2235\n",
      "Model:                 ARIMA(2, 2, 3)   Log Likelihood               -8210.412\n",
      "Method:                       css-mle   S.D. of innovations              9.515\n",
      "Date:                Mon, 29 Mar 2021   AIC                          16434.823\n",
      "Time:                        21:00:39   BIC                          16474.807\n",
      "Sample:                    06-09-2010   HQIC                         16449.422\n",
      "                         - 01-01-2019                                         \n",
      "=========================================================================================\n",
      "                            coef    std err          z      P>|z|      [0.025      0.975]\n",
      "-----------------------------------------------------------------------------------------\n",
      "const                  9.577e-05      0.000      0.310      0.756      -0.001       0.001\n",
      "ar.L1.D2.market_value    -0.6035      0.030    -20.162      0.000      -0.662      -0.545\n",
      "ar.L2.D2.market_value    -0.9341      0.030    -30.783      0.000      -0.994      -0.875\n",
      "ma.L1.D2.market_value    -0.3872      0.037    -10.452      0.000      -0.460      -0.315\n",
      "ma.L2.D2.market_value     0.2869      0.046      6.238      0.000       0.197       0.377\n",
      "ma.L3.D2.market_value    -0.8997      0.037    -24.576      0.000      -0.971      -0.828\n",
      "                                    Roots                                    \n",
      "=============================================================================\n",
      "                  Real          Imaginary           Modulus         Frequency\n",
      "-----------------------------------------------------------------------------\n",
      "AR.1           -0.3230           -0.9829j            1.0346           -0.3005\n",
      "AR.2           -0.3230           +0.9829j            1.0346            0.3005\n",
      "MA.1            1.0000           -0.0000j            1.0000           -0.0000\n",
      "MA.2           -0.3406           -0.9977j            1.0543           -0.3024\n",
      "MA.3           -0.3406           +0.9977j            1.0543            0.3024\n",
      "-----------------------------------------------------------------------------\n"
     ]
    }
   ],
   "source": [
    "#ARIMA(2,2,3)\n",
    "model_ar_2_i_2_ma_3 = ARIMA(df.market_value, order=(2,2,3))\n",
    "results_ar_2_i_2_ma_3 = model_ar_2_i_2_ma_3.fit()\n",
    "print(results_ar_2_i_2_ma_3.summary())"
   ]
  },
  {
   "cell_type": "code",
   "execution_count": 43,
   "metadata": {},
   "outputs": [
    {
     "name": "stdout",
     "output_type": "stream",
     "text": [
      "                             ARIMA Model Results                              \n",
      "==============================================================================\n",
      "Dep. Variable:        D2.market_value   No. Observations:                 2235\n",
      "Model:                 ARIMA(2, 2, 4)   Log Likelihood               -8214.912\n",
      "Method:                       css-mle   S.D. of innovations              9.533\n",
      "Date:                Mon, 29 Mar 2021   AIC                          16445.824\n",
      "Time:                        21:01:42   BIC                          16491.520\n",
      "Sample:                    06-09-2010   HQIC                         16462.508\n",
      "                         - 01-01-2019                                         \n",
      "=========================================================================================\n",
      "                            coef    std err          z      P>|z|      [0.025      0.975]\n",
      "-----------------------------------------------------------------------------------------\n",
      "const                  9.377e-05      0.000      0.290      0.772      -0.001       0.001\n",
      "ar.L1.D2.market_value    -1.3104      0.015    -89.839      0.000      -1.339      -1.282\n",
      "ar.L2.D2.market_value    -0.9639      0.011    -86.292      0.000      -0.986      -0.942\n",
      "ma.L1.D2.market_value     0.3517      0.027     12.894      0.000       0.298       0.405\n",
      "ma.L2.D2.market_value    -0.3364      0.009    -35.525      0.000      -0.355      -0.318\n",
      "ma.L3.D2.market_value    -0.9950      0.012    -84.618      0.000      -1.018      -0.972\n",
      "ma.L4.D2.market_value    -0.0203      0.024     -0.858      0.391      -0.067       0.026\n",
      "                                    Roots                                    \n",
      "=============================================================================\n",
      "                  Real          Imaginary           Modulus         Frequency\n",
      "-----------------------------------------------------------------------------\n",
      "AR.1           -0.6798           -0.7585j            1.0186           -0.3663\n",
      "AR.2           -0.6798           +0.7585j            1.0186            0.3663\n",
      "MA.1            1.0000           -0.0000j            1.0000           -0.0000\n",
      "MA.2           -0.6737           -0.7472j            1.0061           -0.3668\n",
      "MA.3           -0.6737           +0.7472j            1.0061            0.3668\n",
      "MA.4          -48.5705           -0.0000j           48.5705           -0.5000\n",
      "-----------------------------------------------------------------------------\n"
     ]
    }
   ],
   "source": [
    "#ARIMA(2,2,4)\n",
    "model_ar_2_i_2_ma_4 = ARIMA(df.market_value, order=(2,2,4))\n",
    "results_ar_2_i_2_ma_4 = model_ar_2_i_2_ma_4.fit()\n",
    "print(results_ar_2_i_2_ma_4.summary())"
   ]
  },
  {
   "cell_type": "code",
   "execution_count": 44,
   "metadata": {},
   "outputs": [
    {
     "name": "stdout",
     "output_type": "stream",
     "text": [
      "                             ARIMA Model Results                              \n",
      "==============================================================================\n",
      "Dep. Variable:        D2.market_value   No. Observations:                 2235\n",
      "Model:                 ARIMA(3, 2, 2)   Log Likelihood               -8218.086\n",
      "Method:                       css-mle   S.D. of innovations              9.548\n",
      "Date:                Mon, 29 Mar 2021   AIC                          16450.172\n",
      "Time:                        21:04:49   BIC                          16490.156\n",
      "Sample:                    06-09-2010   HQIC                         16464.771\n",
      "                         - 01-01-2019                                         \n",
      "=========================================================================================\n",
      "                            coef    std err          z      P>|z|      [0.025      0.975]\n",
      "-----------------------------------------------------------------------------------------\n",
      "const                   9.52e-05      0.000      0.299      0.765      -0.001       0.001\n",
      "ar.L1.D2.market_value    -0.0109        nan        nan        nan         nan         nan\n",
      "ar.L2.D2.market_value    -0.0567        nan        nan        nan         nan         nan\n",
      "ar.L3.D2.market_value     0.0362        nan        nan        nan         nan         nan\n",
      "ma.L1.D2.market_value    -0.9512        nan        nan        nan         nan         nan\n",
      "ma.L2.D2.market_value    -0.0488        nan        nan        nan         nan         nan\n",
      "                                    Roots                                    \n",
      "=============================================================================\n",
      "                  Real          Imaginary           Modulus         Frequency\n",
      "-----------------------------------------------------------------------------\n",
      "AR.1           -1.0585           -2.5246j            2.7375           -0.3132\n",
      "AR.2           -1.0585           +2.5246j            2.7375            0.3132\n",
      "AR.3            3.6817           -0.0000j            3.6817           -0.0000\n",
      "MA.1            1.0000           +0.0000j            1.0000            0.0000\n",
      "MA.2          -20.4883           +0.0000j           20.4883            0.5000\n",
      "-----------------------------------------------------------------------------\n"
     ]
    }
   ],
   "source": [
    "#ARIMA(3,2,2)\n",
    "model_ar_3_i_2_ma_2 = ARIMA(df.market_value, order=(3,2,2))\n",
    "results_ar_3_i_2_ma_2 = model_ar_3_i_2_ma_2.fit()\n",
    "print(results_ar_3_i_2_ma_2.summary())"
   ]
  },
  {
   "cell_type": "code",
   "execution_count": 45,
   "metadata": {},
   "outputs": [
    {
     "name": "stdout",
     "output_type": "stream",
     "text": [
      "                             ARIMA Model Results                              \n",
      "==============================================================================\n",
      "Dep. Variable:        D2.market_value   No. Observations:                 2235\n",
      "Model:                 ARIMA(1, 2, 2)   Log Likelihood               -8220.341\n",
      "Method:                       css-mle   S.D. of innovations              9.558\n",
      "Date:                Mon, 29 Mar 2021   AIC                          16450.682\n",
      "Time:                        21:07:38   BIC                          16479.242\n",
      "Sample:                    06-09-2010   HQIC                         16461.109\n",
      "                         - 01-01-2019                                         \n",
      "=========================================================================================\n",
      "                            coef    std err          z      P>|z|      [0.025      0.975]\n",
      "-----------------------------------------------------------------------------------------\n",
      "const                     0.0001      0.000      0.315      0.753      -0.001       0.001\n",
      "ar.L1.D2.market_value    -0.5690      0.156     -3.658      0.000      -0.874      -0.264\n",
      "ma.L1.D2.market_value    -0.3798      0.148     -2.569      0.010      -0.670      -0.090\n",
      "ma.L2.D2.market_value    -0.6201      0.148     -4.195      0.000      -0.910      -0.330\n",
      "                                    Roots                                    \n",
      "=============================================================================\n",
      "                  Real          Imaginary           Modulus         Frequency\n",
      "-----------------------------------------------------------------------------\n",
      "AR.1           -1.7575           +0.0000j            1.7575            0.5000\n",
      "MA.1            1.0000           +0.0000j            1.0000            0.0000\n",
      "MA.2           -1.6126           +0.0000j            1.6126            0.5000\n",
      "-----------------------------------------------------------------------------\n"
     ]
    }
   ],
   "source": [
    "#ARIMA(1,2,2)\n",
    "model_ar_1_i_2_ma_2 = ARIMA(df.market_value, order=(1,2,2))\n",
    "results_ar_1_i_2_ma_2 = model_ar_1_i_2_ma_2.fit()\n",
    "print(results_ar_1_i_2_ma_2.summary())"
   ]
  },
  {
   "cell_type": "code",
   "execution_count": 46,
   "metadata": {},
   "outputs": [
    {
     "name": "stdout",
     "output_type": "stream",
     "text": [
      "                             ARIMA Model Results                              \n",
      "==============================================================================\n",
      "Dep. Variable:        D2.market_value   No. Observations:                 2235\n",
      "Model:                 ARIMA(1, 2, 1)   Log Likelihood               -8223.443\n",
      "Method:                       css-mle   S.D. of innovations              9.571\n",
      "Date:                Mon, 29 Mar 2021   AIC                          16454.886\n",
      "Time:                        21:09:02   BIC                          16477.734\n",
      "Sample:                    06-09-2010   HQIC                         16463.228\n",
      "                         - 01-01-2019                                         \n",
      "=========================================================================================\n",
      "                            coef    std err          z      P>|z|      [0.025      0.975]\n",
      "-----------------------------------------------------------------------------------------\n",
      "const                   9.59e-05      0.000      0.295      0.768      -0.001       0.001\n",
      "ar.L1.D2.market_value     0.0337      0.021      1.595      0.111      -0.008       0.075\n",
      "ma.L1.D2.market_value    -1.0000      0.001   -839.307      0.000      -1.002      -0.998\n",
      "                                    Roots                                    \n",
      "=============================================================================\n",
      "                  Real          Imaginary           Modulus         Frequency\n",
      "-----------------------------------------------------------------------------\n",
      "AR.1           29.6519           +0.0000j           29.6519            0.0000\n",
      "MA.1            1.0000           +0.0000j            1.0000            0.0000\n",
      "-----------------------------------------------------------------------------\n"
     ]
    }
   ],
   "source": [
    "#ARIMA(1,2,1)\n",
    "model_ar_1_i_2_ma_1 = ARIMA(df.market_value, order=(1,2,1))\n",
    "results_ar_1_i_2_ma_1 = model_ar_1_i_2_ma_1.fit()\n",
    "print(results_ar_1_i_2_ma_1.summary())"
   ]
  },
  {
   "cell_type": "code",
   "execution_count": 47,
   "metadata": {},
   "outputs": [
    {
     "name": "stdout",
     "output_type": "stream",
     "text": [
      "                             ARIMA Model Results                              \n",
      "==============================================================================\n",
      "Dep. Variable:        D2.market_value   No. Observations:                 2235\n",
      "Model:                 ARIMA(1, 2, 2)   Log Likelihood               -8220.341\n",
      "Method:                       css-mle   S.D. of innovations              9.558\n",
      "Date:                Mon, 29 Mar 2021   AIC                          16450.682\n",
      "Time:                        21:13:04   BIC                          16479.242\n",
      "Sample:                    06-09-2010   HQIC                         16461.109\n",
      "                         - 01-01-2019                                         \n",
      "=========================================================================================\n",
      "                            coef    std err          z      P>|z|      [0.025      0.975]\n",
      "-----------------------------------------------------------------------------------------\n",
      "const                     0.0001      0.000      0.315      0.753      -0.001       0.001\n",
      "ar.L1.D2.market_value    -0.5690      0.156     -3.658      0.000      -0.874      -0.264\n",
      "ma.L1.D2.market_value    -0.3798      0.148     -2.569      0.010      -0.670      -0.090\n",
      "ma.L2.D2.market_value    -0.6201      0.148     -4.195      0.000      -0.910      -0.330\n",
      "                                    Roots                                    \n",
      "=============================================================================\n",
      "                  Real          Imaginary           Modulus         Frequency\n",
      "-----------------------------------------------------------------------------\n",
      "AR.1           -1.7575           +0.0000j            1.7575            0.5000\n",
      "MA.1            1.0000           +0.0000j            1.0000            0.0000\n",
      "MA.2           -1.6126           +0.0000j            1.6126            0.5000\n",
      "-----------------------------------------------------------------------------\n"
     ]
    }
   ],
   "source": [
    "#ARIMA(1,2,2)\n",
    "model_ar_1_i_2_ma_2 = ARIMA(df.market_value, order=(1,2,2))\n",
    "results_ar_1_i_2_ma_2 = model_ar_1_i_2_ma_2.fit()\n",
    "print(results_ar_1_i_2_ma_2.summary())"
   ]
  },
  {
   "cell_type": "code",
   "execution_count": 48,
   "metadata": {},
   "outputs": [
    {
     "name": "stdout",
     "output_type": "stream",
     "text": [
      "                             ARIMA Model Results                              \n",
      "==============================================================================\n",
      "Dep. Variable:        D2.market_value   No. Observations:                 2235\n",
      "Model:                 ARIMA(1, 2, 4)   Log Likelihood               -8217.054\n",
      "Method:                       css-mle   S.D. of innovations              9.544\n",
      "Date:                Mon, 29 Mar 2021   AIC                          16448.109\n",
      "Time:                        21:14:54   BIC                          16488.093\n",
      "Sample:                    06-09-2010   HQIC                         16462.708\n",
      "                         - 01-01-2019                                         \n",
      "=========================================================================================\n",
      "                            coef    std err          z      P>|z|      [0.025      0.975]\n",
      "-----------------------------------------------------------------------------------------\n",
      "const                  9.458e-05      0.000      0.310      0.757      -0.001       0.001\n",
      "ar.L1.D2.market_value    -0.9860      0.010   -103.146      0.000      -1.005      -0.967\n",
      "ma.L1.D2.market_value     0.0291      0.023      1.257      0.209      -0.016       0.075\n",
      "ma.L2.D2.market_value    -1.0492      0.023    -45.181      0.000      -1.095      -1.004\n",
      "ma.L3.D2.market_value    -0.0491      0.021     -2.321      0.020      -0.091      -0.008\n",
      "ma.L4.D2.market_value     0.0692      0.021      3.228      0.001       0.027       0.111\n",
      "                                    Roots                                    \n",
      "=============================================================================\n",
      "                  Real          Imaginary           Modulus         Frequency\n",
      "-----------------------------------------------------------------------------\n",
      "AR.1           -1.0142           +0.0000j            1.0142            0.5000\n",
      "MA.1           -1.0233           +0.0000j            1.0233            0.5000\n",
      "MA.2            1.0000           +0.0000j            1.0000            0.0000\n",
      "MA.3           -3.4086           +0.0000j            3.4086            0.5000\n",
      "MA.4            4.1413           +0.0000j            4.1413            0.0000\n",
      "-----------------------------------------------------------------------------\n"
     ]
    }
   ],
   "source": [
    "#ARIMA(1,2,4)\n",
    "model_ar_1_i_2_ma_4 = ARIMA(df.market_value, order=(1,2,4))\n",
    "results_ar_1_i_2_ma_4 = model_ar_1_i_2_ma_4.fit()\n",
    "print(results_ar_1_i_2_ma_4.summary())"
   ]
  },
  {
   "cell_type": "code",
   "execution_count": 49,
   "metadata": {},
   "outputs": [
    {
     "name": "stdout",
     "output_type": "stream",
     "text": [
      "                             ARIMA Model Results                              \n",
      "==============================================================================\n",
      "Dep. Variable:        D2.market_value   No. Observations:                 2235\n",
      "Model:                 ARIMA(1, 2, 5)   Log Likelihood               -8215.188\n",
      "Method:                       css-mle   S.D. of innovations              9.536\n",
      "Date:                Mon, 29 Mar 2021   AIC                          16446.377\n",
      "Time:                        21:16:57   BIC                          16492.073\n",
      "Sample:                    06-09-2010   HQIC                         16463.061\n",
      "                         - 01-01-2019                                         \n",
      "=========================================================================================\n",
      "                            coef    std err          z      P>|z|      [0.025      0.975]\n",
      "-----------------------------------------------------------------------------------------\n",
      "const                  9.437e-05      0.000      0.295      0.768      -0.001       0.001\n",
      "ar.L1.D2.market_value    -0.9853      0.010   -102.636      0.000      -1.004      -0.966\n",
      "ma.L1.D2.market_value     0.0267      0.023      1.152      0.249      -0.019       0.072\n",
      "ma.L2.D2.market_value    -1.0430      0.023    -44.515      0.000      -1.089      -0.997\n",
      "ma.L3.D2.market_value    -0.0054      0.031     -0.177      0.859      -0.066       0.055\n",
      "ma.L4.D2.market_value     0.0646      0.021      3.007      0.003       0.023       0.107\n",
      "ma.L5.D2.market_value    -0.0428      0.022     -1.942      0.052      -0.086       0.000\n",
      "                                    Roots                                    \n",
      "=============================================================================\n",
      "                  Real          Imaginary           Modulus         Frequency\n",
      "-----------------------------------------------------------------------------\n",
      "AR.1           -1.0149           +0.0000j            1.0149            0.5000\n",
      "MA.1            1.0000           -0.0000j            1.0000           -0.0000\n",
      "MA.2           -1.0265           -0.0000j            1.0265           -0.5000\n",
      "MA.3           -2.2878           -0.0000j            2.2878           -0.5000\n",
      "MA.4            1.9118           -2.5074j            3.1531           -0.1463\n",
      "MA.5            1.9118           +2.5074j            3.1531            0.1463\n",
      "-----------------------------------------------------------------------------\n"
     ]
    }
   ],
   "source": [
    "#ARIMA(1,2,5)\n",
    "model_ar_1_i_2_ma_5 = ARIMA(df.market_value, order=(1,2,5))\n",
    "results_ar_1_i_2_ma_5 = model_ar_1_i_2_ma_5.fit()\n",
    "print(results_ar_1_i_2_ma_5.summary())"
   ]
  },
  {
   "cell_type": "code",
   "execution_count": 55,
   "metadata": {},
   "outputs": [
    {
     "name": "stdout",
     "output_type": "stream",
     "text": [
      "\t ARIMA(4,2,4): \t LLR :  -8207.35629794157 \t AIC:  16434.71259588314\n",
      "\t ARIMA(3,2,3): \t LLR :  -8208.96318073307 \t AIC:  16433.92636146614\n",
      "\t ARIMA(2,2,3): \t LLR :  -8210.41152055109 \t AIC:  16434.82304110218\n",
      "\t ARIMA(1,2,2): \t LLR :  -8220.340786130108 \t AIC:  16450.681572260215\n"
     ]
    }
   ],
   "source": [
    "#Best Models\n",
    "#(4,2,1),(4,2,4),(3,2,3),(2,2,3),(1,2,2)\n",
    "print('\\t ARIMA(4,2,4): \\t LLR : ', results_ar_4_i_2_ma_4.llf, '\\t AIC: ', results_ar_4_i_2_ma_4.aic)\n",
    "print('\\t ARIMA(3,2,3): \\t LLR : ', results_ar_3_i_2_ma_3.llf, '\\t AIC: ', results_ar_3_i_2_ma_3.aic)\n",
    "print('\\t ARIMA(2,2,3): \\t LLR : ', results_ar_2_i_2_ma_3.llf, '\\t AIC: ', results_ar_2_i_2_ma_3.aic)\n",
    "print('\\t ARIMA(1,2,2): \\t LLR : ', results_ar_1_i_2_ma_2.llf, '\\t AIC: ', results_ar_1_i_2_ma_2.aic)"
   ]
  },
  {
   "cell_type": "code",
   "execution_count": 53,
   "metadata": {},
   "outputs": [
    {
     "name": "stdout",
     "output_type": "stream",
     "text": [
      "                             ARIMA Model Results                              \n",
      "==============================================================================\n",
      "Dep. Variable:        D2.market_value   No. Observations:                 2235\n",
      "Model:                 ARIMA(1, 2, 2)   Log Likelihood               -8220.341\n",
      "Method:                       css-mle   S.D. of innovations              9.558\n",
      "Date:                Mon, 29 Mar 2021   AIC                          16450.682\n",
      "Time:                        21:32:44   BIC                          16479.242\n",
      "Sample:                    06-09-2010   HQIC                         16461.109\n",
      "                         - 01-01-2019                                         \n",
      "=========================================================================================\n",
      "                            coef    std err          z      P>|z|      [0.025      0.975]\n",
      "-----------------------------------------------------------------------------------------\n",
      "const                     0.0001      0.000      0.315      0.753      -0.001       0.001\n",
      "ar.L1.D2.market_value    -0.5690      0.156     -3.658      0.000      -0.874      -0.264\n",
      "ma.L1.D2.market_value    -0.3798      0.148     -2.569      0.010      -0.670      -0.090\n",
      "ma.L2.D2.market_value    -0.6201      0.148     -4.195      0.000      -0.910      -0.330\n",
      "                                    Roots                                    \n",
      "=============================================================================\n",
      "                  Real          Imaginary           Modulus         Frequency\n",
      "-----------------------------------------------------------------------------\n",
      "AR.1           -1.7575           +0.0000j            1.7575            0.5000\n",
      "MA.1            1.0000           +0.0000j            1.0000            0.0000\n",
      "MA.2           -1.6126           +0.0000j            1.6126            0.5000\n",
      "-----------------------------------------------------------------------------\n"
     ]
    }
   ],
   "source": [
    "print(results_ar_1_i_2_ma_2.summary())"
   ]
  },
  {
   "cell_type": "code",
   "execution_count": 57,
   "metadata": {},
   "outputs": [
    {
     "data": {
      "image/png": "[encoded data removed]",
      "text/plain": [
       "<Figure size 432x288 with 1 Axes>"
      ]
     },
     "metadata": {},
     "output_type": "display_data"
    }
   ],
   "source": [
    "df['res_ar_1_i_2_ma_2'] = results_ar_1_i_2_ma_2.resid\n",
    "sgt.plot_acf(df.res_ar_1_i_2_ma_2[2:], zero = False, lags = 40)\n",
    "plt.title('Residuals For ARIMA(1,1,2)', size = 18)\n",
    "plt.show()"
   ]
  },
  {
   "cell_type": "code",
   "execution_count": null,
   "metadata": {},
   "outputs": [],
   "source": []
  }
 ],
 "metadata": {
  "kernelspec": {
   "display_name": "base",
   "language": "python",
   "name": "python3"
  },
  "language_info": {
   "codemirror_mode": {
    "name": "ipython",
    "version": 3
   },
   "file_extension": ".py",
   "mimetype": "text/x-python",
   "name": "python",
   "nbconvert_exporter": "python",
   "pygments_lexer": "ipython3",
   "version": "3.8.8 (default, Apr 13 2021, 15:08:03) [MSC v.1916 64 bit (AMD64)]"
  },
  "vscode": {
   "interpreter": {
    "hash": "a3d1f5a40e83e699fa9d98d411f8d9f4af992d6222f178debd8b0cd072f22c83"
   }
  }
 },
 "nbformat": 4,
 "nbformat_minor": 4
}
