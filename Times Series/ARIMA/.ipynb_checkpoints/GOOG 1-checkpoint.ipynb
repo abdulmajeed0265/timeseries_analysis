{
 "cells": [
  {
   "cell_type": "code",
   "execution_count": 4,
   "metadata": {},
   "outputs": [],
   "source": [
    "import pandas as pd\n",
    "import numpy as np\n",
    "import matplotlib.pyplot as plt\n",
    "import statsmodels.tsa.stattools as sts\n",
    "from statsmodels.tsa.arima_model import ARIMA\n",
    "from scipy.stats.distributions import chi2\n",
    "import statsmodels.graphics.tsaplots as sgt\n",
    "from math import sqrt\n",
    "import seaborn as sns\n",
    "sns.set()"
   ]
  },
  {
   "cell_type": "markdown",
   "metadata": {},
   "source": [
    "### Importing Data And Data Pre-Processing"
   ]
  },
  {
   "cell_type": "code",
   "execution_count": 5,
   "metadata": {},
   "outputs": [],
   "source": [
    "raw_csv_data = pd.read_csv('GOOG1.csv')\n",
    "df_comp = raw_csv_data.copy()\n",
    "#Converting Time\n",
    "df_comp.Date = pd.to_datetime(df_comp.Date, dayfirst=True)\n",
    "#Setting Date as an index\n",
    "df_comp.set_index('Date', inplace=True)\n",
    "#Setting Frequency as business working days\n",
    "df_comp = df_comp.asfreq('b')\n",
    "#Filling the Missing or Empty Values\n",
    "df_comp = df_comp.fillna(method='ffill')\n",
    "df_comp['market_value'] = df_comp.Close"
   ]
  },
  {
   "cell_type": "code",
   "execution_count": 6,
   "metadata": {},
   "outputs": [
    {
     "data": {
      "text/html": [
       "<div>\n",
       "<style scoped>\n",
       "    .dataframe tbody tr th:only-of-type {\n",
       "        vertical-align: middle;\n",
       "    }\n",
       "\n",
       "    .dataframe tbody tr th {\n",
       "        vertical-align: top;\n",
       "    }\n",
       "\n",
       "    .dataframe thead th {\n",
       "        text-align: right;\n",
       "    }\n",
       "</style>\n",
       "<table border=\"1\" class=\"dataframe\">\n",
       "  <thead>\n",
       "    <tr style=\"text-align: right;\">\n",
       "      <th></th>\n",
       "      <th>Open</th>\n",
       "      <th>High</th>\n",
       "      <th>Low</th>\n",
       "      <th>Close</th>\n",
       "      <th>Adj Close</th>\n",
       "      <th>Volume</th>\n",
       "      <th>market_value</th>\n",
       "    </tr>\n",
       "    <tr>\n",
       "      <th>Date</th>\n",
       "      <th></th>\n",
       "      <th></th>\n",
       "      <th></th>\n",
       "      <th></th>\n",
       "      <th></th>\n",
       "      <th></th>\n",
       "      <th></th>\n",
       "    </tr>\n",
       "  </thead>\n",
       "  <tbody>\n",
       "    <tr>\n",
       "      <th>2010-06-07</th>\n",
       "      <td>248.598190</td>\n",
       "      <td>249.519745</td>\n",
       "      <td>240.672897</td>\n",
       "      <td>241.853470</td>\n",
       "      <td>241.853470</td>\n",
       "      <td>7292633.0</td>\n",
       "      <td>241.853470</td>\n",
       "    </tr>\n",
       "    <tr>\n",
       "      <th>2010-06-08</th>\n",
       "      <td>243.014130</td>\n",
       "      <td>243.507278</td>\n",
       "      <td>237.878372</td>\n",
       "      <td>241.484848</td>\n",
       "      <td>241.484848</td>\n",
       "      <td>5390329.0</td>\n",
       "      <td>241.484848</td>\n",
       "    </tr>\n",
       "    <tr>\n",
       "      <th>2010-06-09</th>\n",
       "      <td>242.700302</td>\n",
       "      <td>243.527206</td>\n",
       "      <td>235.118713</td>\n",
       "      <td>236.124939</td>\n",
       "      <td>236.124939</td>\n",
       "      <td>5478458.0</td>\n",
       "      <td>236.124939</td>\n",
       "    </tr>\n",
       "    <tr>\n",
       "      <th>2010-06-10</th>\n",
       "      <td>239.288086</td>\n",
       "      <td>243.337906</td>\n",
       "      <td>237.031555</td>\n",
       "      <td>242.595688</td>\n",
       "      <td>242.595688</td>\n",
       "      <td>5175125.0</td>\n",
       "      <td>242.595688</td>\n",
       "    </tr>\n",
       "    <tr>\n",
       "      <th>2010-06-11</th>\n",
       "      <td>240.349106</td>\n",
       "      <td>243.442520</td>\n",
       "      <td>239.910751</td>\n",
       "      <td>243.337906</td>\n",
       "      <td>243.337906</td>\n",
       "      <td>3576756.0</td>\n",
       "      <td>243.337906</td>\n",
       "    </tr>\n",
       "  </tbody>\n",
       "</table>\n",
       "</div>"
      ],
      "text/plain": [
       "                  Open        High         Low       Close   Adj Close  \\\n",
       "Date                                                                     \n",
       "2010-06-07  248.598190  249.519745  240.672897  241.853470  241.853470   \n",
       "2010-06-08  243.014130  243.507278  237.878372  241.484848  241.484848   \n",
       "2010-06-09  242.700302  243.527206  235.118713  236.124939  236.124939   \n",
       "2010-06-10  239.288086  243.337906  237.031555  242.595688  242.595688   \n",
       "2010-06-11  240.349106  243.442520  239.910751  243.337906  243.337906   \n",
       "\n",
       "               Volume  market_value  \n",
       "Date                                 \n",
       "2010-06-07  7292633.0    241.853470  \n",
       "2010-06-08  5390329.0    241.484848  \n",
       "2010-06-09  5478458.0    236.124939  \n",
       "2010-06-10  5175125.0    242.595688  \n",
       "2010-06-11  3576756.0    243.337906  "
      ]
     },
     "execution_count": 6,
     "metadata": {},
     "output_type": "execute_result"
    }
   ],
   "source": [
    "df_comp.head()"
   ]
  },
  {
   "cell_type": "code",
   "execution_count": 7,
   "metadata": {},
   "outputs": [
    {
     "data": {
      "text/plain": [
       "Open            0\n",
       "High            0\n",
       "Low             0\n",
       "Close           0\n",
       "Adj Close       0\n",
       "Volume          0\n",
       "market_value    0\n",
       "dtype: int64"
      ]
     },
     "execution_count": 7,
     "metadata": {},
     "output_type": "execute_result"
    }
   ],
   "source": [
    "df_comp.isnull().sum()"
   ]
  },
  {
   "cell_type": "code",
   "execution_count": 8,
   "metadata": {},
   "outputs": [],
   "source": [
    "del df_comp['Open']\n",
    "del df_comp['High']\n",
    "del df_comp['Low']\n",
    "del df_comp['Adj Close']\n",
    "del df_comp['Volume']"
   ]
  },
  {
   "cell_type": "code",
   "execution_count": 9,
   "metadata": {},
   "outputs": [
    {
     "data": {
      "text/html": [
       "<div>\n",
       "<style scoped>\n",
       "    .dataframe tbody tr th:only-of-type {\n",
       "        vertical-align: middle;\n",
       "    }\n",
       "\n",
       "    .dataframe tbody tr th {\n",
       "        vertical-align: top;\n",
       "    }\n",
       "\n",
       "    .dataframe thead th {\n",
       "        text-align: right;\n",
       "    }\n",
       "</style>\n",
       "<table border=\"1\" class=\"dataframe\">\n",
       "  <thead>\n",
       "    <tr style=\"text-align: right;\">\n",
       "      <th></th>\n",
       "      <th>Close</th>\n",
       "      <th>market_value</th>\n",
       "    </tr>\n",
       "    <tr>\n",
       "      <th>Date</th>\n",
       "      <th></th>\n",
       "      <th></th>\n",
       "    </tr>\n",
       "  </thead>\n",
       "  <tbody>\n",
       "    <tr>\n",
       "      <th>2010-06-07</th>\n",
       "      <td>241.853470</td>\n",
       "      <td>241.853470</td>\n",
       "    </tr>\n",
       "    <tr>\n",
       "      <th>2010-06-08</th>\n",
       "      <td>241.484848</td>\n",
       "      <td>241.484848</td>\n",
       "    </tr>\n",
       "    <tr>\n",
       "      <th>2010-06-09</th>\n",
       "      <td>236.124939</td>\n",
       "      <td>236.124939</td>\n",
       "    </tr>\n",
       "    <tr>\n",
       "      <th>2010-06-10</th>\n",
       "      <td>242.595688</td>\n",
       "      <td>242.595688</td>\n",
       "    </tr>\n",
       "    <tr>\n",
       "      <th>2010-06-11</th>\n",
       "      <td>243.337906</td>\n",
       "      <td>243.337906</td>\n",
       "    </tr>\n",
       "  </tbody>\n",
       "</table>\n",
       "</div>"
      ],
      "text/plain": [
       "                 Close  market_value\n",
       "Date                                \n",
       "2010-06-07  241.853470    241.853470\n",
       "2010-06-08  241.484848    241.484848\n",
       "2010-06-09  236.124939    236.124939\n",
       "2010-06-10  242.595688    242.595688\n",
       "2010-06-11  243.337906    243.337906"
      ]
     },
     "execution_count": 9,
     "metadata": {},
     "output_type": "execute_result"
    }
   ],
   "source": [
    "df_comp.head()"
   ]
  },
  {
   "cell_type": "markdown",
   "metadata": {},
   "source": [
    "### Splitting Data"
   ]
  },
  {
   "cell_type": "code",
   "execution_count": 10,
   "metadata": {},
   "outputs": [],
   "source": [
    "size = int(len(df_comp) * 0.8)\n",
    "df, df_test = df_comp[:size], df_comp[size:]"
   ]
  },
  {
   "cell_type": "code",
   "execution_count": 11,
   "metadata": {},
   "outputs": [
    {
     "data": {
      "text/plain": [
       "Close           2237\n",
       "market_value    2237\n",
       "dtype: int64"
      ]
     },
     "execution_count": 11,
     "metadata": {},
     "output_type": "execute_result"
    }
   ],
   "source": [
    "df.count()"
   ]
  },
  {
   "cell_type": "code",
   "execution_count": 12,
   "metadata": {},
   "outputs": [
    {
     "data": {
      "text/plain": [
       "Close           560\n",
       "market_value    560\n",
       "dtype: int64"
      ]
     },
     "execution_count": 12,
     "metadata": {},
     "output_type": "execute_result"
    }
   ],
   "source": [
    "df_test.count()"
   ]
  },
  {
   "cell_type": "code",
   "execution_count": 13,
   "metadata": {},
   "outputs": [],
   "source": [
    "#Filtering Warnings\n",
    "import warnings\n",
    "warnings.filterwarnings('ignore')"
   ]
  },
  {
   "cell_type": "markdown",
   "metadata": {},
   "source": [
    "## The Models"
   ]
  },
  {
   "cell_type": "code",
   "execution_count": 14,
   "metadata": {},
   "outputs": [
    {
     "name": "stdout",
     "output_type": "stream",
     "text": [
      "                             ARIMA Model Results                              \n",
      "==============================================================================\n",
      "Dep. Variable:         D.market_value   No. Observations:                 2236\n",
      "Model:                 ARIMA(1, 1, 1)   Log Likelihood               -8219.736\n",
      "Method:                       css-mle   S.D. of innovations              9.556\n",
      "Date:                Mon, 29 Mar 2021   AIC                          16447.472\n",
      "Time:                        15:37:13   BIC                          16470.322\n",
      "Sample:                    06-08-2010   HQIC                         16455.815\n",
      "                         - 01-01-2019                                         \n",
      "========================================================================================\n",
      "                           coef    std err          z      P>|z|      [0.025      0.975]\n",
      "----------------------------------------------------------------------------------------\n",
      "const                    0.3552      0.209      1.702      0.089      -0.054       0.764\n",
      "ar.L1.D.market_value    -0.5660      0.157     -3.606      0.000      -0.874      -0.258\n",
      "ma.L1.D.market_value     0.6174      0.149      4.135      0.000       0.325       0.910\n",
      "                                    Roots                                    \n",
      "=============================================================================\n",
      "                  Real          Imaginary           Modulus         Frequency\n",
      "-----------------------------------------------------------------------------\n",
      "AR.1           -1.7668           +0.0000j            1.7668            0.5000\n",
      "MA.1           -1.6196           +0.0000j            1.6196            0.5000\n",
      "-----------------------------------------------------------------------------\n"
     ]
    }
   ],
   "source": [
    "#ARIMA(1,1,1)\n",
    "model_ar_1_i_1_ma_1 = ARIMA(df.market_value, order=(1,1,1))\n",
    "results_ar_1_i_1_ma_1 = model_ar_1_i_1_ma_1.fit()\n",
    "print(results_ar_1_i_1_ma_1.summary())"
   ]
  },
  {
   "cell_type": "markdown",
   "metadata": {},
   "source": [
    "### Residuals of ARIMA(1,1,1)"
   ]
  },
  {
   "cell_type": "code",
   "execution_count": 15,
   "metadata": {},
   "outputs": [],
   "source": [
    "df['res_ar_1_i_1_ma_1'] = results_ar_1_i_1_ma_1.resid"
   ]
  },
  {
   "cell_type": "markdown",
   "metadata": {},
   "source": [
    "### ACF for Residuals of ARIMA(1,1,1)"
   ]
  },
  {
   "cell_type": "code",
   "execution_count": 16,
   "metadata": {},
   "outputs": [
    {
     "data": {
      "image/png": "[encoded data removed]",
      "text/plain": [
       "<Figure size 432x288 with 1 Axes>"
      ]
     },
     "metadata": {},
     "output_type": "display_data"
    }
   ],
   "source": [
    "sgt.plot_acf(df.res_ar_1_i_1_ma_1[1:], zero=False, lags=40)\n",
    "plt.title('ACF of Residuals for ARIMA(1,1,1)', size = 20)\n",
    "plt.show()"
   ]
  },
  {
   "cell_type": "markdown",
   "metadata": {},
   "source": [
    "### Testing For Better Models"
   ]
  },
  {
   "cell_type": "code",
   "execution_count": 17,
   "metadata": {},
   "outputs": [
    {
     "name": "stdout",
     "output_type": "stream",
     "text": [
      "                             ARIMA Model Results                              \n",
      "==============================================================================\n",
      "Dep. Variable:         D.market_value   No. Observations:                 2236\n",
      "Model:                 ARIMA(5, 1, 5)   Log Likelihood               -8199.178\n",
      "Method:                       css-mle   S.D. of innovations              9.468\n",
      "Date:                Mon, 29 Mar 2021   AIC                          16422.357\n",
      "Time:                        15:37:39   BIC                          16490.906\n",
      "Sample:                    06-08-2010   HQIC                         16447.385\n",
      "                         - 01-01-2019                                         \n",
      "========================================================================================\n",
      "                           coef    std err          z      P>|z|      [0.025      0.975]\n",
      "----------------------------------------------------------------------------------------\n",
      "const                    0.3507      0.170      2.062      0.039       0.017       0.684\n",
      "ar.L1.D.market_value     0.1404      0.103      1.358      0.174      -0.062       0.343\n",
      "ar.L2.D.market_value     0.3818      0.071      5.405      0.000       0.243       0.520\n",
      "ar.L3.D.market_value     0.3894      0.062      6.267      0.000       0.268       0.511\n",
      "ar.L4.D.market_value     0.3395      0.085      4.012      0.000       0.174       0.505\n",
      "ar.L5.D.market_value    -0.7469      0.105     -7.125      0.000      -0.952      -0.541\n",
      "ma.L1.D.market_value    -0.1147      0.110     -1.043      0.297      -0.330       0.101\n",
      "ma.L2.D.market_value    -0.4155      0.078     -5.344      0.000      -0.568      -0.263\n",
      "ma.L3.D.market_value    -0.3882      0.072     -5.356      0.000      -0.530      -0.246\n",
      "ma.L4.D.market_value    -0.3314      0.096     -3.465      0.001      -0.519      -0.144\n",
      "ma.L5.D.market_value     0.6706      0.112      5.981      0.000       0.451       0.890\n",
      "                                    Roots                                    \n",
      "=============================================================================\n",
      "                  Real          Imaginary           Modulus         Frequency\n",
      "-----------------------------------------------------------------------------\n",
      "AR.1           -1.0132           -0.0000j            1.0132           -0.5000\n",
      "AR.2           -0.3180           -0.9886j            1.0385           -0.2995\n",
      "AR.3           -0.3180           +0.9886j            1.0385            0.2995\n",
      "AR.4            1.0519           -0.3446j            1.1069           -0.0504\n",
      "AR.5            1.0519           +0.3446j            1.1069            0.0504\n",
      "MA.1           -1.0195           -0.0000j            1.0195           -0.5000\n",
      "MA.2           -0.3345           -1.0094j            1.0634           -0.3009\n",
      "MA.3           -0.3345           +1.0094j            1.0634            0.3009\n",
      "MA.4            1.0913           -0.3204j            1.1374           -0.0454\n",
      "MA.5            1.0913           +0.3204j            1.1374            0.0454\n",
      "-----------------------------------------------------------------------------\n"
     ]
    }
   ],
   "source": [
    "#ARIMA(5,1,5)\n",
    "model_ar_5_i_1_ma_5 = ARIMA(df.market_value, order=(5,1,5))\n",
    "results_ar_5_i_1_ma_5 = model_ar_5_i_1_ma_5.fit()\n",
    "print(results_ar_5_i_1_ma_5.summary())"
   ]
  },
  {
   "cell_type": "code",
   "execution_count": 18,
   "metadata": {},
   "outputs": [
    {
     "name": "stdout",
     "output_type": "stream",
     "text": [
      "                             ARIMA Model Results                              \n",
      "==============================================================================\n",
      "Dep. Variable:         D.market_value   No. Observations:                 2236\n",
      "Model:                 ARIMA(5, 1, 4)   Log Likelihood               -8198.615\n",
      "Method:                       css-mle   S.D. of innovations              9.464\n",
      "Date:                Mon, 29 Mar 2021   AIC                          16419.230\n",
      "Time:                        15:38:20   BIC                          16482.067\n",
      "Sample:                    06-08-2010   HQIC                         16442.173\n",
      "                         - 01-01-2019                                         \n",
      "========================================================================================\n",
      "                           coef    std err          z      P>|z|      [0.025      0.975]\n",
      "----------------------------------------------------------------------------------------\n",
      "const                    0.3561      0.151      2.353      0.019       0.060       0.653\n",
      "ar.L1.D.market_value     0.3192      0.396      0.806      0.420      -0.457       1.095\n",
      "ar.L2.D.market_value    -0.5466      0.299     -1.830      0.067      -1.132       0.039\n",
      "ar.L3.D.market_value     0.5663      0.354      1.598      0.110      -0.128       1.261\n",
      "ar.L4.D.market_value     0.3220      0.362      0.889      0.374      -0.388       1.032\n",
      "ar.L5.D.market_value    -0.0110      0.046     -0.242      0.809      -0.100       0.078\n",
      "ma.L1.D.market_value    -0.2847      0.395     -0.720      0.471      -1.059       0.490\n",
      "ma.L2.D.market_value     0.4832      0.281      1.721      0.085      -0.067       1.033\n",
      "ma.L3.D.market_value    -0.5268      0.326     -1.614      0.107      -1.167       0.113\n",
      "ma.L4.D.market_value    -0.4074      0.342     -1.191      0.234      -1.078       0.263\n",
      "                                    Roots                                    \n",
      "=============================================================================\n",
      "                  Real          Imaginary           Modulus         Frequency\n",
      "-----------------------------------------------------------------------------\n",
      "AR.1           -0.1026           -1.0040j            1.0092           -0.2662\n",
      "AR.2           -0.1026           +1.0040j            1.0092            0.2662\n",
      "AR.3            1.1351           -0.0000j            1.1351           -0.0000\n",
      "AR.4           -2.5451           -0.0000j            2.5451           -0.5000\n",
      "AR.5           30.7957           -0.0000j           30.7957           -0.0000\n",
      "MA.1            1.0920           -0.0000j            1.0920           -0.0000\n",
      "MA.2           -0.0905           -1.0058j            1.0098           -0.2643\n",
      "MA.3           -0.0905           +1.0058j            1.0098            0.2643\n",
      "MA.4           -2.2043           -0.0000j            2.2043           -0.5000\n",
      "-----------------------------------------------------------------------------\n"
     ]
    }
   ],
   "source": [
    "#ARIMA(5,1,4)\n",
    "model_ar_5_i_1_ma_4 = ARIMA(df.market_value, order=(5,1,4))\n",
    "results_ar_5_i_1_ma_4 = model_ar_5_i_1_ma_4.fit()\n",
    "print(results_ar_5_i_1_ma_4.summary())"
   ]
  },
  {
   "cell_type": "code",
   "execution_count": 19,
   "metadata": {},
   "outputs": [
    {
     "name": "stdout",
     "output_type": "stream",
     "text": [
      "                             ARIMA Model Results                              \n",
      "==============================================================================\n",
      "Dep. Variable:         D.market_value   No. Observations:                 2236\n",
      "Model:                 ARIMA(5, 1, 3)   Log Likelihood               -8203.330\n",
      "Method:                       css-mle   S.D. of innovations              9.486\n",
      "Date:                Mon, 29 Mar 2021   AIC                          16426.659\n",
      "Time:                        15:38:37   BIC                          16483.784\n",
      "Sample:                    06-08-2010   HQIC                         16447.516\n",
      "                         - 01-01-2019                                         \n",
      "========================================================================================\n",
      "                           coef    std err          z      P>|z|      [0.025      0.975]\n",
      "----------------------------------------------------------------------------------------\n",
      "const                    0.3554      0.152      2.334      0.020       0.057       0.654\n",
      "ar.L1.D.market_value     0.3622      0.064      5.664      0.000       0.237       0.487\n",
      "ar.L2.D.market_value    -0.4400      0.059     -7.472      0.000      -0.555      -0.325\n",
      "ar.L3.D.market_value     0.8407      0.071     11.789      0.000       0.701       0.980\n",
      "ar.L4.D.market_value    -0.0598      0.025     -2.369      0.018      -0.109      -0.010\n",
      "ar.L5.D.market_value    -0.0145      0.026     -0.565      0.572      -0.065       0.036\n",
      "ma.L1.D.market_value    -0.3269      0.060     -5.404      0.000      -0.445      -0.208\n",
      "ma.L2.D.market_value     0.3755      0.055      6.802      0.000       0.267       0.484\n",
      "ma.L3.D.market_value    -0.8125      0.067    -12.155      0.000      -0.944      -0.681\n",
      "                                    Roots                                    \n",
      "=============================================================================\n",
      "                  Real          Imaginary           Modulus         Frequency\n",
      "-----------------------------------------------------------------------------\n",
      "AR.1           -0.3112           -0.9843j            1.0323           -0.2987\n",
      "AR.2           -0.3112           +0.9843j            1.0323            0.2987\n",
      "AR.3            1.1593           -0.0000j            1.1593           -0.0000\n",
      "AR.4            5.4970           -0.0000j            5.4970           -0.0000\n",
      "AR.5          -10.1662           -0.0000j           10.1662           -0.5000\n",
      "MA.1           -0.3216           -1.0050j            1.0552           -0.2993\n",
      "MA.2           -0.3216           +1.0050j            1.0552            0.2993\n",
      "MA.3            1.1054           -0.0000j            1.1054           -0.0000\n",
      "-----------------------------------------------------------------------------\n"
     ]
    }
   ],
   "source": [
    "#ARIMA(5,1,3)\n",
    "model_ar_5_i_1_ma_3 = ARIMA(df.market_value, order=(5,1,3))\n",
    "results_ar_5_i_1_ma_3 = model_ar_5_i_1_ma_3.fit()\n",
    "print(results_ar_5_i_1_ma_3.summary())"
   ]
  },
  {
   "cell_type": "code",
   "execution_count": 20,
   "metadata": {},
   "outputs": [
    {
     "name": "stdout",
     "output_type": "stream",
     "text": [
      "                             ARIMA Model Results                              \n",
      "==============================================================================\n",
      "Dep. Variable:         D.market_value   No. Observations:                 2236\n",
      "Model:                 ARIMA(5, 1, 2)   Log Likelihood               -8208.869\n",
      "Method:                       css-mle   S.D. of innovations              9.509\n",
      "Date:                Mon, 29 Mar 2021   AIC                          16435.738\n",
      "Time:                        15:38:48   BIC                          16487.150\n",
      "Sample:                    06-08-2010   HQIC                         16454.509\n",
      "                         - 01-01-2019                                         \n",
      "========================================================================================\n",
      "                           coef    std err          z      P>|z|      [0.025      0.975]\n",
      "----------------------------------------------------------------------------------------\n",
      "const                    0.3531      0.155      2.274      0.023       0.049       0.657\n",
      "ar.L1.D.market_value     0.5843      0.351      1.667      0.096      -0.103       1.271\n",
      "ar.L2.D.market_value     0.1496      0.319      0.469      0.639      -0.476       0.775\n",
      "ar.L3.D.market_value     0.0593      0.041      1.462      0.144      -0.020       0.139\n",
      "ar.L4.D.market_value    -0.0131      0.037     -0.350      0.726      -0.087       0.060\n",
      "ar.L5.D.market_value    -0.0632      0.030     -2.093      0.036      -0.122      -0.004\n",
      "ma.L1.D.market_value    -0.5526      0.351     -1.575      0.115      -1.240       0.135\n",
      "ma.L2.D.market_value    -0.2290      0.308     -0.744      0.457      -0.832       0.374\n",
      "                                    Roots                                    \n",
      "=============================================================================\n",
      "                  Real          Imaginary           Modulus         Frequency\n",
      "-----------------------------------------------------------------------------\n",
      "AR.1            1.4298           -0.2740j            1.4558           -0.0301\n",
      "AR.2            1.4298           +0.2740j            1.4558            0.0301\n",
      "AR.3           -0.5059           -1.8379j            1.9062           -0.2928\n",
      "AR.4           -0.5059           +1.8379j            1.9062            0.2928\n",
      "AR.5           -2.0555           -0.0000j            2.0555           -0.5000\n",
      "MA.1            1.2065           +0.0000j            1.2065            0.0000\n",
      "MA.2           -3.6198           +0.0000j            3.6198            0.5000\n",
      "-----------------------------------------------------------------------------\n"
     ]
    }
   ],
   "source": [
    "#ARIMA(5,1,2)\n",
    "model_ar_5_i_1_ma_2 = ARIMA(df.market_value, order=(5,1,2))\n",
    "results_ar_5_i_1_ma_2 = model_ar_5_i_1_ma_2.fit()\n",
    "print(results_ar_5_i_1_ma_2.summary())"
   ]
  },
  {
   "cell_type": "code",
   "execution_count": 21,
   "metadata": {},
   "outputs": [
    {
     "name": "stdout",
     "output_type": "stream",
     "text": [
      "                             ARIMA Model Results                              \n",
      "==============================================================================\n",
      "Dep. Variable:         D.market_value   No. Observations:                 2236\n",
      "Model:                 ARIMA(5, 1, 1)   Log Likelihood               -8209.037\n",
      "Method:                       css-mle   S.D. of innovations              9.510\n",
      "Date:                Mon, 29 Mar 2021   AIC                          16434.074\n",
      "Time:                        15:38:57   BIC                          16479.773\n",
      "Sample:                    06-08-2010   HQIC                         16450.759\n",
      "                         - 01-01-2019                                         \n",
      "========================================================================================\n",
      "                           coef    std err          z      P>|z|      [0.025      0.975]\n",
      "----------------------------------------------------------------------------------------\n",
      "const                    0.3530      0.156      2.267      0.023       0.048       0.658\n",
      "ar.L1.D.market_value     0.8461      0.072     11.673      0.000       0.704       0.988\n",
      "ar.L2.D.market_value    -0.0878      0.028     -3.156      0.002      -0.142      -0.033\n",
      "ar.L3.D.market_value     0.0838      0.028      2.987      0.003       0.029       0.139\n",
      "ar.L4.D.market_value    -0.0371      0.028     -1.334      0.182      -0.092       0.017\n",
      "ar.L5.D.market_value    -0.0443      0.023     -1.930      0.054      -0.089       0.001\n",
      "ma.L1.D.market_value    -0.8149      0.070    -11.674      0.000      -0.952      -0.678\n",
      "                                    Roots                                    \n",
      "=============================================================================\n",
      "                  Real          Imaginary           Modulus         Frequency\n",
      "-----------------------------------------------------------------------------\n",
      "AR.1            1.3760           -0.3250j            1.4139           -0.0369\n",
      "AR.2            1.3760           +0.3250j            1.4139            0.0369\n",
      "AR.3           -0.3585           -1.9497j            1.9824           -0.2789\n",
      "AR.4           -0.3585           +1.9497j            1.9824            0.2789\n",
      "AR.5           -2.8728           -0.0000j            2.8728           -0.5000\n",
      "MA.1            1.2271           +0.0000j            1.2271            0.0000\n",
      "-----------------------------------------------------------------------------\n"
     ]
    }
   ],
   "source": [
    "#ARIMA(5,1,1)\n",
    "model_ar_5_i_1_ma_1 = ARIMA(df.market_value, order=(5,1,1))\n",
    "results_ar_5_i_1_ma_1 = model_ar_5_i_1_ma_1.fit()\n",
    "print(results_ar_5_i_1_ma_1.summary())"
   ]
  },
  {
   "cell_type": "code",
   "execution_count": 22,
   "metadata": {},
   "outputs": [
    {
     "name": "stdout",
     "output_type": "stream",
     "text": [
      "                             ARIMA Model Results                              \n",
      "==============================================================================\n",
      "Dep. Variable:         D.market_value   No. Observations:                 2236\n",
      "Model:                 ARIMA(4, 1, 5)   Log Likelihood               -8198.624\n",
      "Method:                       css-mle   S.D. of innovations              9.465\n",
      "Date:                Mon, 29 Mar 2021   AIC                          16419.249\n",
      "Time:                        15:39:37   BIC                          16482.085\n",
      "Sample:                    06-08-2010   HQIC                         16442.191\n",
      "                         - 01-01-2019                                         \n",
      "========================================================================================\n",
      "                           coef    std err          z      P>|z|      [0.025      0.975]\n",
      "----------------------------------------------------------------------------------------\n",
      "const                    0.3561      0.151      2.356      0.018       0.060       0.652\n",
      "ar.L1.D.market_value     0.3103      0.491      0.631      0.528      -0.653       1.273\n",
      "ar.L2.D.market_value    -0.5508      0.321     -1.716      0.086      -1.180       0.078\n",
      "ar.L3.D.market_value     0.5682      0.399      1.423      0.155      -0.214       1.351\n",
      "ar.L4.D.market_value     0.3221      0.411      0.784      0.433      -0.483       1.127\n",
      "ma.L1.D.market_value    -0.2760      0.491     -0.562      0.574      -1.239       0.687\n",
      "ma.L2.D.market_value     0.4870      0.301      1.620      0.105      -0.102       1.076\n",
      "ma.L3.D.market_value    -0.5289      0.365     -1.449      0.147      -1.244       0.186\n",
      "ma.L4.D.market_value    -0.4073      0.386     -1.054      0.292      -1.164       0.350\n",
      "ma.L5.D.market_value    -0.0107      0.053     -0.203      0.839      -0.115       0.093\n",
      "                                    Roots                                    \n",
      "=============================================================================\n",
      "                  Real          Imaginary           Modulus         Frequency\n",
      "-----------------------------------------------------------------------------\n",
      "AR.1            1.1325           -0.0000j            1.1325           -0.0000\n",
      "AR.2           -0.1025           -1.0040j            1.0092           -0.2662\n",
      "AR.3           -0.1025           +1.0040j            1.0092            0.2662\n",
      "AR.4           -2.6919           -0.0000j            2.6919           -0.5000\n",
      "MA.1            1.0904           -0.0000j            1.0904           -0.0000\n",
      "MA.2           -0.0904           -1.0057j            1.0098           -0.2643\n",
      "MA.3           -0.0904           +1.0057j            1.0098            0.2643\n",
      "MA.4           -2.2919           -0.0000j            2.2919           -0.5000\n",
      "MA.5          -36.5085           -0.0000j           36.5085           -0.5000\n",
      "-----------------------------------------------------------------------------\n"
     ]
    }
   ],
   "source": [
    "#ARIMA(4,1,5)\n",
    "model_ar_4_i_1_ma_5 = ARIMA(df.market_value, order=(4,1,5))\n",
    "results_ar_4_i_1_ma_5 = model_ar_4_i_1_ma_5.fit()\n",
    "print(results_ar_4_i_1_ma_5.summary())"
   ]
  },
  {
   "cell_type": "code",
   "execution_count": 23,
   "metadata": {},
   "outputs": [
    {
     "name": "stdout",
     "output_type": "stream",
     "text": [
      "                             ARIMA Model Results                              \n",
      "==============================================================================\n",
      "Dep. Variable:         D.market_value   No. Observations:                 2236\n",
      "Model:                 ARIMA(4, 1, 3)   Log Likelihood               -8203.487\n",
      "Method:                       css-mle   S.D. of innovations              9.486\n",
      "Date:                Mon, 29 Mar 2021   AIC                          16424.974\n",
      "Time:                        15:39:53   BIC                          16476.386\n",
      "Sample:                    06-08-2010   HQIC                         16443.745\n",
      "                         - 01-01-2019                                         \n",
      "========================================================================================\n",
      "                           coef    std err          z      P>|z|      [0.025      0.975]\n",
      "----------------------------------------------------------------------------------------\n",
      "const                    0.3558      0.151      2.352      0.019       0.059       0.652\n",
      "ar.L1.D.market_value     0.3748      0.060      6.218      0.000       0.257       0.493\n",
      "ar.L2.D.market_value    -0.4550      0.052     -8.799      0.000      -0.556      -0.354\n",
      "ar.L3.D.market_value     0.8663      0.055     15.834      0.000       0.759       0.974\n",
      "ar.L4.D.market_value    -0.0654      0.024     -2.780      0.005      -0.111      -0.019\n",
      "ma.L1.D.market_value    -0.3389      0.057     -5.953      0.000      -0.450      -0.227\n",
      "ma.L2.D.market_value     0.3817      0.053      7.218      0.000       0.278       0.485\n",
      "ma.L3.D.market_value    -0.8325      0.055    -15.272      0.000      -0.939      -0.726\n",
      "                                    Roots                                    \n",
      "=============================================================================\n",
      "                  Real          Imaginary           Modulus         Frequency\n",
      "-----------------------------------------------------------------------------\n",
      "AR.1           -0.3087           -0.9809j            1.0283           -0.2985\n",
      "AR.2           -0.3087           +0.9809j            1.0283            0.2985\n",
      "AR.3            1.1361           -0.0000j            1.1361           -0.0000\n",
      "AR.4           12.7350           -0.0000j           12.7350           -0.0000\n",
      "MA.1           -0.3170           -0.9995j            1.0486           -0.2989\n",
      "MA.2           -0.3170           +0.9995j            1.0486            0.2989\n",
      "MA.3            1.0924           -0.0000j            1.0924           -0.0000\n",
      "-----------------------------------------------------------------------------\n"
     ]
    }
   ],
   "source": [
    "#ARIMA(4,1,3)\n",
    "model_ar_4_i_1_ma_3 = ARIMA(df.market_value, order=(4,1,3))\n",
    "results_ar_4_i_1_ma_3 = model_ar_4_i_1_ma_3.fit()\n",
    "print(results_ar_4_i_1_ma_3.summary())"
   ]
  },
  {
   "cell_type": "code",
   "execution_count": 26,
   "metadata": {},
   "outputs": [
    {
     "name": "stdout",
     "output_type": "stream",
     "text": [
      "                             ARIMA Model Results                              \n",
      "==============================================================================\n",
      "Dep. Variable:         D.market_value   No. Observations:                 2236\n",
      "Model:                 ARIMA(4, 1, 4)   Log Likelihood               -8200.527\n",
      "Method:                       css-mle   S.D. of innovations              9.474\n",
      "Date:                Mon, 29 Mar 2021   AIC                          16421.055\n",
      "Time:                        15:41:09   BIC                          16478.179\n",
      "Sample:                    06-08-2010   HQIC                         16441.911\n",
      "                         - 01-01-2019                                         \n",
      "========================================================================================\n",
      "                           coef    std err          z      P>|z|      [0.025      0.975]\n",
      "----------------------------------------------------------------------------------------\n",
      "const                    0.3508      0.171      2.051      0.040       0.016       0.686\n",
      "ar.L1.D.market_value     1.1350      0.100     11.330      0.000       0.939       1.331\n",
      "ar.L2.D.market_value    -0.7367      0.069    -10.753      0.000      -0.871      -0.602\n",
      "ar.L3.D.market_value     1.1218      0.065     17.333      0.000       0.995       1.249\n",
      "ar.L4.D.market_value    -0.7680      0.103     -7.474      0.000      -0.969      -0.567\n",
      "ma.L1.D.market_value    -1.1065      0.106    -10.391      0.000      -1.315      -0.898\n",
      "ma.L2.D.market_value     0.6696      0.079      8.467      0.000       0.515       0.825\n",
      "ma.L3.D.market_value    -1.0501      0.077    -13.659      0.000      -1.201      -0.899\n",
      "ma.L4.D.market_value     0.6986      0.110      6.373      0.000       0.484       0.913\n",
      "                                    Roots                                    \n",
      "=============================================================================\n",
      "                  Real          Imaginary           Modulus         Frequency\n",
      "-----------------------------------------------------------------------------\n",
      "AR.1           -0.3169           -0.9861j            1.0358           -0.2995\n",
      "AR.2           -0.3169           +0.9861j            1.0358            0.2995\n",
      "AR.3            1.0472           -0.3421j            1.1016           -0.0503\n",
      "AR.4            1.0472           +0.3421j            1.1016            0.0503\n",
      "MA.1           -0.3321           -1.0057j            1.0591           -0.3008\n",
      "MA.2           -0.3321           +1.0057j            1.0591            0.3008\n",
      "MA.3            1.0837           -0.3189j            1.1296           -0.0456\n",
      "MA.4            1.0837           +0.3189j            1.1296            0.0456\n",
      "-----------------------------------------------------------------------------\n"
     ]
    }
   ],
   "source": [
    "#ARIMA(4,1,4)\n",
    "model_ar_4_i_1_ma_4 = ARIMA(df.market_value, order=(4,1,4))\n",
    "results_ar_4_i_1_ma_4 = model_ar_4_i_1_ma_4.fit()\n",
    "print(results_ar_4_i_1_ma_4.summary())"
   ]
  },
  {
   "cell_type": "code",
   "execution_count": 27,
   "metadata": {},
   "outputs": [
    {
     "name": "stdout",
     "output_type": "stream",
     "text": [
      "                             ARIMA Model Results                              \n",
      "==============================================================================\n",
      "Dep. Variable:         D.market_value   No. Observations:                 2236\n",
      "Model:                 ARIMA(3, 1, 5)   Log Likelihood               -8198.885\n",
      "Method:                       css-mle   S.D. of innovations              9.466\n",
      "Date:                Mon, 29 Mar 2021   AIC                          16417.769\n",
      "Time:                        15:41:36   BIC                          16474.894\n",
      "Sample:                    06-08-2010   HQIC                         16438.626\n",
      "                         - 01-01-2019                                         \n",
      "========================================================================================\n",
      "                           coef    std err          z      P>|z|      [0.025      0.975]\n",
      "----------------------------------------------------------------------------------------\n",
      "const                    0.3561      0.151      2.355      0.019       0.060       0.652\n",
      "ar.L1.D.market_value     0.6817      0.066     10.328      0.000       0.552       0.811\n",
      "ar.L2.D.market_value    -0.8021      0.019    -41.711      0.000      -0.840      -0.764\n",
      "ar.L3.D.market_value     0.8666      0.065     13.281      0.000       0.739       0.994\n",
      "ma.L1.D.market_value    -0.6468      0.069     -9.390      0.000      -0.782      -0.512\n",
      "ma.L2.D.market_value     0.7276      0.032     22.718      0.000       0.665       0.790\n",
      "ma.L3.D.market_value    -0.8070      0.062    -13.101      0.000      -0.928      -0.686\n",
      "ma.L4.D.market_value    -0.1003      0.026     -3.869      0.000      -0.151      -0.050\n",
      "ma.L5.D.market_value     0.0178      0.024      0.755      0.450      -0.028       0.064\n",
      "                                    Roots                                    \n",
      "=============================================================================\n",
      "                  Real          Imaginary           Modulus         Frequency\n",
      "-----------------------------------------------------------------------------\n",
      "AR.1           -0.1030           -1.0046j            1.0099           -0.2663\n",
      "AR.2           -0.1030           +1.0046j            1.0099            0.2663\n",
      "AR.3            1.1316           -0.0000j            1.1316           -0.0000\n",
      "MA.1           -0.0903           -1.0066j            1.0106           -0.2642\n",
      "MA.2           -0.0903           +1.0066j            1.0106            0.2642\n",
      "MA.3            1.0901           -0.0000j            1.0901           -0.0000\n",
      "MA.4           -5.1240           -0.0000j            5.1240           -0.5000\n",
      "MA.5            9.8563           -0.0000j            9.8563           -0.0000\n",
      "-----------------------------------------------------------------------------\n"
     ]
    }
   ],
   "source": [
    "#ARIMA(3,1,5)\n",
    "model_ar_3_i_1_ma_5 = ARIMA(df.market_value, order=(3,1,5))\n",
    "results_ar_3_i_1_ma_5 = model_ar_3_i_1_ma_5.fit()\n",
    "print(results_ar_3_i_1_ma_5.summary())"
   ]
  },
  {
   "cell_type": "code",
   "execution_count": 28,
   "metadata": {},
   "outputs": [
    {
     "name": "stdout",
     "output_type": "stream",
     "text": [
      "                             ARIMA Model Results                              \n",
      "==============================================================================\n",
      "Dep. Variable:         D.market_value   No. Observations:                 2236\n",
      "Model:                 ARIMA(2, 1, 5)   Log Likelihood               -8209.885\n",
      "Method:                       css-mle   S.D. of innovations              9.514\n",
      "Date:                Mon, 29 Mar 2021   AIC                          16437.770\n",
      "Time:                        15:41:51   BIC                          16489.182\n",
      "Sample:                    06-08-2010   HQIC                         16456.541\n",
      "                         - 01-01-2019                                         \n",
      "========================================================================================\n",
      "                           coef    std err          z      P>|z|      [0.025      0.975]\n",
      "----------------------------------------------------------------------------------------\n",
      "const                    0.3539      0.154      2.299      0.021       0.052       0.655\n",
      "ar.L1.D.market_value     0.6288      0.475      1.323      0.186      -0.303       1.561\n",
      "ar.L2.D.market_value     0.1181      0.402      0.293      0.769      -0.671       0.907\n",
      "ma.L1.D.market_value    -0.5969      0.475     -1.256      0.209      -1.528       0.334\n",
      "ma.L2.D.market_value    -0.2006      0.386     -0.520      0.603      -0.957       0.556\n",
      "ma.L3.D.market_value     0.0581      0.049      1.181      0.238      -0.038       0.155\n",
      "ma.L4.D.market_value    -0.0120      0.038     -0.313      0.754      -0.087       0.063\n",
      "ma.L5.D.market_value    -0.0553      0.029     -1.892      0.058      -0.112       0.002\n",
      "                                    Roots                                    \n",
      "=============================================================================\n",
      "                  Real          Imaginary           Modulus         Frequency\n",
      "-----------------------------------------------------------------------------\n",
      "AR.1            1.2818           +0.0000j            1.2818            0.0000\n",
      "AR.2           -6.6074           +0.0000j            6.6074            0.5000\n",
      "MA.1            1.1533           -0.0000j            1.1533           -0.0000\n",
      "MA.2            1.0606           -1.6215j            1.9375           -0.1578\n",
      "MA.3            1.0606           +1.6215j            1.9375            0.1578\n",
      "MA.4           -1.7456           -1.0644j            2.0445           -0.4129\n",
      "MA.5           -1.7456           +1.0644j            2.0445            0.4129\n",
      "-----------------------------------------------------------------------------\n"
     ]
    }
   ],
   "source": [
    "#ARIMA(2,1,5)\n",
    "model_ar_2_i_1_ma_5 = ARIMA(df.market_value, order=(2,1,5))\n",
    "results_ar_2_i_1_ma_5 = model_ar_2_i_1_ma_5.fit()\n",
    "print(results_ar_2_i_1_ma_5.summary())"
   ]
  },
  {
   "cell_type": "code",
   "execution_count": 29,
   "metadata": {},
   "outputs": [
    {
     "name": "stdout",
     "output_type": "stream",
     "text": [
      "                             ARIMA Model Results                              \n",
      "==============================================================================\n",
      "Dep. Variable:         D.market_value   No. Observations:                 2236\n",
      "Model:                 ARIMA(1, 1, 5)   Log Likelihood               -8209.913\n",
      "Method:                       css-mle   S.D. of innovations              9.514\n",
      "Date:                Mon, 29 Mar 2021   AIC                          16435.826\n",
      "Time:                        15:42:04   BIC                          16481.525\n",
      "Sample:                    06-08-2010   HQIC                         16452.511\n",
      "                         - 01-01-2019                                         \n",
      "========================================================================================\n",
      "                           coef    std err          z      P>|z|      [0.025      0.975]\n",
      "----------------------------------------------------------------------------------------\n",
      "const                    0.3538      0.154      2.297      0.022       0.052       0.656\n",
      "ar.L1.D.market_value     0.7675      0.084      9.165      0.000       0.603       0.932\n",
      "ma.L1.D.market_value    -0.7355      0.086     -8.560      0.000      -0.904      -0.567\n",
      "ma.L2.D.market_value    -0.0874      0.026     -3.329      0.001      -0.139      -0.036\n",
      "ma.L3.D.market_value     0.0707      0.027      2.641      0.008       0.018       0.123\n",
      "ma.L4.D.market_value    -0.0210      0.027     -0.766      0.444      -0.075       0.033\n",
      "ma.L5.D.market_value    -0.0489      0.023     -2.137      0.033      -0.094      -0.004\n",
      "                                    Roots                                    \n",
      "=============================================================================\n",
      "                  Real          Imaginary           Modulus         Frequency\n",
      "-----------------------------------------------------------------------------\n",
      "AR.1            1.3030           +0.0000j            1.3030            0.0000\n",
      "MA.1            1.1589           -0.0000j            1.1589           -0.0000\n",
      "MA.2            1.0838           -1.5260j            1.8717           -0.1517\n",
      "MA.3            1.0838           +1.5260j            1.8717            0.1517\n",
      "MA.4           -1.8779           -1.2277j            2.2436           -0.4078\n",
      "MA.5           -1.8779           +1.2277j            2.2436            0.4078\n",
      "-----------------------------------------------------------------------------\n"
     ]
    }
   ],
   "source": [
    "#ARIMA(1,1,5)\n",
    "model_ar_1_i_1_ma_5 = ARIMA(df.market_value, order=(1,1,5))\n",
    "results_ar_1_i_1_ma_5 = model_ar_1_i_1_ma_5.fit()\n",
    "print(results_ar_1_i_1_ma_5.summary())"
   ]
  },
  {
   "cell_type": "code",
   "execution_count": 30,
   "metadata": {},
   "outputs": [
    {
     "name": "stdout",
     "output_type": "stream",
     "text": [
      "                             ARIMA Model Results                              \n",
      "==============================================================================\n",
      "Dep. Variable:         D.market_value   No. Observations:                 2236\n",
      "Model:                 ARIMA(3, 1, 3)   Log Likelihood               -8206.454\n",
      "Method:                       css-mle   S.D. of innovations              9.499\n",
      "Date:                Mon, 29 Mar 2021   AIC                          16428.909\n",
      "Time:                        15:42:19   BIC                          16474.608\n",
      "Sample:                    06-08-2010   HQIC                         16445.594\n",
      "                         - 01-01-2019                                         \n",
      "========================================================================================\n",
      "                           coef    std err          z      P>|z|      [0.025      0.975]\n",
      "----------------------------------------------------------------------------------------\n",
      "const                    0.3782      0.104      3.621      0.000       0.173       0.583\n",
      "ar.L1.D.market_value     0.3687      0.038      9.726      0.000       0.294       0.443\n",
      "ar.L2.D.market_value    -0.3429      0.039     -8.819      0.000      -0.419      -0.267\n",
      "ar.L3.D.market_value     0.9112      0.035     26.318      0.000       0.843       0.979\n",
      "ma.L1.D.market_value    -0.3702      0.042     -8.861      0.000      -0.452      -0.288\n",
      "ma.L2.D.market_value     0.2917      0.046      6.339      0.000       0.202       0.382\n",
      "ma.L3.D.market_value    -0.8901      0.037    -23.747      0.000      -0.964      -0.817\n",
      "                                    Roots                                    \n",
      "=============================================================================\n",
      "                  Real          Imaginary           Modulus         Frequency\n",
      "-----------------------------------------------------------------------------\n",
      "AR.1            1.0254           -0.0000j            1.0254           -0.0000\n",
      "AR.2           -0.3245           -0.9823j            1.0345           -0.3008\n",
      "AR.3           -0.3245           +0.9823j            1.0345            0.3008\n",
      "MA.1            1.0126           -0.0000j            1.0126           -0.0000\n",
      "MA.2           -0.3424           -0.9961j            1.0533           -0.3027\n",
      "MA.3           -0.3424           +0.9961j            1.0533            0.3027\n",
      "-----------------------------------------------------------------------------\n"
     ]
    }
   ],
   "source": [
    "#ARIMA(3,1,3)\n",
    "model_ar_3_i_1_ma_3 = ARIMA(df.market_value, order=(3,1,3))\n",
    "results_ar_3_i_1_ma_3 = model_ar_3_i_1_ma_3.fit()\n",
    "print(results_ar_3_i_1_ma_3.summary())"
   ]
  },
  {
   "cell_type": "code",
   "execution_count": 31,
   "metadata": {},
   "outputs": [
    {
     "name": "stdout",
     "output_type": "stream",
     "text": [
      "                             ARIMA Model Results                              \n",
      "==============================================================================\n",
      "Dep. Variable:         D.market_value   No. Observations:                 2236\n",
      "Model:                 ARIMA(2, 1, 2)   Log Likelihood               -8209.764\n",
      "Method:                       css-mle   S.D. of innovations              9.513\n",
      "Date:                Mon, 29 Mar 2021   AIC                          16431.529\n",
      "Time:                        15:42:26   BIC                          16465.803\n",
      "Sample:                    06-08-2010   HQIC                         16444.043\n",
      "                         - 01-01-2019                                         \n",
      "========================================================================================\n",
      "                           coef    std err          z      P>|z|      [0.025      0.975]\n",
      "----------------------------------------------------------------------------------------\n",
      "const                    0.3548      0.199      1.781      0.075      -0.036       0.745\n",
      "ar.L1.D.market_value    -0.6034      0.030    -20.190      0.000      -0.662      -0.545\n",
      "ar.L2.D.market_value    -0.9341      0.030    -30.702      0.000      -0.994      -0.874\n",
      "ma.L1.D.market_value     0.6126      0.037     16.577      0.000       0.540       0.685\n",
      "ma.L2.D.market_value     0.8995      0.037     24.502      0.000       0.828       0.971\n",
      "                                    Roots                                    \n",
      "=============================================================================\n",
      "                  Real          Imaginary           Modulus         Frequency\n",
      "-----------------------------------------------------------------------------\n",
      "AR.1           -0.3230           -0.9830j            1.0347           -0.3005\n",
      "AR.2           -0.3230           +0.9830j            1.0347            0.3005\n",
      "MA.1           -0.3405           -0.9979j            1.0544           -0.3023\n",
      "MA.2           -0.3405           +0.9979j            1.0544            0.3023\n",
      "-----------------------------------------------------------------------------\n"
     ]
    }
   ],
   "source": [
    "#ARIMA(2,1,2)\n",
    "model_ar_2_i_1_ma_2 = ARIMA(df.market_value, order=(2,1,2))\n",
    "results_ar_2_i_1_ma_2 = model_ar_2_i_1_ma_2.fit()\n",
    "print(results_ar_2_i_1_ma_2.summary())"
   ]
  },
  {
   "cell_type": "code",
   "execution_count": 32,
   "metadata": {},
   "outputs": [
    {
     "name": "stdout",
     "output_type": "stream",
     "text": [
      "                             ARIMA Model Results                              \n",
      "==============================================================================\n",
      "Dep. Variable:         D.market_value   No. Observations:                 2236\n",
      "Model:                 ARIMA(1, 1, 2)   Log Likelihood               -8218.227\n",
      "Method:                       css-mle   S.D. of innovations              9.549\n",
      "Date:                Mon, 29 Mar 2021   AIC                          16446.455\n",
      "Time:                        15:42:29   BIC                          16475.017\n",
      "Sample:                    06-08-2010   HQIC                         16456.883\n",
      "                         - 01-01-2019                                         \n",
      "========================================================================================\n",
      "                           coef    std err          z      P>|z|      [0.025      0.975]\n",
      "----------------------------------------------------------------------------------------\n",
      "const                    0.3552      0.200      1.774      0.076      -0.037       0.748\n",
      "ar.L1.D.market_value    -0.2672      0.228     -1.170      0.242      -0.715       0.180\n",
      "ma.L1.D.market_value     0.3049      0.228      1.338      0.181      -0.142       0.751\n",
      "ma.L2.D.market_value    -0.0485      0.025     -1.970      0.049      -0.097      -0.000\n",
      "                                    Roots                                    \n",
      "=============================================================================\n",
      "                  Real          Imaginary           Modulus         Frequency\n",
      "-----------------------------------------------------------------------------\n",
      "AR.1           -3.7421           +0.0000j            3.7421            0.5000\n",
      "MA.1           -2.3795           +0.0000j            2.3795            0.5000\n",
      "MA.2            8.6664           +0.0000j            8.6664            0.0000\n",
      "-----------------------------------------------------------------------------\n"
     ]
    }
   ],
   "source": [
    "#ARIMA(1,1,2)\n",
    "model_ar_1_i_1_ma_2 = ARIMA(df.market_value, order=(1,1,2))\n",
    "results_ar_1_i_1_ma_2 = model_ar_1_i_1_ma_2.fit()\n",
    "print(results_ar_1_i_1_ma_2.summary())"
   ]
  },
  {
   "cell_type": "code",
   "execution_count": 33,
   "metadata": {},
   "outputs": [
    {
     "name": "stdout",
     "output_type": "stream",
     "text": [
      "                             ARIMA Model Results                              \n",
      "==============================================================================\n",
      "Dep. Variable:         D.market_value   No. Observations:                 2236\n",
      "Model:                 ARIMA(2, 1, 1)   Log Likelihood               -8218.058\n",
      "Method:                       css-mle   S.D. of innovations              9.549\n",
      "Date:                Mon, 29 Mar 2021   AIC                          16446.117\n",
      "Time:                        15:42:30   BIC                          16474.679\n",
      "Sample:                    06-08-2010   HQIC                         16456.545\n",
      "                         - 01-01-2019                                         \n",
      "========================================================================================\n",
      "                           coef    std err          z      P>|z|      [0.025      0.975]\n",
      "----------------------------------------------------------------------------------------\n",
      "const                    0.3552      0.200      1.776      0.076      -0.037       0.747\n",
      "ar.L1.D.market_value    -0.3076      0.203     -1.514      0.130      -0.706       0.091\n",
      "ar.L2.D.market_value    -0.0499      0.024     -2.074      0.038      -0.097      -0.003\n",
      "ma.L1.D.market_value     0.3444      0.203      1.698      0.089      -0.053       0.742\n",
      "                                    Roots                                    \n",
      "=============================================================================\n",
      "                  Real          Imaginary           Modulus         Frequency\n",
      "-----------------------------------------------------------------------------\n",
      "AR.1           -3.0814           -3.2462j            4.4758           -0.3709\n",
      "AR.2           -3.0814           +3.2462j            4.4758            0.3709\n",
      "MA.1           -2.9032           +0.0000j            2.9032            0.5000\n",
      "-----------------------------------------------------------------------------\n"
     ]
    }
   ],
   "source": [
    "#ARIMA(2,1,2)\n",
    "model_ar_2_i_1_ma_1 = ARIMA(df.market_value, order=(2,1,1))\n",
    "results_ar_2_i_1_ma_1 = model_ar_2_i_1_ma_1.fit()\n",
    "print(results_ar_2_i_1_ma_1.summary())"
   ]
  },
  {
   "cell_type": "code",
   "execution_count": 34,
   "metadata": {},
   "outputs": [
    {
     "name": "stdout",
     "output_type": "stream",
     "text": [
      "                             ARIMA Model Results                              \n",
      "==============================================================================\n",
      "Dep. Variable:         D.market_value   No. Observations:                 2236\n",
      "Model:                 ARIMA(2, 1, 3)   Log Likelihood               -8205.295\n",
      "Method:                       css-mle   S.D. of innovations              9.493\n",
      "Date:                Mon, 29 Mar 2021   AIC                          16424.591\n",
      "Time:                        15:42:36   BIC                          16464.578\n",
      "Sample:                    06-08-2010   HQIC                         16439.190\n",
      "                         - 01-01-2019                                         \n",
      "========================================================================================\n",
      "                           coef    std err          z      P>|z|      [0.025      0.975]\n",
      "----------------------------------------------------------------------------------------\n",
      "const                    0.3549      0.211      1.681      0.093      -0.059       0.769\n",
      "ar.L1.D.market_value    -0.2033      0.008    -25.997      0.000      -0.219      -0.188\n",
      "ar.L2.D.market_value    -0.9820      0.010    -95.766      0.000      -1.002      -0.962\n",
      "ma.L1.D.market_value     0.2445      0.023     10.407      0.000       0.198       0.291\n",
      "ma.L2.D.market_value     0.9899      0.013     77.745      0.000       0.965       1.015\n",
      "ma.L3.D.market_value     0.0644      0.023      2.814      0.005       0.020       0.109\n",
      "                                    Roots                                    \n",
      "=============================================================================\n",
      "                  Real          Imaginary           Modulus         Frequency\n",
      "-----------------------------------------------------------------------------\n",
      "AR.1           -0.1035           -1.0038j            1.0091           -0.2664\n",
      "AR.2           -0.1035           +1.0038j            1.0091            0.2664\n",
      "MA.1           -0.0913           -1.0070j            1.0111           -0.2644\n",
      "MA.2           -0.0913           +1.0070j            1.0111            0.2644\n",
      "MA.3          -15.1971           -0.0000j           15.1971           -0.5000\n",
      "-----------------------------------------------------------------------------\n"
     ]
    }
   ],
   "source": [
    "#ARIMA(2,1,3)\n",
    "model_ar_2_i_1_ma_3 = ARIMA(df.market_value, order=(2,1,3))\n",
    "results_ar_2_i_1_ma_3 = model_ar_2_i_1_ma_3.fit()\n",
    "print(results_ar_2_i_1_ma_3.summary())"
   ]
  },
  {
   "cell_type": "code",
   "execution_count": 35,
   "metadata": {},
   "outputs": [
    {
     "name": "stdout",
     "output_type": "stream",
     "text": [
      "                             ARIMA Model Results                              \n",
      "==============================================================================\n",
      "Dep. Variable:         D.market_value   No. Observations:                 2236\n",
      "Model:                 ARIMA(3, 1, 4)   Log Likelihood               -8203.583\n",
      "Method:                       css-mle   S.D. of innovations              9.487\n",
      "Date:                Mon, 29 Mar 2021   AIC                          16425.166\n",
      "Time:                        15:42:46   BIC                          16476.578\n",
      "Sample:                    06-08-2010   HQIC                         16443.937\n",
      "                         - 01-01-2019                                         \n",
      "========================================================================================\n",
      "                           coef    std err          z      P>|z|      [0.025      0.975]\n",
      "----------------------------------------------------------------------------------------\n",
      "const                    0.3561      0.151      2.362      0.018       0.061       0.652\n",
      "ar.L1.D.market_value     0.3033      0.063      4.804      0.000       0.180       0.427\n",
      "ar.L2.D.market_value    -0.4293      0.050     -8.643      0.000      -0.527      -0.332\n",
      "ar.L3.D.market_value     0.8413      0.059     14.147      0.000       0.725       0.958\n",
      "ma.L1.D.market_value    -0.2683      0.066     -4.066      0.000      -0.398      -0.139\n",
      "ma.L2.D.market_value     0.3563      0.051      6.930      0.000       0.255       0.457\n",
      "ma.L3.D.market_value    -0.8115      0.058    -13.962      0.000      -0.925      -0.698\n",
      "ma.L4.D.market_value    -0.0630      0.023     -2.715      0.007      -0.108      -0.018\n",
      "                                    Roots                                    \n",
      "=============================================================================\n",
      "                  Real          Imaginary           Modulus         Frequency\n",
      "-----------------------------------------------------------------------------\n",
      "AR.1           -0.3082           -0.9798j            1.0271           -0.2985\n",
      "AR.2           -0.3082           +0.9798j            1.0271            0.2985\n",
      "AR.3            1.1266           -0.0000j            1.1266           -0.0000\n",
      "MA.1            1.0867           -0.0000j            1.0867           -0.0000\n",
      "MA.2           -0.3160           -0.9977j            1.0466           -0.2988\n",
      "MA.3           -0.3160           +0.9977j            1.0466            0.2988\n",
      "MA.4          -13.3446           -0.0000j           13.3446           -0.5000\n",
      "-----------------------------------------------------------------------------\n"
     ]
    }
   ],
   "source": [
    "#ARIMA(3,1,4)\n",
    "model_ar_3_i_1_ma_4 = ARIMA(df.market_value, order=(3,1,4))\n",
    "results_ar_3_i_1_ma_4 = model_ar_3_i_1_ma_4.fit()\n",
    "print(results_ar_3_i_1_ma_4.summary())"
   ]
  },
  {
   "cell_type": "code",
   "execution_count": 36,
   "metadata": {},
   "outputs": [
    {
     "name": "stdout",
     "output_type": "stream",
     "text": [
      "                             ARIMA Model Results                              \n",
      "==============================================================================\n",
      "Dep. Variable:         D.market_value   No. Observations:                 2236\n",
      "Model:                 ARIMA(4, 1, 3)   Log Likelihood               -8203.487\n",
      "Method:                       css-mle   S.D. of innovations              9.486\n",
      "Date:                Mon, 29 Mar 2021   AIC                          16424.974\n",
      "Time:                        15:42:59   BIC                          16476.386\n",
      "Sample:                    06-08-2010   HQIC                         16443.745\n",
      "                         - 01-01-2019                                         \n",
      "========================================================================================\n",
      "                           coef    std err          z      P>|z|      [0.025      0.975]\n",
      "----------------------------------------------------------------------------------------\n",
      "const                    0.3558      0.151      2.352      0.019       0.059       0.652\n",
      "ar.L1.D.market_value     0.3748      0.060      6.218      0.000       0.257       0.493\n",
      "ar.L2.D.market_value    -0.4550      0.052     -8.799      0.000      -0.556      -0.354\n",
      "ar.L3.D.market_value     0.8663      0.055     15.834      0.000       0.759       0.974\n",
      "ar.L4.D.market_value    -0.0654      0.024     -2.780      0.005      -0.111      -0.019\n",
      "ma.L1.D.market_value    -0.3389      0.057     -5.953      0.000      -0.450      -0.227\n",
      "ma.L2.D.market_value     0.3817      0.053      7.218      0.000       0.278       0.485\n",
      "ma.L3.D.market_value    -0.8325      0.055    -15.272      0.000      -0.939      -0.726\n",
      "                                    Roots                                    \n",
      "=============================================================================\n",
      "                  Real          Imaginary           Modulus         Frequency\n",
      "-----------------------------------------------------------------------------\n",
      "AR.1           -0.3087           -0.9809j            1.0283           -0.2985\n",
      "AR.2           -0.3087           +0.9809j            1.0283            0.2985\n",
      "AR.3            1.1361           -0.0000j            1.1361           -0.0000\n",
      "AR.4           12.7350           -0.0000j           12.7350           -0.0000\n",
      "MA.1           -0.3170           -0.9995j            1.0486           -0.2989\n",
      "MA.2           -0.3170           +0.9995j            1.0486            0.2989\n",
      "MA.3            1.0924           -0.0000j            1.0924           -0.0000\n",
      "-----------------------------------------------------------------------------\n"
     ]
    }
   ],
   "source": [
    "#ARIMA(4,1,3)\n",
    "model_ar_4_i_1_ma_3 = ARIMA(df.market_value, order=(4,1,3))\n",
    "results_ar_4_i_1_ma_3 = model_ar_4_i_1_ma_3.fit()\n",
    "print(results_ar_4_i_1_ma_3.summary())"
   ]
  },
  {
   "cell_type": "code",
   "execution_count": 37,
   "metadata": {},
   "outputs": [
    {
     "name": "stdout",
     "output_type": "stream",
     "text": [
      "                             ARIMA Model Results                              \n",
      "==============================================================================\n",
      "Dep. Variable:         D.market_value   No. Observations:                 2236\n",
      "Model:                 ARIMA(4, 1, 2)   Log Likelihood               -8203.117\n",
      "Method:                       css-mle   S.D. of innovations              9.484\n",
      "Date:                Mon, 29 Mar 2021   AIC                          16422.234\n",
      "Time:                        15:43:10   BIC                          16467.934\n",
      "Sample:                    06-08-2010   HQIC                         16438.920\n",
      "                         - 01-01-2019                                         \n",
      "========================================================================================\n",
      "                           coef    std err          z      P>|z|      [0.025      0.975]\n",
      "----------------------------------------------------------------------------------------\n",
      "const                    0.3550      0.201      1.768      0.077      -0.038       0.749\n",
      "ar.L1.D.market_value    -0.1391      0.022     -6.273      0.000      -0.183      -0.096\n",
      "ar.L2.D.market_value    -1.0188      0.025    -41.332      0.000      -1.067      -0.970\n",
      "ar.L3.D.market_value     0.0507      0.022      2.274      0.023       0.007       0.094\n",
      "ar.L4.D.market_value    -0.0487      0.021     -2.271      0.023      -0.091      -0.007\n",
      "ma.L1.D.market_value     0.1770      0.007     26.815      0.000       0.164       0.190\n",
      "ma.L2.D.market_value     0.9812      0.013     75.341      0.000       0.956       1.007\n",
      "                                    Roots                                    \n",
      "=============================================================================\n",
      "                  Real          Imaginary           Modulus         Frequency\n",
      "-----------------------------------------------------------------------------\n",
      "AR.1           -0.1023           -1.0041j            1.0093           -0.2662\n",
      "AR.2           -0.1023           +1.0041j            1.0093            0.2662\n",
      "AR.3            0.6227           -4.4456j            4.4890           -0.2278\n",
      "AR.4            0.6227           +4.4456j            4.4890            0.2278\n",
      "MA.1           -0.0902           -1.0055j            1.0095           -0.2642\n",
      "MA.2           -0.0902           +1.0055j            1.0095            0.2642\n",
      "-----------------------------------------------------------------------------\n"
     ]
    }
   ],
   "source": [
    "#ARIMA(4,1,2)\n",
    "model_ar_4_i_1_ma_2 = ARIMA(df.market_value, order=(4,1,2))\n",
    "results_ar_4_i_1_ma_2 = model_ar_4_i_1_ma_2.fit()\n",
    "print(results_ar_4_i_1_ma_2.summary())"
   ]
  },
  {
   "cell_type": "code",
   "execution_count": 38,
   "metadata": {},
   "outputs": [
    {
     "name": "stdout",
     "output_type": "stream",
     "text": [
      "                             ARIMA Model Results                              \n",
      "==============================================================================\n",
      "Dep. Variable:         D.market_value   No. Observations:                 2236\n",
      "Model:                 ARIMA(2, 1, 4)   Log Likelihood               -8202.971\n",
      "Method:                       css-mle   S.D. of innovations              9.483\n",
      "Date:                Mon, 29 Mar 2021   AIC                          16421.942\n",
      "Time:                        15:43:24   BIC                          16467.642\n",
      "Sample:                    06-08-2010   HQIC                         16438.627\n",
      "                         - 01-01-2019                                         \n",
      "========================================================================================\n",
      "                           coef    std err          z      P>|z|      [0.025      0.975]\n",
      "----------------------------------------------------------------------------------------\n",
      "const                    0.3551      0.201      1.764      0.078      -0.039       0.750\n",
      "ar.L1.D.market_value    -0.2003      0.008    -25.668      0.000      -0.216      -0.185\n",
      "ar.L2.D.market_value    -0.9823      0.010    -97.007      0.000      -1.002      -0.962\n",
      "ma.L1.D.market_value     0.2391      0.022     10.663      0.000       0.195       0.283\n",
      "ma.L2.D.market_value     0.9457      0.024     39.599      0.000       0.899       0.993\n",
      "ma.L3.D.market_value     0.0523      0.022      2.326      0.020       0.008       0.096\n",
      "ma.L4.D.market_value    -0.0466      0.022     -2.154      0.031      -0.089      -0.004\n",
      "                                    Roots                                    \n",
      "=============================================================================\n",
      "                  Real          Imaginary           Modulus         Frequency\n",
      "-----------------------------------------------------------------------------\n",
      "AR.1           -0.1020           -1.0038j            1.0090           -0.2661\n",
      "AR.2           -0.1020           +1.0038j            1.0090            0.2661\n",
      "MA.1           -0.0902           -1.0050j            1.0090           -0.2643\n",
      "MA.2           -0.0902           +1.0050j            1.0090            0.2643\n",
      "MA.3           -3.9847           -0.0000j            3.9847           -0.5000\n",
      "MA.4            5.2868           -0.0000j            5.2868           -0.0000\n",
      "-----------------------------------------------------------------------------\n"
     ]
    }
   ],
   "source": [
    "#ARIMA(2,1,4)\n",
    "model_ar_2_i_1_ma_4 = ARIMA(df.market_value, order=(2,1,4))\n",
    "results_ar_2_i_1_ma_4 = model_ar_2_i_1_ma_4.fit()\n",
    "print(results_ar_2_i_1_ma_4.summary())"
   ]
  },
  {
   "cell_type": "code",
   "execution_count": 39,
   "metadata": {},
   "outputs": [
    {
     "name": "stdout",
     "output_type": "stream",
     "text": [
      "                             ARIMA Model Results                              \n",
      "==============================================================================\n",
      "Dep. Variable:         D.market_value   No. Observations:                 2236\n",
      "Model:                 ARIMA(3, 1, 2)   Log Likelihood               -8205.689\n",
      "Method:                       css-mle   S.D. of innovations              9.495\n",
      "Date:                Mon, 29 Mar 2021   AIC                          16425.377\n",
      "Time:                        15:43:33   BIC                          16465.364\n",
      "Sample:                    06-08-2010   HQIC                         16439.977\n",
      "                         - 01-01-2019                                         \n",
      "========================================================================================\n",
      "                           coef    std err          z      P>|z|      [0.025      0.975]\n",
      "----------------------------------------------------------------------------------------\n",
      "const                    0.3549      0.211      1.685      0.092      -0.058       0.768\n",
      "ar.L1.D.market_value    -0.1438      0.022     -6.488      0.000      -0.187      -0.100\n",
      "ar.L2.D.market_value    -0.9707      0.012    -83.183      0.000      -0.994      -0.948\n",
      "ar.L3.D.market_value     0.0582      0.022      2.664      0.008       0.015       0.101\n",
      "ma.L1.D.market_value     0.1791      0.007     25.743      0.000       0.165       0.193\n",
      "ma.L2.D.market_value     0.9788      0.012     78.386      0.000       0.954       1.003\n",
      "                                    Roots                                    \n",
      "=============================================================================\n",
      "                  Real          Imaginary           Modulus         Frequency\n",
      "-----------------------------------------------------------------------------\n",
      "AR.1           -0.1033           -1.0034j            1.0087           -0.2663\n",
      "AR.2           -0.1033           +1.0034j            1.0087            0.2663\n",
      "AR.3           16.8955           -0.0000j           16.8955           -0.0000\n",
      "MA.1           -0.0915           -1.0066j            1.0107           -0.2644\n",
      "MA.2           -0.0915           +1.0066j            1.0107            0.2644\n",
      "-----------------------------------------------------------------------------\n"
     ]
    }
   ],
   "source": [
    "#ARIMA(3,1,2)\n",
    "model_ar_3_i_1_ma_2 = ARIMA(df.market_value, order=(3,1,2))\n",
    "results_ar_3_i_1_ma_2 = model_ar_3_i_1_ma_2.fit()\n",
    "print(results_ar_3_i_1_ma_2.summary())"
   ]
  },
  {
   "cell_type": "code",
   "execution_count": 40,
   "metadata": {},
   "outputs": [
    {
     "data": {
      "text/plain": [
       "((4, 1, 4), (3, 1, 3), (4, 1, 3))"
      ]
     },
     "execution_count": 40,
     "metadata": {},
     "output_type": "execute_result"
    }
   ],
   "source": [
    "(4,1,4),(3,1,3),(4,1,3)"
   ]
  },
  {
   "cell_type": "code",
   "execution_count": 41,
   "metadata": {},
   "outputs": [
    {
     "name": "stdout",
     "output_type": "stream",
     "text": [
      "\t ARIMA(4,1,4): \tLLR :  -8200.527323809487 \t AIC:  16421.054647618974\n",
      "\t ARIMA(3,1,3): \tLLR :  -8206.454310673047 \t AIC:  16428.908621346094\n",
      "\t ARIMA(4,1,3): \tLLR :  -8203.486974009036 \t AIC:  16424.973948018072\n"
     ]
    }
   ],
   "source": [
    "print('\\t ARIMA(4,1,4): \\tLLR : ', results_ar_4_i_1_ma_4.llf, '\\t AIC: ', results_ar_4_i_1_ma_4.aic)\n",
    "print('\\t ARIMA(3,1,3): \\tLLR : ', results_ar_3_i_1_ma_3.llf, '\\t AIC: ', results_ar_3_i_1_ma_3.aic)\n",
    "print('\\t ARIMA(4,1,3): \\tLLR : ', results_ar_4_i_1_ma_3.llf, '\\t AIC: ', results_ar_4_i_1_ma_3.aic)"
   ]
  },
  {
   "cell_type": "code",
   "execution_count": 42,
   "metadata": {},
   "outputs": [
    {
     "name": "stdout",
     "output_type": "stream",
     "text": [
      "                             ARIMA Model Results                              \n",
      "==============================================================================\n",
      "Dep. Variable:         D.market_value   No. Observations:                 2236\n",
      "Model:                 ARIMA(3, 1, 3)   Log Likelihood               -8206.454\n",
      "Method:                       css-mle   S.D. of innovations              9.499\n",
      "Date:                Mon, 29 Mar 2021   AIC                          16428.909\n",
      "Time:                        15:43:35   BIC                          16474.608\n",
      "Sample:                    06-08-2010   HQIC                         16445.594\n",
      "                         - 01-01-2019                                         \n",
      "========================================================================================\n",
      "                           coef    std err          z      P>|z|      [0.025      0.975]\n",
      "----------------------------------------------------------------------------------------\n",
      "const                    0.3782      0.104      3.621      0.000       0.173       0.583\n",
      "ar.L1.D.market_value     0.3687      0.038      9.726      0.000       0.294       0.443\n",
      "ar.L2.D.market_value    -0.3429      0.039     -8.819      0.000      -0.419      -0.267\n",
      "ar.L3.D.market_value     0.9112      0.035     26.318      0.000       0.843       0.979\n",
      "ma.L1.D.market_value    -0.3702      0.042     -8.861      0.000      -0.452      -0.288\n",
      "ma.L2.D.market_value     0.2917      0.046      6.339      0.000       0.202       0.382\n",
      "ma.L3.D.market_value    -0.8901      0.037    -23.747      0.000      -0.964      -0.817\n",
      "                                    Roots                                    \n",
      "=============================================================================\n",
      "                  Real          Imaginary           Modulus         Frequency\n",
      "-----------------------------------------------------------------------------\n",
      "AR.1            1.0254           -0.0000j            1.0254           -0.0000\n",
      "AR.2           -0.3245           -0.9823j            1.0345           -0.3008\n",
      "AR.3           -0.3245           +0.9823j            1.0345            0.3008\n",
      "MA.1            1.0126           -0.0000j            1.0126           -0.0000\n",
      "MA.2           -0.3424           -0.9961j            1.0533           -0.3027\n",
      "MA.3           -0.3424           +0.9961j            1.0533            0.3027\n",
      "-----------------------------------------------------------------------------\n"
     ]
    }
   ],
   "source": [
    "print(results_ar_3_i_1_ma_3.summary())"
   ]
  },
  {
   "cell_type": "markdown",
   "metadata": {},
   "source": [
    "### ARIMA(3,1,3) Residuals"
   ]
  },
  {
   "cell_type": "code",
   "execution_count": 43,
   "metadata": {},
   "outputs": [
    {
     "data": {
      "image/png": "[encoded data removed]",
      "text/plain": [
       "<Figure size 432x288 with 1 Axes>"
      ]
     },
     "metadata": {},
     "output_type": "display_data"
    }
   ],
   "source": [
    "df['res_ar_3_i_1_ma_3'] = results_ar_3_i_1_ma_3.resid\n",
    "sgt.plot_acf(df.res_ar_3_i_1_ma_3[1:], zero=False, lags = 40)\n",
    "plt.title('ACF ARIMA(3,1,3) Residuals',size = 18)\n",
    "plt.show()"
   ]
  },
  {
   "cell_type": "markdown",
   "metadata": {},
   "source": [
    "### Testing For The Best Models"
   ]
  },
  {
   "cell_type": "code",
   "execution_count": 44,
   "metadata": {},
   "outputs": [
    {
     "name": "stdout",
     "output_type": "stream",
     "text": [
      "                             ARIMA Model Results                              \n",
      "==============================================================================\n",
      "Dep. Variable:         D.market_value   No. Observations:                 2236\n",
      "Model:                 ARIMA(8, 1, 8)   Log Likelihood               -8181.954\n",
      "Method:                       css-mle   S.D. of innovations              9.379\n",
      "Date:                Mon, 29 Mar 2021   AIC                          16399.907\n",
      "Time:                        15:57:28   BIC                          16502.731\n",
      "Sample:                    06-08-2010   HQIC                         16437.449\n",
      "                         - 01-01-2019                                         \n",
      "========================================================================================\n",
      "                           coef    std err          z      P>|z|      [0.025      0.975]\n",
      "----------------------------------------------------------------------------------------\n",
      "const                    0.3448      0.193      1.783      0.075      -0.034       0.724\n",
      "ar.L1.D.market_value    -0.7068      0.037    -19.263      0.000      -0.779      -0.635\n",
      "ar.L2.D.market_value    -0.5580      0.039    -14.414      0.000      -0.634      -0.482\n",
      "ar.L3.D.market_value     0.6071      0.030     19.926      0.000       0.547       0.667\n",
      "ar.L4.D.market_value     1.1381      0.027     41.860      0.000       1.085       1.191\n",
      "ar.L5.D.market_value     0.5660      0.064      8.885      0.000       0.441       0.691\n",
      "ar.L6.D.market_value    -0.6124      0.081     -7.547      0.000      -0.771      -0.453\n",
      "ar.L7.D.market_value    -0.6965      0.069    -10.025      0.000      -0.833      -0.560\n",
      "ar.L8.D.market_value    -0.9209      0.036    -25.664      0.000      -0.991      -0.851\n",
      "ma.L1.D.market_value     0.7181      0.046     15.463      0.000       0.627       0.809\n",
      "ma.L2.D.market_value     0.5407      0.045     12.005      0.000       0.452       0.629\n",
      "ma.L3.D.market_value    -0.5952      0.032    -18.673      0.000      -0.658      -0.533\n",
      "ma.L4.D.market_value    -1.1219      0.051    -21.970      0.000      -1.222      -1.022\n",
      "ma.L5.D.market_value    -0.5923      0.114     -5.187      0.000      -0.816      -0.369\n",
      "ma.L6.D.market_value     0.6082      0.138      4.406      0.000       0.338       0.879\n",
      "ma.L7.D.market_value     0.6701      0.112      5.995      0.000       0.451       0.889\n",
      "ma.L8.D.market_value     0.9015      0.055     16.422      0.000       0.794       1.009\n",
      "                                    Roots                                    \n",
      "=============================================================================\n",
      "                  Real          Imaginary           Modulus         Frequency\n",
      "-----------------------------------------------------------------------------\n",
      "AR.1            0.9512           -0.3190j            1.0033           -0.0515\n",
      "AR.2            0.9512           +0.3190j            1.0033            0.0515\n",
      "AR.3           -0.9146           -0.4229j            1.0076           -0.4311\n",
      "AR.4           -0.9146           +0.4229j            1.0076            0.4311\n",
      "AR.5           -0.0949           -0.9995j            1.0040           -0.2651\n",
      "AR.6           -0.0949           +0.9995j            1.0040            0.2651\n",
      "AR.7           -0.3198           -0.9756j            1.0267           -0.3004\n",
      "AR.8           -0.3198           +0.9756j            1.0267            0.3004\n",
      "MA.1            0.9564           -0.3182j            1.0079           -0.0511\n",
      "MA.2            0.9564           +0.3182j            1.0079            0.0511\n",
      "MA.3           -0.9061           -0.4232j            1.0000           -0.4305\n",
      "MA.4           -0.9061           +0.4232j            1.0000            0.4305\n",
      "MA.5           -0.0887           -0.9971j            1.0010           -0.2641\n",
      "MA.6           -0.0887           +0.9971j            1.0010            0.2641\n",
      "MA.7           -0.3333           -0.9892j            1.0438           -0.3017\n",
      "MA.8           -0.3333           +0.9892j            1.0438            0.3017\n",
      "-----------------------------------------------------------------------------\n"
     ]
    }
   ],
   "source": [
    "#ARIMA(8,1,8)\n",
    "model_ar_8_i_1_ma_8 = ARIMA(df.market_value, order=(8,1,8))\n",
    "results_ar_8_i_1_ma_8 = model_ar_8_i_1_ma_8.fit()\n",
    "print(results_ar_8_i_1_ma_8.summary())"
   ]
  },
  {
   "cell_type": "code",
   "execution_count": 45,
   "metadata": {},
   "outputs": [
    {
     "name": "stdout",
     "output_type": "stream",
     "text": [
      "                             ARIMA Model Results                              \n",
      "==============================================================================\n",
      "Dep. Variable:         D.market_value   No. Observations:                 2236\n",
      "Model:                 ARIMA(8, 1, 7)   Log Likelihood               -8188.553\n",
      "Method:                       css-mle   S.D. of innovations              9.421\n",
      "Date:                Mon, 29 Mar 2021   AIC                          16411.107\n",
      "Time:                        16:01:04   BIC                          16508.218\n",
      "Sample:                    06-08-2010   HQIC                         16446.563\n",
      "                         - 01-01-2019                                         \n",
      "========================================================================================\n",
      "                           coef    std err          z      P>|z|      [0.025      0.975]\n",
      "----------------------------------------------------------------------------------------\n",
      "const                    0.3526      0.163      2.157      0.031       0.032       0.673\n",
      "ar.L1.D.market_value    -0.0877      0.205     -0.428      0.668      -0.489       0.313\n",
      "ar.L2.D.market_value     0.3251      0.141      2.303      0.021       0.048       0.602\n",
      "ar.L3.D.market_value    -0.0193      0.161     -0.120      0.904      -0.334       0.296\n",
      "ar.L4.D.market_value     0.4251      0.086      4.940      0.000       0.256       0.594\n",
      "ar.L5.D.market_value    -0.0542      0.171     -0.316      0.752      -0.390       0.282\n",
      "ar.L6.D.market_value    -0.6121      0.128     -4.796      0.000      -0.862      -0.362\n",
      "ar.L7.D.market_value     0.2183      0.161      1.360      0.174      -0.096       0.533\n",
      "ar.L8.D.market_value    -0.1210      0.032     -3.731      0.000      -0.185      -0.057\n",
      "ma.L1.D.market_value     0.1240      0.206      0.603      0.546      -0.279       0.527\n",
      "ma.L2.D.market_value    -0.3787      0.142     -2.662      0.008      -0.657      -0.100\n",
      "ma.L3.D.market_value     0.0299      0.166      0.180      0.857      -0.296       0.356\n",
      "ma.L4.D.market_value    -0.4166      0.085     -4.883      0.000      -0.584      -0.249\n",
      "ma.L5.D.market_value    -0.0386      0.180     -0.214      0.830      -0.392       0.314\n",
      "ma.L6.D.market_value     0.6379      0.132      4.844      0.000       0.380       0.896\n",
      "ma.L7.D.market_value    -0.1991      0.161     -1.238      0.216      -0.514       0.116\n",
      "                                    Roots                                    \n",
      "=============================================================================\n",
      "                  Real          Imaginary           Modulus         Frequency\n",
      "-----------------------------------------------------------------------------\n",
      "AR.1           -0.9428           -0.3408j            1.0025           -0.4448\n",
      "AR.2           -0.9428           +0.3408j            1.0025            0.4448\n",
      "AR.3           -0.0885           -1.0616j            1.0653           -0.2632\n",
      "AR.4           -0.0885           +1.0616j            1.0653            0.2632\n",
      "AR.5            1.0637           -0.4153j            1.1419           -0.0592\n",
      "AR.6            1.0637           +0.4153j            1.1419            0.0592\n",
      "AR.7            0.8696           -2.1911j            2.3574           -0.1899\n",
      "AR.8            0.8696           +2.1911j            2.3574            0.1899\n",
      "MA.1           -0.9443           -0.3460j            1.0057           -0.4441\n",
      "MA.2           -0.9443           +0.3460j            1.0057            0.4441\n",
      "MA.3           -0.0525           -1.0514j            1.0527           -0.2579\n",
      "MA.4           -0.0525           +1.0514j            1.0527            0.2579\n",
      "MA.5            1.1619           -0.4577j            1.2488           -0.0597\n",
      "MA.6            1.1619           +0.4577j            1.2488            0.0597\n",
      "MA.7            2.8744           -0.0000j            2.8744           -0.0000\n",
      "-----------------------------------------------------------------------------\n"
     ]
    }
   ],
   "source": [
    "#ARIMA(8,1,7)\n",
    "model_ar_8_i_1_ma_7 = ARIMA(df.market_value, order=(8,1,7))\n",
    "results_ar_8_i_1_ma_7 = model_ar_8_i_1_ma_7.fit()\n",
    "print(results_ar_8_i_1_ma_7.summary())"
   ]
  },
  {
   "cell_type": "code",
   "execution_count": 46,
   "metadata": {},
   "outputs": [
    {
     "name": "stdout",
     "output_type": "stream",
     "text": [
      "                             ARIMA Model Results                              \n",
      "==============================================================================\n",
      "Dep. Variable:         D.market_value   No. Observations:                 2236\n",
      "Model:                 ARIMA(8, 1, 6)   Log Likelihood               -8186.722\n",
      "Method:                       css-mle   S.D. of innovations              9.414\n",
      "Date:                Mon, 29 Mar 2021   AIC                          16405.445\n",
      "Time:                        16:03:28   BIC                          16496.844\n",
      "Sample:                    06-08-2010   HQIC                         16438.815\n",
      "                         - 01-01-2019                                         \n",
      "========================================================================================\n",
      "                           coef    std err          z      P>|z|      [0.025      0.975]\n",
      "----------------------------------------------------------------------------------------\n",
      "const                    0.3510      0.168      2.094      0.036       0.022       0.679\n",
      "ar.L1.D.market_value     0.2623      0.123      2.126      0.034       0.020       0.504\n",
      "ar.L2.D.market_value    -0.5099      0.088     -5.826      0.000      -0.681      -0.338\n",
      "ar.L3.D.market_value     0.9504      0.113      8.433      0.000       0.730       1.171\n",
      "ar.L4.D.market_value    -0.3736      0.111     -3.376      0.001      -0.590      -0.157\n",
      "ar.L5.D.market_value     0.5295      0.096      5.516      0.000       0.341       0.718\n",
      "ar.L6.D.market_value    -0.7198      0.093     -7.743      0.000      -0.902      -0.538\n",
      "ar.L7.D.market_value     0.0595      0.026      2.286      0.022       0.008       0.110\n",
      "ar.L8.D.market_value    -0.1019      0.034     -3.026      0.002      -0.168      -0.036\n",
      "ma.L1.D.market_value    -0.2249      0.123     -1.835      0.067      -0.465       0.015\n",
      "ma.L2.D.market_value     0.4481      0.086      5.233      0.000       0.280       0.616\n",
      "ma.L3.D.market_value    -0.8915      0.118     -7.539      0.000      -1.123      -0.660\n",
      "ma.L4.D.market_value     0.2919      0.104      2.796      0.005       0.087       0.497\n",
      "ma.L5.D.market_value    -0.5154      0.087     -5.932      0.000      -0.686      -0.345\n",
      "ma.L6.D.market_value     0.6522      0.102      6.410      0.000       0.453       0.852\n",
      "                                    Roots                                    \n",
      "=============================================================================\n",
      "                  Real          Imaginary           Modulus         Frequency\n",
      "-----------------------------------------------------------------------------\n",
      "AR.1            1.0414           -0.3848j            1.1103           -0.0563\n",
      "AR.2            1.0414           +0.3848j            1.1103            0.0563\n",
      "AR.3           -0.6901           -0.7524j            1.0209           -0.3681\n",
      "AR.4           -0.6901           +0.7524j            1.0209            0.3681\n",
      "AR.5           -0.0600           -1.0750j            1.0767           -0.2589\n",
      "AR.6           -0.0600           +1.0750j            1.0767            0.2589\n",
      "AR.7            0.0004           -2.5669j            2.5669           -0.2500\n",
      "AR.8            0.0004           +2.5669j            2.5669            0.2500\n",
      "MA.1           -0.6773           -0.7452j            1.0070           -0.3674\n",
      "MA.2           -0.6773           +0.7452j            1.0070            0.3674\n",
      "MA.3           -0.0304           -1.0520j            1.0524           -0.2546\n",
      "MA.4           -0.0304           +1.0520j            1.0524            0.2546\n",
      "MA.5            1.1028           -0.3861j            1.1684           -0.0536\n",
      "MA.6            1.1028           +0.3861j            1.1684            0.0536\n",
      "-----------------------------------------------------------------------------\n"
     ]
    }
   ],
   "source": [
    "#ARIMA(8,1,6)\n",
    "model_ar_8_i_1_ma_6 = ARIMA(df.market_value, order=(8,1,6))\n",
    "results_ar_8_i_1_ma_6 = model_ar_8_i_1_ma_6.fit()\n",
    "print(results_ar_8_i_1_ma_6.summary())"
   ]
  },
  {
   "cell_type": "code",
   "execution_count": 47,
   "metadata": {},
   "outputs": [
    {
     "name": "stdout",
     "output_type": "stream",
     "text": [
      "                             ARIMA Model Results                              \n",
      "==============================================================================\n",
      "Dep. Variable:         D.market_value   No. Observations:                 2236\n",
      "Model:                 ARIMA(8, 1, 5)   Log Likelihood               -8192.224\n",
      "Method:                       css-mle   S.D. of innovations              9.438\n",
      "Date:                Mon, 29 Mar 2021   AIC                          16414.449\n",
      "Time:                        16:04:22   BIC                          16500.135\n",
      "Sample:                    06-08-2010   HQIC                         16445.734\n",
      "                         - 01-01-2019                                         \n",
      "========================================================================================\n",
      "                           coef    std err          z      P>|z|      [0.025      0.975]\n",
      "----------------------------------------------------------------------------------------\n",
      "const                    0.3516      0.164      2.142      0.032       0.030       0.673\n",
      "ar.L1.D.market_value     0.4981      0.200      2.487      0.013       0.106       0.891\n",
      "ar.L2.D.market_value    -0.0955      0.067     -1.419      0.156      -0.227       0.036\n",
      "ar.L3.D.market_value    -0.0394      0.090     -0.436      0.663      -0.217       0.138\n",
      "ar.L4.D.market_value     0.6629      0.053     12.408      0.000       0.558       0.768\n",
      "ar.L5.D.market_value    -0.6567      0.177     -3.711      0.000      -1.003      -0.310\n",
      "ar.L6.D.market_value     0.0973      0.033      2.912      0.004       0.032       0.163\n",
      "ar.L7.D.market_value    -0.0828      0.028     -2.907      0.004      -0.139      -0.027\n",
      "ar.L8.D.market_value    -0.0369      0.031     -1.178      0.239      -0.098       0.024\n",
      "ma.L1.D.market_value    -0.4650      0.200     -2.331      0.020      -0.856      -0.074\n",
      "ma.L2.D.market_value     0.0251      0.066      0.382      0.703      -0.104       0.154\n",
      "ma.L3.D.market_value     0.0949      0.088      1.083      0.279      -0.077       0.267\n",
      "ma.L4.D.market_value    -0.6907      0.055    -12.479      0.000      -0.799      -0.582\n",
      "ma.L5.D.market_value     0.5723      0.185      3.093      0.002       0.210       0.935\n",
      "                                    Roots                                    \n",
      "=============================================================================\n",
      "                  Real          Imaginary           Modulus         Frequency\n",
      "-----------------------------------------------------------------------------\n",
      "AR.1           -1.0143           -0.0000j            1.0143           -0.5000\n",
      "AR.2            1.0627           -0.4074j            1.1381           -0.0583\n",
      "AR.3            1.0627           +0.4074j            1.1381            0.0583\n",
      "AR.4           -0.0822           -1.0736j            1.0767           -0.2622\n",
      "AR.5           -0.0822           +1.0736j            1.0767            0.2622\n",
      "AR.6            0.4829           -2.0124j            2.0696           -0.2125\n",
      "AR.7            0.4829           +2.0124j            2.0696            0.2125\n",
      "AR.8           -4.1588           -0.0000j            4.1588           -0.5000\n",
      "MA.1           -1.0235           -0.0000j            1.0235           -0.5000\n",
      "MA.2           -0.0423           -1.0571j            1.0580           -0.2564\n",
      "MA.3           -0.0423           +1.0571j            1.0580            0.2564\n",
      "MA.4            1.1575           -0.4306j            1.2350           -0.0567\n",
      "MA.5            1.1575           +0.4306j            1.2350            0.0567\n",
      "-----------------------------------------------------------------------------\n"
     ]
    }
   ],
   "source": [
    "#ARIMA(8,1,5)\n",
    "model_ar_8_i_1_ma_5 = ARIMA(df.market_value, order=(8,1,5))\n",
    "results_ar_8_i_1_ma_5 = model_ar_8_i_1_ma_5.fit()\n",
    "print(results_ar_8_i_1_ma_5.summary())"
   ]
  },
  {
   "cell_type": "code",
   "execution_count": 48,
   "metadata": {},
   "outputs": [
    {
     "name": "stdout",
     "output_type": "stream",
     "text": [
      "                             ARIMA Model Results                              \n",
      "==============================================================================\n",
      "Dep. Variable:         D.market_value   No. Observations:                 2236\n",
      "Model:                 ARIMA(8, 1, 4)   Log Likelihood               -8194.520\n",
      "Method:                       css-mle   S.D. of innovations              9.448\n",
      "Date:                Mon, 29 Mar 2021   AIC                          16417.039\n",
      "Time:                        16:05:05   BIC                          16497.013\n",
      "Sample:                    06-08-2010   HQIC                         16446.239\n",
      "                         - 01-01-2019                                         \n",
      "========================================================================================\n",
      "                           coef    std err          z      P>|z|      [0.025      0.975]\n",
      "----------------------------------------------------------------------------------------\n",
      "const                    0.3520      0.163      2.163      0.031       0.033       0.671\n",
      "ar.L1.D.market_value     1.4206      0.513      2.770      0.006       0.415       2.426\n",
      "ar.L2.D.market_value    -1.4840      0.438     -3.388      0.001      -2.343      -0.625\n",
      "ar.L3.D.market_value     1.4014      0.474      2.958      0.003       0.473       2.330\n",
      "ar.L4.D.market_value    -0.7122      0.435     -1.636      0.102      -1.565       0.141\n",
      "ar.L5.D.market_value     0.0892      0.073      1.214      0.225      -0.055       0.233\n",
      "ar.L6.D.market_value    -0.0106      0.056     -0.187      0.851      -0.121       0.100\n",
      "ar.L7.D.market_value    -0.0552      0.054     -1.017      0.309      -0.162       0.051\n",
      "ar.L8.D.market_value     0.0008      0.056      0.014      0.989      -0.109       0.111\n",
      "ma.L1.D.market_value    -1.3899      0.512     -2.713      0.007      -2.394      -0.386\n",
      "ma.L2.D.market_value     1.3884      0.420      3.305      0.001       0.565       2.212\n",
      "ma.L3.D.market_value    -1.2578      0.432     -2.913      0.004      -2.104      -0.412\n",
      "ma.L4.D.market_value     0.5440      0.385      1.413      0.158      -0.210       1.298\n",
      "                                    Roots                                    \n",
      "=============================================================================\n",
      "                  Real          Imaginary           Modulus         Frequency\n",
      "-----------------------------------------------------------------------------\n",
      "AR.1            1.0790           -0.4133j            1.1554           -0.0582\n",
      "AR.2            1.0790           +0.4133j            1.1554            0.0582\n",
      "AR.3           -0.0861           -1.0748j            1.0782           -0.2627\n",
      "AR.4           -0.0861           +1.0748j            1.0782            0.2627\n",
      "AR.5            0.4818           -1.8705j            1.9316           -0.2099\n",
      "AR.6            0.4818           +1.8705j            1.9316            0.2099\n",
      "AR.7           -3.1200           -0.0000j            3.1200           -0.5000\n",
      "AR.8           69.3396           -0.0000j           69.3396           -0.0000\n",
      "MA.1           -0.0432           -1.0594j            1.0602           -0.2565\n",
      "MA.2           -0.0432           +1.0594j            1.0602            0.2565\n",
      "MA.3            1.1992           -0.4440j            1.2788           -0.0564\n",
      "MA.4            1.1992           +0.4440j            1.2788            0.0564\n",
      "-----------------------------------------------------------------------------\n"
     ]
    }
   ],
   "source": [
    "#ARIMA(8,1,4)\n",
    "model_ar_8_i_1_ma_4 = ARIMA(df.market_value, order=(8,1,4))\n",
    "results_ar_8_i_1_ma_4 = model_ar_8_i_1_ma_4.fit()\n",
    "print(results_ar_8_i_1_ma_4.summary())"
   ]
  },
  {
   "cell_type": "code",
   "execution_count": 49,
   "metadata": {},
   "outputs": [
    {
     "name": "stdout",
     "output_type": "stream",
     "text": [
      "                             ARIMA Model Results                              \n",
      "==============================================================================\n",
      "Dep. Variable:         D.market_value   No. Observations:                 2236\n",
      "Model:                 ARIMA(8, 1, 3)   Log Likelihood               -8194.830\n",
      "Method:                       css-mle   S.D. of innovations              9.449\n",
      "Date:                Mon, 29 Mar 2021   AIC                          16415.661\n",
      "Time:                        16:05:32   BIC                          16489.923\n",
      "Sample:                    06-08-2010   HQIC                         16442.775\n",
      "                         - 01-01-2019                                         \n",
      "========================================================================================\n",
      "                           coef    std err          z      P>|z|      [0.025      0.975]\n",
      "----------------------------------------------------------------------------------------\n",
      "const                    0.3528      0.157      2.248      0.025       0.045       0.660\n",
      "ar.L1.D.market_value     0.7220      0.101      7.122      0.000       0.523       0.921\n",
      "ar.L2.D.market_value    -0.9007      0.062    -14.525      0.000      -1.022      -0.779\n",
      "ar.L3.D.market_value     0.7316      0.105      6.961      0.000       0.526       0.938\n",
      "ar.L4.D.market_value    -0.1016      0.037     -2.779      0.005      -0.173      -0.030\n",
      "ar.L5.D.market_value     0.0171      0.036      0.469      0.639      -0.054       0.088\n",
      "ar.L6.D.market_value    -0.0126      0.035     -0.357      0.721      -0.082       0.057\n",
      "ar.L7.D.market_value    -0.0362      0.029     -1.244      0.214      -0.093       0.021\n",
      "ar.L8.D.market_value    -0.0510      0.026     -1.947      0.052      -0.102       0.000\n",
      "ma.L1.D.market_value    -0.6906      0.100     -6.915      0.000      -0.886      -0.495\n",
      "ma.L2.D.market_value     0.8275      0.056     14.875      0.000       0.718       0.937\n",
      "ma.L3.D.market_value    -0.6416      0.096     -6.660      0.000      -0.830      -0.453\n",
      "                                    Roots                                    \n",
      "=============================================================================\n",
      "                  Real          Imaginary           Modulus         Frequency\n",
      "-----------------------------------------------------------------------------\n",
      "AR.1            1.2349           -0.4015j            1.2985           -0.0500\n",
      "AR.2            1.2349           +0.4015j            1.2985            0.0500\n",
      "AR.3           -0.0928           -1.1011j            1.1050           -0.2634\n",
      "AR.4           -0.0928           +1.1011j            1.1050            0.2634\n",
      "AR.5            0.2637           -1.4721j            1.4955           -0.2218\n",
      "AR.6            0.2637           +1.4721j            1.4955            0.2218\n",
      "AR.7           -1.7614           -1.0766j            2.0644           -0.4127\n",
      "AR.8           -1.7614           +1.0766j            2.0644            0.4127\n",
      "MA.1           -0.0294           -1.0746j            1.0750           -0.2544\n",
      "MA.2           -0.0294           +1.0746j            1.0750            0.2544\n",
      "MA.3            1.3487           -0.0000j            1.3487           -0.0000\n",
      "-----------------------------------------------------------------------------\n"
     ]
    }
   ],
   "source": [
    "#ARIMA(8,1,3)\n",
    "model_ar_8_i_1_ma_3 = ARIMA(df.market_value, order=(8,1,3))\n",
    "results_ar_8_i_1_ma_3 = model_ar_8_i_1_ma_3.fit()\n",
    "print(results_ar_8_i_1_ma_3.summary())"
   ]
  },
  {
   "cell_type": "code",
   "execution_count": 50,
   "metadata": {},
   "outputs": [
    {
     "name": "stdout",
     "output_type": "stream",
     "text": [
      "                             ARIMA Model Results                              \n",
      "==============================================================================\n",
      "Dep. Variable:         D.market_value   No. Observations:                 2236\n",
      "Model:                 ARIMA(8, 1, 2)   Log Likelihood               -8200.273\n",
      "Method:                       css-mle   S.D. of innovations              9.473\n",
      "Date:                Mon, 29 Mar 2021   AIC                          16424.547\n",
      "Time:                        16:06:00   BIC                          16493.096\n",
      "Sample:                    06-08-2010   HQIC                         16449.575\n",
      "                         - 01-01-2019                                         \n",
      "========================================================================================\n",
      "                           coef    std err          z      P>|z|      [0.025      0.975]\n",
      "----------------------------------------------------------------------------------------\n",
      "const                    0.3532      0.186      1.894      0.058      -0.012       0.719\n",
      "ar.L1.D.market_value     0.0376      0.069      0.545      0.586      -0.097       0.173\n",
      "ar.L2.D.market_value    -0.8933      0.081    -10.986      0.000      -1.053      -0.734\n",
      "ar.L3.D.market_value     0.0636      0.028      2.234      0.025       0.008       0.119\n",
      "ar.L4.D.market_value    -0.0553      0.029     -1.938      0.053      -0.111       0.001\n",
      "ar.L5.D.market_value    -0.0223      0.029     -0.780      0.435      -0.078       0.034\n",
      "ar.L6.D.market_value    -0.0249      0.029     -0.871      0.384      -0.081       0.031\n",
      "ar.L7.D.market_value    -0.0219      0.023     -0.950      0.342      -0.067       0.023\n",
      "ar.L8.D.market_value    -0.0676      0.026     -2.582      0.010      -0.119      -0.016\n",
      "ma.L1.D.market_value -9.903e-05      0.066     -0.001      0.999      -0.130       0.130\n",
      "ma.L2.D.market_value     0.8466      0.081     10.424      0.000       0.687       1.006\n",
      "                                    Roots                                    \n",
      "=============================================================================\n",
      "                  Real          Imaginary           Modulus         Frequency\n",
      "-----------------------------------------------------------------------------\n",
      "AR.1            1.3214           -0.7597j            1.5242           -0.0830\n",
      "AR.2            1.3214           +0.7597j            1.5242            0.0830\n",
      "AR.3           -0.1072           -1.1826j            1.1874           -0.2644\n",
      "AR.4           -0.1072           +1.1826j            1.1874            0.2644\n",
      "AR.5            0.0879           -1.2729j            1.2760           -0.2390\n",
      "AR.6            0.0879           +1.2729j            1.2760            0.2390\n",
      "AR.7           -1.4640           -0.7934j            1.6652           -0.4210\n",
      "AR.8           -1.4640           +0.7934j            1.6652            0.4210\n",
      "MA.1            0.0001           -1.0868j            1.0868           -0.2500\n",
      "MA.2            0.0001           +1.0868j            1.0868            0.2500\n",
      "-----------------------------------------------------------------------------\n"
     ]
    }
   ],
   "source": [
    "#ARIMA(8,1,2)\n",
    "model_ar_8_i_1_ma_2 = ARIMA(df.market_value, order=(8,1,2))\n",
    "results_ar_8_i_1_ma_2 = model_ar_8_i_1_ma_2.fit()\n",
    "print(results_ar_8_i_1_ma_2.summary())"
   ]
  },
  {
   "cell_type": "code",
   "execution_count": 51,
   "metadata": {},
   "outputs": [
    {
     "name": "stdout",
     "output_type": "stream",
     "text": [
      "                             ARIMA Model Results                              \n",
      "==============================================================================\n",
      "Dep. Variable:         D.market_value   No. Observations:                 2236\n",
      "Model:                 ARIMA(8, 1, 1)   Log Likelihood               -8202.563\n",
      "Method:                       css-mle   S.D. of innovations              9.482\n",
      "Date:                Mon, 29 Mar 2021   AIC                          16427.126\n",
      "Time:                        16:06:16   BIC                          16489.963\n",
      "Sample:                    06-08-2010   HQIC                         16450.069\n",
      "                         - 01-01-2019                                         \n",
      "========================================================================================\n",
      "                           coef    std err          z      P>|z|      [0.025      0.975]\n",
      "----------------------------------------------------------------------------------------\n",
      "const                    0.3524      0.160      2.199      0.028       0.038       0.667\n",
      "ar.L1.D.market_value     0.4849      0.165      2.939      0.003       0.162       0.808\n",
      "ar.L2.D.market_value    -0.0752      0.024     -3.116      0.002      -0.123      -0.028\n",
      "ar.L3.D.market_value     0.0568      0.025      2.229      0.026       0.007       0.107\n",
      "ar.L4.D.market_value    -0.0228      0.024     -0.941      0.347      -0.070       0.025\n",
      "ar.L5.D.market_value    -0.0501      0.024     -2.115      0.034      -0.096      -0.004\n",
      "ar.L6.D.market_value     0.0059      0.026      0.229      0.819      -0.044       0.056\n",
      "ar.L7.D.market_value     0.0023      0.024      0.095      0.924      -0.044       0.049\n",
      "ar.L8.D.market_value    -0.0857      0.023     -3.672      0.000      -0.131      -0.040\n",
      "ma.L1.D.market_value    -0.4537      0.165     -2.746      0.006      -0.777      -0.130\n",
      "                                    Roots                                    \n",
      "=============================================================================\n",
      "                  Real          Imaginary           Modulus         Frequency\n",
      "-----------------------------------------------------------------------------\n",
      "AR.1            1.1506           -0.4522j            1.2363           -0.0596\n",
      "AR.2            1.1506           +0.4522j            1.2363            0.0596\n",
      "AR.3            0.6421           -1.2228j            1.3812           -0.1730\n",
      "AR.4            0.6421           +1.2228j            1.3812            0.1730\n",
      "AR.5           -0.4187           -1.2792j            1.3460           -0.3004\n",
      "AR.6           -0.4187           +1.2792j            1.3460            0.3004\n",
      "AR.7           -1.3607           -0.5984j            1.4865           -0.4341\n",
      "AR.8           -1.3607           +0.5984j            1.4865            0.4341\n",
      "MA.1            2.2041           +0.0000j            2.2041            0.0000\n",
      "-----------------------------------------------------------------------------\n"
     ]
    }
   ],
   "source": [
    "#ARIMA(8,1,1)\n",
    "model_ar_8_i_1_ma_1 = ARIMA(df.market_value, order=(8,1,1))\n",
    "results_ar_8_i_1_ma_1 = model_ar_8_i_1_ma_1.fit()\n",
    "print(results_ar_8_i_1_ma_1.summary())"
   ]
  },
  {
   "cell_type": "code",
   "execution_count": 52,
   "metadata": {},
   "outputs": [
    {
     "name": "stdout",
     "output_type": "stream",
     "text": [
      "                             ARIMA Model Results                              \n",
      "==============================================================================\n",
      "Dep. Variable:         D.market_value   No. Observations:                 2236\n",
      "Model:                 ARIMA(1, 1, 8)   Log Likelihood               -8204.260\n",
      "Method:                       css-mle   S.D. of innovations              9.490\n",
      "Date:                Mon, 29 Mar 2021   AIC                          16430.519\n",
      "Time:                        16:06:35   BIC                          16493.356\n",
      "Sample:                    06-08-2010   HQIC                         16453.462\n",
      "                         - 01-01-2019                                         \n",
      "========================================================================================\n",
      "                           coef    std err          z      P>|z|      [0.025      0.975]\n",
      "----------------------------------------------------------------------------------------\n",
      "const                    0.3535      0.155      2.283      0.022       0.050       0.657\n",
      "ar.L1.D.market_value     0.3781      0.161      2.342      0.019       0.062       0.695\n",
      "ma.L1.D.market_value    -0.3496      0.160     -2.184      0.029      -0.663      -0.036\n",
      "ma.L2.D.market_value    -0.0638      0.023     -2.740      0.006      -0.109      -0.018\n",
      "ma.L3.D.market_value     0.0468      0.024      1.952      0.051      -0.000       0.094\n",
      "ma.L4.D.market_value    -0.0236      0.023     -1.040      0.299      -0.068       0.021\n",
      "ma.L5.D.market_value    -0.0503      0.021     -2.367      0.018      -0.092      -0.009\n",
      "ma.L6.D.market_value     0.0074      0.025      0.295      0.768      -0.042       0.057\n",
      "ma.L7.D.market_value    -0.0069      0.023     -0.298      0.766      -0.052       0.038\n",
      "ma.L8.D.market_value    -0.0807      0.023     -3.540      0.000      -0.125      -0.036\n",
      "                                    Roots                                    \n",
      "=============================================================================\n",
      "                  Real          Imaginary           Modulus         Frequency\n",
      "-----------------------------------------------------------------------------\n",
      "AR.1            2.6447           +0.0000j            2.6447            0.0000\n",
      "MA.1            1.2133           -0.0000j            1.2133           -0.0000\n",
      "MA.2            0.9785           -0.9121j            1.3377           -0.1194\n",
      "MA.3            0.9785           +0.9121j            1.3377            0.1194\n",
      "MA.4            0.1261           -1.3843j            1.3900           -0.2355\n",
      "MA.5            0.1261           +1.3843j            1.3900            0.2355\n",
      "MA.6           -1.0265           -0.9882j            1.4249           -0.3780\n",
      "MA.7           -1.0265           +0.9882j            1.4249            0.3780\n",
      "MA.8           -1.4544           -0.0000j            1.4544           -0.5000\n",
      "-----------------------------------------------------------------------------\n"
     ]
    }
   ],
   "source": [
    "#ARIMA(1,1,8)\n",
    "model_ar_1_i_1_ma_8 = ARIMA(df.market_value, order=(1,1,8))\n",
    "results_ar_1_i_1_ma_8 = model_ar_1_i_1_ma_8.fit()\n",
    "print(results_ar_1_i_1_ma_8.summary())"
   ]
  },
  {
   "cell_type": "code",
   "execution_count": 53,
   "metadata": {},
   "outputs": [
    {
     "name": "stdout",
     "output_type": "stream",
     "text": [
      "                             ARIMA Model Results                              \n",
      "==============================================================================\n",
      "Dep. Variable:         D.market_value   No. Observations:                 2236\n",
      "Model:                 ARIMA(2, 1, 8)   Log Likelihood               -8199.739\n",
      "Method:                       css-mle   S.D. of innovations              9.470\n",
      "Date:                Mon, 29 Mar 2021   AIC                          16423.478\n",
      "Time:                        16:07:12   BIC                          16492.027\n",
      "Sample:                    06-08-2010   HQIC                         16448.506\n",
      "                         - 01-01-2019                                         \n",
      "========================================================================================\n",
      "                           coef    std err          z      P>|z|      [0.025      0.975]\n",
      "----------------------------------------------------------------------------------------\n",
      "const                    0.3532      0.178      1.987      0.047       0.005       0.702\n",
      "ar.L1.D.market_value    -0.0458      0.068     -0.670      0.503      -0.180       0.088\n",
      "ar.L2.D.market_value    -0.7923      0.077    -10.285      0.000      -0.943      -0.641\n",
      "ma.L1.D.market_value     0.0763      0.072      1.062      0.288      -0.065       0.217\n",
      "ma.L2.D.market_value     0.7423      0.080      9.224      0.000       0.585       0.900\n",
      "ma.L3.D.market_value     0.0441      0.027      1.647      0.100      -0.008       0.097\n",
      "ma.L4.D.market_value    -0.0555      0.027     -2.029      0.042      -0.109      -0.002\n",
      "ma.L5.D.market_value    -0.0418      0.028     -1.501      0.133      -0.096       0.013\n",
      "ma.L6.D.market_value    -0.0303      0.028     -1.085      0.278      -0.085       0.024\n",
      "ma.L7.D.market_value    -0.0240      0.024     -1.017      0.309      -0.070       0.022\n",
      "ma.L8.D.market_value    -0.0801      0.025     -3.156      0.002      -0.130      -0.030\n",
      "                                    Roots                                    \n",
      "=============================================================================\n",
      "                  Real          Imaginary           Modulus         Frequency\n",
      "-----------------------------------------------------------------------------\n",
      "AR.1           -0.0289           -1.1231j            1.1235           -0.2541\n",
      "AR.2           -0.0289           +1.1231j            1.1235            0.2541\n",
      "MA.1           -0.0031           -1.0644j            1.0644           -0.2505\n",
      "MA.2           -0.0031           +1.0644j            1.0644            0.2505\n",
      "MA.3            1.4613           -0.0000j            1.4613           -0.0000\n",
      "MA.4            0.8052           -1.2572j            1.4929           -0.1593\n",
      "MA.5            0.8052           +1.2572j            1.4929            0.1593\n",
      "MA.6           -0.9084           -1.1658j            1.4779           -0.3554\n",
      "MA.7           -0.9084           +1.1658j            1.4779            0.3554\n",
      "MA.8           -1.5484           -0.0000j            1.5484           -0.5000\n",
      "-----------------------------------------------------------------------------\n"
     ]
    }
   ],
   "source": [
    "#ARIMA(2,1,8)\n",
    "model_ar_2_i_1_ma_8 = ARIMA(df.market_value, order=(2,1,8))\n",
    "results_ar_2_i_1_ma_8 = model_ar_2_i_1_ma_8.fit()\n",
    "print(results_ar_2_i_1_ma_8.summary())"
   ]
  },
  {
   "cell_type": "code",
   "execution_count": 54,
   "metadata": {},
   "outputs": [
    {
     "name": "stdout",
     "output_type": "stream",
     "text": [
      "                             ARIMA Model Results                              \n",
      "==============================================================================\n",
      "Dep. Variable:         D.market_value   No. Observations:                 2236\n",
      "Model:                 ARIMA(3, 1, 8)   Log Likelihood               -8195.056\n",
      "Method:                       css-mle   S.D. of innovations              9.450\n",
      "Date:                Mon, 29 Mar 2021   AIC                          16416.111\n",
      "Time:                        16:07:47   BIC                          16490.373\n",
      "Sample:                    06-08-2010   HQIC                         16443.225\n",
      "                         - 01-01-2019                                         \n",
      "========================================================================================\n",
      "                           coef    std err          z      P>|z|      [0.025      0.975]\n",
      "----------------------------------------------------------------------------------------\n",
      "const                    0.3536      0.154      2.289      0.022       0.051       0.656\n",
      "ar.L1.D.market_value     0.5331      0.123      4.338      0.000       0.292       0.774\n",
      "ar.L2.D.market_value    -0.7369      0.066    -11.175      0.000      -0.866      -0.608\n",
      "ar.L3.D.market_value     0.5314      0.118      4.517      0.000       0.301       0.762\n",
      "ma.L1.D.market_value    -0.5020      0.123     -4.069      0.000      -0.744      -0.260\n",
      "ma.L2.D.market_value     0.6694      0.068      9.801      0.000       0.536       0.803\n",
      "ma.L3.D.market_value    -0.4567      0.114     -4.012      0.000      -0.680      -0.234\n",
      "ma.L4.D.market_value    -0.0798      0.030     -2.663      0.008      -0.139      -0.021\n",
      "ma.L5.D.market_value    -0.0034      0.030     -0.111      0.911      -0.063       0.056\n",
      "ma.L6.D.market_value    -0.0099      0.030     -0.330      0.741      -0.069       0.049\n",
      "ma.L7.D.market_value    -0.0289      0.026     -1.105      0.269      -0.080       0.022\n",
      "ma.L8.D.market_value    -0.0694      0.027     -2.531      0.011      -0.123      -0.016\n",
      "                                    Roots                                    \n",
      "=============================================================================\n",
      "                  Real          Imaginary           Modulus         Frequency\n",
      "-----------------------------------------------------------------------------\n",
      "AR.1           -0.0732           -1.1055j            1.1079           -0.2605\n",
      "AR.2           -0.0732           +1.1055j            1.1079            0.2605\n",
      "AR.3            1.5331           -0.0000j            1.5331           -0.0000\n",
      "MA.1           -0.0232           -1.0684j            1.0686           -0.2535\n",
      "MA.2           -0.0232           +1.0684j            1.0686            0.2535\n",
      "MA.3            1.1920           -0.0000j            1.1920           -0.0000\n",
      "MA.4            1.0127           -1.0769j            1.4783           -0.1299\n",
      "MA.5            1.0127           +1.0769j            1.4783            0.1299\n",
      "MA.6           -0.8997           -1.3785j            1.6461           -0.3420\n",
      "MA.7           -0.8997           +1.3785j            1.6461            0.3420\n",
      "MA.8           -1.7887           -0.0000j            1.7887           -0.5000\n",
      "-----------------------------------------------------------------------------\n"
     ]
    }
   ],
   "source": [
    "#ARIMA(3,1,8)\n",
    "model_ar_3_i_1_ma_8 = ARIMA(df.market_value, order=(3,1,8))\n",
    "results_ar_3_i_1_ma_8 = model_ar_3_i_1_ma_8.fit()\n",
    "print(results_ar_3_i_1_ma_8.summary())"
   ]
  },
  {
   "cell_type": "code",
   "execution_count": 55,
   "metadata": {},
   "outputs": [
    {
     "name": "stdout",
     "output_type": "stream",
     "text": [
      "                             ARIMA Model Results                              \n",
      "==============================================================================\n",
      "Dep. Variable:         D.market_value   No. Observations:                 2236\n",
      "Model:                 ARIMA(4, 1, 8)   Log Likelihood               -8194.866\n",
      "Method:                       css-mle   S.D. of innovations              9.450\n",
      "Date:                Mon, 29 Mar 2021   AIC                          16417.732\n",
      "Time:                        16:08:29   BIC                          16497.706\n",
      "Sample:                    06-08-2010   HQIC                         16446.931\n",
      "                         - 01-01-2019                                         \n",
      "========================================================================================\n",
      "                           coef    std err          z      P>|z|      [0.025      0.975]\n",
      "----------------------------------------------------------------------------------------\n",
      "const                    0.3532      0.156      2.267      0.023       0.048       0.659\n",
      "ar.L1.D.market_value     0.8103      0.484      1.674      0.094      -0.139       1.759\n",
      "ar.L2.D.market_value    -0.9505      0.354     -2.682      0.007      -1.645      -0.256\n",
      "ar.L3.D.market_value     0.7604      0.417      1.821      0.069      -0.058       1.579\n",
      "ar.L4.D.market_value    -0.2103      0.342     -0.615      0.538      -0.880       0.460\n",
      "ma.L1.D.market_value    -0.7788      0.484     -1.609      0.108      -1.728       0.170\n",
      "ma.L2.D.market_value     0.8741      0.341      2.564      0.010       0.206       1.542\n",
      "ma.L3.D.market_value    -0.6646      0.383     -1.734      0.083      -1.416       0.087\n",
      "ma.L4.D.market_value     0.1044      0.300      0.349      0.727      -0.483       0.691\n",
      "ma.L5.D.market_value     0.0237      0.057      0.415      0.678      -0.088       0.136\n",
      "ma.L6.D.market_value    -0.0096      0.036     -0.268      0.789      -0.080       0.061\n",
      "ma.L7.D.market_value    -0.0380      0.034     -1.134      0.257      -0.104       0.028\n",
      "ma.L8.D.market_value    -0.0514      0.047     -1.092      0.275      -0.144       0.041\n",
      "                                    Roots                                    \n",
      "=============================================================================\n",
      "                  Real          Imaginary           Modulus         Frequency\n",
      "-----------------------------------------------------------------------------\n",
      "AR.1           -0.0857           -1.0908j            1.0941           -0.2625\n",
      "AR.2           -0.0857           +1.0908j            1.0941            0.2625\n",
      "AR.3            1.8937           -0.6212j            1.9930           -0.0505\n",
      "AR.4            1.8937           +0.6212j            1.9930            0.0505\n",
      "MA.1            1.2207           -0.0000j            1.2207           -0.0000\n",
      "MA.2           -0.0342           -1.0674j            1.0680           -0.2551\n",
      "MA.3           -0.0342           +1.0674j            1.0680            0.2551\n",
      "MA.4            1.0012           -0.9779j            1.3996           -0.1231\n",
      "MA.5            1.0012           +0.9779j            1.3996            0.1231\n",
      "MA.6           -2.1073           -0.0000j            2.1073           -0.5000\n",
      "MA.7           -0.8937           -1.6080j            1.8396           -0.3307\n",
      "MA.8           -0.8937           +1.6080j            1.8396            0.3307\n",
      "-----------------------------------------------------------------------------\n"
     ]
    }
   ],
   "source": [
    "#ARIMA(4,1,8)\n",
    "model_ar_4_i_1_ma_8 = ARIMA(df.market_value, order=(4,1,8))\n",
    "results_ar_4_i_1_ma_8 = model_ar_4_i_1_ma_8.fit()\n",
    "print(results_ar_4_i_1_ma_8.summary())"
   ]
  },
  {
   "cell_type": "code",
   "execution_count": 56,
   "metadata": {},
   "outputs": [
    {
     "name": "stdout",
     "output_type": "stream",
     "text": [
      "                             ARIMA Model Results                              \n",
      "==============================================================================\n",
      "Dep. Variable:         D.market_value   No. Observations:                 2236\n",
      "Model:                 ARIMA(5, 1, 8)   Log Likelihood               -8191.129\n",
      "Method:                       css-mle   S.D. of innovations              9.432\n",
      "Date:                Mon, 29 Mar 2021   AIC                          16412.258\n",
      "Time:                        16:13:53   BIC                          16497.945\n",
      "Sample:                    06-08-2010   HQIC                         16443.543\n",
      "                         - 01-01-2019                                         \n",
      "========================================================================================\n",
      "                           coef    std err          z      P>|z|      [0.025      0.975]\n",
      "----------------------------------------------------------------------------------------\n",
      "const                    0.3513      0.166      2.117      0.034       0.026       0.677\n",
      "ar.L1.D.market_value     0.4889      0.110      4.444      0.000       0.273       0.704\n",
      "ar.L2.D.market_value     0.0032      0.048      0.067      0.946      -0.091       0.097\n",
      "ar.L3.D.market_value     0.0595      0.042      1.408      0.159      -0.023       0.142\n",
      "ar.L4.D.market_value     0.6832      0.043     15.896      0.000       0.599       0.767\n",
      "ar.L5.D.market_value    -0.7727      0.100     -7.746      0.000      -0.968      -0.577\n",
      "ma.L1.D.market_value    -0.4553      0.112     -4.073      0.000      -0.674      -0.236\n",
      "ma.L2.D.market_value    -0.0735      0.055     -1.345      0.179      -0.181       0.034\n",
      "ma.L3.D.market_value    -0.0066      0.047     -0.140      0.889      -0.100       0.086\n",
      "ma.L4.D.market_value    -0.7087      0.053    -13.284      0.000      -0.813      -0.604\n",
      "ma.L5.D.market_value     0.7044      0.106      6.630      0.000       0.496       0.913\n",
      "ma.L6.D.market_value     0.0707      0.026      2.713      0.007       0.020       0.122\n",
      "ma.L7.D.market_value    -0.0842      0.026     -3.280      0.001      -0.135      -0.034\n",
      "ma.L8.D.market_value     0.0005      0.027      0.017      0.986      -0.052       0.053\n",
      "                                    Roots                                    \n",
      "=============================================================================\n",
      "                  Real          Imaginary           Modulus         Frequency\n",
      "-----------------------------------------------------------------------------\n",
      "AR.1           -1.0146           -0.0000j            1.0146           -0.5000\n",
      "AR.2           -0.1005           -1.0029j            1.0079           -0.2659\n",
      "AR.3           -0.1005           +1.0029j            1.0079            0.2659\n",
      "AR.4            1.0499           -0.3916j            1.1206           -0.0568\n",
      "AR.5            1.0499           +0.3916j            1.1206            0.0568\n",
      "MA.1           -1.0250           -0.0000j            1.0250           -0.5000\n",
      "MA.2           -0.0899           -1.0029j            1.0070           -0.2642\n",
      "MA.3           -0.0899           +1.0029j            1.0070            0.2642\n",
      "MA.4            1.1204           -0.3984j            1.1891           -0.0544\n",
      "MA.5            1.1204           +0.3984j            1.1891            0.0544\n",
      "MA.6           -2.9240           -0.0000j            2.9240           -0.5000\n",
      "MA.7            2.7777           -0.0000j            2.7777           -0.0000\n",
      "MA.8          182.1211           -0.0000j          182.1211           -0.0000\n",
      "-----------------------------------------------------------------------------\n"
     ]
    }
   ],
   "source": [
    "#ARIMA(5,1,8)\n",
    "model_ar_5_i_1_ma_8 = ARIMA(df.market_value, order=(5,1,8))\n",
    "results_ar_5_i_1_ma_8 = model_ar_5_i_1_ma_8.fit()\n",
    "print(results_ar_5_i_1_ma_8.summary())"
   ]
  },
  {
   "cell_type": "code",
   "execution_count": 57,
   "metadata": {},
   "outputs": [
    {
     "name": "stdout",
     "output_type": "stream",
     "text": [
      "                             ARIMA Model Results                              \n",
      "==============================================================================\n",
      "Dep. Variable:         D.market_value   No. Observations:                 2236\n",
      "Model:                 ARIMA(6, 1, 8)   Log Likelihood               -8185.555\n",
      "Method:                       css-mle   S.D. of innovations              9.397\n",
      "Date:                Mon, 29 Mar 2021   AIC                          16403.110\n",
      "Time:                        16:21:24   BIC                          16494.509\n",
      "Sample:                    06-08-2010   HQIC                         16436.481\n",
      "                         - 01-01-2019                                         \n",
      "========================================================================================\n",
      "                           coef    std err          z      P>|z|      [0.025      0.975]\n",
      "----------------------------------------------------------------------------------------\n",
      "const                    0.3513      0.164      2.138      0.032       0.029       0.673\n",
      "ar.L1.D.market_value     0.1389      0.121      1.149      0.250      -0.098       0.376\n",
      "ar.L2.D.market_value    -0.4922      0.073     -6.757      0.000      -0.635      -0.349\n",
      "ar.L3.D.market_value     0.9663      0.104      9.318      0.000       0.763       1.170\n",
      "ar.L4.D.market_value    -0.2093      0.098     -2.137      0.033      -0.401      -0.017\n",
      "ar.L5.D.market_value     0.4126      0.071      5.794      0.000       0.273       0.552\n",
      "ar.L6.D.market_value    -0.7408      0.114     -6.507      0.000      -0.964      -0.518\n",
      "ma.L1.D.market_value    -0.1014      0.122     -0.830      0.407      -0.341       0.138\n",
      "ma.L2.D.market_value     0.4384      0.079      5.515      0.000       0.283       0.594\n",
      "ma.L3.D.market_value    -0.9337      0.109     -8.559      0.000      -1.147      -0.720\n",
      "ma.L4.D.market_value     0.1504      0.103      1.454      0.146      -0.052       0.353\n",
      "ma.L5.D.market_value    -0.3974      0.084     -4.703      0.000      -0.563      -0.232\n",
      "ma.L6.D.market_value     0.6791      0.128      5.310      0.000       0.428       0.930\n",
      "ma.L7.D.market_value     0.0178      0.025      0.712      0.476      -0.031       0.067\n",
      "ma.L8.D.market_value    -0.0895      0.024     -3.747      0.000      -0.136      -0.043\n",
      "                                    Roots                                    \n",
      "=============================================================================\n",
      "                  Real          Imaginary           Modulus         Frequency\n",
      "-----------------------------------------------------------------------------\n",
      "AR.1           -0.6863           -0.7541j            1.0196           -0.3675\n",
      "AR.2           -0.6863           +0.7541j            1.0196            0.3675\n",
      "AR.3           -0.0953           -1.0001j            1.0046           -0.2651\n",
      "AR.4           -0.0953           +1.0001j            1.0046            0.2651\n",
      "AR.5            1.0601           -0.4033j            1.1342           -0.0579\n",
      "AR.6            1.0601           +0.4033j            1.1342            0.0579\n",
      "MA.1           -0.6757           -0.7455j            1.0062           -0.3672\n",
      "MA.2           -0.6757           +0.7455j            1.0062            0.3672\n",
      "MA.3           -0.0882           -0.9961j            1.0000           -0.2641\n",
      "MA.4           -0.0882           +0.9961j            1.0000            0.2641\n",
      "MA.5            1.1461           -0.4226j            1.2215           -0.0562\n",
      "MA.6            1.1461           +0.4226j            1.2215            0.0562\n",
      "MA.7            2.4514           -0.0000j            2.4514           -0.0000\n",
      "MA.8           -3.0165           -0.0000j            3.0165           -0.5000\n",
      "-----------------------------------------------------------------------------\n"
     ]
    }
   ],
   "source": [
    "#ARIMA(6,1,8)\n",
    "model_ar_6_i_1_ma_8 = ARIMA(df.market_value, order=(6,1,8))\n",
    "results_ar_6_i_1_ma_8 = model_ar_6_i_1_ma_8.fit()\n",
    "print(results_ar_6_i_1_ma_8.summary())"
   ]
  },
  {
   "cell_type": "code",
   "execution_count": 58,
   "metadata": {},
   "outputs": [
    {
     "name": "stdout",
     "output_type": "stream",
     "text": [
      "                             ARIMA Model Results                              \n",
      "==============================================================================\n",
      "Dep. Variable:         D.market_value   No. Observations:                 2236\n",
      "Model:                 ARIMA(7, 1, 8)   Log Likelihood               -8188.010\n",
      "Method:                       css-mle   S.D. of innovations              9.418\n",
      "Date:                Mon, 29 Mar 2021   AIC                          16410.019\n",
      "Time:                        16:29:28   BIC                          16507.131\n",
      "Sample:                    06-08-2010   HQIC                         16445.476\n",
      "                         - 01-01-2019                                         \n",
      "========================================================================================\n",
      "                           coef    std err          z      P>|z|      [0.025      0.975]\n",
      "----------------------------------------------------------------------------------------\n",
      "const                    0.3554      0.153      2.319      0.020       0.055       0.656\n",
      "ar.L1.D.market_value     0.0456      0.062      0.731      0.465      -0.077       0.168\n",
      "ar.L2.D.market_value     0.0596      0.061      0.971      0.332      -0.061       0.180\n",
      "ar.L3.D.market_value    -0.5082      0.058     -8.749      0.000      -0.622      -0.394\n",
      "ar.L4.D.market_value     0.1798      0.077      2.333      0.020       0.029       0.331\n",
      "ar.L5.D.market_value    -0.1242      0.067     -1.861      0.063      -0.255       0.007\n",
      "ar.L6.D.market_value    -0.3083      0.048     -6.454      0.000      -0.402      -0.215\n",
      "ar.L7.D.market_value     0.7439      0.080      9.272      0.000       0.587       0.901\n",
      "ma.L1.D.market_value    -0.0080      0.065     -0.124      0.902      -0.135       0.119\n",
      "ma.L2.D.market_value    -0.1099      0.059     -1.878      0.060      -0.225       0.005\n",
      "ma.L3.D.market_value     0.5173      0.062      8.309      0.000       0.395       0.639\n",
      "ma.L4.D.market_value    -0.1783      0.072     -2.465      0.014      -0.320      -0.037\n",
      "ma.L5.D.market_value     0.0284      0.075      0.378      0.705      -0.119       0.175\n",
      "ma.L6.D.market_value     0.3307      0.045      7.287      0.000       0.242       0.420\n",
      "ma.L7.D.market_value    -0.7431      0.080     -9.254      0.000      -0.901      -0.586\n",
      "ma.L8.D.market_value    -0.1361      0.026     -5.200      0.000      -0.187      -0.085\n",
      "                                    Roots                                    \n",
      "=============================================================================\n",
      "                  Real          Imaginary           Modulus         Frequency\n",
      "-----------------------------------------------------------------------------\n",
      "AR.1           -0.9427           -0.3410j            1.0024           -0.4448\n",
      "AR.2           -0.9427           +0.3410j            1.0024            0.4448\n",
      "AR.3           -0.1048           -1.0372j            1.0424           -0.2660\n",
      "AR.4           -0.1048           +1.0372j            1.0424            0.2660\n",
      "AR.5            0.6588           -0.7739j            1.0163           -0.1378\n",
      "AR.6            0.6588           +0.7739j            1.0163            0.1378\n",
      "AR.7            1.1918           -0.0000j            1.1918           -0.0000\n",
      "MA.1            1.1227           -0.0000j            1.1227           -0.0000\n",
      "MA.2            0.6571           -0.7641j            1.0078           -0.1370\n",
      "MA.3            0.6571           +0.7641j            1.0078            0.1370\n",
      "MA.4           -0.0751           -1.0405j            1.0432           -0.2615\n",
      "MA.5           -0.0751           +1.0405j            1.0432            0.2615\n",
      "MA.6           -0.9439           -0.3458j            1.0053           -0.4441\n",
      "MA.7           -0.9439           +0.3458j            1.0053            0.4441\n",
      "MA.8           -5.8596           -0.0000j            5.8596           -0.5000\n",
      "-----------------------------------------------------------------------------\n"
     ]
    }
   ],
   "source": [
    "#ARIMA(7,1,8)\n",
    "model_ar_7_i_1_ma_8 = ARIMA(df.market_value, order=(7,1,8))\n",
    "results_ar_7_i_1_ma_8 = model_ar_7_i_1_ma_8.fit()\n",
    "print(results_ar_7_i_1_ma_8.summary())"
   ]
  },
  {
   "cell_type": "code",
   "execution_count": 59,
   "metadata": {},
   "outputs": [
    {
     "name": "stdout",
     "output_type": "stream",
     "text": [
      "                             ARIMA Model Results                              \n",
      "==============================================================================\n",
      "Dep. Variable:         D.market_value   No. Observations:                 2236\n",
      "Model:                 ARIMA(7, 1, 7)   Log Likelihood               -8193.503\n",
      "Method:                       css-mle   S.D. of innovations              9.443\n",
      "Date:                Mon, 29 Mar 2021   AIC                          16419.005\n",
      "Time:                        16:31:56   BIC                          16510.404\n",
      "Sample:                    06-08-2010   HQIC                         16452.376\n",
      "                         - 01-01-2019                                         \n",
      "========================================================================================\n",
      "                           coef    std err          z      P>|z|      [0.025      0.975]\n",
      "----------------------------------------------------------------------------------------\n",
      "const                    0.3556      0.153      2.324      0.020       0.056       0.656\n",
      "ar.L1.D.market_value     0.2382      0.167      1.423      0.155      -0.090       0.566\n",
      "ar.L2.D.market_value     1.0642      0.189      5.620      0.000       0.693       1.435\n",
      "ar.L3.D.market_value     0.1186      0.079      1.503      0.133      -0.036       0.273\n",
      "ar.L4.D.market_value    -0.0729      0.089     -0.820      0.412      -0.247       0.101\n",
      "ar.L5.D.market_value    -1.1143      0.062    -18.057      0.000      -1.235      -0.993\n",
      "ar.L6.D.market_value    -0.1045      0.156     -0.669      0.503      -0.411       0.202\n",
      "ar.L7.D.market_value     0.6710      0.133      5.031      0.000       0.410       0.932\n",
      "ma.L1.D.market_value    -0.2126      0.161     -1.323      0.186      -0.528       0.102\n",
      "ma.L2.D.market_value    -1.1369      0.176     -6.450      0.000      -1.482      -0.791\n",
      "ma.L3.D.market_value    -0.1029      0.095     -1.086      0.278      -0.289       0.083\n",
      "ma.L4.D.market_value     0.1294      0.109      1.192      0.233      -0.083       0.342\n",
      "ma.L5.D.market_value     1.0582      0.071     14.993      0.000       0.920       1.197\n",
      "ma.L6.D.market_value     0.1046      0.130      0.802      0.422      -0.151       0.360\n",
      "ma.L7.D.market_value    -0.6869      0.113     -6.092      0.000      -0.908      -0.466\n",
      "                                    Roots                                    \n",
      "=============================================================================\n",
      "                  Real          Imaginary           Modulus         Frequency\n",
      "-----------------------------------------------------------------------------\n",
      "AR.1           -1.0191           -0.0000j            1.0191           -0.5000\n",
      "AR.2           -1.1770           -0.0000j            1.1770           -0.5000\n",
      "AR.3           -0.3161           -0.9785j            1.0283           -0.2997\n",
      "AR.4           -0.3161           +0.9785j            1.0283            0.2997\n",
      "AR.5            0.9244           -0.4249j            1.0174           -0.0686\n",
      "AR.6            0.9244           +0.4249j            1.0174            0.0686\n",
      "AR.7            1.1352           -0.0000j            1.1352           -0.0000\n",
      "MA.1           -1.0566           -0.0000j            1.0566           -0.5000\n",
      "MA.2           -1.0902           -0.0000j            1.0902           -0.5000\n",
      "MA.3           -0.3287           -0.9929j            1.0459           -0.3009\n",
      "MA.4           -0.3287           +0.9929j            1.0459            0.3009\n",
      "MA.5            0.9297           -0.4345j            1.0262           -0.0696\n",
      "MA.6            0.9297           +0.4345j            1.0262            0.0696\n",
      "MA.7            1.0971           -0.0000j            1.0971           -0.0000\n",
      "-----------------------------------------------------------------------------\n"
     ]
    }
   ],
   "source": [
    "#ARIMA(7,1,7)\n",
    "model_ar_7_i_1_ma_7 = ARIMA(df.market_value, order=(7,1,7))\n",
    "results_ar_7_i_1_ma_7 = model_ar_7_i_1_ma_7.fit()\n",
    "print(results_ar_7_i_1_ma_7.summary())"
   ]
  },
  {
   "cell_type": "code",
   "execution_count": 60,
   "metadata": {},
   "outputs": [
    {
     "name": "stdout",
     "output_type": "stream",
     "text": [
      "                             ARIMA Model Results                              \n",
      "==============================================================================\n",
      "Dep. Variable:         D.market_value   No. Observations:                 2236\n",
      "Model:                 ARIMA(7, 1, 1)   Log Likelihood               -8207.898\n",
      "Method:                       css-mle   S.D. of innovations              9.505\n",
      "Date:                Mon, 29 Mar 2021   AIC                          16435.797\n",
      "Time:                        16:32:23   BIC                          16492.921\n",
      "Sample:                    06-08-2010   HQIC                         16456.653\n",
      "                         - 01-01-2019                                         \n",
      "========================================================================================\n",
      "                           coef    std err          z      P>|z|      [0.025      0.975]\n",
      "----------------------------------------------------------------------------------------\n",
      "const                    0.3528      0.156      2.262      0.024       0.047       0.658\n",
      "ar.L1.D.market_value     0.8004      0.094      8.479      0.000       0.615       0.985\n",
      "ar.L2.D.market_value    -0.0876      0.027     -3.218      0.001      -0.141      -0.034\n",
      "ar.L3.D.market_value     0.0794      0.028      2.876      0.004       0.025       0.134\n",
      "ar.L4.D.market_value    -0.0323      0.027     -1.178      0.239      -0.086       0.021\n",
      "ar.L5.D.market_value    -0.0538      0.027     -1.973      0.048      -0.107      -0.000\n",
      "ar.L6.D.market_value     0.0299      0.028      1.077      0.281      -0.024       0.084\n",
      "ar.L7.D.market_value    -0.0346      0.023     -1.490      0.136      -0.080       0.011\n",
      "ma.L1.D.market_value    -0.7685      0.092     -8.322      0.000      -0.950      -0.588\n",
      "                                    Roots                                    \n",
      "=============================================================================\n",
      "                  Real          Imaginary           Modulus         Frequency\n",
      "-----------------------------------------------------------------------------\n",
      "AR.1            1.2554           -0.3689j            1.3085           -0.0455\n",
      "AR.2            1.2554           +0.3689j            1.3085            0.0455\n",
      "AR.3           -1.7412           -0.0000j            1.7412           -0.5000\n",
      "AR.4           -0.7076           -1.4943j            1.6534           -0.3204\n",
      "AR.5           -0.7076           +1.4943j            1.6534            0.3204\n",
      "AR.6            0.7543           -1.7242j            1.8820           -0.1844\n",
      "AR.7            0.7543           +1.7242j            1.8820            0.1844\n",
      "MA.1            1.3012           +0.0000j            1.3012            0.0000\n",
      "-----------------------------------------------------------------------------\n"
     ]
    }
   ],
   "source": [
    "#ARIMA(7,1,1)\n",
    "model_ar_7_i_1_ma_1 = ARIMA(df.market_value, order=(7,1,1))\n",
    "results_ar_7_i_1_ma_1 = model_ar_7_i_1_ma_1.fit()\n",
    "print(results_ar_7_i_1_ma_1.summary())"
   ]
  },
  {
   "cell_type": "code",
   "execution_count": 61,
   "metadata": {},
   "outputs": [
    {
     "name": "stdout",
     "output_type": "stream",
     "text": [
      "                             ARIMA Model Results                              \n",
      "==============================================================================\n",
      "Dep. Variable:         D.market_value   No. Observations:                 2236\n",
      "Model:                 ARIMA(7, 1, 2)   Log Likelihood               -8206.092\n",
      "Method:                       css-mle   S.D. of innovations              9.498\n",
      "Date:                Mon, 29 Mar 2021   AIC                          16434.183\n",
      "Time:                        16:32:41   BIC                          16497.020\n",
      "Sample:                    06-08-2010   HQIC                         16457.125\n",
      "                         - 01-01-2019                                         \n",
      "========================================================================================\n",
      "                           coef    std err          z      P>|z|      [0.025      0.975]\n",
      "----------------------------------------------------------------------------------------\n",
      "const                    0.3520      0.161      2.190      0.029       0.037       0.667\n",
      "ar.L1.D.market_value     1.3450      0.532      2.530      0.011       0.303       2.387\n",
      "ar.L2.D.market_value    -0.6197      0.444     -1.395      0.163      -1.491       0.251\n",
      "ar.L3.D.market_value     0.1294      0.060      2.151      0.031       0.012       0.247\n",
      "ar.L4.D.market_value    -0.0806      0.059     -1.370      0.171      -0.196       0.035\n",
      "ar.L5.D.market_value    -0.0324      0.043     -0.753      0.452      -0.117       0.052\n",
      "ar.L6.D.market_value     0.0643      0.038      1.686      0.092      -0.010       0.139\n",
      "ar.L7.D.market_value    -0.0577      0.028     -2.095      0.036      -0.112      -0.004\n",
      "ma.L1.D.market_value    -1.3143      0.533     -2.467      0.014      -2.358      -0.270\n",
      "ma.L2.D.market_value     0.5158      0.428      1.204      0.228      -0.324       1.355\n",
      "                                    Roots                                    \n",
      "=============================================================================\n",
      "                  Real          Imaginary           Modulus         Frequency\n",
      "-----------------------------------------------------------------------------\n",
      "AR.1            1.1003           -0.4319j            1.1820           -0.0595\n",
      "AR.2            1.1003           +0.4319j            1.1820            0.0595\n",
      "AR.3           -1.8402           -0.0000j            1.8402           -0.5000\n",
      "AR.4           -0.5851           -1.5180j            1.6268           -0.3086\n",
      "AR.5           -0.5851           +1.5180j            1.6268            0.3086\n",
      "AR.6            0.9615           -1.2731j            1.5954           -0.1471\n",
      "AR.7            0.9615           +1.2731j            1.5954            0.1471\n",
      "MA.1            1.2741           -0.5617j            1.3924           -0.0661\n",
      "MA.2            1.2741           +0.5617j            1.3924            0.0661\n",
      "-----------------------------------------------------------------------------\n"
     ]
    }
   ],
   "source": [
    "#ARIMA(7,1,2)\n",
    "model_ar_7_i_1_ma_2 = ARIMA(df.market_value, order=(7,1,2))\n",
    "results_ar_7_i_1_ma_2 = model_ar_7_i_1_ma_2.fit()\n",
    "print(results_ar_7_i_1_ma_2.summary())"
   ]
  },
  {
   "cell_type": "code",
   "execution_count": 62,
   "metadata": {},
   "outputs": [
    {
     "name": "stdout",
     "output_type": "stream",
     "text": [
      "                             ARIMA Model Results                              \n",
      "==============================================================================\n",
      "Dep. Variable:         D.market_value   No. Observations:                 2236\n",
      "Model:                 ARIMA(7, 1, 3)   Log Likelihood               -8201.224\n",
      "Method:                       css-mle   S.D. of innovations              9.477\n",
      "Date:                Mon, 29 Mar 2021   AIC                          16426.447\n",
      "Time:                        16:33:09   BIC                          16494.997\n",
      "Sample:                    06-08-2010   HQIC                         16451.475\n",
      "                         - 01-01-2019                                         \n",
      "========================================================================================\n",
      "                           coef    std err          z      P>|z|      [0.025      0.975]\n",
      "----------------------------------------------------------------------------------------\n",
      "const                    0.3535      0.155      2.285      0.022       0.050       0.657\n",
      "ar.L1.D.market_value     0.2895      0.078      3.733      0.000       0.137       0.441\n",
      "ar.L2.D.market_value    -0.4924      0.085     -5.793      0.000      -0.659      -0.326\n",
      "ar.L3.D.market_value     0.8380      0.073     11.549      0.000       0.696       0.980\n",
      "ar.L4.D.market_value    -0.0687      0.031     -2.244      0.025      -0.129      -0.009\n",
      "ar.L5.D.market_value    -0.0096      0.027     -0.348      0.728      -0.063       0.044\n",
      "ar.L6.D.market_value    -0.0421      0.025     -1.708      0.088      -0.090       0.006\n",
      "ar.L7.D.market_value    -0.0200      0.028     -0.716      0.474      -0.075       0.035\n",
      "ma.L1.D.market_value    -0.2552      0.075     -3.414      0.001      -0.402      -0.109\n",
      "ma.L2.D.market_value     0.4284      0.082      5.207      0.000       0.267       0.590\n",
      "ma.L3.D.market_value    -0.7836      0.066    -11.914      0.000      -0.912      -0.655\n",
      "                                    Roots                                    \n",
      "=============================================================================\n",
      "                  Real          Imaginary           Modulus         Frequency\n",
      "-----------------------------------------------------------------------------\n",
      "AR.1           -0.3098           -0.9753j            1.0233           -0.2989\n",
      "AR.2           -0.3098           +0.9753j            1.0233            0.2989\n",
      "AR.3            1.4897           -0.1443j            1.4967           -0.0154\n",
      "AR.4            1.4897           +0.1443j            1.4967            0.0154\n",
      "AR.5           -0.4955           -2.4274j            2.4775           -0.2820\n",
      "AR.6           -0.4955           +2.4274j            2.4775            0.2820\n",
      "AR.7           -3.4788           -0.0000j            3.4788           -0.5000\n",
      "MA.1           -0.3182           -0.9886j            1.0386           -0.2996\n",
      "MA.2           -0.3182           +0.9886j            1.0386            0.2996\n",
      "MA.3            1.1831           -0.0000j            1.1831           -0.0000\n",
      "-----------------------------------------------------------------------------\n"
     ]
    }
   ],
   "source": [
    "#ARIMA(7,1,3)\n",
    "model_ar_7_i_1_ma_3 = ARIMA(df.market_value, order=(7,1,3))\n",
    "results_ar_7_i_1_ma_3 = model_ar_7_i_1_ma_3.fit()\n",
    "print(results_ar_7_i_1_ma_3.summary())"
   ]
  },
  {
   "cell_type": "code",
   "execution_count": 63,
   "metadata": {},
   "outputs": [
    {
     "name": "stdout",
     "output_type": "stream",
     "text": [
      "                             ARIMA Model Results                              \n",
      "==============================================================================\n",
      "Dep. Variable:         D.market_value   No. Observations:                 2236\n",
      "Model:                 ARIMA(7, 1, 4)   Log Likelihood               -8193.813\n",
      "Method:                       css-mle   S.D. of innovations              9.443\n",
      "Date:                Mon, 29 Mar 2021   AIC                          16413.627\n",
      "Time:                        16:34:59   BIC                          16487.888\n",
      "Sample:                    06-08-2010   HQIC                         16440.740\n",
      "                         - 01-01-2019                                         \n",
      "========================================================================================\n",
      "                           coef    std err          z      P>|z|      [0.025      0.975]\n",
      "----------------------------------------------------------------------------------------\n",
      "const                    0.3542      0.154      2.301      0.021       0.052       0.656\n",
      "ar.L1.D.market_value    -0.2480      0.059     -4.178      0.000      -0.364      -0.132\n",
      "ar.L2.D.market_value    -0.2055      0.078     -2.632      0.008      -0.359      -0.052\n",
      "ar.L3.D.market_value     0.0671      0.068      0.984      0.325      -0.067       0.201\n",
      "ar.L4.D.market_value     0.7988      0.062     12.866      0.000       0.677       0.920\n",
      "ar.L5.D.market_value    -0.0944      0.028     -3.400      0.001      -0.149      -0.040\n",
      "ar.L6.D.market_value     0.0101      0.025      0.402      0.687      -0.039       0.059\n",
      "ar.L7.D.market_value    -0.0635      0.033     -1.946      0.052      -0.127       0.000\n",
      "ma.L1.D.market_value     0.2847      0.056      5.082      0.000       0.175       0.395\n",
      "ma.L2.D.market_value     0.1637      0.077      2.132      0.033       0.013       0.314\n",
      "ma.L3.D.market_value    -0.0443      0.065     -0.677      0.498      -0.173       0.084\n",
      "ma.L4.D.market_value    -0.8378      0.059    -14.136      0.000      -0.954      -0.722\n",
      "                                    Roots                                    \n",
      "=============================================================================\n",
      "                  Real          Imaginary           Modulus         Frequency\n",
      "-----------------------------------------------------------------------------\n",
      "AR.1           -1.0148           -0.0000j            1.0148           -0.5000\n",
      "AR.2           -0.0987           -1.0014j            1.0062           -0.2656\n",
      "AR.3           -0.0987           +1.0014j            1.0062            0.2656\n",
      "AR.4            1.2820           -0.0000j            1.2820           -0.0000\n",
      "AR.5            2.0486           -0.0000j            2.0486           -0.0000\n",
      "AR.6           -0.9798           -2.2080j            2.4156           -0.3165\n",
      "AR.7           -0.9798           +2.2080j            2.4156            0.3165\n",
      "MA.1           -1.0259           -0.0000j            1.0259           -0.5000\n",
      "MA.2           -0.0897           -1.0008j            1.0048           -0.2642\n",
      "MA.3           -0.0897           +1.0008j            1.0048            0.2642\n",
      "MA.4            1.1524           -0.0000j            1.1524           -0.0000\n",
      "-----------------------------------------------------------------------------\n"
     ]
    }
   ],
   "source": [
    "#ARIMA(7,1,4)\n",
    "model_ar_7_i_1_ma_4 = ARIMA(df.market_value, order=(7,1,4))\n",
    "results_ar_7_i_1_ma_4 = model_ar_7_i_1_ma_4.fit()\n",
    "print(results_ar_7_i_1_ma_4.summary())"
   ]
  },
  {
   "cell_type": "code",
   "execution_count": 64,
   "metadata": {},
   "outputs": [
    {
     "name": "stdout",
     "output_type": "stream",
     "text": [
      "                             ARIMA Model Results                              \n",
      "==============================================================================\n",
      "Dep. Variable:         D.market_value   No. Observations:                 2236\n",
      "Model:                 ARIMA(7, 1, 5)   Log Likelihood               -8196.930\n",
      "Method:                       css-mle   S.D. of innovations              9.458\n",
      "Date:                Mon, 29 Mar 2021   AIC                          16421.860\n",
      "Time:                        16:35:49   BIC                          16501.834\n",
      "Sample:                    06-08-2010   HQIC                         16451.059\n",
      "                         - 01-01-2019                                         \n",
      "========================================================================================\n",
      "                           coef    std err          z      P>|z|      [0.025      0.975]\n",
      "----------------------------------------------------------------------------------------\n",
      "const                    0.3508      0.167      2.099      0.036       0.023       0.678\n",
      "ar.L1.D.market_value     0.0963      0.140      0.688      0.492      -0.178       0.371\n",
      "ar.L2.D.market_value     0.2400      0.100      2.396      0.017       0.044       0.436\n",
      "ar.L3.D.market_value     0.3986      0.050      7.938      0.000       0.300       0.497\n",
      "ar.L4.D.market_value     0.3908      0.084      4.672      0.000       0.227       0.555\n",
      "ar.L5.D.market_value    -0.7218      0.112     -6.420      0.000      -0.942      -0.501\n",
      "ar.L6.D.market_value     0.0143      0.029      0.498      0.618      -0.042       0.070\n",
      "ar.L7.D.market_value    -0.0577      0.028     -2.090      0.037      -0.112      -0.004\n",
      "ma.L1.D.market_value    -0.0622      0.139     -0.447      0.655      -0.334       0.210\n",
      "ma.L2.D.market_value    -0.3003      0.101     -2.962      0.003      -0.499      -0.102\n",
      "ma.L3.D.market_value    -0.3828      0.057     -6.669      0.000      -0.495      -0.270\n",
      "ma.L4.D.market_value    -0.3820      0.091     -4.207      0.000      -0.560      -0.204\n",
      "ma.L5.D.market_value     0.6612      0.118      5.580      0.000       0.429       0.893\n",
      "                                    Roots                                    \n",
      "=============================================================================\n",
      "                  Real          Imaginary           Modulus         Frequency\n",
      "-----------------------------------------------------------------------------\n",
      "AR.1           -1.0141           -0.0000j            1.0141           -0.5000\n",
      "AR.2           -0.3063           -0.9750j            1.0220           -0.2985\n",
      "AR.3           -0.3063           +0.9750j            1.0220            0.2985\n",
      "AR.4            1.0512           -0.3764j            1.1165           -0.0547\n",
      "AR.5            1.0512           +0.3764j            1.1165            0.0547\n",
      "AR.6           -0.1140           -3.6211j            3.6229           -0.2550\n",
      "AR.7           -0.1140           +3.6211j            3.6229            0.2550\n",
      "MA.1           -1.0230           -0.0000j            1.0230           -0.5000\n",
      "MA.2           -0.3126           -0.9893j            1.0375           -0.2987\n",
      "MA.3           -0.3126           +0.9893j            1.0375            0.2987\n",
      "MA.4            1.1129           -0.3675j            1.1720           -0.0508\n",
      "MA.5            1.1129           +0.3675j            1.1720            0.0508\n",
      "-----------------------------------------------------------------------------\n"
     ]
    }
   ],
   "source": [
    "#ARIMA(7,1,5)\n",
    "model_ar_7_i_1_ma_5 = ARIMA(df.market_value, order=(7,1,5))\n",
    "results_ar_7_i_1_ma_5 = model_ar_7_i_1_ma_5.fit()\n",
    "print(results_ar_7_i_1_ma_5.summary())"
   ]
  },
  {
   "cell_type": "code",
   "execution_count": 65,
   "metadata": {},
   "outputs": [
    {
     "name": "stdout",
     "output_type": "stream",
     "text": [
      "                             ARIMA Model Results                              \n",
      "==============================================================================\n",
      "Dep. Variable:         D.market_value   No. Observations:                 2236\n",
      "Model:                 ARIMA(7, 1, 6)   Log Likelihood               -8194.795\n",
      "Method:                       css-mle   S.D. of innovations              9.449\n",
      "Date:                Mon, 29 Mar 2021   AIC                          16419.590\n",
      "Time:                        16:37:07   BIC                          16505.277\n",
      "Sample:                    06-08-2010   HQIC                         16450.875\n",
      "                         - 01-01-2019                                         \n",
      "========================================================================================\n",
      "                           coef    std err          z      P>|z|      [0.025      0.975]\n",
      "----------------------------------------------------------------------------------------\n",
      "const                    0.3506      0.172      2.039      0.041       0.014       0.688\n",
      "ar.L1.D.market_value    -0.8131      0.124     -6.574      0.000      -1.055      -0.571\n",
      "ar.L2.D.market_value     0.5379      0.172      3.125      0.002       0.201       0.875\n",
      "ar.L3.D.market_value     0.7716      0.085      9.124      0.000       0.606       0.937\n",
      "ar.L4.D.market_value     0.7242      0.121      5.985      0.000       0.487       0.961\n",
      "ar.L5.D.market_value    -0.4375      0.178     -2.458      0.014      -0.786      -0.089\n",
      "ar.L6.D.market_value    -0.7443      0.101     -7.380      0.000      -0.942      -0.547\n",
      "ar.L7.D.market_value     0.0023      0.029      0.079      0.937      -0.054       0.059\n",
      "ma.L1.D.market_value     0.8505      0.122      6.979      0.000       0.612       1.089\n",
      "ma.L2.D.market_value    -0.5508      0.178     -3.088      0.002      -0.900      -0.201\n",
      "ma.L3.D.market_value    -0.8091      0.095     -8.521      0.000      -0.995      -0.623\n",
      "ma.L4.D.market_value    -0.7226      0.138     -5.236      0.000      -0.993      -0.452\n",
      "ma.L5.D.market_value     0.3669      0.189      1.941      0.052      -0.004       0.737\n",
      "ma.L6.D.market_value     0.6899      0.114      6.078      0.000       0.467       0.912\n",
      "                                    Roots                                    \n",
      "=============================================================================\n",
      "                  Real          Imaginary           Modulus         Frequency\n",
      "-----------------------------------------------------------------------------\n",
      "AR.1            1.0438           -0.3393j            1.0976           -0.0500\n",
      "AR.2            1.0438           +0.3393j            1.0976            0.0500\n",
      "AR.3           -0.3154           -0.9845j            1.0338           -0.2993\n",
      "AR.4           -0.3154           +0.9845j            1.0338            0.2993\n",
      "AR.5           -1.0203           -0.0280j            1.0207           -0.4956\n",
      "AR.6           -1.0203           +0.0280j            1.0207            0.4956\n",
      "AR.7          325.6478           -0.0000j          325.6478           -0.0000\n",
      "MA.1            1.0775           -0.3165j            1.1230           -0.0455\n",
      "MA.2            1.0775           +0.3165j            1.1230            0.0455\n",
      "MA.3           -0.3293           -1.0036j            1.0563           -0.3005\n",
      "MA.4           -0.3293           +1.0036j            1.0563            0.3005\n",
      "MA.5           -1.0142           -0.0406j            1.0150           -0.4936\n",
      "MA.6           -1.0142           +0.0406j            1.0150            0.4936\n",
      "-----------------------------------------------------------------------------\n"
     ]
    }
   ],
   "source": [
    "#ARIMA(7,1,6)\n",
    "model_ar_7_i_1_ma_6 = ARIMA(df.market_value, order=(7,1,6))\n",
    "results_ar_7_i_1_ma_6 = model_ar_7_i_1_ma_6.fit()\n",
    "print(results_ar_7_i_1_ma_6.summary())"
   ]
  },
  {
   "cell_type": "code",
   "execution_count": 66,
   "metadata": {},
   "outputs": [
    {
     "name": "stdout",
     "output_type": "stream",
     "text": [
      "                             ARIMA Model Results                              \n",
      "==============================================================================\n",
      "Dep. Variable:         D.market_value   No. Observations:                 2236\n",
      "Model:                 ARIMA(1, 1, 7)   Log Likelihood               -8209.200\n",
      "Method:                       css-mle   S.D. of innovations              9.511\n",
      "Date:                Mon, 29 Mar 2021   AIC                          16438.400\n",
      "Time:                        16:37:33   BIC                          16495.525\n",
      "Sample:                    06-08-2010   HQIC                         16459.257\n",
      "                         - 01-01-2019                                         \n",
      "========================================================================================\n",
      "                           coef    std err          z      P>|z|      [0.025      0.975]\n",
      "----------------------------------------------------------------------------------------\n",
      "const                    0.3537      0.154      2.301      0.021       0.052       0.655\n",
      "ar.L1.D.market_value     0.7146      0.111      6.444      0.000       0.497       0.932\n",
      "ma.L1.D.market_value    -0.6855      0.111     -6.155      0.000      -0.904      -0.467\n",
      "ma.L2.D.market_value    -0.0812      0.026     -3.105      0.002      -0.133      -0.030\n",
      "ma.L3.D.market_value     0.0697      0.027      2.628      0.009       0.018       0.122\n",
      "ma.L4.D.market_value    -0.0263      0.028     -0.943      0.346      -0.081       0.028\n",
      "ma.L5.D.market_value    -0.0487      0.025     -1.976      0.048      -0.097      -0.000\n",
      "ma.L6.D.market_value     0.0196      0.028      0.692      0.489      -0.036       0.075\n",
      "ma.L7.D.market_value    -0.0297      0.024     -1.220      0.222      -0.077       0.018\n",
      "                                    Roots                                    \n",
      "=============================================================================\n",
      "                  Real          Imaginary           Modulus         Frequency\n",
      "-----------------------------------------------------------------------------\n",
      "AR.1            1.3993           +0.0000j            1.3993            0.0000\n",
      "MA.1            1.1724           -0.0000j            1.1724           -0.0000\n",
      "MA.2           -1.4714           -0.7885j            1.6694           -0.4217\n",
      "MA.3           -1.4714           +0.7885j            1.6694            0.4217\n",
      "MA.4            1.1949           -1.1386j            1.6505           -0.1212\n",
      "MA.5            1.1949           +1.1386j            1.6505            0.1212\n",
      "MA.6            0.0213           -1.9458j            1.9459           -0.2483\n",
      "MA.7            0.0213           +1.9458j            1.9459            0.2483\n",
      "-----------------------------------------------------------------------------\n"
     ]
    }
   ],
   "source": [
    "#ARIMA(1,1,7)\n",
    "model_ar_1_i_1_ma_7 = ARIMA(df.market_value, order=(1,1,7))\n",
    "results_ar_1_i_1_ma_7 = model_ar_1_i_1_ma_7.fit()\n",
    "print(results_ar_1_i_1_ma_7.summary())"
   ]
  },
  {
   "cell_type": "code",
   "execution_count": 67,
   "metadata": {},
   "outputs": [
    {
     "name": "stdout",
     "output_type": "stream",
     "text": [
      "                             ARIMA Model Results                              \n",
      "==============================================================================\n",
      "Dep. Variable:         D.market_value   No. Observations:                 2236\n",
      "Model:                 ARIMA(2, 1, 7)   Log Likelihood               -8209.902\n",
      "Method:                       css-mle   S.D. of innovations              9.514\n",
      "Date:                Mon, 29 Mar 2021   AIC                          16441.803\n",
      "Time:                        16:37:56   BIC                          16504.640\n",
      "Sample:                    06-08-2010   HQIC                         16464.746\n",
      "                         - 01-01-2019                                         \n",
      "========================================================================================\n",
      "                           coef    std err          z      P>|z|      [0.025      0.975]\n",
      "----------------------------------------------------------------------------------------\n",
      "const                    0.3538      0.154      2.298      0.022       0.052       0.656\n",
      "ar.L1.D.market_value     0.1295      1.024      0.126      0.899      -1.878       2.137\n",
      "ar.L2.D.market_value     0.5006      0.789      0.634      0.526      -1.046       2.047\n",
      "ma.L1.D.market_value    -0.0974      1.024     -0.095      0.924      -2.105       1.910\n",
      "ma.L2.D.market_value    -0.5675      0.757     -0.750      0.453      -2.050       0.915\n",
      "ma.L3.D.market_value     0.0144      0.092      0.156      0.876      -0.166       0.195\n",
      "ma.L4.D.market_value     0.0243      0.076      0.318      0.750      -0.125       0.174\n",
      "ma.L5.D.market_value    -0.0642      0.032     -2.023      0.043      -0.126      -0.002\n",
      "ma.L6.D.market_value    -0.0301      0.056     -0.540      0.589      -0.139       0.079\n",
      "ma.L7.D.market_value     0.0033      0.023      0.144      0.885      -0.042       0.049\n",
      "                                    Roots                                    \n",
      "=============================================================================\n",
      "                  Real          Imaginary           Modulus         Frequency\n",
      "-----------------------------------------------------------------------------\n",
      "AR.1            1.2900           +0.0000j            1.2900            0.0000\n",
      "AR.2           -1.5487           +0.0000j            1.5487            0.5000\n",
      "MA.1            1.1557           -0.0000j            1.1557           -0.0000\n",
      "MA.2            1.0531           -1.5775j            1.8967           -0.1563\n",
      "MA.3            1.0531           +1.5775j            1.8967            0.1563\n",
      "MA.4           -1.5228           -0.0000j            1.5228           -0.5000\n",
      "MA.5           -1.7379           -1.1755j            2.0981           -0.4053\n",
      "MA.6           -1.7379           +1.1755j            2.0981            0.4053\n",
      "MA.7           10.7594           -0.0000j           10.7594           -0.0000\n",
      "-----------------------------------------------------------------------------\n"
     ]
    }
   ],
   "source": [
    "#ARIMA(2,1,7)\n",
    "model_ar_2_i_1_ma_7 = ARIMA(df.market_value, order=(2,1,7))\n",
    "results_ar_2_i_1_ma_7 = model_ar_2_i_1_ma_7.fit()\n",
    "print(results_ar_2_i_1_ma_7.summary())"
   ]
  },
  {
   "cell_type": "code",
   "execution_count": 68,
   "metadata": {},
   "outputs": [
    {
     "name": "stdout",
     "output_type": "stream",
     "text": [
      "                             ARIMA Model Results                              \n",
      "==============================================================================\n",
      "Dep. Variable:         D.market_value   No. Observations:                 2236\n",
      "Model:                 ARIMA(3, 1, 7)   Log Likelihood               -8201.724\n",
      "Method:                       css-mle   S.D. of innovations              9.479\n",
      "Date:                Mon, 29 Mar 2021   AIC                          16427.448\n",
      "Time:                        16:38:27   BIC                          16495.997\n",
      "Sample:                    06-08-2010   HQIC                         16452.476\n",
      "                         - 01-01-2019                                         \n",
      "========================================================================================\n",
      "                           coef    std err          z      P>|z|      [0.025      0.975]\n",
      "----------------------------------------------------------------------------------------\n",
      "const                    0.3542      0.154      2.307      0.021       0.053       0.655\n",
      "ar.L1.D.market_value     0.2137      0.083      2.561      0.010       0.050       0.377\n",
      "ar.L2.D.market_value    -0.4758      0.071     -6.669      0.000      -0.616      -0.336\n",
      "ar.L3.D.market_value     0.7685      0.077      9.935      0.000       0.617       0.920\n",
      "ma.L1.D.market_value    -0.1797      0.086     -2.097      0.036      -0.348      -0.012\n",
      "ma.L2.D.market_value     0.4123      0.075      5.507      0.000       0.266       0.559\n",
      "ma.L3.D.market_value    -0.7210      0.076     -9.477      0.000      -0.870      -0.572\n",
      "ma.L4.D.market_value    -0.0663      0.029     -2.316      0.021      -0.122      -0.010\n",
      "ma.L5.D.market_value    -0.0125      0.026     -0.483      0.629      -0.063       0.038\n",
      "ma.L6.D.market_value    -0.0379      0.023     -1.649      0.099      -0.083       0.007\n",
      "ma.L7.D.market_value    -0.0173      0.028     -0.618      0.537      -0.072       0.037\n",
      "                                    Roots                                    \n",
      "=============================================================================\n",
      "                  Real          Imaginary           Modulus         Frequency\n",
      "-----------------------------------------------------------------------------\n",
      "AR.1           -0.3107           -0.9759j            1.0242           -0.2991\n",
      "AR.2           -0.3107           +0.9759j            1.0242            0.2991\n",
      "AR.3            1.2405           -0.0000j            1.2405           -0.0000\n",
      "MA.1            1.1401           -0.0000j            1.1401           -0.0000\n",
      "MA.2           -0.3198           -0.9896j            1.0400           -0.2997\n",
      "MA.3           -0.3198           +0.9896j            1.0400            0.2997\n",
      "MA.4            1.2167           -1.9368j            2.2872           -0.1607\n",
      "MA.5            1.2167           +1.9368j            2.2872            0.1607\n",
      "MA.6           -2.5666           -1.5486j            2.9976           -0.4136\n",
      "MA.7           -2.5666           +1.5486j            2.9976            0.4136\n",
      "-----------------------------------------------------------------------------\n"
     ]
    }
   ],
   "source": [
    "#ARIMA(3,1,7)\n",
    "model_ar_3_i_1_ma_7 = ARIMA(df.market_value, order=(3,1,7))\n",
    "results_ar_3_i_1_ma_7 = model_ar_3_i_1_ma_7.fit()\n",
    "print(results_ar_3_i_1_ma_7.summary())"
   ]
  },
  {
   "cell_type": "code",
   "execution_count": 69,
   "metadata": {},
   "outputs": [
    {
     "name": "stdout",
     "output_type": "stream",
     "text": [
      "                             ARIMA Model Results                              \n",
      "==============================================================================\n",
      "Dep. Variable:         D.market_value   No. Observations:                 2236\n",
      "Model:                 ARIMA(4, 1, 7)   Log Likelihood               -8194.355\n",
      "Method:                       css-mle   S.D. of innovations              9.446\n",
      "Date:                Mon, 29 Mar 2021   AIC                          16414.710\n",
      "Time:                        16:40:17   BIC                          16488.972\n",
      "Sample:                    06-08-2010   HQIC                         16441.824\n",
      "                         - 01-01-2019                                         \n",
      "========================================================================================\n",
      "                           coef    std err          z      P>|z|      [0.025      0.975]\n",
      "----------------------------------------------------------------------------------------\n",
      "const                    0.3549      0.153      2.319      0.020       0.055       0.655\n",
      "ar.L1.D.market_value    -0.3481      0.069     -5.015      0.000      -0.484      -0.212\n",
      "ar.L2.D.market_value    -0.1933      0.082     -2.364      0.018      -0.354      -0.033\n",
      "ar.L3.D.market_value     0.0140      0.081      0.172      0.863      -0.146       0.174\n",
      "ar.L4.D.market_value     0.8107      0.067     12.099      0.000       0.679       0.942\n",
      "ma.L1.D.market_value     0.3833      0.072      5.330      0.000       0.242       0.524\n",
      "ma.L2.D.market_value     0.1538      0.086      1.792      0.073      -0.014       0.322\n",
      "ma.L3.D.market_value  6.144e-05      0.082      0.001      0.999      -0.160       0.160\n",
      "ma.L4.D.market_value    -0.8505      0.060    -14.223      0.000      -0.968      -0.733\n",
      "ma.L5.D.market_value    -0.0949      0.026     -3.717      0.000      -0.145      -0.045\n",
      "ma.L6.D.market_value     0.0068      0.026      0.264      0.792      -0.044       0.057\n",
      "ma.L7.D.market_value    -0.0503      0.023     -2.167      0.030      -0.096      -0.005\n",
      "                                    Roots                                    \n",
      "=============================================================================\n",
      "                  Real          Imaginary           Modulus         Frequency\n",
      "-----------------------------------------------------------------------------\n",
      "AR.1           -1.0150           -0.0000j            1.0150           -0.5000\n",
      "AR.2           -0.1002           -1.0022j            1.0072           -0.2659\n",
      "AR.3           -0.1002           +1.0022j            1.0072            0.2659\n",
      "AR.4            1.1981           -0.0000j            1.1981           -0.0000\n",
      "MA.1           -1.0268           -0.0000j            1.0268           -0.5000\n",
      "MA.2           -0.0903           -1.0026j            1.0067           -0.2643\n",
      "MA.3           -0.0903           +1.0026j            1.0067            0.2643\n",
      "MA.4            1.1235           -0.0000j            1.1235           -0.0000\n",
      "MA.5           -2.2426           -0.0000j            2.2426           -0.5000\n",
      "MA.6            1.2309           -2.4635j            2.7539           -0.1762\n",
      "MA.7            1.2309           +2.4635j            2.7539            0.1762\n",
      "-----------------------------------------------------------------------------\n"
     ]
    }
   ],
   "source": [
    "#ARIMA(4,1,7)\n",
    "model_ar_4_i_1_ma_7 = ARIMA(df.market_value, order=(4,1,7))\n",
    "results_ar_4_i_1_ma_7 = model_ar_4_i_1_ma_7.fit()\n",
    "print(results_ar_4_i_1_ma_7.summary())"
   ]
  },
  {
   "cell_type": "code",
   "execution_count": 70,
   "metadata": {},
   "outputs": [
    {
     "name": "stdout",
     "output_type": "stream",
     "text": [
      "                             ARIMA Model Results                              \n",
      "==============================================================================\n",
      "Dep. Variable:         D.market_value   No. Observations:                 2236\n",
      "Model:                 ARIMA(5, 1, 7)   Log Likelihood               -8196.659\n",
      "Method:                       css-mle   S.D. of innovations              9.457\n",
      "Date:                Mon, 29 Mar 2021   AIC                          16421.319\n",
      "Time:                        16:41:15   BIC                          16501.293\n",
      "Sample:                    06-08-2010   HQIC                         16450.518\n",
      "                         - 01-01-2019                                         \n",
      "========================================================================================\n",
      "                           coef    std err          z      P>|z|      [0.025      0.975]\n",
      "----------------------------------------------------------------------------------------\n",
      "const                    0.3510      0.166      2.111      0.035       0.025       0.677\n",
      "ar.L1.D.market_value     0.1034      0.109      0.949      0.342      -0.110       0.317\n",
      "ar.L2.D.market_value     0.3029      0.081      3.738      0.000       0.144       0.462\n",
      "ar.L3.D.market_value     0.3785      0.051      7.465      0.000       0.279       0.478\n",
      "ar.L4.D.market_value     0.3589      0.073      4.912      0.000       0.216       0.502\n",
      "ar.L5.D.market_value    -0.7531      0.098     -7.667      0.000      -0.946      -0.561\n",
      "ma.L1.D.market_value    -0.0686      0.111     -0.619      0.536      -0.286       0.148\n",
      "ma.L2.D.market_value    -0.3668      0.086     -4.262      0.000      -0.535      -0.198\n",
      "ma.L3.D.market_value    -0.3618      0.061     -5.901      0.000      -0.482      -0.242\n",
      "ma.L4.D.market_value    -0.3468      0.083     -4.191      0.000      -0.509      -0.185\n",
      "ma.L5.D.market_value     0.6936      0.105      6.576      0.000       0.487       0.900\n",
      "ma.L6.D.market_value     0.0154      0.026      0.587      0.557      -0.036       0.067\n",
      "ma.L7.D.market_value    -0.0586      0.027     -2.202      0.028      -0.111      -0.006\n",
      "                                    Roots                                    \n",
      "=============================================================================\n",
      "                  Real          Imaginary           Modulus         Frequency\n",
      "-----------------------------------------------------------------------------\n",
      "AR.1           -1.0143           -0.0000j            1.0143           -0.5000\n",
      "AR.2           -0.3063           -0.9745j            1.0215           -0.2985\n",
      "AR.3           -0.3063           +0.9745j            1.0215            0.2985\n",
      "AR.4            1.0517           -0.3855j            1.1201           -0.0559\n",
      "AR.5            1.0517           +0.3855j            1.1201            0.0559\n",
      "MA.1           -1.0237           -0.0000j            1.0237           -0.5000\n",
      "MA.2           -0.3125           -0.9884j            1.0366           -0.2987\n",
      "MA.3           -0.3125           +0.9884j            1.0366            0.2987\n",
      "MA.4            1.1197           -0.3848j            1.1840           -0.0527\n",
      "MA.5            1.1197           +0.3848j            1.1840            0.0527\n",
      "MA.6           -3.4936           -0.0000j            3.4936           -0.5000\n",
      "MA.7            3.1661           -0.0000j            3.1661           -0.0000\n",
      "-----------------------------------------------------------------------------\n"
     ]
    }
   ],
   "source": [
    "#ARIMA(5,1,7)\n",
    "model_ar_5_i_1_ma_7 = ARIMA(df.market_value, order=(5,1,7))\n",
    "results_ar_5_i_1_ma_7 = model_ar_5_i_1_ma_7.fit()\n",
    "print(results_ar_5_i_1_ma_7.summary())"
   ]
  },
  {
   "cell_type": "code",
   "execution_count": 71,
   "metadata": {},
   "outputs": [
    {
     "name": "stdout",
     "output_type": "stream",
     "text": [
      "                             ARIMA Model Results                              \n",
      "==============================================================================\n",
      "Dep. Variable:         D.market_value   No. Observations:                 2236\n",
      "Model:                 ARIMA(6, 1, 7)   Log Likelihood               -8194.795\n",
      "Method:                       css-mle   S.D. of innovations              9.449\n",
      "Date:                Mon, 29 Mar 2021   AIC                          16419.589\n",
      "Time:                        16:43:34   BIC                          16505.276\n",
      "Sample:                    06-08-2010   HQIC                         16450.874\n",
      "                         - 01-01-2019                                         \n",
      "========================================================================================\n",
      "                           coef    std err          z      P>|z|      [0.025      0.975]\n",
      "----------------------------------------------------------------------------------------\n",
      "const                    0.3505      0.172      2.038      0.042       0.013       0.688\n",
      "ar.L1.D.market_value    -0.8154      0.110     -7.384      0.000      -1.032      -0.599\n",
      "ar.L2.D.market_value     0.5359      0.161      3.330      0.001       0.221       0.851\n",
      "ar.L3.D.market_value     0.7735      0.089      8.716      0.000       0.600       0.947\n",
      "ar.L4.D.market_value     0.7267      0.121      5.986      0.000       0.489       0.965\n",
      "ar.L5.D.market_value    -0.4357      0.174     -2.500      0.012      -0.777      -0.094\n",
      "ar.L6.D.market_value    -0.7459      0.106     -7.053      0.000      -0.953      -0.539\n",
      "ma.L1.D.market_value     0.8530      0.112      7.602      0.000       0.633       1.073\n",
      "ma.L2.D.market_value    -0.5487      0.168     -3.269      0.001      -0.878      -0.220\n",
      "ma.L3.D.market_value    -0.8111      0.103     -7.911      0.000      -1.012      -0.610\n",
      "ma.L4.D.market_value    -0.7254      0.142     -5.118      0.000      -1.003      -0.448\n",
      "ma.L5.D.market_value     0.3652      0.187      1.954      0.051      -0.001       0.732\n",
      "ma.L6.D.market_value     0.6916      0.121      5.701      0.000       0.454       0.929\n",
      "ma.L7.D.market_value     0.0023      0.028      0.083      0.934      -0.053       0.058\n",
      "                                    Roots                                    \n",
      "=============================================================================\n",
      "                  Real          Imaginary           Modulus         Frequency\n",
      "-----------------------------------------------------------------------------\n",
      "AR.1            1.0436           -0.3391j            1.0973           -0.0500\n",
      "AR.2            1.0436           +0.3391j            1.0973            0.0500\n",
      "AR.3           -0.3153           -0.9844j            1.0337           -0.2993\n",
      "AR.4           -0.3153           +0.9844j            1.0337            0.2993\n",
      "AR.5           -1.0204           -0.0280j            1.0208           -0.4956\n",
      "AR.6           -1.0204           +0.0280j            1.0208            0.4956\n",
      "MA.1            1.0772           -0.3163j            1.1226           -0.0455\n",
      "MA.2            1.0772           +0.3163j            1.1226            0.0455\n",
      "MA.3           -0.3291           -1.0035j            1.0561           -0.3004\n",
      "MA.4           -0.3291           +1.0035j            1.0561            0.3004\n",
      "MA.5           -1.0143           -0.0406j            1.0151           -0.4936\n",
      "MA.6           -1.0143           +0.0406j            1.0151            0.4936\n",
      "MA.7         -294.6687           -0.0000j          294.6687           -0.5000\n",
      "-----------------------------------------------------------------------------\n"
     ]
    }
   ],
   "source": [
    "#ARIMA(6,1,7)\n",
    "model_ar_6_i_1_ma_7 = ARIMA(df.market_value, order=(6,1,7))\n",
    "results_ar_6_i_1_ma_7 = model_ar_6_i_1_ma_7.fit()\n",
    "print(results_ar_6_i_1_ma_7.summary())"
   ]
  },
  {
   "cell_type": "code",
   "execution_count": 72,
   "metadata": {},
   "outputs": [
    {
     "name": "stdout",
     "output_type": "stream",
     "text": [
      "                             ARIMA Model Results                              \n",
      "==============================================================================\n",
      "Dep. Variable:         D.market_value   No. Observations:                 2236\n",
      "Model:                 ARIMA(1, 1, 6)   Log Likelihood               -8209.905\n",
      "Method:                       css-mle   S.D. of innovations              9.514\n",
      "Date:                Mon, 29 Mar 2021   AIC                          16437.809\n",
      "Time:                        16:44:00   BIC                          16489.221\n",
      "Sample:                    06-08-2010   HQIC                         16456.580\n",
      "                         - 01-01-2019                                         \n",
      "========================================================================================\n",
      "                           coef    std err          z      P>|z|      [0.025      0.975]\n",
      "----------------------------------------------------------------------------------------\n",
      "const                    0.3538      0.154      2.298      0.022       0.052       0.656\n",
      "ar.L1.D.market_value     0.7737      0.096      8.040      0.000       0.585       0.962\n",
      "ma.L1.D.market_value    -0.7417      0.098     -7.564      0.000      -0.934      -0.550\n",
      "ma.L2.D.market_value    -0.0875      0.026     -3.321      0.001      -0.139      -0.036\n",
      "ma.L3.D.market_value     0.0710      0.027      2.631      0.009       0.018       0.124\n",
      "ma.L4.D.market_value    -0.0216      0.028     -0.775      0.438      -0.076       0.033\n",
      "ma.L5.D.market_value    -0.0503      0.025     -1.989      0.047      -0.100      -0.001\n",
      "ma.L6.D.market_value     0.0031      0.025      0.127      0.899      -0.045       0.052\n",
      "                                    Roots                                    \n",
      "=============================================================================\n",
      "                  Real          Imaginary           Modulus         Frequency\n",
      "-----------------------------------------------------------------------------\n",
      "AR.1            1.2924           +0.0000j            1.2924            0.0000\n",
      "MA.1            1.1563           -0.0000j            1.1563           -0.0000\n",
      "MA.2            1.0676           -1.5681j            1.8970           -0.1549\n",
      "MA.3            1.0676           +1.5681j            1.8970            0.1549\n",
      "MA.4           -1.8188           -1.1704j            2.1628           -0.4090\n",
      "MA.5           -1.8188           +1.1704j            2.1628            0.4090\n",
      "MA.6           16.3334           -0.0000j           16.3334           -0.0000\n",
      "-----------------------------------------------------------------------------\n"
     ]
    }
   ],
   "source": [
    "#ARIMA(1,1,6)\n",
    "model_ar_1_i_1_ma_6 = ARIMA(df.market_value, order=(1,1,6))\n",
    "results_ar_1_i_1_ma_6 = model_ar_1_i_1_ma_6.fit()\n",
    "print(results_ar_1_i_1_ma_6.summary())"
   ]
  },
  {
   "cell_type": "code",
   "execution_count": 73,
   "metadata": {},
   "outputs": [
    {
     "name": "stdout",
     "output_type": "stream",
     "text": [
      "                             ARIMA Model Results                              \n",
      "==============================================================================\n",
      "Dep. Variable:         D.market_value   No. Observations:                 2236\n",
      "Model:                 ARIMA(5, 1, 6)   Log Likelihood               -8197.686\n",
      "Method:                       css-mle   S.D. of innovations              9.461\n",
      "Date:                Mon, 29 Mar 2021   AIC                          16421.372\n",
      "Time:                        16:45:15   BIC                          16495.634\n",
      "Sample:                    06-08-2010   HQIC                         16448.486\n",
      "                         - 01-01-2019                                         \n",
      "========================================================================================\n",
      "                           coef    std err          z      P>|z|      [0.025      0.975]\n",
      "----------------------------------------------------------------------------------------\n",
      "const                    0.3552      0.155      2.299      0.022       0.052       0.658\n",
      "ar.L1.D.market_value     2.0502      0.080     25.494      0.000       1.893       2.208\n",
      "ar.L2.D.market_value    -1.8926      0.115    -16.429      0.000      -2.118      -1.667\n",
      "ar.L3.D.market_value     1.8600      0.108     17.248      0.000       1.649       2.071\n",
      "ar.L4.D.market_value    -1.8725      0.109    -17.148      0.000      -2.086      -1.658\n",
      "ar.L5.D.market_value     0.7813      0.075     10.370      0.000       0.634       0.929\n",
      "ma.L1.D.market_value    -2.0194      0.083    -24.365      0.000      -2.182      -1.857\n",
      "ma.L2.D.market_value     1.7725      0.126     14.024      0.000       1.525       2.020\n",
      "ma.L3.D.market_value    -1.6811      0.124    -13.515      0.000      -1.925      -1.437\n",
      "ma.L4.D.market_value     1.6993      0.123     13.859      0.000       1.459       1.940\n",
      "ma.L5.D.market_value    -0.6615      0.092     -7.225      0.000      -0.841      -0.482\n",
      "ma.L6.D.market_value    -0.0530      0.026     -2.046      0.041      -0.104      -0.002\n",
      "                                    Roots                                    \n",
      "=============================================================================\n",
      "                  Real          Imaginary           Modulus         Frequency\n",
      "-----------------------------------------------------------------------------\n",
      "AR.1           -0.3097           -0.9804j            1.0282           -0.2987\n",
      "AR.2           -0.3097           +0.9804j            1.0282            0.2987\n",
      "AR.3            0.9157           -0.4284j            1.0110           -0.0696\n",
      "AR.4            0.9157           +0.4284j            1.0110            0.0696\n",
      "AR.5            1.1846           -0.0000j            1.1846           -0.0000\n",
      "MA.1           -0.3186           -0.9985j            1.0481           -0.2992\n",
      "MA.2           -0.3186           +0.9985j            1.0481            0.2992\n",
      "MA.3            0.9168           -0.4364j            1.0153           -0.0707\n",
      "MA.4            0.9168           +0.4364j            1.0153            0.0707\n",
      "MA.5            1.1255           -0.0000j            1.1255           -0.0000\n",
      "MA.6          -14.7936           -0.0000j           14.7936           -0.5000\n",
      "-----------------------------------------------------------------------------\n"
     ]
    }
   ],
   "source": [
    "#ARIMA(5,1,6)\n",
    "model_ar_5_i_1_ma_6 = ARIMA(df.market_value, order=(5,1,6))\n",
    "results_ar_5_i_1_ma_6 = model_ar_5_i_1_ma_6.fit()\n",
    "print(results_ar_5_i_1_ma_6.summary())"
   ]
  },
  {
   "cell_type": "code",
   "execution_count": 74,
   "metadata": {},
   "outputs": [
    {
     "name": "stdout",
     "output_type": "stream",
     "text": [
      "                             ARIMA Model Results                              \n",
      "==============================================================================\n",
      "Dep. Variable:         D.market_value   No. Observations:                 2236\n",
      "Model:                 ARIMA(4, 1, 6)   Log Likelihood               -8196.622\n",
      "Method:                       css-mle   S.D. of innovations              9.456\n",
      "Date:                Mon, 29 Mar 2021   AIC                          16417.245\n",
      "Time:                        16:46:14   BIC                          16485.794\n",
      "Sample:                    06-08-2010   HQIC                         16442.273\n",
      "                         - 01-01-2019                                         \n",
      "========================================================================================\n",
      "                           coef    std err          z      P>|z|      [0.025      0.975]\n",
      "----------------------------------------------------------------------------------------\n",
      "const                    0.3560      0.151      2.361      0.018       0.061       0.652\n",
      "ar.L1.D.market_value    -0.2983      0.069     -4.343      0.000      -0.433      -0.164\n",
      "ar.L2.D.market_value    -0.1217      0.080     -1.526      0.127      -0.278       0.035\n",
      "ar.L3.D.market_value     0.0829      0.079      1.050      0.294      -0.072       0.238\n",
      "ar.L4.D.market_value     0.8596      0.067     12.854      0.000       0.729       0.991\n",
      "ma.L1.D.market_value     0.3363      0.071      4.717      0.000       0.197       0.476\n",
      "ma.L2.D.market_value     0.0791      0.083      0.948      0.343      -0.084       0.243\n",
      "ma.L3.D.market_value    -0.1023      0.071     -1.443      0.149      -0.241       0.037\n",
      "ma.L4.D.market_value    -0.8949      0.058    -15.315      0.000      -1.009      -0.780\n",
      "ma.L5.D.market_value    -0.0880      0.025     -3.513      0.000      -0.137      -0.039\n",
      "ma.L6.D.market_value     0.0291      0.024      1.201      0.230      -0.018       0.077\n",
      "                                    Roots                                    \n",
      "=============================================================================\n",
      "                  Real          Imaginary           Modulus         Frequency\n",
      "-----------------------------------------------------------------------------\n",
      "AR.1           -1.0141           -0.0000j            1.0141           -0.5000\n",
      "AR.2           -0.1031           -1.0050j            1.0103           -0.2663\n",
      "AR.3           -0.1031           +1.0050j            1.0103            0.2663\n",
      "AR.4            1.1238           -0.0000j            1.1238           -0.0000\n",
      "MA.1           -1.0230           -0.0000j            1.0230           -0.5000\n",
      "MA.2           -0.0901           -1.0069j            1.0109           -0.2642\n",
      "MA.3           -0.0901           +1.0069j            1.0109            0.2642\n",
      "MA.4            1.0855           -0.0000j            1.0855           -0.0000\n",
      "MA.5           -4.1502           -0.0000j            4.1502           -0.5000\n",
      "MA.6            7.2875           -0.0000j            7.2875           -0.0000\n",
      "-----------------------------------------------------------------------------\n"
     ]
    }
   ],
   "source": [
    "#ARIMA(4,1,6)\n",
    "model_ar_4_i_1_ma_6 = ARIMA(df.market_value, order=(4,1,6))\n",
    "results_ar_4_i_1_ma_6 = model_ar_4_i_1_ma_6.fit()\n",
    "print(results_ar_4_i_1_ma_6.summary())"
   ]
  },
  {
   "cell_type": "code",
   "execution_count": 75,
   "metadata": {},
   "outputs": [
    {
     "name": "stdout",
     "output_type": "stream",
     "text": [
      "                             ARIMA Model Results                              \n",
      "==============================================================================\n",
      "Dep. Variable:         D.market_value   No. Observations:                 2236\n",
      "Model:                 ARIMA(3, 1, 6)   Log Likelihood               -8201.913\n",
      "Method:                       css-mle   S.D. of innovations              9.480\n",
      "Date:                Mon, 29 Mar 2021   AIC                          16425.825\n",
      "Time:                        16:46:41   BIC                          16488.662\n",
      "Sample:                    06-08-2010   HQIC                         16448.768\n",
      "                         - 01-01-2019                                         \n",
      "========================================================================================\n",
      "                           coef    std err          z      P>|z|      [0.025      0.975]\n",
      "----------------------------------------------------------------------------------------\n",
      "const                    0.3546      0.153      2.314      0.021       0.054       0.655\n",
      "ar.L1.D.market_value     0.2270      0.081      2.787      0.005       0.067       0.387\n",
      "ar.L2.D.market_value    -0.4481      0.056     -7.974      0.000      -0.558      -0.338\n",
      "ar.L3.D.market_value     0.7795      0.073     10.653      0.000       0.636       0.923\n",
      "ma.L1.D.market_value    -0.1927      0.084     -2.302      0.021      -0.357      -0.029\n",
      "ma.L2.D.market_value     0.3849      0.061      6.341      0.000       0.266       0.504\n",
      "ma.L3.D.market_value    -0.7328      0.072    -10.207      0.000      -0.873      -0.592\n",
      "ma.L4.D.market_value    -0.0733      0.026     -2.838      0.005      -0.124      -0.023\n",
      "ma.L5.D.market_value    -0.0078      0.024     -0.324      0.746      -0.055       0.039\n",
      "ma.L6.D.market_value    -0.0411      0.023     -1.777      0.076      -0.086       0.004\n",
      "                                    Roots                                    \n",
      "=============================================================================\n",
      "                  Real          Imaginary           Modulus         Frequency\n",
      "-----------------------------------------------------------------------------\n",
      "AR.1           -0.3177           -0.9794j            1.0296           -0.2999\n",
      "AR.2           -0.3177           +0.9794j            1.0296            0.2999\n",
      "AR.3            1.2102           -0.0000j            1.2102           -0.0000\n",
      "MA.1           -0.3314           -0.9934j            1.0473           -0.3012\n",
      "MA.2           -0.3314           +0.9934j            1.0473            0.3012\n",
      "MA.3            1.1290           -0.0000j            1.1290           -0.0000\n",
      "MA.4           -2.7029           -0.0000j            2.7029           -0.5000\n",
      "MA.5            1.0233           -2.4955j            2.6972           -0.1881\n",
      "MA.6            1.0233           +2.4955j            2.6972            0.1881\n",
      "-----------------------------------------------------------------------------\n"
     ]
    }
   ],
   "source": [
    "#ARIMA(3,1,6)\n",
    "model_ar_3_i_1_ma_6 = ARIMA(df.market_value, order=(3,1,6))\n",
    "results_ar_3_i_1_ma_6 = model_ar_3_i_1_ma_6.fit()\n",
    "print(results_ar_3_i_1_ma_6.summary())"
   ]
  },
  {
   "cell_type": "code",
   "execution_count": 76,
   "metadata": {},
   "outputs": [
    {
     "name": "stdout",
     "output_type": "stream",
     "text": [
      "                             ARIMA Model Results                              \n",
      "==============================================================================\n",
      "Dep. Variable:         D.market_value   No. Observations:                 2236\n",
      "Model:                 ARIMA(2, 1, 6)   Log Likelihood               -8209.881\n",
      "Method:                       css-mle   S.D. of innovations              9.514\n",
      "Date:                Mon, 29 Mar 2021   AIC                          16439.761\n",
      "Time:                        16:47:02   BIC                          16496.886\n",
      "Sample:                    06-08-2010   HQIC                         16460.618\n",
      "                         - 01-01-2019                                         \n",
      "========================================================================================\n",
      "                           coef    std err          z      P>|z|      [0.025      0.975]\n",
      "----------------------------------------------------------------------------------------\n",
      "const                    0.3539      0.154      2.299      0.022       0.052       0.656\n",
      "ar.L1.D.market_value     0.5564      0.917      0.607      0.544      -1.242       2.354\n",
      "ar.L2.D.market_value     0.1719      0.701      0.245      0.806      -1.203       1.547\n",
      "ma.L1.D.market_value    -0.5245      0.917     -0.572      0.567      -2.322       1.273\n",
      "ma.L2.D.market_value    -0.2521      0.672     -0.375      0.708      -1.570       1.066\n",
      "ma.L3.D.market_value     0.0519      0.083      0.629      0.530      -0.110       0.214\n",
      "ma.L4.D.market_value    -0.0067      0.069     -0.097      0.923      -0.142       0.129\n",
      "ma.L5.D.market_value    -0.0565      0.030     -1.883      0.060      -0.115       0.002\n",
      "ma.L6.D.market_value    -0.0045      0.051     -0.088      0.930      -0.105       0.096\n",
      "                                    Roots                                    \n",
      "=============================================================================\n",
      "                  Real          Imaginary           Modulus         Frequency\n",
      "-----------------------------------------------------------------------------\n",
      "AR.1            1.2862           +0.0000j            1.2862            0.0000\n",
      "AR.2           -4.5230           +0.0000j            4.5230            0.5000\n",
      "MA.1            1.1545           -0.0000j            1.1545           -0.0000\n",
      "MA.2            1.0736           -1.6013j            1.9279           -0.1560\n",
      "MA.3            1.0736           +1.6013j            1.9279            0.1560\n",
      "MA.4           -1.7613           -1.0487j            2.0499           -0.4145\n",
      "MA.5           -1.7613           +1.0487j            2.0499            0.4145\n",
      "MA.6          -12.3326           -0.0000j           12.3326           -0.5000\n",
      "-----------------------------------------------------------------------------\n"
     ]
    }
   ],
   "source": [
    "#ARIMA(2,1,6)\n",
    "model_ar_2_i_1_ma_6 = ARIMA(df.market_value, order=(2,1,6))\n",
    "results_ar_2_i_1_ma_6 = model_ar_2_i_1_ma_6.fit()\n",
    "print(results_ar_2_i_1_ma_6.summary())"
   ]
  },
  {
   "cell_type": "code",
   "execution_count": 77,
   "metadata": {},
   "outputs": [
    {
     "name": "stdout",
     "output_type": "stream",
     "text": [
      "                             ARIMA Model Results                              \n",
      "==============================================================================\n",
      "Dep. Variable:         D.market_value   No. Observations:                 2236\n",
      "Model:                 ARIMA(6, 1, 1)   Log Likelihood               -8208.953\n",
      "Method:                       css-mle   S.D. of innovations              9.510\n",
      "Date:                Mon, 29 Mar 2021   AIC                          16435.906\n",
      "Time:                        16:47:16   BIC                          16487.318\n",
      "Sample:                    06-08-2010   HQIC                         16454.677\n",
      "                         - 01-01-2019                                         \n",
      "========================================================================================\n",
      "                           coef    std err          z      P>|z|      [0.025      0.975]\n",
      "----------------------------------------------------------------------------------------\n",
      "const                    0.3531      0.155      2.273      0.023       0.049       0.658\n",
      "ar.L1.D.market_value     0.8613      0.079     10.866      0.000       0.706       1.017\n",
      "ar.L2.D.market_value    -0.0881      0.028     -3.143      0.002      -0.143      -0.033\n",
      "ar.L3.D.market_value     0.0839      0.028      2.974      0.003       0.029       0.139\n",
      "ar.L4.D.market_value    -0.0369      0.028     -1.318      0.188      -0.092       0.018\n",
      "ar.L5.D.market_value    -0.0508      0.028     -1.814      0.070      -0.106       0.004\n",
      "ar.L6.D.market_value     0.0099      0.024      0.407      0.684      -0.038       0.058\n",
      "ma.L1.D.market_value    -0.8298      0.076    -10.872      0.000      -0.979      -0.680\n",
      "                                    Roots                                    \n",
      "=============================================================================\n",
      "                  Real          Imaginary           Modulus         Frequency\n",
      "-----------------------------------------------------------------------------\n",
      "AR.1            1.4435           -0.2690j            1.4684           -0.0293\n",
      "AR.2            1.4435           +0.2690j            1.4684            0.0293\n",
      "AR.3           -0.4303           -1.8314j            1.8813           -0.2867\n",
      "AR.4           -0.4303           +1.8314j            1.8813            0.2867\n",
      "AR.5           -2.4019           -0.0000j            2.4019           -0.5000\n",
      "AR.6            5.4991           -0.0000j            5.4991           -0.0000\n",
      "MA.1            1.2052           +0.0000j            1.2052            0.0000\n",
      "-----------------------------------------------------------------------------\n"
     ]
    }
   ],
   "source": [
    "#ARIMA(6,1,1)\n",
    "model_ar_6_i_1_ma_1 = ARIMA(df.market_value, order=(6,1,1))\n",
    "results_ar_6_i_1_ma_1 = model_ar_6_i_1_ma_1.fit()\n",
    "print(results_ar_6_i_1_ma_1.summary())"
   ]
  },
  {
   "cell_type": "code",
   "execution_count": 78,
   "metadata": {},
   "outputs": [
    {
     "name": "stdout",
     "output_type": "stream",
     "text": [
      "                             ARIMA Model Results                              \n",
      "==============================================================================\n",
      "Dep. Variable:         D.market_value   No. Observations:                 2236\n",
      "Model:                 ARIMA(6, 1, 2)   Log Likelihood               -8208.866\n",
      "Method:                       css-mle   S.D. of innovations              9.509\n",
      "Date:                Mon, 29 Mar 2021   AIC                          16437.732\n",
      "Time:                        16:47:29   BIC                          16494.856\n",
      "Sample:                    06-08-2010   HQIC                         16458.588\n",
      "                         - 01-01-2019                                         \n",
      "========================================================================================\n",
      "                           coef    std err          z      P>|z|      [0.025      0.975]\n",
      "----------------------------------------------------------------------------------------\n",
      "const                    0.3532      0.155      2.275      0.023       0.049       0.657\n",
      "ar.L1.D.market_value     0.6210      0.565      1.099      0.272      -0.486       1.728\n",
      "ar.L2.D.market_value     0.1206      0.474      0.254      0.799      -0.808       1.049\n",
      "ar.L3.D.market_value     0.0624      0.055      1.132      0.258      -0.046       0.170\n",
      "ar.L4.D.market_value    -0.0162      0.053     -0.306      0.760      -0.120       0.088\n",
      "ar.L5.D.market_value    -0.0625      0.032     -1.974      0.048      -0.125      -0.000\n",
      "ar.L6.D.market_value     0.0029      0.036      0.082      0.935      -0.067       0.073\n",
      "ma.L1.D.market_value    -0.5892      0.565     -1.044      0.297      -1.696       0.517\n",
      "ma.L2.D.market_value    -0.2011      0.456     -0.441      0.659      -1.095       0.692\n",
      "                                    Roots                                    \n",
      "=============================================================================\n",
      "                  Real          Imaginary           Modulus         Frequency\n",
      "-----------------------------------------------------------------------------\n",
      "AR.1            1.4419           -0.2613j            1.4654           -0.0285\n",
      "AR.2            1.4419           +0.2613j            1.4654            0.0285\n",
      "AR.3           -0.5085           -1.8167j            1.8865           -0.2934\n",
      "AR.4           -0.5085           +1.8167j            1.8865            0.2934\n",
      "AR.5           -2.0725           -0.0000j            2.0725           -0.5000\n",
      "AR.6           21.5891           -0.0000j           21.5891           -0.0000\n",
      "MA.1            1.2031           +0.0000j            1.2031            0.0000\n",
      "MA.2           -4.1336           +0.0000j            4.1336            0.5000\n",
      "-----------------------------------------------------------------------------\n"
     ]
    }
   ],
   "source": [
    "#ARIMA(6,1,2)\n",
    "model_ar_6_i_1_ma_2 = ARIMA(df.market_value, order=(6,1,2))\n",
    "results_ar_6_i_1_ma_2 = model_ar_6_i_1_ma_2.fit()\n",
    "print(results_ar_6_i_1_ma_2.summary())"
   ]
  },
  {
   "cell_type": "code",
   "execution_count": 79,
   "metadata": {},
   "outputs": [
    {
     "name": "stdout",
     "output_type": "stream",
     "text": [
      "                             ARIMA Model Results                              \n",
      "==============================================================================\n",
      "Dep. Variable:         D.market_value   No. Observations:                 2236\n",
      "Model:                 ARIMA(6, 1, 3)   Log Likelihood               -8201.472\n",
      "Method:                       css-mle   S.D. of innovations              9.478\n",
      "Date:                Mon, 29 Mar 2021   AIC                          16424.944\n",
      "Time:                        16:47:53   BIC                          16487.781\n",
      "Sample:                    06-08-2010   HQIC                         16447.886\n",
      "                         - 01-01-2019                                         \n",
      "========================================================================================\n",
      "                           coef    std err          z      P>|z|      [0.025      0.975]\n",
      "----------------------------------------------------------------------------------------\n",
      "const                    0.3541      0.154      2.297      0.022       0.052       0.656\n",
      "ar.L1.D.market_value     0.2912      0.085      3.425      0.001       0.125       0.458\n",
      "ar.L2.D.market_value    -0.4520      0.068     -6.656      0.000      -0.585      -0.319\n",
      "ar.L3.D.market_value     0.8429      0.069     12.266      0.000       0.708       0.978\n",
      "ar.L4.D.market_value    -0.0765      0.028     -2.723      0.006      -0.132      -0.021\n",
      "ar.L5.D.market_value    -0.0039      0.025     -0.155      0.877      -0.053       0.045\n",
      "ar.L6.D.market_value    -0.0477      0.025     -1.899      0.058      -0.097       0.002\n",
      "ma.L1.D.market_value    -0.2564      0.082     -3.114      0.002      -0.418      -0.095\n",
      "ma.L2.D.market_value     0.3880      0.064      6.064      0.000       0.263       0.513\n",
      "ma.L3.D.market_value    -0.7889      0.062    -12.750      0.000      -0.910      -0.668\n",
      "                                    Roots                                    \n",
      "=============================================================================\n",
      "                  Real          Imaginary           Modulus         Frequency\n",
      "-----------------------------------------------------------------------------\n",
      "AR.1           -0.3187           -0.9790j            1.0296           -0.3001\n",
      "AR.2           -0.3187           +0.9790j            1.0296            0.3001\n",
      "AR.3            1.2981           -0.0000j            1.2981           -0.0000\n",
      "AR.4            2.0312           -0.0000j            2.0312           -0.0000\n",
      "AR.5           -1.3868           -2.3603j            2.7376           -0.3345\n",
      "AR.6           -1.3868           +2.3603j            2.7376            0.3345\n",
      "MA.1           -0.3328           -0.9922j            1.0466           -0.3015\n",
      "MA.2           -0.3328           +0.9922j            1.0466            0.3015\n",
      "MA.3            1.1574           -0.0000j            1.1574           -0.0000\n",
      "-----------------------------------------------------------------------------\n"
     ]
    }
   ],
   "source": [
    "#ARIMA(6,1,3)\n",
    "model_ar_6_i_1_ma_3 = ARIMA(df.market_value, order=(6,1,3))\n",
    "results_ar_6_i_1_ma_3 = model_ar_6_i_1_ma_3.fit()\n",
    "print(results_ar_6_i_1_ma_3.summary())"
   ]
  },
  {
   "cell_type": "code",
   "execution_count": 80,
   "metadata": {},
   "outputs": [
    {
     "name": "stdout",
     "output_type": "stream",
     "text": [
      "                             ARIMA Model Results                              \n",
      "==============================================================================\n",
      "Dep. Variable:         D.market_value   No. Observations:                 2236\n",
      "Model:                 ARIMA(6, 1, 4)   Log Likelihood               -8197.196\n",
      "Method:                       css-mle   S.D. of innovations              9.458\n",
      "Date:                Mon, 29 Mar 2021   AIC                          16418.392\n",
      "Time:                        16:48:47   BIC                          16486.941\n",
      "Sample:                    06-08-2010   HQIC                         16443.420\n",
      "                         - 01-01-2019                                         \n",
      "========================================================================================\n",
      "                           coef    std err          z      P>|z|      [0.025      0.975]\n",
      "----------------------------------------------------------------------------------------\n",
      "const                    0.3560      0.151      2.359      0.018       0.060       0.652\n",
      "ar.L1.D.market_value    -0.1993      0.061     -3.281      0.001      -0.318      -0.080\n",
      "ar.L2.D.market_value    -0.1261      0.066     -1.921      0.055      -0.255       0.003\n",
      "ar.L3.D.market_value     0.0842      0.071      1.179      0.238      -0.056       0.224\n",
      "ar.L4.D.market_value     0.8458      0.064     13.133      0.000       0.720       0.972\n",
      "ar.L5.D.market_value    -0.0839      0.024     -3.448      0.001      -0.132      -0.036\n",
      "ar.L6.D.market_value     0.0294      0.024      1.217      0.224      -0.018       0.077\n",
      "ma.L1.D.market_value     0.2345      0.057      4.131      0.000       0.123       0.346\n",
      "ma.L2.D.market_value     0.0865      0.064      1.341      0.180      -0.040       0.213\n",
      "ma.L3.D.market_value    -0.1019      0.064     -1.581      0.114      -0.228       0.024\n",
      "ma.L4.D.market_value    -0.8803      0.056    -15.596      0.000      -0.991      -0.770\n",
      "                                    Roots                                    \n",
      "=============================================================================\n",
      "                  Real          Imaginary           Modulus         Frequency\n",
      "-----------------------------------------------------------------------------\n",
      "AR.1           -1.0138           -0.0000j            1.0138           -0.5000\n",
      "AR.2           -0.1035           -1.0053j            1.0106           -0.2663\n",
      "AR.3           -0.1035           +1.0053j            1.0106            0.2663\n",
      "AR.4            1.1252           -0.0000j            1.1252           -0.0000\n",
      "AR.5            1.4760           -5.1993j            5.4047           -0.2060\n",
      "AR.6            1.4760           +5.1993j            5.4047            0.2060\n",
      "MA.1           -1.0217           -0.0000j            1.0217           -0.5000\n",
      "MA.2           -0.0902           -1.0076j            1.0116           -0.2642\n",
      "MA.3           -0.0902           +1.0076j            1.0116            0.2642\n",
      "MA.4            1.0864           -0.0000j            1.0864           -0.0000\n",
      "-----------------------------------------------------------------------------\n"
     ]
    }
   ],
   "source": [
    "#ARIMA(6,1,4)\n",
    "model_ar_6_i_1_ma_4 = ARIMA(df.market_value, order=(6,1,4))\n",
    "results_ar_6_i_1_ma_4 = model_ar_6_i_1_ma_4.fit()\n",
    "print(results_ar_6_i_1_ma_4.summary())"
   ]
  },
  {
   "cell_type": "code",
   "execution_count": 81,
   "metadata": {},
   "outputs": [
    {
     "name": "stdout",
     "output_type": "stream",
     "text": [
      "                             ARIMA Model Results                              \n",
      "==============================================================================\n",
      "Dep. Variable:         D.market_value   No. Observations:                 2236\n",
      "Model:                 ARIMA(6, 1, 5)   Log Likelihood               -8197.697\n",
      "Method:                       css-mle   S.D. of innovations              9.461\n",
      "Date:                Mon, 29 Mar 2021   AIC                          16421.394\n",
      "Time:                        16:49:28   BIC                          16495.656\n",
      "Sample:                    06-08-2010   HQIC                         16448.508\n",
      "                         - 01-01-2019                                         \n",
      "========================================================================================\n",
      "                           coef    std err          z      P>|z|      [0.025      0.975]\n",
      "----------------------------------------------------------------------------------------\n",
      "const                    0.3546      0.155      2.291      0.022       0.051       0.658\n",
      "ar.L1.D.market_value     2.1142      0.078     27.070      0.000       1.961       2.267\n",
      "ar.L2.D.market_value    -2.0273      0.132    -15.381      0.000      -2.286      -1.769\n",
      "ar.L3.D.market_value     1.9833      0.130     15.268      0.000       1.729       2.238\n",
      "ar.L4.D.market_value    -1.9926      0.122    -16.312      0.000      -2.232      -1.753\n",
      "ar.L5.D.market_value     0.9054      0.088     10.303      0.000       0.733       1.078\n",
      "ar.L6.D.market_value    -0.0541      0.026     -2.047      0.041      -0.106      -0.002\n",
      "ma.L1.D.market_value    -2.0837      0.075    -27.621      0.000      -2.232      -1.936\n",
      "ma.L2.D.market_value     1.9075      0.125     15.264      0.000       1.663       2.152\n",
      "ma.L3.D.market_value    -1.8019      0.129    -13.921      0.000      -2.056      -1.548\n",
      "ma.L4.D.market_value     1.8136      0.118     15.323      0.000       1.582       2.046\n",
      "ma.L5.D.market_value    -0.7806      0.070    -11.230      0.000      -0.917      -0.644\n",
      "                                    Roots                                    \n",
      "=============================================================================\n",
      "                  Real          Imaginary           Modulus         Frequency\n",
      "-----------------------------------------------------------------------------\n",
      "AR.1           -0.3101           -0.9809j            1.0288           -0.2987\n",
      "AR.2           -0.3101           +0.9809j            1.0288            0.2987\n",
      "AR.3            0.9154           -0.4286j            1.0108           -0.0697\n",
      "AR.4            0.9154           +0.4286j            1.0108            0.0697\n",
      "AR.5            1.1925           -0.0000j            1.1925           -0.0000\n",
      "AR.6           14.3369           -0.0000j           14.3369           -0.0000\n",
      "MA.1           -0.3195           -0.9994j            1.0492           -0.2992\n",
      "MA.2           -0.3195           +0.9994j            1.0492            0.2992\n",
      "MA.3            0.9162           -0.4366j            1.0149           -0.0708\n",
      "MA.4            0.9162           +0.4366j            1.0149            0.0708\n",
      "MA.5            1.1299           -0.0000j            1.1299           -0.0000\n",
      "-----------------------------------------------------------------------------\n"
     ]
    }
   ],
   "source": [
    "#ARIMA(6,1,5)\n",
    "model_ar_6_i_1_ma_5 = ARIMA(df.market_value, order=(6,1,5))\n",
    "results_ar_6_i_1_ma_5 = model_ar_6_i_1_ma_5.fit()\n",
    "print(results_ar_6_i_1_ma_5.summary())"
   ]
  },
  {
   "cell_type": "code",
   "execution_count": 82,
   "metadata": {},
   "outputs": [
    {
     "name": "stdout",
     "output_type": "stream",
     "text": [
      "                             ARIMA Model Results                              \n",
      "==============================================================================\n",
      "Dep. Variable:         D.market_value   No. Observations:                 2236\n",
      "Model:                 ARIMA(6, 1, 6)   Log Likelihood               -8196.952\n",
      "Method:                       css-mle   S.D. of innovations              9.458\n",
      "Date:                Mon, 29 Mar 2021   AIC                          16421.905\n",
      "Time:                        16:50:19   BIC                          16501.879\n",
      "Sample:                    06-08-2010   HQIC                         16451.104\n",
      "                         - 01-01-2019                                         \n",
      "========================================================================================\n",
      "                           coef    std err          z      P>|z|      [0.025      0.975]\n",
      "----------------------------------------------------------------------------------------\n",
      "const                    0.3507      0.170      2.060      0.039       0.017       0.684\n",
      "ar.L1.D.market_value    -0.3792      0.120     -3.160      0.002      -0.614      -0.144\n",
      "ar.L2.D.market_value    -0.0051      0.123     -0.042      0.967      -0.245       0.235\n",
      "ar.L3.D.market_value     1.1114      0.091     12.150      0.000       0.932       1.291\n",
      "ar.L4.D.market_value     0.2023      0.131      1.547      0.122      -0.054       0.459\n",
      "ar.L5.D.market_value    -0.0641      0.129     -0.498      0.618      -0.316       0.188\n",
      "ar.L6.D.market_value    -0.7376      0.126     -5.848      0.000      -0.985      -0.490\n",
      "ma.L1.D.market_value     0.4097      0.129      3.173      0.002       0.157       0.663\n",
      "ma.L2.D.market_value    -0.0246      0.130     -0.190      0.849      -0.279       0.229\n",
      "ma.L3.D.market_value    -1.1044      0.100    -11.023      0.000      -1.301      -0.908\n",
      "ma.L4.D.market_value    -0.2363      0.143     -1.647      0.100      -0.517       0.045\n",
      "ma.L5.D.market_value     0.0389      0.140      0.277      0.782      -0.236       0.314\n",
      "ma.L6.D.market_value     0.6586      0.143      4.602      0.000       0.378       0.939\n",
      "                                    Roots                                    \n",
      "=============================================================================\n",
      "                  Real          Imaginary           Modulus         Frequency\n",
      "-----------------------------------------------------------------------------\n",
      "AR.1           -0.7733           -0.6560j            1.0141           -0.3880\n",
      "AR.2           -0.7733           +0.6560j            1.0141            0.3880\n",
      "AR.3           -0.3203           -0.9880j            1.0386           -0.2999\n",
      "AR.4           -0.3203           +0.9880j            1.0386            0.2999\n",
      "AR.5            1.0502           -0.3451j            1.1055           -0.0505\n",
      "AR.6            1.0502           +0.3451j            1.1055            0.0505\n",
      "MA.1           -0.7807           -0.6573j            1.0205           -0.3886\n",
      "MA.2           -0.7807           +0.6573j            1.0205            0.3886\n",
      "MA.3           -0.3384           -1.0075j            1.0629           -0.3016\n",
      "MA.4           -0.3384           +1.0075j            1.0629            0.3016\n",
      "MA.5            1.0895           -0.3216j            1.1360           -0.0457\n",
      "MA.6            1.0895           +0.3216j            1.1360            0.0457\n",
      "-----------------------------------------------------------------------------\n"
     ]
    }
   ],
   "source": [
    "#ARIMA(6,1,6)\n",
    "model_ar_6_i_1_ma_6 = ARIMA(df.market_value, order=(6,1,6))\n",
    "results_ar_6_i_1_ma_6 = model_ar_6_i_1_ma_6.fit()\n",
    "print(results_ar_6_i_1_ma_6.summary())"
   ]
  },
  {
   "cell_type": "markdown",
   "metadata": {},
   "source": [
    "## LLR and AIC for best Models"
   ]
  },
  {
   "cell_type": "code",
   "execution_count": 93,
   "metadata": {},
   "outputs": [
    {
     "name": "stdout",
     "output_type": "stream",
     "text": [
      "\t ARIMA(3,1,3): \t LLR :  -8206.454310673047 \t AIC:  16428.908621346094\n",
      "\t ARIMA(5,1,6): \t LLR :  -8197.686224170577 \t AIC:  16421.372448341153\n",
      "\t ARIMA(6,1,5): \t LLR :  -8197.697166114916 \t AIC:  16421.394332229833\n",
      "\t ARIMA(6,1,5): \t LLR :  -8181.953648643517 \t AIC:  16399.907297287034\n"
     ]
    }
   ],
   "source": [
    "print('\\t ARIMA(3,1,3): \\t LLR : ', results_ar_3_i_1_ma_3.llf, '\\t AIC: ', results_ar_3_i_1_ma_3.aic)\n",
    "print('\\t ARIMA(5,1,6): \\t LLR : ', results_ar_5_i_1_ma_6.llf, '\\t AIC: ', results_ar_5_i_1_ma_6.aic)\n",
    "print('\\t ARIMA(6,1,5): \\t LLR : ', results_ar_6_i_1_ma_5.llf, '\\t AIC: ', results_ar_6_i_1_ma_5.aic)\n",
    "print('\\t ARIMA(6,1,5): \\t LLR : ', results_ar_8_i_1_ma_8.llf, '\\t AIC: ', results_ar_8_i_1_ma_8.aic)"
   ]
  },
  {
   "cell_type": "markdown",
   "metadata": {},
   "source": [
    "### LLR Test"
   ]
  },
  {
   "cell_type": "code",
   "execution_count": 84,
   "metadata": {},
   "outputs": [],
   "source": [
    "#LLR Test\n",
    "def LLR_test(mod_1,mod_2, DF=1):\n",
    "    #mod_1, mod_2: modelwe want to compare\n",
    "    #Degree of Freedom\n",
    "    L1 = mod_1.fit().llf\n",
    "    L2 = mod_2.fit().llf\n",
    "    LR = (2*(L2-L1))\n",
    "    p = chi2.sf(LR,DF).round(2)\n",
    "    return p"
   ]
  },
  {
   "cell_type": "code",
   "execution_count": 85,
   "metadata": {},
   "outputs": [
    {
     "name": "stdout",
     "output_type": "stream",
     "text": [
      "LLR_Test : 0.0\n"
     ]
    }
   ],
   "source": [
    "print('LLR_Test : ' + str(LLR_test(model_ar_3_i_1_ma_3,model_ar_5_i_1_ma_6 )))"
   ]
  },
  {
   "cell_type": "code",
   "execution_count": 86,
   "metadata": {},
   "outputs": [
    {
     "name": "stdout",
     "output_type": "stream",
     "text": [
      "LLR_Test : 0.0\n"
     ]
    }
   ],
   "source": [
    "print('LLR_Test : ' + str(LLR_test(model_ar_3_i_1_ma_3,model_ar_6_i_1_ma_5 )))"
   ]
  },
  {
   "cell_type": "code",
   "execution_count": 87,
   "metadata": {},
   "outputs": [
    {
     "name": "stdout",
     "output_type": "stream",
     "text": [
      "LLR_Test : 0.88\n"
     ]
    }
   ],
   "source": [
    "print('LLR_Test : ' + str(LLR_test(model_ar_6_i_1_ma_5,model_ar_5_i_1_ma_6 )))"
   ]
  },
  {
   "cell_type": "code",
   "execution_count": 88,
   "metadata": {},
   "outputs": [],
   "source": [
    "df['res_ar_5_i_1_ma_6'] = results_ar_5_i_1_ma_6.resid"
   ]
  },
  {
   "cell_type": "markdown",
   "metadata": {},
   "source": [
    "### ACF for ARIMA(5,1,6) Residuals"
   ]
  },
  {
   "cell_type": "code",
   "execution_count": 89,
   "metadata": {},
   "outputs": [
    {
     "data": {
      "image/png": "[encoded data removed]",
      "text/plain": [
       "<Figure size 432x288 with 1 Axes>"
      ]
     },
     "metadata": {},
     "output_type": "display_data"
    }
   ],
   "source": [
    "sgt.plot_acf(df.res_ar_5_i_1_ma_6[1:], zero=False, lags=40)\n",
    "plt.title('Residuals of ARIMA(5,1,6)', size=18)\n",
    "plt.show()"
   ]
  },
  {
   "cell_type": "code",
   "execution_count": 90,
   "metadata": {},
   "outputs": [
    {
     "data": {
      "image/png": "[encoded data removed]",
      "text/plain": [
       "<Figure size 1728x360 with 1 Axes>"
      ]
     },
     "metadata": {},
     "output_type": "display_data"
    }
   ],
   "source": [
    "df.res_ar_5_i_1_ma_6[1:].plot(figsize=(24,5))\n",
    "plt.title('Residuals of ARIMA(5,1,6)', size=18)\n",
    "plt.show()"
   ]
  },
  {
   "cell_type": "markdown",
   "metadata": {},
   "source": [
    "### Residuals For ARIMA(6,1,5)"
   ]
  },
  {
   "cell_type": "code",
   "execution_count": 91,
   "metadata": {},
   "outputs": [
    {
     "data": {
      "image/png": "[encoded data removed]",
      "text/plain": [
       "<Figure size 432x288 with 1 Axes>"
      ]
     },
     "metadata": {},
     "output_type": "display_data"
    }
   ],
   "source": [
    "df['res_ar_6_i_1_ma_5'] = results_ar_6_i_1_ma_5.resid\n",
    "sgt.plot_acf(df.res_ar_6_i_1_ma_5[1:], zero=False, lags=40)\n",
    "plt.title('Residuals of ARIMA(6,1,5)', size=18)\n",
    "plt.show()"
   ]
  },
  {
   "cell_type": "code",
   "execution_count": 95,
   "metadata": {},
   "outputs": [
    {
     "data": {
      "image/png": "[encoded data removed]",
      "text/plain": [
       "<Figure size 432x288 with 1 Axes>"
      ]
     },
     "metadata": {},
     "output_type": "display_data"
    }
   ],
   "source": [
    "df['res_ar_8_i_1_ma_8'] = results_ar_8_i_1_ma_8.resid\n",
    "sgt.plot_acf(df.res_ar_8_i_1_ma_8[1:], zero=False, lags=40)\n",
    "plt.title('Residuals of ARIMA(8,1,8)', size=18)\n",
    "plt.show()"
   ]
  },
  {
   "cell_type": "code",
   "execution_count": null,
   "metadata": {},
   "outputs": [],
   "source": []
  }
 ],
 "metadata": {
  "kernelspec": {
   "display_name": "Python 3",
   "language": "python",
   "name": "python3"
  },
  "language_info": {
   "codemirror_mode": {
    "name": "ipython",
    "version": 3
   },
   "file_extension": ".py",
   "mimetype": "text/x-python",
   "name": "python",
   "nbconvert_exporter": "python",
   "pygments_lexer": "ipython3",
   "version": "3.8.5"
  }
 },
 "nbformat": 4,
 "nbformat_minor": 4
}
